{
 "cells": [
  {
   "cell_type": "markdown",
   "id": "45e6fbfb-b53a-4cfd-85f0-fe2abe1071da",
   "metadata": {},
   "source": [
    "Tipo de variables:\n",
    "\n",
    "Caracteristicas individuales:\n",
    "1. Sexo\n",
    "2. Edad\n",
    "3. Previsión o seguro de salud\n",
    "\n",
    "Caracteristicas del centro de salud:\n",
    "1. Nombre\n",
    "2. Público o privado\n",
    "\n",
    "Variables asociadas al disgnostico:\n",
    "1. Nombre del problema de salud (y código problema de salud)\n",
    "\n",
    "Variables asociadas al individuo, centro de salud y enfermedad de forma simultanea:\n",
    "1. Dias de estadia en el centro de salud\n",
    "2. Condicion de egreso (vivo o muerto)\n",
    "\n",
    "Preguntas Guia:\n",
    "1. ¿Cual es la tendencia en la evolución de la prevalencia de los problemas de salud a lo largo de los años? 2001-2024\n",
    "2. ¿Hay alguna relación entre las caractersiticas individuales (sexo, edad, previsión de salud) y problemas de salud especificos? 2001-2024\n",
    "3. ¿Que tipo de centros de salud (publicos o privados) y en especifico utilizan más o menos días-cama en la solución de los problemas de salud? 2001-2024 en general y 2001-2020 en especifico\n",
    "3.1 ¿ En que medida la eficiencia de los centros de salud está ligada a caracteristicas individuales de la población atendida y/o a su financiamiento?\n",
    "Depende de hallazgos P.2 2001-2024 en general y 2001-2020 en especifico\n",
    "* Se entiende que un centro de salud es más eficiente si es que logra reducir los días de estada al mínimo posible\n",
    "y efectivo si es que el paciente egresa vivo. BUSCAR UNA DEFINICION MAS APROPIADA DE EFICIENCIA HOSPITALARIA"
   ]
  },
  {
   "cell_type": "markdown",
   "id": "d91cf0a4-ddc2-442e-bd87-65c4aebeb6f9",
   "metadata": {},
   "source": [
    "# Libraries and Data importation"
   ]
  },
  {
   "cell_type": "code",
   "execution_count": 1,
   "id": "731074ac-dd86-4c11-b449-5ad7863aec7a",
   "metadata": {},
   "outputs": [],
   "source": [
    "import pandas as pd\n",
    "import numpy as np\n",
    "import matplotlib.pyplot as plt\n",
    "import seaborn as sns"
   ]
  },
  {
   "cell_type": "code",
   "execution_count": 2,
   "id": "c1d56582-8afa-47d5-80d7-67d392588e45",
   "metadata": {},
   "outputs": [],
   "source": [
    "from unidecode import unidecode"
   ]
  },
  {
   "cell_type": "code",
   "execution_count": 3,
   "id": "62458c14-55bb-4aa6-ba9a-318299904782",
   "metadata": {},
   "outputs": [],
   "source": [
    "df = pd.read_parquet(r\"C:\\Users\\mirko\\Desktop\\Curso Data Science DL\\ProyectoEDA_Egresos_Hospitalarios_2001-2020\\data\\processed\\Discharges_2001-2024_analysis.parquet\")"
   ]
  },
  {
   "cell_type": "code",
   "execution_count": 4,
   "id": "8bef4c10-6f2b-4167-a79b-c8beee47288b",
   "metadata": {},
   "outputs": [
    {
     "data": {
      "text/html": [
       "<div>\n",
       "<style scoped>\n",
       "    .dataframe tbody tr th:only-of-type {\n",
       "        vertical-align: middle;\n",
       "    }\n",
       "\n",
       "    .dataframe tbody tr th {\n",
       "        vertical-align: top;\n",
       "    }\n",
       "\n",
       "    .dataframe thead th {\n",
       "        text-align: right;\n",
       "    }\n",
       "</style>\n",
       "<table border=\"1\" class=\"dataframe\">\n",
       "  <thead>\n",
       "    <tr style=\"text-align: right;\">\n",
       "      <th></th>\n",
       "      <th>sex</th>\n",
       "      <th>age</th>\n",
       "      <th>health insurance</th>\n",
       "      <th>healthcare facility type</th>\n",
       "      <th>healthcare facility name</th>\n",
       "      <th>length of stay</th>\n",
       "      <th>discharge condition</th>\n",
       "      <th>primary diagnosis code</th>\n",
       "      <th>primary diagnosis name</th>\n",
       "      <th>year</th>\n",
       "    </tr>\n",
       "  </thead>\n",
       "  <tbody>\n",
       "    <tr>\n",
       "      <th>0</th>\n",
       "      <td>True</td>\n",
       "      <td>[60, 69]</td>\n",
       "      <td>True</td>\n",
       "      <td>True</td>\n",
       "      <td>Clínica Familia</td>\n",
       "      <td>2</td>\n",
       "      <td>True</td>\n",
       "      <td>C780</td>\n",
       "      <td>TUMOR MALIGNO SECUNDARIO DEL PULMÓN</td>\n",
       "      <td>1970-01-01 00:00:00.000002001</td>\n",
       "    </tr>\n",
       "    <tr>\n",
       "      <th>1</th>\n",
       "      <td>True</td>\n",
       "      <td>[70, 79]</td>\n",
       "      <td>True</td>\n",
       "      <td>True</td>\n",
       "      <td>Hospital Del Salvador (Santiago, Providencia)</td>\n",
       "      <td>58</td>\n",
       "      <td>True</td>\n",
       "      <td>E145</td>\n",
       "      <td>DIABETES MELLITUS NO ESPECIFICADA, CON COMPLIC...</td>\n",
       "      <td>1970-01-01 00:00:00.000002001</td>\n",
       "    </tr>\n",
       "    <tr>\n",
       "      <th>2</th>\n",
       "      <td>True</td>\n",
       "      <td>[70, 79]</td>\n",
       "      <td>True</td>\n",
       "      <td>True</td>\n",
       "      <td>Hospital Del Salvador (Santiago, Providencia)</td>\n",
       "      <td>12</td>\n",
       "      <td>True</td>\n",
       "      <td>J189</td>\n",
       "      <td>NEUMONIA, NO ESPECIFICADA</td>\n",
       "      <td>1970-01-01 00:00:00.000002001</td>\n",
       "    </tr>\n",
       "    <tr>\n",
       "      <th>3</th>\n",
       "      <td>True</td>\n",
       "      <td>[1, 9]</td>\n",
       "      <td>True</td>\n",
       "      <td>True</td>\n",
       "      <td>Instituto de Neurocirugía Dr. Alfonso Asenjo</td>\n",
       "      <td>1</td>\n",
       "      <td>True</td>\n",
       "      <td>S065</td>\n",
       "      <td>HEMORRAGIA SUBDURAL TRAUMÁTICA</td>\n",
       "      <td>1970-01-01 00:00:00.000002001</td>\n",
       "    </tr>\n",
       "    <tr>\n",
       "      <th>4</th>\n",
       "      <td>True</td>\n",
       "      <td>[80, 120]</td>\n",
       "      <td>True</td>\n",
       "      <td>True</td>\n",
       "      <td>Hospital Dr. Leonardo Guzmán (Antofagasta)</td>\n",
       "      <td>7</td>\n",
       "      <td>True</td>\n",
       "      <td>K830</td>\n",
       "      <td>COLANGITIS</td>\n",
       "      <td>1970-01-01 00:00:00.000002001</td>\n",
       "    </tr>\n",
       "  </tbody>\n",
       "</table>\n",
       "</div>"
      ],
      "text/plain": [
       "    sex        age  health insurance  healthcare facility type  \\\n",
       "0  True   [60, 69]              True                      True   \n",
       "1  True   [70, 79]              True                      True   \n",
       "2  True   [70, 79]              True                      True   \n",
       "3  True     [1, 9]              True                      True   \n",
       "4  True  [80, 120]              True                      True   \n",
       "\n",
       "                        healthcare facility name  length of stay  \\\n",
       "0                               Clínica Familia                2   \n",
       "1  Hospital Del Salvador (Santiago, Providencia)              58   \n",
       "2  Hospital Del Salvador (Santiago, Providencia)              12   \n",
       "3   Instituto de Neurocirugía Dr. Alfonso Asenjo               1   \n",
       "4     Hospital Dr. Leonardo Guzmán (Antofagasta)               7   \n",
       "\n",
       "   discharge condition primary diagnosis code  \\\n",
       "0                 True                   C780   \n",
       "1                 True                   E145   \n",
       "2                 True                   J189   \n",
       "3                 True                   S065   \n",
       "4                 True                   K830   \n",
       "\n",
       "                              primary diagnosis name  \\\n",
       "0                TUMOR MALIGNO SECUNDARIO DEL PULMÓN   \n",
       "1  DIABETES MELLITUS NO ESPECIFICADA, CON COMPLIC...   \n",
       "2                          NEUMONIA, NO ESPECIFICADA   \n",
       "3                     HEMORRAGIA SUBDURAL TRAUMÁTICA   \n",
       "4                                         COLANGITIS   \n",
       "\n",
       "                           year  \n",
       "0 1970-01-01 00:00:00.000002001  \n",
       "1 1970-01-01 00:00:00.000002001  \n",
       "2 1970-01-01 00:00:00.000002001  \n",
       "3 1970-01-01 00:00:00.000002001  \n",
       "4 1970-01-01 00:00:00.000002001  "
      ]
     },
     "execution_count": 4,
     "metadata": {},
     "output_type": "execute_result"
    }
   ],
   "source": [
    "df.head()"
   ]
  },
  {
   "cell_type": "code",
   "execution_count": 28,
   "id": "687e7e8a-c75c-4a7a-9022-76c7edd21e71",
   "metadata": {},
   "outputs": [
    {
     "data": {
      "text/plain": [
       "(25823381, 10)"
      ]
     },
     "execution_count": 28,
     "metadata": {},
     "output_type": "execute_result"
    }
   ],
   "source": [
    "df.shape"
   ]
  },
  {
   "cell_type": "code",
   "execution_count": 30,
   "id": "8cb099e4-a8a2-4646-958e-77205d73e441",
   "metadata": {},
   "outputs": [
    {
     "name": "stdout",
     "output_type": "stream",
     "text": [
      "<class 'pandas.core.frame.DataFrame'>\n",
      "RangeIndex: 25823381 entries, 0 to 25823380\n",
      "Data columns (total 10 columns):\n",
      " #   Column                    Dtype   \n",
      "---  ------                    -----   \n",
      " 0   Sex                       object  \n",
      " 1   Age                       int32   \n",
      " 2   Health insurance          category\n",
      " 3   Healthcare facility type  category\n",
      " 4   Healthcare facility name  object  \n",
      " 5   Length of stay            int32   \n",
      " 6   Discharge condition       category\n",
      " 7   Primary diagnosis code    object  \n",
      " 8   Primary diagnosis name    object  \n",
      " 9   Year                      int64   \n",
      "dtypes: category(3), int32(2), int64(1), object(4)\n",
      "memory usage: 1.2+ GB\n"
     ]
    }
   ],
   "source": [
    "df.info()"
   ]
  },
  {
   "cell_type": "code",
   "execution_count": 32,
   "id": "2e143a09-451e-4e7f-9a2d-cf6b0694b06f",
   "metadata": {},
   "outputs": [
    {
     "data": {
      "text/html": [
       "<div>\n",
       "<style scoped>\n",
       "    .dataframe tbody tr th:only-of-type {\n",
       "        vertical-align: middle;\n",
       "    }\n",
       "\n",
       "    .dataframe tbody tr th {\n",
       "        vertical-align: top;\n",
       "    }\n",
       "\n",
       "    .dataframe thead th {\n",
       "        text-align: right;\n",
       "    }\n",
       "</style>\n",
       "<table border=\"1\" class=\"dataframe\">\n",
       "  <thead>\n",
       "    <tr style=\"text-align: right;\">\n",
       "      <th></th>\n",
       "      <th>Age</th>\n",
       "      <th>Length of stay</th>\n",
       "      <th>Year</th>\n",
       "    </tr>\n",
       "  </thead>\n",
       "  <tbody>\n",
       "    <tr>\n",
       "      <th>count</th>\n",
       "      <td>2.582338e+07</td>\n",
       "      <td>2.582338e+07</td>\n",
       "      <td>2.582338e+07</td>\n",
       "    </tr>\n",
       "    <tr>\n",
       "      <th>mean</th>\n",
       "      <td>3.929132e+01</td>\n",
       "      <td>6.026175e+00</td>\n",
       "      <td>2.010925e+03</td>\n",
       "    </tr>\n",
       "    <tr>\n",
       "      <th>std</th>\n",
       "      <td>2.494052e+01</td>\n",
       "      <td>5.566398e+01</td>\n",
       "      <td>5.287845e+00</td>\n",
       "    </tr>\n",
       "    <tr>\n",
       "      <th>min</th>\n",
       "      <td>0.000000e+00</td>\n",
       "      <td>1.000000e+00</td>\n",
       "      <td>2.001000e+03</td>\n",
       "    </tr>\n",
       "    <tr>\n",
       "      <th>25%</th>\n",
       "      <td>2.000000e+01</td>\n",
       "      <td>1.000000e+00</td>\n",
       "      <td>2.007000e+03</td>\n",
       "    </tr>\n",
       "    <tr>\n",
       "      <th>50%</th>\n",
       "      <td>3.600000e+01</td>\n",
       "      <td>3.000000e+00</td>\n",
       "      <td>2.011000e+03</td>\n",
       "    </tr>\n",
       "    <tr>\n",
       "      <th>75%</th>\n",
       "      <td>6.000000e+01</td>\n",
       "      <td>6.000000e+00</td>\n",
       "      <td>2.015000e+03</td>\n",
       "    </tr>\n",
       "    <tr>\n",
       "      <th>max</th>\n",
       "      <td>1.210000e+02</td>\n",
       "      <td>3.245200e+04</td>\n",
       "      <td>2.020000e+03</td>\n",
       "    </tr>\n",
       "  </tbody>\n",
       "</table>\n",
       "</div>"
      ],
      "text/plain": [
       "                Age  Length of stay          Year\n",
       "count  2.582338e+07    2.582338e+07  2.582338e+07\n",
       "mean   3.929132e+01    6.026175e+00  2.010925e+03\n",
       "std    2.494052e+01    5.566398e+01  5.287845e+00\n",
       "min    0.000000e+00    1.000000e+00  2.001000e+03\n",
       "25%    2.000000e+01    1.000000e+00  2.007000e+03\n",
       "50%    3.600000e+01    3.000000e+00  2.011000e+03\n",
       "75%    6.000000e+01    6.000000e+00  2.015000e+03\n",
       "max    1.210000e+02    3.245200e+04  2.020000e+03"
      ]
     },
     "execution_count": 32,
     "metadata": {},
     "output_type": "execute_result"
    }
   ],
   "source": [
    "df.describe()"
   ]
  },
  {
   "cell_type": "markdown",
   "id": "29ccb881-d8a0-4051-a907-deb7523aae85",
   "metadata": {},
   "source": [
    "# Univariate analysis"
   ]
  },
  {
   "cell_type": "code",
   "execution_count": null,
   "id": "33c3c617-9e3c-449c-a23f-b69328e9a9e2",
   "metadata": {},
   "outputs": [],
   "source": [
    "Caracteristicas individuales:\n",
    "1. Sexo\n",
    "2. Edad\n",
    "3. Previsión o seguro de salud"
   ]
  },
  {
   "cell_type": "markdown",
   "id": "5a03223b-7609-472e-9e15-872306792041",
   "metadata": {},
   "source": [
    "# Bivariate and Multivariate Analysis"
   ]
  },
  {
   "cell_type": "markdown",
   "id": "c6a09a88-2e82-4c4b-8861-8f9da28ecfb2",
   "metadata": {},
   "source": [
    "# Guiding Questions"
   ]
  },
  {
   "cell_type": "markdown",
   "id": "1f7fb4be-bdae-449a-9377-01b5b5d32efb",
   "metadata": {},
   "source": [
    "# Visualizations"
   ]
  },
  {
   "cell_type": "markdown",
   "id": "bce25083-b001-4927-829f-f50e206ce887",
   "metadata": {},
   "source": [
    "# Insights and questions"
   ]
  },
  {
   "cell_type": "markdown",
   "id": "d8b98362-b6e3-450e-8d20-159d16d6c129",
   "metadata": {},
   "source": [
    "1. How the distribution of the data is affected if healthy newborns are not considered in the analysis?"
   ]
  },
  {
   "cell_type": "code",
   "execution_count": 40,
   "id": "4c7a77e8-f9cb-4db3-9f9d-01f582223086",
   "metadata": {},
   "outputs": [
    {
     "data": {
      "text/plain": [
       "Index(['Sex', 'Age', 'Health insurance', 'Healthcare facility type',\n",
       "       'Healthcare facility name', 'Length of stay', 'Discharge condition',\n",
       "       'Primary diagnosis code', 'Primary diagnosis name', 'Year'],\n",
       "      dtype='object')"
      ]
     },
     "execution_count": 40,
     "metadata": {},
     "output_type": "execute_result"
    }
   ],
   "source": [
    "df.columns"
   ]
  },
  {
   "cell_type": "code",
   "execution_count": null,
   "id": "1c068a70-11ca-4697-9251-9f1b031f2da3",
   "metadata": {},
   "outputs": [],
   "source": []
  }
 ],
 "metadata": {
  "kernelspec": {
   "display_name": "Python 3 (ipykernel)",
   "language": "python",
   "name": "python3"
  },
  "language_info": {
   "codemirror_mode": {
    "name": "ipython",
    "version": 3
   },
   "file_extension": ".py",
   "mimetype": "text/x-python",
   "name": "python",
   "nbconvert_exporter": "python",
   "pygments_lexer": "ipython3",
   "version": "3.12.4"
  }
 },
 "nbformat": 4,
 "nbformat_minor": 5
}
