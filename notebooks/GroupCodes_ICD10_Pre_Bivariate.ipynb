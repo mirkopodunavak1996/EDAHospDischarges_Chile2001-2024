{
 "cells": [
  {
   "cell_type": "code",
   "execution_count": 3,
   "id": "e58053b8-22f1-410b-a35e-627d67d81042",
   "metadata": {},
   "outputs": [],
   "source": [
    "import pandas as pd\n",
    "import numpy as np"
   ]
  },
  {
   "cell_type": "code",
   "execution_count": 5,
   "id": "56a49708-4920-4c90-ac7a-a57b560892ef",
   "metadata": {},
   "outputs": [],
   "source": [
    "df = pd.read_parquet(r\"C:\\Users\\mirko\\Desktop\\Curso Data Science DL\\EDAHospDischarges_Chile2001-2024\\data\\processed\\Discharges_2001-2024_univariate_final.parquet\")"
   ]
  },
  {
   "cell_type": "code",
   "execution_count": 7,
   "id": "238c10c9-7700-44f7-b5e1-2e7bacfaedd0",
   "metadata": {},
   "outputs": [],
   "source": [
    "df = df.astype({col: \"category\" for col in df.select_dtypes(include=\"object\").columns})"
   ]
  },
  {
   "cell_type": "code",
   "execution_count": 8,
   "id": "ad49c334-d513-41f3-be69-ff60cdb43e13",
   "metadata": {},
   "outputs": [
    {
     "name": "stdout",
     "output_type": "stream",
     "text": [
      "<class 'pandas.core.frame.DataFrame'>\n",
      "RangeIndex: 25758741 entries, 0 to 25758740\n",
      "Data columns (total 13 columns):\n",
      " #   Column                    Dtype   \n",
      "---  ------                    -----   \n",
      " 0   sex                       category\n",
      " 1   age                       category\n",
      " 2   health insurance          category\n",
      " 3   healthcare facility type  category\n",
      " 4   healthcare facility name  category\n",
      " 5   length of stay            int32   \n",
      " 6   discharge condition       category\n",
      " 7   primary diagnosis code    category\n",
      " 8   primary diagnosis name    category\n",
      " 9   year                      int32   \n",
      " 10  chapter codes             category\n",
      " 11  chapter names             category\n",
      " 12  LOS_capped                int32   \n",
      "dtypes: category(10), int32(3)\n",
      "memory usage: 614.8 MB\n"
     ]
    }
   ],
   "source": [
    "df.info()"
   ]
  },
  {
   "cell_type": "markdown",
   "id": "7a226164-d207-4ab1-b69e-e95562f1c631",
   "metadata": {},
   "source": [
    "# Create group codes column. Copy code from univariate notebook"
   ]
  },
  {
   "cell_type": "code",
   "execution_count": null,
   "id": "393df317-5f7f-44d0-b97a-76f0ee2607e8",
   "metadata": {},
   "outputs": [],
   "source": []
  },
  {
   "cell_type": "code",
   "execution_count": null,
   "id": "3faae7ea-010f-4172-a58a-12c384908134",
   "metadata": {},
   "outputs": [],
   "source": []
  },
  {
   "cell_type": "markdown",
   "id": "53598c2f-af78-4010-a8fc-eb1cd8b8096f",
   "metadata": {},
   "source": [
    "# Export data"
   ]
  },
  {
   "cell_type": "code",
   "execution_count": null,
   "id": "780210b1-c42a-4d5e-b8b3-6d1c66c6dc7b",
   "metadata": {},
   "outputs": [],
   "source": [
    "# df.to_parquet(\"Discharges_2001-2024_univariate_final_v2_light.parquet\", index=False, compression=\"snappy\")"
   ]
  }
 ],
 "metadata": {
  "kernelspec": {
   "display_name": "Python 3 (ipykernel)",
   "language": "python",
   "name": "python3"
  },
  "language_info": {
   "codemirror_mode": {
    "name": "ipython",
    "version": 3
   },
   "file_extension": ".py",
   "mimetype": "text/x-python",
   "name": "python",
   "nbconvert_exporter": "python",
   "pygments_lexer": "ipython3",
   "version": "3.12.4"
  }
 },
 "nbformat": 4,
 "nbformat_minor": 5
}
