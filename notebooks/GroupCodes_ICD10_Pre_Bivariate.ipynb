{
 "cells": [
  {
   "cell_type": "raw",
   "id": "fc855840-fd71-417c-a070-5997d82df49b",
   "metadata": {},
   "source": [
    "The purpose of this notebook is to introduce the ICD10 diagnosis group codes into the analysis before starting the bivariate analysis. By doing this, is possible to get more accurate insights about the evolution of the health issues in Chile over the years"
   ]
  },
  {
   "cell_type": "code",
   "execution_count": 179,
   "id": "e58053b8-22f1-410b-a35e-627d67d81042",
   "metadata": {},
   "outputs": [],
   "source": [
    "# Import libraries\n",
    "import pandas as pd\n",
    "import numpy as np\n",
    "import matplotlib.pyplot as plt"
   ]
  },
  {
   "cell_type": "code",
   "execution_count": 72,
   "id": "56a49708-4920-4c90-ac7a-a57b560892ef",
   "metadata": {},
   "outputs": [],
   "source": [
    "# Import dataframe after Univariate analysis\n",
    "df = pd.read_parquet(r\"C:\\Users\\mirko\\Desktop\\Curso Data Science DL\\EDAHospDischarges_Chile2001-2024\\data\\processed\\Discharges_2001-2024_univariate_final.parquet\")"
   ]
  },
  {
   "cell_type": "code",
   "execution_count": 74,
   "id": "238c10c9-7700-44f7-b5e1-2e7bacfaedd0",
   "metadata": {},
   "outputs": [],
   "source": [
    "# Set category data type instead of object to reduce memory usage\n",
    "df = df.astype({col: \"category\" for col in df.select_dtypes(include=\"object\").columns})"
   ]
  },
  {
   "cell_type": "code",
   "execution_count": 76,
   "id": "ad49c334-d513-41f3-be69-ff60cdb43e13",
   "metadata": {},
   "outputs": [
    {
     "name": "stdout",
     "output_type": "stream",
     "text": [
      "<class 'pandas.core.frame.DataFrame'>\n",
      "RangeIndex: 25758741 entries, 0 to 25758740\n",
      "Data columns (total 13 columns):\n",
      " #   Column                    Dtype   \n",
      "---  ------                    -----   \n",
      " 0   sex                       category\n",
      " 1   age                       category\n",
      " 2   health insurance          category\n",
      " 3   healthcare facility type  category\n",
      " 4   healthcare facility name  category\n",
      " 5   length of stay            int32   \n",
      " 6   discharge condition       category\n",
      " 7   primary diagnosis code    category\n",
      " 8   primary diagnosis name    category\n",
      " 9   year                      int32   \n",
      " 10  chapter codes             category\n",
      " 11  chapter names             category\n",
      " 12  LOS_capped                int32   \n",
      "dtypes: category(10), int32(3)\n",
      "memory usage: 614.8 MB\n"
     ]
    }
   ],
   "source": [
    "df.info()"
   ]
  },
  {
   "cell_type": "markdown",
   "id": "7a226164-d207-4ab1-b69e-e95562f1c631",
   "metadata": {},
   "source": [
    "# Create group codes column"
   ]
  },
  {
   "cell_type": "code",
   "execution_count": 81,
   "id": "99ba86ae-6b81-47fe-9889-0f1d872d6908",
   "metadata": {},
   "outputs": [],
   "source": [
    "# Read excel file and store it as a dataframe, This contains the pairs of group codes and names extracted from the ministry of health ICD10 codes glossary\n",
    "codes = pd.read_excel(r\"C:\\Users\\mirko\\Desktop\\Curso Data Science DL\\EDAHospDischarges_Chile2001-2024\\data\\processed\\group codes.xlsx\")"
   ]
  },
  {
   "cell_type": "code",
   "execution_count": 83,
   "id": "951b2c52-9253-470f-9866-0fbdc1175810",
   "metadata": {},
   "outputs": [],
   "source": [
    "# Fix column names and headers\n",
    "codes = codes.iloc[1:].rename(columns = {\"Unnamed: 0\":\"group codes\", \"Unnamed: 1\":\"group names\"})"
   ]
  },
  {
   "cell_type": "code",
   "execution_count": 85,
   "id": "da085313-740e-4c7f-948a-68a719ee66b7",
   "metadata": {},
   "outputs": [],
   "source": [
    "# This is a list of the diangosis group codes\n",
    "group_codes = codes[\"group codes\"].unique()"
   ]
  },
  {
   "cell_type": "code",
   "execution_count": 101,
   "id": "be055316-33b0-4687-b2d7-04c8f6bc4361",
   "metadata": {},
   "outputs": [],
   "source": [
    "# This is a list of the diangosis group names\n",
    "group_names = codes[\"group names\"].unique()"
   ]
  },
  {
   "cell_type": "code",
   "execution_count": 87,
   "id": "b6fb682e-f1aa-4286-b323-90fdc169dfbd",
   "metadata": {},
   "outputs": [
    {
     "data": {
      "text/plain": [
       "array(['A00-A09', 'A15-A19', 'A20-A28', 'A30-A49', 'A50-A64', 'A65-A69',\n",
       "       'A70-A74', 'A75-A79', 'A80-A89', 'A90-A99', 'B00-B09', 'B15-B19',\n",
       "       'B20-B24', 'B25-B34', 'B35-B49', 'B50-B64', 'B65-B83', 'B85-B89',\n",
       "       'B90-B94', 'B95-B98', 'B99', 'C00-C14', 'C15-C26', 'C30-C39',\n",
       "       'C40-C41', 'C43-C44', 'C45-C49', 'C50', 'C51-C58', 'C60-C63',\n",
       "       'C64-C68', 'C69-C72', 'C73-C75', 'C76-C80', 'C81-C96', 'C97',\n",
       "       'D00-D09', 'D10-D36', 'D37-D48', 'D50-D53', 'D55-D59', 'D60-D64',\n",
       "       'D65-D69', 'D70-D77', 'D80-D89', 'E00-E07', 'E10-E14', 'E15-E16',\n",
       "       'E20-E35', 'E40-E46', 'E50-E64', 'E65-E68', 'E70-E90', 'F00-F09',\n",
       "       'F10-F19', 'F20-F29', 'F30-F39', 'F40-F48', 'F50-F59', 'F60-F69',\n",
       "       'F70-F79', 'F80-F89', 'F90-F98', 'F99', 'G00-G09', 'G10-G14',\n",
       "       'G20-G26', 'G30-G32', 'G35-G37', 'G40-G47', 'G50-G59', 'G60-G64',\n",
       "       'G70-G73', 'G80-G83', 'G90-G99', 'H00-H06', 'H10-H13', 'H15-H22',\n",
       "       'H25-H28', 'H30-H36', 'H40-H42', 'H43-H45', 'H46-H48', 'H49-H52',\n",
       "       'H53-H54', 'H55-H59', 'H60-H62', 'H65-H75', 'H80-H83', 'H90-H95',\n",
       "       'I00-I02', 'I05-I09', 'I10-I15', 'I20-I25', 'I26-I28', 'I30-I52',\n",
       "       'I60-I69', 'I70-I79', 'I80-I89', 'I95-I99', 'J00-J06', 'J09-J18',\n",
       "       'J20-J22', 'J30-J39', 'J40-J47', 'J60-J70', 'J80-J84', 'J85-J86',\n",
       "       'J90-J94', 'J95-J99', 'K00-K14', 'K20-K31', 'K35-K38', 'K40-K46',\n",
       "       'K50-K52', 'K55-K64', 'K65-K67', 'K70-K77', 'K80-K87', 'K90-K93',\n",
       "       'L00-L08', 'L10-L14', 'L20-L30', 'L40-L45', 'L50-L54', 'L55-L59',\n",
       "       'L60-L75', 'L80-L99', 'M00-M03', 'M05-M14', 'M15-M19', 'M20-M25',\n",
       "       'M30-M36', 'M40-M43', 'M45-M49', 'M50-M54', 'M60-M63', 'M65-M68',\n",
       "       'M70-M79', 'M80-M85', 'M86-M90', 'M91-M94', 'M95-M99', 'N00-N08',\n",
       "       'N10-N16', 'N17-N19', 'N20-N23', 'N25-N29', 'N30-N39', 'N40-N51',\n",
       "       'N60-N64', 'N70-N77', 'N80-N98', 'N99', 'P00-P04', 'P05-P08',\n",
       "       'P10-P15', 'P20-P29', 'P35-P39', 'P50-P61', 'P70-P74', 'P75-P78',\n",
       "       'P80-P83', 'P90-P96', 'Q00-Q07', 'Q10-Q18', 'Q20-Q28', 'Q30-Q34',\n",
       "       'Q35-Q37', 'Q38-Q45', 'Q50-Q56', 'Q60-Q64', 'Q65-Q79', 'Q80-Q89',\n",
       "       'Q90-Q99', 'R00-R09', 'R10-R19', 'R20-R23', 'R25-R29', 'R30-R39',\n",
       "       'R40-R46', 'R47-R49', 'R50-R69', 'R70-R79', 'R80-R82', 'R83-R89',\n",
       "       'R90-R94', 'R95-R99', 'S00-S09', 'S10-S19', 'S20-S29', 'S30-S39',\n",
       "       'S40-S49', 'S50-S59', 'S60-S69', 'S70-S79', 'S80-S89', 'S90-S99',\n",
       "       'T00-T07', 'T08-T14', 'T15-T19', 'T20-T32', 'T33-T35', 'T36-T50',\n",
       "       'T51-T65', 'T66-T78', 'T79', 'T80-T88', 'T90-T98', 'V01-V09',\n",
       "       'V10-V19', 'V20-V29', 'V30-V39', 'V40-V49', 'V50-V59', 'V60-V69',\n",
       "       'V70-V79', 'V80-V89', 'V90-V94', 'V95-V97', 'V98-V99', 'W00-W19',\n",
       "       'W20-W49', 'W50-W64', 'W65-W74', 'W75-W84', 'W85-W99', 'X00-X09',\n",
       "       'X10-X19', 'X20-X29', 'X30-X39', 'X40-X49', 'X50-X57', 'X58-X59',\n",
       "       'X60-X84', 'X85-Y09', 'Y10-Y34', 'Y35-Y36', 'Y40-Y59', 'Y60-Y69',\n",
       "       'Y70-Y82', 'Y83-Y84', 'Y85-Y89', 'Y90-Y98', 'Z00-Z13', 'Z20-Z29',\n",
       "       'Z30-Z39', 'Z40-Z54', 'Z55-Z65', 'Z70-Z76', 'Z80-Z99', 'U00-U49',\n",
       "       'U80-U89', 'U82-U85'], dtype=object)"
      ]
     },
     "execution_count": 87,
     "metadata": {},
     "output_type": "execute_result"
    }
   ],
   "source": [
    "group_codes"
   ]
  },
  {
   "cell_type": "code",
   "execution_count": 89,
   "id": "228f490b-8da2-4217-af55-f486f3ae348b",
   "metadata": {},
   "outputs": [],
   "source": [
    "# Create temporary column with the first letter of each code and turn it to upper case to avoid conflicts with case differences\n",
    "df[\"first letter\"] = df[\"primary diagnosis code\"].str[0].str.upper()"
   ]
  },
  {
   "cell_type": "code",
   "execution_count": 90,
   "id": "995db2e6-0f67-4abb-8747-98700afdabf5",
   "metadata": {},
   "outputs": [],
   "source": [
    "# Create temporary column with first 2 digits of each code and convert them to integer\n",
    "df[\"two digits\"] = df[\"primary diagnosis code\"].str[1:3].astype(int)"
   ]
  },
  {
   "cell_type": "code",
   "execution_count": 92,
   "id": "df32fec6-3af1-4899-8ab8-12eac78acf9f",
   "metadata": {},
   "outputs": [],
   "source": [
    "# Create empty column to fill with group codes\n",
    "df[\"group codes\"] = None"
   ]
  },
  {
   "cell_type": "code",
   "execution_count": 39,
   "id": "89bb6edd-3067-491a-a44a-09999ce5c975",
   "metadata": {},
   "outputs": [
    {
     "data": {
      "text/html": [
       "<div>\n",
       "<style scoped>\n",
       "    .dataframe tbody tr th:only-of-type {\n",
       "        vertical-align: middle;\n",
       "    }\n",
       "\n",
       "    .dataframe tbody tr th {\n",
       "        vertical-align: top;\n",
       "    }\n",
       "\n",
       "    .dataframe thead th {\n",
       "        text-align: right;\n",
       "    }\n",
       "</style>\n",
       "<table border=\"1\" class=\"dataframe\">\n",
       "  <thead>\n",
       "    <tr style=\"text-align: right;\">\n",
       "      <th></th>\n",
       "      <th>sex</th>\n",
       "      <th>age</th>\n",
       "      <th>health insurance</th>\n",
       "      <th>healthcare facility type</th>\n",
       "      <th>healthcare facility name</th>\n",
       "      <th>length of stay</th>\n",
       "      <th>discharge condition</th>\n",
       "      <th>primary diagnosis code</th>\n",
       "      <th>primary diagnosis name</th>\n",
       "      <th>year</th>\n",
       "      <th>chapter codes</th>\n",
       "      <th>chapter names</th>\n",
       "      <th>LOS_capped</th>\n",
       "      <th>first letter</th>\n",
       "      <th>two digits</th>\n",
       "      <th>group codes</th>\n",
       "    </tr>\n",
       "  </thead>\n",
       "  <tbody>\n",
       "    <tr>\n",
       "      <th>0</th>\n",
       "      <td>Male</td>\n",
       "      <td>60-69</td>\n",
       "      <td>Fonasa</td>\n",
       "      <td>Private</td>\n",
       "      <td>Clínica Familia</td>\n",
       "      <td>2</td>\n",
       "      <td>Deceased</td>\n",
       "      <td>C780</td>\n",
       "      <td>tumor maligno secundario del pulmon</td>\n",
       "      <td>2001</td>\n",
       "      <td>C00-D48</td>\n",
       "      <td>Tumores [Neoplasias]</td>\n",
       "      <td>2</td>\n",
       "      <td>C</td>\n",
       "      <td>78</td>\n",
       "      <td>None</td>\n",
       "    </tr>\n",
       "    <tr>\n",
       "      <th>1</th>\n",
       "      <td>Male</td>\n",
       "      <td>70-79</td>\n",
       "      <td>Fonasa</td>\n",
       "      <td>Public</td>\n",
       "      <td>Hospital Del Salvador (Santiago, Providencia)</td>\n",
       "      <td>58</td>\n",
       "      <td>Deceased</td>\n",
       "      <td>E145</td>\n",
       "      <td>diabetes mellitus no especificada, con complic...</td>\n",
       "      <td>2001</td>\n",
       "      <td>E00-E90</td>\n",
       "      <td>Enfermedades endocrinas, nutricionales y metab...</td>\n",
       "      <td>58</td>\n",
       "      <td>E</td>\n",
       "      <td>14</td>\n",
       "      <td>None</td>\n",
       "    </tr>\n",
       "    <tr>\n",
       "      <th>2</th>\n",
       "      <td>Male</td>\n",
       "      <td>70-79</td>\n",
       "      <td>Fonasa</td>\n",
       "      <td>Public</td>\n",
       "      <td>Hospital Del Salvador (Santiago, Providencia)</td>\n",
       "      <td>12</td>\n",
       "      <td>Deceased</td>\n",
       "      <td>J189</td>\n",
       "      <td>neumonia, no especificada</td>\n",
       "      <td>2001</td>\n",
       "      <td>J00-J99</td>\n",
       "      <td>Enfermedades del sistema respiratorio</td>\n",
       "      <td>12</td>\n",
       "      <td>J</td>\n",
       "      <td>18</td>\n",
       "      <td>None</td>\n",
       "    </tr>\n",
       "    <tr>\n",
       "      <th>3</th>\n",
       "      <td>Male</td>\n",
       "      <td>1-9</td>\n",
       "      <td>Fonasa</td>\n",
       "      <td>Public</td>\n",
       "      <td>Instituto de Neurocirugía Dr. Alfonso Asenjo</td>\n",
       "      <td>1</td>\n",
       "      <td>Deceased</td>\n",
       "      <td>S065</td>\n",
       "      <td>hemorragia subdural traumatica</td>\n",
       "      <td>2001</td>\n",
       "      <td>S00-T98</td>\n",
       "      <td>Traumatismos, envenenamientos y algunas otras ...</td>\n",
       "      <td>1</td>\n",
       "      <td>S</td>\n",
       "      <td>6</td>\n",
       "      <td>None</td>\n",
       "    </tr>\n",
       "    <tr>\n",
       "      <th>4</th>\n",
       "      <td>Male</td>\n",
       "      <td>80-120</td>\n",
       "      <td>Fonasa</td>\n",
       "      <td>Public</td>\n",
       "      <td>Hospital Dr. Leonardo Guzmán (Antofagasta)</td>\n",
       "      <td>7</td>\n",
       "      <td>Alive</td>\n",
       "      <td>K830</td>\n",
       "      <td>colangitis</td>\n",
       "      <td>2001</td>\n",
       "      <td>K00-K93</td>\n",
       "      <td>Enfermedades del sistema digestivo</td>\n",
       "      <td>7</td>\n",
       "      <td>K</td>\n",
       "      <td>83</td>\n",
       "      <td>None</td>\n",
       "    </tr>\n",
       "  </tbody>\n",
       "</table>\n",
       "</div>"
      ],
      "text/plain": [
       "    sex     age health insurance healthcare facility type  \\\n",
       "0  Male   60-69           Fonasa                  Private   \n",
       "1  Male   70-79           Fonasa                   Public   \n",
       "2  Male   70-79           Fonasa                   Public   \n",
       "3  Male     1-9           Fonasa                   Public   \n",
       "4  Male  80-120           Fonasa                   Public   \n",
       "\n",
       "                        healthcare facility name  length of stay  \\\n",
       "0                               Clínica Familia                2   \n",
       "1  Hospital Del Salvador (Santiago, Providencia)              58   \n",
       "2  Hospital Del Salvador (Santiago, Providencia)              12   \n",
       "3   Instituto de Neurocirugía Dr. Alfonso Asenjo               1   \n",
       "4     Hospital Dr. Leonardo Guzmán (Antofagasta)               7   \n",
       "\n",
       "  discharge condition primary diagnosis code  \\\n",
       "0            Deceased                   C780   \n",
       "1            Deceased                   E145   \n",
       "2            Deceased                   J189   \n",
       "3            Deceased                   S065   \n",
       "4               Alive                   K830   \n",
       "\n",
       "                              primary diagnosis name  year chapter codes  \\\n",
       "0                tumor maligno secundario del pulmon  2001       C00-D48   \n",
       "1  diabetes mellitus no especificada, con complic...  2001       E00-E90   \n",
       "2                          neumonia, no especificada  2001       J00-J99   \n",
       "3                     hemorragia subdural traumatica  2001       S00-T98   \n",
       "4                                         colangitis  2001       K00-K93   \n",
       "\n",
       "                                       chapter names  LOS_capped first letter  \\\n",
       "0                               Tumores [Neoplasias]           2            C   \n",
       "1  Enfermedades endocrinas, nutricionales y metab...          58            E   \n",
       "2              Enfermedades del sistema respiratorio          12            J   \n",
       "3  Traumatismos, envenenamientos y algunas otras ...           1            S   \n",
       "4                 Enfermedades del sistema digestivo           7            K   \n",
       "\n",
       "   two digits group codes  \n",
       "0          78        None  \n",
       "1          14        None  \n",
       "2          18        None  \n",
       "3           6        None  \n",
       "4          83        None  "
      ]
     },
     "execution_count": 39,
     "metadata": {},
     "output_type": "execute_result"
    }
   ],
   "source": [
    "df.head()"
   ]
  },
  {
   "cell_type": "code",
   "execution_count": 95,
   "id": "a450761c-1afe-454e-b93c-e5360819f0bd",
   "metadata": {},
   "outputs": [],
   "source": [
    "# -----------------------------\n",
    "# Step 0: prepare df\n",
    "# -----------------------------\n",
    "# Convert to NumPy arrays for speed\n",
    "letters = df[\"first letter\"].str.upper().to_numpy()\n",
    "numbers = df[\"two digits\"].to_numpy(dtype=np.uint8)\n",
    "group_codes_result = np.full(len(df), None, dtype=object)  # result array\n",
    "\n",
    "# -----------------------------\n",
    "# Step 1: handle special single-value codes\n",
    "# -----------------------------\n",
    "special_codes = {\"B99\",\"C97\",\"F99\",\"N99\",\"T79\"}\n",
    "special_letters = np.array([c[0] for c in special_codes])\n",
    "special_numbers = np.array([int(c[1:3]) for c in special_codes])\n",
    "\n",
    "for letter, number in zip(special_letters, special_numbers):\n",
    "    mask = (group_codes_result == None) & (letters == letter) & (numbers == number)\n",
    "    group_codes_result[mask] = \"special\"  # or pick representative code\n",
    "\n",
    "# -----------------------------\n",
    "# Step 2: handle general ranges\n",
    "# -----------------------------\n",
    "for code in group_codes:\n",
    "    if code in special_codes:\n",
    "        continue\n",
    "    \n",
    "    parts = code.split(\"-\")\n",
    "    start = parts[0]\n",
    "    s_letter, s_number = start[0].upper(), int(start[1:3])\n",
    "    \n",
    "    if len(parts) > 1:\n",
    "        end = parts[1]\n",
    "        e_letter, e_number = end[0].upper(), int(end[1:3])\n",
    "    else:\n",
    "        e_letter, e_number = s_letter, s_number  # single code as range\n",
    "    \n",
    "    # Vectorized boolean mask\n",
    "    mask = (group_codes_result == None) & \\\n",
    "           np.isin(letters, [s_letter, e_letter]) & \\\n",
    "           (numbers >= s_number) & (numbers <= e_number)\n",
    "    \n",
    "    group_codes_result[mask] = code\n",
    "\n",
    "# -----------------------------\n",
    "# Step 3: assign back to df\n",
    "# -----------------------------\n",
    "df[\"group codes\"] = group_codes_result\n"
   ]
  },
  {
   "cell_type": "code",
   "execution_count": 125,
   "id": "9d239fd4-2e4d-44b1-8211-865819456e40",
   "metadata": {},
   "outputs": [],
   "source": [
    "# Map \"special\" rows back to their true codes based on first letter + two digits\n",
    "special_map = {\n",
    "    (\"B\", 99): \"B99\",\n",
    "    (\"C\", 97): \"C97\",\n",
    "    (\"F\", 99): \"F99\",\n",
    "    (\"N\", 99): \"N99\",\n",
    "    (\"T\", 79): \"T79\"\n",
    "}\n",
    "\n",
    "mask = df[\"group codes\"] == \"special\"\n",
    "df.loc[mask, \"group codes\"] = [\n",
    "    special_map[(row[\"first letter\"].upper(), row[\"two digits\"])]\n",
    "    for _, row in df.loc[mask].iterrows()\n",
    "]\n"
   ]
  },
  {
   "cell_type": "code",
   "execution_count": 127,
   "id": "6503de37-6fcc-4ccf-a02a-f750bd0f4f78",
   "metadata": {},
   "outputs": [
    {
     "data": {
      "text/html": [
       "<div>\n",
       "<style scoped>\n",
       "    .dataframe tbody tr th:only-of-type {\n",
       "        vertical-align: middle;\n",
       "    }\n",
       "\n",
       "    .dataframe tbody tr th {\n",
       "        vertical-align: top;\n",
       "    }\n",
       "\n",
       "    .dataframe thead th {\n",
       "        text-align: right;\n",
       "    }\n",
       "</style>\n",
       "<table border=\"1\" class=\"dataframe\">\n",
       "  <thead>\n",
       "    <tr style=\"text-align: right;\">\n",
       "      <th></th>\n",
       "      <th>sex</th>\n",
       "      <th>age</th>\n",
       "      <th>health insurance</th>\n",
       "      <th>healthcare facility type</th>\n",
       "      <th>healthcare facility name</th>\n",
       "      <th>length of stay</th>\n",
       "      <th>discharge condition</th>\n",
       "      <th>primary diagnosis code</th>\n",
       "      <th>primary diagnosis name</th>\n",
       "      <th>year</th>\n",
       "      <th>chapter codes</th>\n",
       "      <th>chapter names</th>\n",
       "      <th>LOS_capped</th>\n",
       "      <th>first letter</th>\n",
       "      <th>two digits</th>\n",
       "      <th>group codes</th>\n",
       "    </tr>\n",
       "  </thead>\n",
       "  <tbody>\n",
       "  </tbody>\n",
       "</table>\n",
       "</div>"
      ],
      "text/plain": [
       "Empty DataFrame\n",
       "Columns: [sex, age, health insurance, healthcare facility type, healthcare facility name, length of stay, discharge condition, primary diagnosis code, primary diagnosis name, year, chapter codes, chapter names, LOS_capped, first letter, two digits, group codes]\n",
       "Index: []"
      ]
     },
     "execution_count": 127,
     "metadata": {},
     "output_type": "execute_result"
    }
   ],
   "source": [
    "# The vectorization was succesfull as all the values are valid, even for special cases\n",
    "df[df[\"group codes\"].isna()]"
   ]
  },
  {
   "cell_type": "code",
   "execution_count": 133,
   "id": "5f69259d-2414-4f73-b71b-942bbd8b2b1a",
   "metadata": {},
   "outputs": [],
   "source": [
    "# I filled the dictionary, pairing each group code with its corresponding group name\n",
    "group_names = dict(zip(codes[\"group codes\"], codes[\"group names\"]))"
   ]
  },
  {
   "cell_type": "code",
   "execution_count": 135,
   "id": "ba954bd4-2a4b-4481-a1a6-8d6a3ccce579",
   "metadata": {},
   "outputs": [],
   "source": [
    "# Vectorization mapping each group name with the corresponding group code and creating a column resulting from it\n",
    "df[\"group names\"] = df[\"group codes\"].map(group_names)"
   ]
  },
  {
   "cell_type": "code",
   "execution_count": 141,
   "id": "951b14a2-0550-44e8-9d6d-699bff5d39bf",
   "metadata": {},
   "outputs": [],
   "source": [
    "# Drop transitory columns to keep dataframe clean\n",
    "df = df.drop(columns = [\"first letter\", \"two digits\"])"
   ]
  },
  {
   "cell_type": "code",
   "execution_count": 145,
   "id": "a4056975-3797-47c4-b7da-430fa839aa9c",
   "metadata": {},
   "outputs": [],
   "source": [
    "df = df.astype({col: \"category\" for col in df.select_dtypes(include=\"object\").columns})"
   ]
  },
  {
   "cell_type": "code",
   "execution_count": 147,
   "id": "028dfc40-5409-47e1-acbc-ea1c9eb1f7ef",
   "metadata": {},
   "outputs": [
    {
     "name": "stdout",
     "output_type": "stream",
     "text": [
      "<class 'pandas.core.frame.DataFrame'>\n",
      "RangeIndex: 25758741 entries, 0 to 25758740\n",
      "Data columns (total 15 columns):\n",
      " #   Column                    Dtype   \n",
      "---  ------                    -----   \n",
      " 0   sex                       category\n",
      " 1   age                       category\n",
      " 2   health insurance          category\n",
      " 3   healthcare facility type  category\n",
      " 4   healthcare facility name  category\n",
      " 5   length of stay            int32   \n",
      " 6   discharge condition       category\n",
      " 7   primary diagnosis code    category\n",
      " 8   primary diagnosis name    category\n",
      " 9   year                      int32   \n",
      " 10  chapter codes             category\n",
      " 11  chapter names             category\n",
      " 12  LOS_capped                int32   \n",
      " 13  group codes               category\n",
      " 14  group names               category\n",
      "dtypes: category(12), int32(3)\n",
      "memory usage: 713.1 MB\n"
     ]
    }
   ],
   "source": [
    "df.info()"
   ]
  },
  {
   "cell_type": "code",
   "execution_count": 165,
   "id": "46ace512-3018-4eab-9f15-63edc132eeec",
   "metadata": {},
   "outputs": [],
   "source": [
    "# lower case to make it simple before exporting\n",
    "df[\"chapter names\"] = df[\"chapter names\"].str.lower()"
   ]
  },
  {
   "cell_type": "code",
   "execution_count": 171,
   "id": "58986ac2-d77c-4197-8b59-5a3aafa38bb2",
   "metadata": {},
   "outputs": [
    {
     "data": {
      "text/plain": [
       "4957150"
      ]
     },
     "execution_count": 171,
     "metadata": {},
     "output_type": "execute_result"
    }
   ],
   "source": [
    "# Top 5 group names concentrate 4.957.150 discharges (20%)\n",
    "df[\"group names\"].value_counts().head(5).sum()"
   ]
  },
  {
   "cell_type": "code",
   "execution_count": 175,
   "id": "7507745c-c6cb-47da-87c8-71d219b37b56",
   "metadata": {},
   "outputs": [],
   "source": [
    "# Add category \"other\" to plot it next to the top 5 group names\n",
    "df[\"group names\"] = df[\"group names\"].cat.add_categories(\"Other\")"
   ]
  },
  {
   "cell_type": "code",
   "execution_count": 185,
   "id": "92bdc18e-25b4-45a5-8482-16858b6becc7",
   "metadata": {},
   "outputs": [
    {
     "data": {
      "image/png": "[encoded data removed]",
      "text/plain": [
       "<Figure size 1200x600 with 1 Axes>"
      ]
     },
     "metadata": {},
     "output_type": "display_data"
    }
   ],
   "source": [
    "# --- Step 1: Count top 5 diagnoses ---\n",
    "diag_counts = df[\"group names\"].value_counts()\n",
    "top_diagnoses = diag_counts.head(5).index.tolist()\n",
    "\n",
    "# --- Step 2: Create grouped column (Top 5 + \"Other\") ---\n",
    "df[\"diagnosis_grouped\"] = df[\"group names\"].where(\n",
    "    df[\"group names\"].isin(top_diagnoses),\n",
    "    \"Other\"\n",
    ")\n",
    "\n",
    "# --- Step 3: Aggregate counts by diagnosis ---\n",
    "counts = df[\"diagnosis_grouped\"].value_counts().loc[top_diagnoses + [\"Other\"]]\n",
    "\n",
    "# --- Step 4: Compute percentages for labels ---\n",
    "percentages = counts / counts.sum() * 100\n",
    "\n",
    "# --- Step 5: Plot bar chart with frequencies on Y ---\n",
    "ax = counts.plot(kind=\"bar\", figsize=(12, 6))\n",
    "\n",
    "plt.ylabel(\"Number of discharges\")\n",
    "plt.xlabel(\"Primary Diagnosis\")\n",
    "plt.xticks(rotation=45, ha=\"right\", fontsize=9)\n",
    "plt.title(\"Top 5 diagnoses groups by discharges (Other included)\")\n",
    "\n",
    "# --- Step 6: Annotate bars with percentages ---\n",
    "for i, (count, pct) in enumerate(zip(counts, percentages)):\n",
    "    ax.text(i, count + (0.01 * counts.max()), f\"{pct:.1f}%\", \n",
    "            ha=\"center\", va=\"bottom\", fontsize=10)\n",
    "\n",
    "plt.tight_layout()\n",
    "plt.show()"
   ]
  },
  {
   "cell_type": "code",
   "execution_count": 191,
   "id": "58f5f549-6016-4aab-9eed-1dc61290f0f2",
   "metadata": {},
   "outputs": [],
   "source": [
    "# Drop transitory column\n",
    "df = df.drop(columns = \"diagnosis_grouped\")"
   ]
  },
  {
   "cell_type": "markdown",
   "id": "53598c2f-af78-4010-a8fc-eb1cd8b8096f",
   "metadata": {},
   "source": [
    "# Export data"
   ]
  },
  {
   "cell_type": "code",
   "execution_count": 169,
   "id": "780210b1-c42a-4d5e-b8b3-6d1c66c6dc7b",
   "metadata": {},
   "outputs": [],
   "source": [
    "# Export dataframe ready for bivariate analysis\n",
    "df.to_parquet(\"Discharges_2001-2024_univariate_final_v2_light.parquet\", index=False, compression=\"snappy\")"
   ]
  },
  {
   "cell_type": "code",
   "execution_count": null,
   "id": "9e5c9d39-0223-469d-ad34-817afb6f5bf8",
   "metadata": {},
   "outputs": [],
   "source": []
  }
 ],
 "metadata": {
  "kernelspec": {
   "display_name": "Python 3 (ipykernel)",
   "language": "python",
   "name": "python3"
  },
  "language_info": {
   "codemirror_mode": {
    "name": "ipython",
    "version": 3
   },
   "file_extension": ".py",
   "mimetype": "text/x-python",
   "name": "python",
   "nbconvert_exporter": "python",
   "pygments_lexer": "ipython3",
   "version": "3.12.4"
  }
 },
 "nbformat": 4,
 "nbformat_minor": 5
}
