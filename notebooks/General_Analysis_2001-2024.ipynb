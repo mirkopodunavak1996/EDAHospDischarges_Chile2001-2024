{
 "cells": [
  {
   "cell_type": "markdown",
   "id": "51d78b2d-d952-46bd-a044-bcf31cf3041a",
   "metadata": {},
   "source": [
    "# 1. Introduction"
   ]
  },
  {
   "cell_type": "raw",
   "id": "9c079ee7-1fb1-4ad4-b70d-49222eca900e",
   "metadata": {},
   "source": [
    "\n",
    "\n",
    "Dataset description:\n",
    "\n",
    "Origin -> \"Departamento de Estadísticas e Información de Salud\" (DEIS)\n",
    "\n",
    "Size -> 25.758.741 rows and 10 columns\n",
    "\n",
    "Time frame -> From year 2001 to 2024\n",
    "\n",
    "Units of observation -> Discharges\n",
    "\n",
    "Objective: Analyze the evolution of diagnosis through hospital discharges between years 2001 and 2024 in Chile\n",
    "\n",
    "Guiding questions:\n",
    "\n",
    "1. ¿What is the trend in the prevalence of health problems over the years?\n",
    "2. ¿Is there a relationship between individual characteristics (sex, age, health insurance) and specific health problems?\n",
    "3.  What type of health centers (public or private) and specificall which onesy use more or fewer bed-days to solve health problems? 2001-2024 in general and 2001-2020 in specifi\n",
    "3.1.  To what extent is the efficiency of health centers linked to individual characteristics of the population served and/or their financing? Depends on finding ins Q.2 2001-2024 in general and 2001-2020 in specific]"
   ]
  },
  {
   "cell_type": "markdown",
   "id": "d91cf0a4-ddc2-442e-bd87-65c4aebeb6f9",
   "metadata": {},
   "source": [
    "# Libraries and Data importation"
   ]
  },
  {
   "cell_type": "code",
   "execution_count": 3,
   "id": "731074ac-dd86-4c11-b449-5ad7863aec7a",
   "metadata": {},
   "outputs": [],
   "source": [
    "import pandas as pd\n",
    "import numpy as np\n",
    "import matplotlib.pyplot as plt\n",
    "import seaborn as sns"
   ]
  },
  {
   "cell_type": "code",
   "execution_count": 5,
   "id": "62458c14-55bb-4aa6-ba9a-318299904782",
   "metadata": {},
   "outputs": [],
   "source": [
    "df = pd.read_parquet(r\"C:\\Users\\mirko\\Desktop\\Curso Data Science DL\\EDAHospDischarges_Chile2001-2024\\data\\processed\\Discharges_2001-2024_analysis_finalversion.parquet\")"
   ]
  },
  {
   "cell_type": "markdown",
   "id": "8eb91693-65c4-43d3-9ae4-f64f090e4416",
   "metadata": {},
   "source": [
    "# 2. Data Overview"
   ]
  },
  {
   "cell_type": "markdown",
   "id": "712e34c7-c4fe-473c-8e29-a41574b0d426",
   "metadata": {},
   "source": [
    "# Shape of the dataset (rows, columns)."
   ]
  },
  {
   "cell_type": "code",
   "execution_count": 9,
   "id": "8c040d8d-d8c5-4372-ad10-880b313dd287",
   "metadata": {},
   "outputs": [
    {
     "data": {
      "text/html": [
       "<div>\n",
       "<style scoped>\n",
       "    .dataframe tbody tr th:only-of-type {\n",
       "        vertical-align: middle;\n",
       "    }\n",
       "\n",
       "    .dataframe tbody tr th {\n",
       "        vertical-align: top;\n",
       "    }\n",
       "\n",
       "    .dataframe thead th {\n",
       "        text-align: right;\n",
       "    }\n",
       "</style>\n",
       "<table border=\"1\" class=\"dataframe\">\n",
       "  <thead>\n",
       "    <tr style=\"text-align: right;\">\n",
       "      <th></th>\n",
       "      <th>sex</th>\n",
       "      <th>age</th>\n",
       "      <th>health insurance</th>\n",
       "      <th>healthcare facility type</th>\n",
       "      <th>healthcare facility name</th>\n",
       "      <th>length of stay</th>\n",
       "      <th>discharge condition</th>\n",
       "      <th>primary diagnosis code</th>\n",
       "      <th>primary diagnosis name</th>\n",
       "      <th>year</th>\n",
       "    </tr>\n",
       "  </thead>\n",
       "  <tbody>\n",
       "    <tr>\n",
       "      <th>0</th>\n",
       "      <td>Hombre</td>\n",
       "      <td>[60, 69]</td>\n",
       "      <td>Fonasa</td>\n",
       "      <td>Privado</td>\n",
       "      <td>Clínica Familia</td>\n",
       "      <td>2</td>\n",
       "      <td>Muerto</td>\n",
       "      <td>C780</td>\n",
       "      <td>tumor maligno secundario del pulmon</td>\n",
       "      <td>2001</td>\n",
       "    </tr>\n",
       "    <tr>\n",
       "      <th>1</th>\n",
       "      <td>Hombre</td>\n",
       "      <td>[70, 79]</td>\n",
       "      <td>Fonasa</td>\n",
       "      <td>Publico</td>\n",
       "      <td>Hospital Del Salvador (Santiago, Providencia)</td>\n",
       "      <td>58</td>\n",
       "      <td>Muerto</td>\n",
       "      <td>E145</td>\n",
       "      <td>diabetes mellitus no especificada, con complic...</td>\n",
       "      <td>2001</td>\n",
       "    </tr>\n",
       "    <tr>\n",
       "      <th>2</th>\n",
       "      <td>Hombre</td>\n",
       "      <td>[70, 79]</td>\n",
       "      <td>Fonasa</td>\n",
       "      <td>Publico</td>\n",
       "      <td>Hospital Del Salvador (Santiago, Providencia)</td>\n",
       "      <td>12</td>\n",
       "      <td>Muerto</td>\n",
       "      <td>J189</td>\n",
       "      <td>neumonia, no especificada</td>\n",
       "      <td>2001</td>\n",
       "    </tr>\n",
       "    <tr>\n",
       "      <th>3</th>\n",
       "      <td>Hombre</td>\n",
       "      <td>[1, 9]</td>\n",
       "      <td>Fonasa</td>\n",
       "      <td>Publico</td>\n",
       "      <td>Instituto de Neurocirugía Dr. Alfonso Asenjo</td>\n",
       "      <td>1</td>\n",
       "      <td>Muerto</td>\n",
       "      <td>S065</td>\n",
       "      <td>hemorragia subdural traumatica</td>\n",
       "      <td>2001</td>\n",
       "    </tr>\n",
       "    <tr>\n",
       "      <th>4</th>\n",
       "      <td>Hombre</td>\n",
       "      <td>[80, 120]</td>\n",
       "      <td>Fonasa</td>\n",
       "      <td>Publico</td>\n",
       "      <td>Hospital Dr. Leonardo Guzmán (Antofagasta)</td>\n",
       "      <td>7</td>\n",
       "      <td>Vivo</td>\n",
       "      <td>K830</td>\n",
       "      <td>colangitis</td>\n",
       "      <td>2001</td>\n",
       "    </tr>\n",
       "  </tbody>\n",
       "</table>\n",
       "</div>"
      ],
      "text/plain": [
       "      sex        age health insurance healthcare facility type  \\\n",
       "0  Hombre   [60, 69]           Fonasa                  Privado   \n",
       "1  Hombre   [70, 79]           Fonasa                  Publico   \n",
       "2  Hombre   [70, 79]           Fonasa                  Publico   \n",
       "3  Hombre     [1, 9]           Fonasa                  Publico   \n",
       "4  Hombre  [80, 120]           Fonasa                  Publico   \n",
       "\n",
       "                        healthcare facility name  length of stay  \\\n",
       "0                               Clínica Familia                2   \n",
       "1  Hospital Del Salvador (Santiago, Providencia)              58   \n",
       "2  Hospital Del Salvador (Santiago, Providencia)              12   \n",
       "3   Instituto de Neurocirugía Dr. Alfonso Asenjo               1   \n",
       "4     Hospital Dr. Leonardo Guzmán (Antofagasta)               7   \n",
       "\n",
       "  discharge condition primary diagnosis code  \\\n",
       "0              Muerto                   C780   \n",
       "1              Muerto                   E145   \n",
       "2              Muerto                   J189   \n",
       "3              Muerto                   S065   \n",
       "4                Vivo                   K830   \n",
       "\n",
       "                              primary diagnosis name  year  \n",
       "0                tumor maligno secundario del pulmon  2001  \n",
       "1  diabetes mellitus no especificada, con complic...  2001  \n",
       "2                          neumonia, no especificada  2001  \n",
       "3                     hemorragia subdural traumatica  2001  \n",
       "4                                         colangitis  2001  "
      ]
     },
     "execution_count": 9,
     "metadata": {},
     "output_type": "execute_result"
    }
   ],
   "source": [
    "df.head()"
   ]
  },
  {
   "cell_type": "code",
   "execution_count": 11,
   "id": "397df6f6-3e69-45e9-8328-43d080e0be2c",
   "metadata": {},
   "outputs": [
    {
     "data": {
      "text/plain": [
       "(25758741, 10)"
      ]
     },
     "execution_count": 11,
     "metadata": {},
     "output_type": "execute_result"
    }
   ],
   "source": [
    "df.shape"
   ]
  },
  {
   "cell_type": "markdown",
   "id": "587607b8-9287-4489-8120-58c430bfb162",
   "metadata": {},
   "source": [
    "# Data dictionary / main variables (categorical, numerical)."
   ]
  },
  {
   "cell_type": "code",
   "execution_count": 14,
   "id": "0b6c7832-bacc-4d69-bd09-3e2c96d33888",
   "metadata": {},
   "outputs": [
    {
     "name": "stdout",
     "output_type": "stream",
     "text": [
      "<class 'pandas.core.frame.DataFrame'>\n",
      "RangeIndex: 25758741 entries, 0 to 25758740\n",
      "Data columns (total 10 columns):\n",
      " #   Column                    Dtype   \n",
      "---  ------                    -----   \n",
      " 0   sex                       category\n",
      " 1   age                       object  \n",
      " 2   health insurance          category\n",
      " 3   healthcare facility type  category\n",
      " 4   healthcare facility name  object  \n",
      " 5   length of stay            int32   \n",
      " 6   discharge condition       category\n",
      " 7   primary diagnosis code    object  \n",
      " 8   primary diagnosis name    object  \n",
      " 9   year                      int32   \n",
      "dtypes: category(4), int32(2), object(4)\n",
      "memory usage: 1.1+ GB\n"
     ]
    }
   ],
   "source": [
    "df.info()"
   ]
  },
  {
   "cell_type": "raw",
   "id": "ed957ab6-a090-48d6-b86c-a2722dcb5ee4",
   "metadata": {},
   "source": [
    "Variables\n",
    "\n",
    "Individual characteristics:\n",
    "Sex (Categorical)\n",
    "Age ranges (Categorical)\n",
    "Health insurance (Categorical)\n",
    "\n",
    "Health center characteristics:\n",
    "Name (Categorical)\n",
    "Public or private (Categorical)\n",
    "\n",
    "Variables associated with the diagnosis:\n",
    "Name of the health problem (and health problem code) (Categorical)\n",
    "\n",
    "Variables associated with the individual, health center, and disease simultaneously:\n",
    "Days of stay at the health center (Numerical)\n",
    "Discharge condition (alive or dead) (Categorical)"
   ]
  },
  {
   "cell_type": "markdown",
   "id": "02bdb511-07e7-45fb-bb5f-c9fd50840fc7",
   "metadata": {},
   "source": [
    "# Missing values / NA treatment summary."
   ]
  },
  {
   "cell_type": "code",
   "execution_count": 17,
   "id": "7523bace-7d6c-41a7-8ecd-66c9eae86a19",
   "metadata": {},
   "outputs": [
    {
     "data": {
      "text/plain": [
       "sex                         0\n",
       "age                         0\n",
       "health insurance            0\n",
       "healthcare facility type    0\n",
       "healthcare facility name    0\n",
       "length of stay              0\n",
       "discharge condition         0\n",
       "primary diagnosis code      0\n",
       "primary diagnosis name      0\n",
       "year                        0\n",
       "dtype: int64"
      ]
     },
     "execution_count": 17,
     "metadata": {},
     "output_type": "execute_result"
    }
   ],
   "source": [
    "df.isna().sum()"
   ]
  },
  {
   "cell_type": "markdown",
   "id": "c6a49f95-7e20-4e8d-920b-dda1aacb241f",
   "metadata": {},
   "source": [
    "The dataframe is completely clean without any missing value. For healthcare facility name the data was missing from 2021 to 2024 and healthcare facility type had around 20% of NaNs, mainly on year 2023. All these values were imputed to \"Unknown\" to preserve the rest of the data, considering it was not missing at random, so bias could be introduced in case of deletion. The rest of the variables had NaNs and were deleted becasue it did not affected the representativeness of the sample."
   ]
  },
  {
   "cell_type": "markdown",
   "id": "59cf0b26-a1f2-4dff-a2e0-677c565b2782",
   "metadata": {},
   "source": [
    "# First impressions after cleaning (anything noteworthy?)."
   ]
  },
  {
   "cell_type": "markdown",
   "id": "5751c72b-c359-4910-bddb-9799be463b2d",
   "metadata": {},
   "source": [
    "It was complex to manage 24 dataframes and explore the data, particulary the missing values and take important decisions to ensure data integrity and accuracy at the same time. There are many duplicates and that is the main uncertainty about the realiability of the information, but it was chosen to just delete duplicates when the patient ID was available, making more evident that some rows were real duplicates. There are many health problems that are highly prevalent and common among specific kind of patients, so it would not be surprising that similar rows are different discharges even if they are completely identical and no ID is available."
   ]
  },
  {
   "cell_type": "markdown",
   "id": "89529330-98dd-4ab0-8191-24d37a8cb1de",
   "metadata": {},
   "source": [
    "# 3. Univariate Analysis"
   ]
  },
  {
   "cell_type": "code",
   "execution_count": 23,
   "id": "fb798911-a62c-43f4-949b-6ab7b7f4652d",
   "metadata": {},
   "outputs": [
    {
     "data": {
      "text/plain": [
       "Index(['sex', 'age', 'health insurance', 'healthcare facility type',\n",
       "       'healthcare facility name', 'length of stay', 'discharge condition',\n",
       "       'primary diagnosis code', 'primary diagnosis name', 'year'],\n",
       "      dtype='object')"
      ]
     },
     "execution_count": 23,
     "metadata": {},
     "output_type": "execute_result"
    }
   ],
   "source": [
    "df.columns"
   ]
  },
  {
   "cell_type": "raw",
   "id": "a5f3bb4a-64cb-4550-9eab-3ada8650b5b8",
   "metadata": {},
   "source": [
    "(Focus only on the most relevant variables)\n",
    "\n",
    "Numerical variables: distributions (histograms, KDE, boxplots).\n",
    "\n",
    "Example: age, length of stay.\n",
    "\n",
    "Categorical variables: frequencies / proportions.\n",
    "\n",
    "Example: discharge type, diagnosis categories, hospital type.\n",
    "\n",
    "Quick summary: “What does the population look like?”"
   ]
  },
  {
   "cell_type": "raw",
   "id": "763f4a96-d892-44a0-b49a-3452bf446fe1",
   "metadata": {},
   "source": [
    "Caracteristicas individuales:\n",
    "1. Sexo\n",
    "2. Edad\n",
    "3. Previsión o seguro de salud"
   ]
  },
  {
   "cell_type": "markdown",
   "id": "d9d91cdb-806f-4652-8f43-0f098dd8b246",
   "metadata": {},
   "source": [
    "# Categorical variables (4)"
   ]
  },
  {
   "cell_type": "markdown",
   "id": "e1b153f3-c45c-4504-884b-99ea98af76b4",
   "metadata": {},
   "source": [
    "# Sex"
   ]
  },
  {
   "cell_type": "code",
   "execution_count": 27,
   "id": "5a5fe8d4-0fd5-4a7a-b015-5d1e8581566e",
   "metadata": {},
   "outputs": [
    {
     "data": {
      "text/plain": [
       "sex\n",
       "Hombre    13290560\n",
       "Mujer     12468181\n",
       "Name: count, dtype: int64"
      ]
     },
     "execution_count": 27,
     "metadata": {},
     "output_type": "execute_result"
    }
   ],
   "source": [
    "df.sex.value_counts()"
   ]
  },
  {
   "cell_type": "code",
   "execution_count": 31,
   "id": "222a51e3-a5b7-4b14-b273-761a4240bc5b",
   "metadata": {},
   "outputs": [
    {
     "data": {
      "text/plain": [
       "sex\n",
       "Hombre    51.596311\n",
       "Mujer     48.403689\n",
       "Name: proportion, dtype: float64"
      ]
     },
     "execution_count": 31,
     "metadata": {},
     "output_type": "execute_result"
    }
   ],
   "source": [
    "df.sex.value_counts(normalize = True)*100"
   ]
  },
  {
   "cell_type": "code",
   "execution_count": 47,
   "id": "37f71e13-d860-4dc6-bd8f-374b6bff09d9",
   "metadata": {},
   "outputs": [],
   "source": [
    "df[\"sex\"] = df[\"sex\"].cat.rename_categories({\"Hombre\": \"Male\", \"Mujer\": \"Female\"})\n"
   ]
  },
  {
   "cell_type": "code",
   "execution_count": 61,
   "id": "ea3bce91-c020-4ad0-bc54-7e22b0a04b42",
   "metadata": {},
   "outputs": [
    {
     "data": {
      "image/png": "[encoded data removed]",
      "text/plain": [
       "<Figure size 640x480 with 1 Axes>"
      ]
     },
     "metadata": {},
     "output_type": "display_data"
    }
   ],
   "source": [
    "# Get value counts\n",
    "counts = df['sex'].value_counts()\n",
    "\n",
    "# Plot bar chart\n",
    "ax = counts.plot(kind='bar', color='skyblue')\n",
    "\n",
    "# Add counts on top of each bar\n",
    "for i, count in enumerate(counts):\n",
    "    ax.text(i, count + 0.05, str(count), ha='center', va='bottom')\n",
    "\n",
    "plt.xlabel('Sex')\n",
    "plt.ylabel(None)\n",
    "plt.title('Frequency of discharges by sex')\n",
    "plt.tick_params(labelleft=False)\n",
    "plt.show()\n"
   ]
  },
  {
   "cell_type": "raw",
   "id": "a421e535-0c71-421f-b155-11cabde22a21",
   "metadata": {},
   "source": [
    "Summary of Sex\n",
    "\n",
    "Counts: 13.290.560 (male) vs. 12.468.181 (female)\n",
    "\n",
    "Proportions: 51,59% vs. 48,40%.\n",
    "\n",
    "Mode: Male.\n",
    "\n",
    "Balance: Slight male majority, but both well represented.\n",
    "\n",
    "Context: Could indicate real differences in prevalence of health issues more associated with men"
   ]
  },
  {
   "cell_type": "markdown",
   "id": "d1eab476-c90c-448c-a1bb-cf960fdc66b3",
   "metadata": {},
   "source": [
    "# Health insurance"
   ]
  },
  {
   "cell_type": "code",
   "execution_count": 66,
   "id": "631baf0d-b394-4d6e-a4bf-830849170851",
   "metadata": {},
   "outputs": [
    {
     "data": {
      "text/plain": [
       "health insurance\n",
       "Fonasa    20688143\n",
       "Isapre     5070598\n",
       "Name: count, dtype: int64"
      ]
     },
     "execution_count": 66,
     "metadata": {},
     "output_type": "execute_result"
    }
   ],
   "source": [
    "df[\"health insurance\"].value_counts()"
   ]
  },
  {
   "cell_type": "code",
   "execution_count": 68,
   "id": "00526121-3c38-4991-8ddd-467ac27e8aef",
   "metadata": {},
   "outputs": [
    {
     "data": {
      "text/plain": [
       "health insurance\n",
       "Fonasa    80.315039\n",
       "Isapre    19.684961\n",
       "Name: proportion, dtype: float64"
      ]
     },
     "execution_count": 68,
     "metadata": {},
     "output_type": "execute_result"
    }
   ],
   "source": [
    "df[\"health insurance\"].value_counts(normalize = True)*100"
   ]
  },
  {
   "cell_type": "code",
   "execution_count": 72,
   "id": "0e3519b6-10ab-445d-ae97-d58bd2fffd78",
   "metadata": {},
   "outputs": [
    {
     "data": {
      "image/png": "[encoded data removed]",
      "text/plain": [
       "<Figure size 640x480 with 1 Axes>"
      ]
     },
     "metadata": {},
     "output_type": "display_data"
    }
   ],
   "source": [
    "# Get value counts\n",
    "counts = df['health insurance'].value_counts()\n",
    "\n",
    "# Plot pie chart with percentages\n",
    "counts.plot.pie(autopct='%1.1f%%', colors=['skyblue', 'lightgreen'], startangle=90)\n",
    "plt.ylabel('')  # Remove default y-label\n",
    "plt.title('Discharges by health insurance')\n",
    "plt.show()\n"
   ]
  },
  {
   "cell_type": "raw",
   "id": "9b10c512-54c1-48c3-8bcb-8a728fe953dd",
   "metadata": {},
   "source": [
    "Summary of Health Insurance\n",
    "\n",
    "Counts: 20.688.143 (Fonasa) vs. 5.070.598 (Isapre)\n",
    "\n",
    "Proportions: 80,3% vs. 19,7%.\n",
    "\n",
    "Mode: Fonasa.\n",
    "\n",
    "Balance: The big majority of discharges are for patients covered by the public health insurance\n",
    "\n",
    "Context: The public health insurance cover around 80% of the population, due to preference or affordability issues of private health insurance. This matches with the fact that 80% of the discharges are for patients in Fonasa."
   ]
  },
  {
   "cell_type": "markdown",
   "id": "6fb58b82-a933-4339-8783-78ee26adbb1e",
   "metadata": {},
   "source": [
    "# Healthcare facility type"
   ]
  },
  {
   "cell_type": "code",
   "execution_count": 76,
   "id": "a3585515-5ea7-4d39-a755-9c968a850783",
   "metadata": {},
   "outputs": [
    {
     "data": {
      "text/plain": [
       "healthcare facility type\n",
       "Publico    17489355\n",
       "Privado     7050600\n",
       "Unknown     1218786\n",
       "Name: count, dtype: int64"
      ]
     },
     "execution_count": 76,
     "metadata": {},
     "output_type": "execute_result"
    }
   ],
   "source": [
    "df[\"healthcare facility type\"].value_counts()"
   ]
  },
  {
   "cell_type": "code",
   "execution_count": 78,
   "id": "02c19f07-a3bf-4932-a0af-df0a14d7d2e8",
   "metadata": {},
   "outputs": [
    {
     "data": {
      "text/plain": [
       "healthcare facility type\n",
       "Publico    67.896777\n",
       "Privado    27.371679\n",
       "Unknown     4.731543\n",
       "Name: proportion, dtype: float64"
      ]
     },
     "execution_count": 78,
     "metadata": {},
     "output_type": "execute_result"
    }
   ],
   "source": [
    "df[\"healthcare facility type\"].value_counts(normalize = True)*100"
   ]
  },
  {
   "cell_type": "code",
   "execution_count": 98,
   "id": "5eeb620e-3182-4ab3-ac4c-b97fd2650975",
   "metadata": {},
   "outputs": [
    {
     "data": {
      "text/plain": [
       "healthcare facility type\n",
       "Privado    259\n",
       "Publico    217\n",
       "Unknown      1\n",
       "Name: healthcare facility name, dtype: int64"
      ]
     },
     "execution_count": 98,
     "metadata": {},
     "output_type": "execute_result"
    }
   ],
   "source": [
    "df.groupby(\"healthcare facility type\", observed=False)[\"healthcare facility name\"].nunique()"
   ]
  },
  {
   "cell_type": "code",
   "execution_count": 106,
   "id": "1d1045da-71c1-48e6-9301-2d4c916d63a9",
   "metadata": {},
   "outputs": [],
   "source": [
    "df[\"healthcare facility type\"] = df[\"healthcare facility type\"].cat.rename_categories({\"Publico\": \"Public\", \"Privado\": \"Private\"})"
   ]
  },
  {
   "cell_type": "code",
   "execution_count": 112,
   "id": "552b4087-9a34-4b0c-be79-4395ee2359a2",
   "metadata": {},
   "outputs": [
    {
     "data": {
      "image/png": "[encoded data removed]",
      "text/plain": [
       "<Figure size 640x480 with 1 Axes>"
      ]
     },
     "metadata": {},
     "output_type": "display_data"
    }
   ],
   "source": [
    "# Get value counts\n",
    "counts = df['healthcare facility type'].value_counts()\n",
    "\n",
    "# Plot bar chart\n",
    "ax = counts.plot(kind='bar', color='skyblue')\n",
    "\n",
    "# Add counts on top of each bar\n",
    "for i, count in enumerate(counts):\n",
    "    ax.text(i, count + 0.05, str(count), ha='center', va='bottom')\n",
    "\n",
    "plt.xlabel('Healthcare facility type')\n",
    "plt.ylabel(None)\n",
    "plt.title('Frequency of discharges by Healthcare Facility Type')\n",
    "plt.tick_params(labelleft=False)\n",
    "plt.show()\n"
   ]
  },
  {
   "cell_type": "raw",
   "id": "49f9df15-8e4e-4da8-a9ce-daff2fbbb15d",
   "metadata": {},
   "source": [
    "Summary of Healthcare facility type\n",
    "\n",
    "Counts: 17.489.355 (Fonasa) vs. 7.050.600 (Isapre) vs. 1.218.786 (Unknown)\n",
    "\n",
    "Proportions: 67.89% vs. 27.37% vs. 4.73%\n",
    "\n",
    "Mode: Public\n",
    "\n",
    "Balance: The big majority (2/3) of discharges are from public healthcare facility types\n",
    "\n",
    "Context: As it was stated, the public health insurance cover around 80% of the population; for hospital care those patients mostly access to public healthcare facilities to get financial coverage.\n",
    "Considering that 259 facilities are private and just 217 public (bivariate relationship between healthcare facility type and health insurance will be explored further later) the timely access to health services is conditioned, increasing waiting lists. "
   ]
  },
  {
   "cell_type": "markdown",
   "id": "91698ea4-8b4b-4111-b02c-342b081df054",
   "metadata": {},
   "source": [
    "# Discharge Condition"
   ]
  },
  {
   "cell_type": "code",
   "execution_count": 117,
   "id": "1e9b3e08-7427-41e5-a87c-c7938d487872",
   "metadata": {},
   "outputs": [
    {
     "data": {
      "text/plain": [
       "discharge condition\n",
       "Vivo      25029231\n",
       "Muerto      729510\n",
       "Name: count, dtype: int64"
      ]
     },
     "execution_count": 117,
     "metadata": {},
     "output_type": "execute_result"
    }
   ],
   "source": [
    "df[\"discharge condition\"].value_counts()"
   ]
  },
  {
   "cell_type": "code",
   "execution_count": 119,
   "id": "8ebc99b8-2e6d-46b8-87e3-325e51b1e940",
   "metadata": {},
   "outputs": [
    {
     "data": {
      "text/plain": [
       "discharge condition\n",
       "Vivo      97.167913\n",
       "Muerto     2.832087\n",
       "Name: proportion, dtype: float64"
      ]
     },
     "execution_count": 119,
     "metadata": {},
     "output_type": "execute_result"
    }
   ],
   "source": [
    "df[\"discharge condition\"].value_counts(normalize = True)*100"
   ]
  },
  {
   "cell_type": "code",
   "execution_count": 121,
   "id": "c2ea4650-68f8-4b0d-a58f-d3cf963e8ed4",
   "metadata": {},
   "outputs": [],
   "source": [
    "df[\"discharge condition\"] = df[\"discharge condition\"].cat.rename_categories({\"Vivo\": \"Alive\", \"Muerto\": \"Deceased\"})"
   ]
  },
  {
   "cell_type": "code",
   "execution_count": 125,
   "id": "2444a9a6-7c20-4f01-b21c-7637f093ac11",
   "metadata": {},
   "outputs": [
    {
     "data": {
      "image/png": "[encoded data removed]",
      "text/plain": [
       "<Figure size 640x480 with 1 Axes>"
      ]
     },
     "metadata": {},
     "output_type": "display_data"
    }
   ],
   "source": [
    "# Get value counts\n",
    "counts = df['discharge condition'].value_counts()\n",
    "\n",
    "# Plot pie chart with percentages\n",
    "counts.plot.pie(autopct='%1.1f%%', colors=['skyblue', 'lightgreen'], startangle=90)\n",
    "plt.ylabel('')  # Remove default y-label\n",
    "plt.title('Discharge condition')\n",
    "plt.show()\n"
   ]
  },
  {
   "cell_type": "raw",
   "id": "ffc95c34-9b9e-44cc-a53b-bae35e002e3d",
   "metadata": {},
   "source": [
    "Summary of Discharge condition\n",
    "\n",
    "Counts: 25.029.231 (Alive) vs. 729.510 (Deceased)\n",
    "\n",
    "Proportions: 97.16% vs. 2.83%\n",
    "\n",
    "Mode: Alive\n",
    "\n",
    "Balance: The big majority of discharges end with patients alive\n",
    "\n",
    "Context: The balance can reflect an effective healthcare system reducing mortality and/or that the health issues are low risk"
   ]
  },
  {
   "cell_type": "code",
   "execution_count": null,
   "id": "45e449de-3278-4154-9000-8431dc0cada7",
   "metadata": {},
   "outputs": [],
   "source": []
  },
  {
   "cell_type": "code",
   "execution_count": null,
   "id": "829a247b-43bd-43c4-815c-7fdc7721a974",
   "metadata": {},
   "outputs": [],
   "source": []
  },
  {
   "cell_type": "code",
   "execution_count": null,
   "id": "718a7ff9-406e-4ecd-b295-1d0855fea75c",
   "metadata": {},
   "outputs": [],
   "source": []
  },
  {
   "cell_type": "code",
   "execution_count": null,
   "id": "ad754e8b-ca1a-4a55-8a8b-9e4331d3f0b4",
   "metadata": {},
   "outputs": [],
   "source": []
  },
  {
   "cell_type": "markdown",
   "id": "5a03223b-7609-472e-9e15-872306792041",
   "metadata": {},
   "source": [
    "# Bivariate and Multivariate Analysis"
   ]
  },
  {
   "cell_type": "markdown",
   "id": "c6a09a88-2e82-4c4b-8861-8f9da28ecfb2",
   "metadata": {},
   "source": [
    "# Guiding Questions"
   ]
  },
  {
   "cell_type": "markdown",
   "id": "1f7fb4be-bdae-449a-9377-01b5b5d32efb",
   "metadata": {},
   "source": [
    "# Visualizations"
   ]
  },
  {
   "cell_type": "markdown",
   "id": "bce25083-b001-4927-829f-f50e206ce887",
   "metadata": {},
   "source": [
    "# Insights and questions"
   ]
  },
  {
   "cell_type": "markdown",
   "id": "d8b98362-b6e3-450e-8d20-159d16d6c129",
   "metadata": {},
   "source": [
    "1. How the distribution of the data is affected if healthy newborns are not considered in the analysis?"
   ]
  },
  {
   "cell_type": "code",
   "execution_count": 40,
   "id": "4c7a77e8-f9cb-4db3-9f9d-01f582223086",
   "metadata": {},
   "outputs": [
    {
     "data": {
      "text/plain": [
       "Index(['Sex', 'Age', 'Health insurance', 'Healthcare facility type',\n",
       "       'Healthcare facility name', 'Length of stay', 'Discharge condition',\n",
       "       'Primary diagnosis code', 'Primary diagnosis name', 'Year'],\n",
       "      dtype='object')"
      ]
     },
     "execution_count": 40,
     "metadata": {},
     "output_type": "execute_result"
    }
   ],
   "source": [
    "df.columns"
   ]
  },
  {
   "cell_type": "code",
   "execution_count": null,
   "id": "1c068a70-11ca-4697-9251-9f1b031f2da3",
   "metadata": {},
   "outputs": [],
   "source": []
  }
 ],
 "metadata": {
  "kernelspec": {
   "display_name": "Python 3 (ipykernel)",
   "language": "python",
   "name": "python3"
  },
  "language_info": {
   "codemirror_mode": {
    "name": "ipython",
    "version": 3
   },
   "file_extension": ".py",
   "mimetype": "text/x-python",
   "name": "python",
   "nbconvert_exporter": "python",
   "pygments_lexer": "ipython3",
   "version": "3.12.4"
  }
 },
 "nbformat": 4,
 "nbformat_minor": 5
}
