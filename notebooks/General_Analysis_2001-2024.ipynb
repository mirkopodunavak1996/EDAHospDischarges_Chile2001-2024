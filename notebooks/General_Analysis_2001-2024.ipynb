{
 "cells": [
  {
   "cell_type": "markdown",
   "id": "51d78b2d-d952-46bd-a044-bcf31cf3041a",
   "metadata": {},
   "source": [
    "# 1. Introduction"
   ]
  },
  {
   "cell_type": "raw",
   "id": "9c079ee7-1fb1-4ad4-b70d-49222eca900e",
   "metadata": {},
   "source": [
    "Dataset description:\n",
    "\n",
    "Origin -> \"Departamento de Estadísticas e Información de Salud\" (DEIS), Ministerio de Salud, Chile\n",
    "\n",
    "Size -> 25.758.741 rows and 10 columns\n",
    "\n",
    "Time frame -> From year 2001 to 2024\n",
    "\n",
    "Units of observation -> Discharges\n",
    "\n",
    "Objective: Analyze the evolution of diagnosis through hospital discharges between years 2001 and 2024 in Chile\n",
    "\n",
    "Guiding questions:\n",
    "\n",
    "1. ¿What is the trend in the prevalence of health problems over the years?\n",
    "2. ¿Is there a relationship between individual characteristics (sex, age, health insurance) and specific health problems?\n",
    "3.  What type of health centers (public or private) and specificall which onesy use more or fewer bed-days to solve health problems? 2001-2024 in general and 2001-2020 in specifi\n",
    "3.1.  To what extent is the efficiency of health centers linked to individual characteristics of the population served and/or their financing? Depends on finding ins Q.2 2001-2024 in general and 2001-2020 in specific]"
   ]
  },
  {
   "cell_type": "markdown",
   "id": "d91cf0a4-ddc2-442e-bd87-65c4aebeb6f9",
   "metadata": {},
   "source": [
    "# Libraries and Data importation"
   ]
  },
  {
   "cell_type": "code",
   "execution_count": 3,
   "id": "731074ac-dd86-4c11-b449-5ad7863aec7a",
   "metadata": {},
   "outputs": [],
   "source": [
    "import pandas as pd\n",
    "import numpy as np\n",
    "import matplotlib.pyplot as plt\n",
    "import seaborn as sns"
   ]
  },
  {
   "cell_type": "code",
   "execution_count": 4,
   "id": "62458c14-55bb-4aa6-ba9a-318299904782",
   "metadata": {},
   "outputs": [],
   "source": [
    "df = pd.read_parquet(r\"C:\\Users\\mirko\\Desktop\\Curso Data Science DL\\EDAHospDischarges_Chile2001-2024\\data\\processed\\Discharges_2001-2024_analysis_finalversionV2.parquet\")"
   ]
  },
  {
   "cell_type": "markdown",
   "id": "8eb91693-65c4-43d3-9ae4-f64f090e4416",
   "metadata": {},
   "source": [
    "# 2. Data Overview"
   ]
  },
  {
   "cell_type": "markdown",
   "id": "712e34c7-c4fe-473c-8e29-a41574b0d426",
   "metadata": {},
   "source": [
    "# Shape of the dataset (rows, columns)."
   ]
  },
  {
   "cell_type": "code",
   "execution_count": 7,
   "id": "8c040d8d-d8c5-4372-ad10-880b313dd287",
   "metadata": {},
   "outputs": [
    {
     "data": {
      "text/html": [
       "<div>\n",
       "<style scoped>\n",
       "    .dataframe tbody tr th:only-of-type {\n",
       "        vertical-align: middle;\n",
       "    }\n",
       "\n",
       "    .dataframe tbody tr th {\n",
       "        vertical-align: top;\n",
       "    }\n",
       "\n",
       "    .dataframe thead th {\n",
       "        text-align: right;\n",
       "    }\n",
       "</style>\n",
       "<table border=\"1\" class=\"dataframe\">\n",
       "  <thead>\n",
       "    <tr style=\"text-align: right;\">\n",
       "      <th></th>\n",
       "      <th>sex</th>\n",
       "      <th>age</th>\n",
       "      <th>health insurance</th>\n",
       "      <th>healthcare facility type</th>\n",
       "      <th>healthcare facility name</th>\n",
       "      <th>length of stay</th>\n",
       "      <th>discharge condition</th>\n",
       "      <th>primary diagnosis code</th>\n",
       "      <th>primary diagnosis name</th>\n",
       "      <th>year</th>\n",
       "    </tr>\n",
       "  </thead>\n",
       "  <tbody>\n",
       "    <tr>\n",
       "      <th>0</th>\n",
       "      <td>Male</td>\n",
       "      <td>60-69</td>\n",
       "      <td>Fonasa</td>\n",
       "      <td>Private</td>\n",
       "      <td>Clínica Familia</td>\n",
       "      <td>2</td>\n",
       "      <td>Deceased</td>\n",
       "      <td>C780</td>\n",
       "      <td>tumor maligno secundario del pulmon</td>\n",
       "      <td>2001</td>\n",
       "    </tr>\n",
       "    <tr>\n",
       "      <th>1</th>\n",
       "      <td>Male</td>\n",
       "      <td>70-79</td>\n",
       "      <td>Fonasa</td>\n",
       "      <td>Public</td>\n",
       "      <td>Hospital Del Salvador (Santiago, Providencia)</td>\n",
       "      <td>58</td>\n",
       "      <td>Deceased</td>\n",
       "      <td>E145</td>\n",
       "      <td>diabetes mellitus no especificada, con complic...</td>\n",
       "      <td>2001</td>\n",
       "    </tr>\n",
       "    <tr>\n",
       "      <th>2</th>\n",
       "      <td>Male</td>\n",
       "      <td>70-79</td>\n",
       "      <td>Fonasa</td>\n",
       "      <td>Public</td>\n",
       "      <td>Hospital Del Salvador (Santiago, Providencia)</td>\n",
       "      <td>12</td>\n",
       "      <td>Deceased</td>\n",
       "      <td>J189</td>\n",
       "      <td>neumonia, no especificada</td>\n",
       "      <td>2001</td>\n",
       "    </tr>\n",
       "    <tr>\n",
       "      <th>3</th>\n",
       "      <td>Male</td>\n",
       "      <td>1-9</td>\n",
       "      <td>Fonasa</td>\n",
       "      <td>Public</td>\n",
       "      <td>Instituto de Neurocirugía Dr. Alfonso Asenjo</td>\n",
       "      <td>1</td>\n",
       "      <td>Deceased</td>\n",
       "      <td>S065</td>\n",
       "      <td>hemorragia subdural traumatica</td>\n",
       "      <td>2001</td>\n",
       "    </tr>\n",
       "    <tr>\n",
       "      <th>4</th>\n",
       "      <td>Male</td>\n",
       "      <td>80-120</td>\n",
       "      <td>Fonasa</td>\n",
       "      <td>Public</td>\n",
       "      <td>Hospital Dr. Leonardo Guzmán (Antofagasta)</td>\n",
       "      <td>7</td>\n",
       "      <td>Alive</td>\n",
       "      <td>K830</td>\n",
       "      <td>colangitis</td>\n",
       "      <td>2001</td>\n",
       "    </tr>\n",
       "  </tbody>\n",
       "</table>\n",
       "</div>"
      ],
      "text/plain": [
       "    sex     age health insurance healthcare facility type  \\\n",
       "0  Male   60-69           Fonasa                  Private   \n",
       "1  Male   70-79           Fonasa                   Public   \n",
       "2  Male   70-79           Fonasa                   Public   \n",
       "3  Male     1-9           Fonasa                   Public   \n",
       "4  Male  80-120           Fonasa                   Public   \n",
       "\n",
       "                        healthcare facility name  length of stay  \\\n",
       "0                               Clínica Familia                2   \n",
       "1  Hospital Del Salvador (Santiago, Providencia)              58   \n",
       "2  Hospital Del Salvador (Santiago, Providencia)              12   \n",
       "3   Instituto de Neurocirugía Dr. Alfonso Asenjo               1   \n",
       "4     Hospital Dr. Leonardo Guzmán (Antofagasta)               7   \n",
       "\n",
       "  discharge condition primary diagnosis code  \\\n",
       "0            Deceased                   C780   \n",
       "1            Deceased                   E145   \n",
       "2            Deceased                   J189   \n",
       "3            Deceased                   S065   \n",
       "4               Alive                   K830   \n",
       "\n",
       "                              primary diagnosis name  year  \n",
       "0                tumor maligno secundario del pulmon  2001  \n",
       "1  diabetes mellitus no especificada, con complic...  2001  \n",
       "2                          neumonia, no especificada  2001  \n",
       "3                     hemorragia subdural traumatica  2001  \n",
       "4                                         colangitis  2001  "
      ]
     },
     "execution_count": 7,
     "metadata": {},
     "output_type": "execute_result"
    }
   ],
   "source": [
    "df.head()"
   ]
  },
  {
   "cell_type": "code",
   "execution_count": 8,
   "id": "397df6f6-3e69-45e9-8328-43d080e0be2c",
   "metadata": {},
   "outputs": [
    {
     "data": {
      "text/plain": [
       "(25758741, 10)"
      ]
     },
     "execution_count": 8,
     "metadata": {},
     "output_type": "execute_result"
    }
   ],
   "source": [
    "df.shape"
   ]
  },
  {
   "cell_type": "markdown",
   "id": "587607b8-9287-4489-8120-58c430bfb162",
   "metadata": {},
   "source": [
    "# Data dictionary / main variables (categorical, numerical)."
   ]
  },
  {
   "cell_type": "code",
   "execution_count": 10,
   "id": "0b6c7832-bacc-4d69-bd09-3e2c96d33888",
   "metadata": {},
   "outputs": [
    {
     "name": "stdout",
     "output_type": "stream",
     "text": [
      "<class 'pandas.core.frame.DataFrame'>\n",
      "RangeIndex: 25758741 entries, 0 to 25758740\n",
      "Data columns (total 10 columns):\n",
      " #   Column                    Dtype   \n",
      "---  ------                    -----   \n",
      " 0   sex                       category\n",
      " 1   age                       category\n",
      " 2   health insurance          category\n",
      " 3   healthcare facility type  category\n",
      " 4   healthcare facility name  object  \n",
      " 5   length of stay            int32   \n",
      " 6   discharge condition       category\n",
      " 7   primary diagnosis code    object  \n",
      " 8   primary diagnosis name    object  \n",
      " 9   year                      int32   \n",
      "dtypes: category(5), int32(2), object(3)\n",
      "memory usage: 908.9+ MB\n"
     ]
    }
   ],
   "source": [
    "df.info()"
   ]
  },
  {
   "cell_type": "raw",
   "id": "ed957ab6-a090-48d6-b86c-a2722dcb5ee4",
   "metadata": {},
   "source": [
    "Variables\n",
    "\n",
    "Individual characteristics:\n",
    "Sex (Categorical)\n",
    "Age ranges (Categorical)\n",
    "Health insurance (Categorical)\n",
    "\n",
    "Health center characteristics:\n",
    "Name (Categorical)\n",
    "Public or private (Categorical)\n",
    "\n",
    "Variables associated with the diagnosis:\n",
    "Name of the health problem (and health problem code) (Categorical)\n",
    "\n",
    "Variables associated with the individual, health center, and disease simultaneously:\n",
    "Days of stay at the health center (Numerical)\n",
    "Discharge condition (alive or dead) (Categorical)"
   ]
  },
  {
   "cell_type": "markdown",
   "id": "02bdb511-07e7-45fb-bb5f-c9fd50840fc7",
   "metadata": {},
   "source": [
    "# Missing values / NA treatment summary."
   ]
  },
  {
   "cell_type": "code",
   "execution_count": 12,
   "id": "7523bace-7d6c-41a7-8ecd-66c9eae86a19",
   "metadata": {},
   "outputs": [
    {
     "data": {
      "text/plain": [
       "sex                         0\n",
       "age                         0\n",
       "health insurance            0\n",
       "healthcare facility type    0\n",
       "healthcare facility name    0\n",
       "length of stay              0\n",
       "discharge condition         0\n",
       "primary diagnosis code      0\n",
       "primary diagnosis name      0\n",
       "year                        0\n",
       "dtype: int64"
      ]
     },
     "execution_count": 12,
     "metadata": {},
     "output_type": "execute_result"
    }
   ],
   "source": [
    "df.isna().sum()"
   ]
  },
  {
   "cell_type": "markdown",
   "id": "c6a49f95-7e20-4e8d-920b-dda1aacb241f",
   "metadata": {},
   "source": [
    "The dataframe is completely clean without any missing value. For healthcare facility name the data was missing from 2021 to 2024 and healthcare facility type had around 20% of NaNs, mainly on year 2023. All these values were imputed to \"Unknown\" to preserve the rest of the data, considering it was not missing at random, so bias could be introduced in case of deletion. The rest of the variables had NaNs and were deleted becasue it did not affected the representativeness of the sample."
   ]
  },
  {
   "cell_type": "markdown",
   "id": "59cf0b26-a1f2-4dff-a2e0-677c565b2782",
   "metadata": {},
   "source": [
    "# First impressions after cleaning (anything noteworthy?)."
   ]
  },
  {
   "cell_type": "markdown",
   "id": "5751c72b-c359-4910-bddb-9799be463b2d",
   "metadata": {},
   "source": [
    "It was complex to manage 24 dataframes and explore the data, particulary the missing values and take important decisions to ensure data integrity and accuracy at the same time. There are many duplicates and that is the main uncertainty about the realiability of the information, but it was chosen to just delete duplicates when the patient ID was available, making more evident that some rows were real duplicates. There are many health problems that are highly prevalent and common among specific kind of patients, so it would not be surprising that similar rows are different discharges even if they are completely identical and no ID is available."
   ]
  },
  {
   "cell_type": "markdown",
   "id": "89529330-98dd-4ab0-8191-24d37a8cb1de",
   "metadata": {},
   "source": [
    "# 3. Univariate Analysis"
   ]
  },
  {
   "cell_type": "code",
   "execution_count": 17,
   "id": "fb798911-a62c-43f4-949b-6ab7b7f4652d",
   "metadata": {},
   "outputs": [
    {
     "data": {
      "text/plain": [
       "Index(['sex', 'age', 'health insurance', 'healthcare facility type',\n",
       "       'healthcare facility name', 'length of stay', 'discharge condition',\n",
       "       'primary diagnosis code', 'primary diagnosis name', 'year'],\n",
       "      dtype='object')"
      ]
     },
     "execution_count": 17,
     "metadata": {},
     "output_type": "execute_result"
    }
   ],
   "source": [
    "df.columns"
   ]
  },
  {
   "cell_type": "raw",
   "id": "a5f3bb4a-64cb-4550-9eab-3ada8650b5b8",
   "metadata": {},
   "source": [
    "(Focus only on the most relevant variables)\n",
    "\n",
    "Numerical variables: distributions (histograms, KDE, boxplots).\n",
    "\n",
    "Example: age, length of stay.\n",
    "\n",
    "Categorical variables: frequencies / proportions.\n",
    "\n",
    "Example: discharge type, diagnosis categories, hospital type.\n",
    "\n",
    "Quick summary: “What does the population look like?”"
   ]
  },
  {
   "cell_type": "raw",
   "id": "763f4a96-d892-44a0-b49a-3452bf446fe1",
   "metadata": {},
   "source": [
    "Caracteristicas individuales:\n",
    "1. Sexo\n",
    "2. Edad\n",
    "3. Previsión o seguro de salud"
   ]
  },
  {
   "cell_type": "markdown",
   "id": "d9d91cdb-806f-4652-8f43-0f098dd8b246",
   "metadata": {},
   "source": [
    "# Categorical variables (4)"
   ]
  },
  {
   "cell_type": "markdown",
   "id": "e1b153f3-c45c-4504-884b-99ea98af76b4",
   "metadata": {},
   "source": [
    "# Sex"
   ]
  },
  {
   "cell_type": "code",
   "execution_count": 20,
   "id": "5a5fe8d4-0fd5-4a7a-b015-5d1e8581566e",
   "metadata": {},
   "outputs": [
    {
     "data": {
      "text/plain": [
       "sex\n",
       "Male      13290560\n",
       "Female    12468181\n",
       "Name: count, dtype: int64"
      ]
     },
     "execution_count": 20,
     "metadata": {},
     "output_type": "execute_result"
    }
   ],
   "source": [
    "df.sex.value_counts()"
   ]
  },
  {
   "cell_type": "code",
   "execution_count": 21,
   "id": "222a51e3-a5b7-4b14-b273-761a4240bc5b",
   "metadata": {},
   "outputs": [
    {
     "data": {
      "text/plain": [
       "sex\n",
       "Male      51.596311\n",
       "Female    48.403689\n",
       "Name: proportion, dtype: float64"
      ]
     },
     "execution_count": 21,
     "metadata": {},
     "output_type": "execute_result"
    }
   ],
   "source": [
    "df.sex.value_counts(normalize = True)*100"
   ]
  },
  {
   "cell_type": "code",
   "execution_count": 22,
   "id": "37f71e13-d860-4dc6-bd8f-374b6bff09d9",
   "metadata": {},
   "outputs": [],
   "source": [
    "df[\"sex\"] = df[\"sex\"].cat.rename_categories({\"Hombre\": \"Male\", \"Mujer\": \"Female\"})\n"
   ]
  },
  {
   "cell_type": "code",
   "execution_count": 23,
   "id": "ea3bce91-c020-4ad0-bc54-7e22b0a04b42",
   "metadata": {},
   "outputs": [
    {
     "data": {
      "image/png": "[encoded data removed]",
      "text/plain": [
       "<Figure size 640x480 with 1 Axes>"
      ]
     },
     "metadata": {},
     "output_type": "display_data"
    }
   ],
   "source": [
    "# Get value counts\n",
    "counts = df['sex'].value_counts()\n",
    "\n",
    "# Plot bar chart\n",
    "ax = counts.plot(kind='bar', color='skyblue')\n",
    "\n",
    "# Add counts on top of each bar\n",
    "for i, count in enumerate(counts):\n",
    "    ax.text(i, count + 0.05, str(count), ha='center', va='bottom')\n",
    "\n",
    "plt.xlabel('Sex')\n",
    "plt.ylabel(None)\n",
    "plt.title('Frequency of discharges by sex')\n",
    "plt.tick_params(labelleft=False)\n",
    "plt.show()\n"
   ]
  },
  {
   "cell_type": "raw",
   "id": "a421e535-0c71-421f-b155-11cabde22a21",
   "metadata": {},
   "source": [
    "Summary of Sex\n",
    "\n",
    "Counts: 13.290.560 (male) vs. 12.468.181 (female)\n",
    "\n",
    "Proportions: 51,59% vs. 48,40%.\n",
    "\n",
    "Mode: Male.\n",
    "\n",
    "Balance: Slight male majority, but both well represented.\n",
    "\n",
    "Context: Could indicate real differences in prevalence of health issues more associated with men"
   ]
  },
  {
   "cell_type": "markdown",
   "id": "d1eab476-c90c-448c-a1bb-cf960fdc66b3",
   "metadata": {},
   "source": [
    "# Health insurance"
   ]
  },
  {
   "cell_type": "code",
   "execution_count": 25,
   "id": "631baf0d-b394-4d6e-a4bf-830849170851",
   "metadata": {},
   "outputs": [
    {
     "data": {
      "text/plain": [
       "health insurance\n",
       "Fonasa    20688143\n",
       "Isapre     5070598\n",
       "Name: count, dtype: int64"
      ]
     },
     "execution_count": 25,
     "metadata": {},
     "output_type": "execute_result"
    }
   ],
   "source": [
    "df[\"health insurance\"].value_counts()"
   ]
  },
  {
   "cell_type": "code",
   "execution_count": 26,
   "id": "00526121-3c38-4991-8ddd-467ac27e8aef",
   "metadata": {},
   "outputs": [
    {
     "data": {
      "text/plain": [
       "health insurance\n",
       "Fonasa    80.315039\n",
       "Isapre    19.684961\n",
       "Name: proportion, dtype: float64"
      ]
     },
     "execution_count": 26,
     "metadata": {},
     "output_type": "execute_result"
    }
   ],
   "source": [
    "df[\"health insurance\"].value_counts(normalize = True)*100"
   ]
  },
  {
   "cell_type": "code",
   "execution_count": 27,
   "id": "0e3519b6-10ab-445d-ae97-d58bd2fffd78",
   "metadata": {},
   "outputs": [
    {
     "data": {
      "image/png": "[encoded data removed]",
      "text/plain": [
       "<Figure size 640x480 with 1 Axes>"
      ]
     },
     "metadata": {},
     "output_type": "display_data"
    }
   ],
   "source": [
    "# Get value counts\n",
    "counts = df['health insurance'].value_counts()\n",
    "\n",
    "# Plot pie chart with percentages\n",
    "counts.plot.pie(autopct='%1.1f%%', colors=['skyblue', 'lightgreen'], startangle=90)\n",
    "plt.ylabel('')  # Remove default y-label\n",
    "plt.title('Discharges by health insurance')\n",
    "plt.show()\n"
   ]
  },
  {
   "cell_type": "raw",
   "id": "9b10c512-54c1-48c3-8bcb-8a728fe953dd",
   "metadata": {},
   "source": [
    "Summary of Health Insurance\n",
    "\n",
    "Counts: 20.688.143 (Fonasa) vs. 5.070.598 (Isapre)\n",
    "\n",
    "Proportions: 80,3% vs. 19,7%.\n",
    "\n",
    "Mode: Fonasa.\n",
    "\n",
    "Balance: The big majority of discharges are for patients covered by the public health insurance\n",
    "\n",
    "Context: The public health insurance cover around 80% of the population, due to preference or affordability issues of private health insurance. This matches with the fact that 80% of the discharges are for patients in Fonasa."
   ]
  },
  {
   "cell_type": "markdown",
   "id": "6fb58b82-a933-4339-8783-78ee26adbb1e",
   "metadata": {},
   "source": [
    "# Healthcare facility type"
   ]
  },
  {
   "cell_type": "code",
   "execution_count": 29,
   "id": "a3585515-5ea7-4d39-a755-9c968a850783",
   "metadata": {},
   "outputs": [
    {
     "data": {
      "text/plain": [
       "healthcare facility type\n",
       "Public     17489355\n",
       "Private     7050600\n",
       "Unknown     1218786\n",
       "Name: count, dtype: int64"
      ]
     },
     "execution_count": 29,
     "metadata": {},
     "output_type": "execute_result"
    }
   ],
   "source": [
    "df[\"healthcare facility type\"].value_counts()"
   ]
  },
  {
   "cell_type": "code",
   "execution_count": 30,
   "id": "02c19f07-a3bf-4932-a0af-df0a14d7d2e8",
   "metadata": {},
   "outputs": [
    {
     "data": {
      "text/plain": [
       "healthcare facility type\n",
       "Public     67.896777\n",
       "Private    27.371679\n",
       "Unknown     4.731543\n",
       "Name: proportion, dtype: float64"
      ]
     },
     "execution_count": 30,
     "metadata": {},
     "output_type": "execute_result"
    }
   ],
   "source": [
    "df[\"healthcare facility type\"].value_counts(normalize = True)*100"
   ]
  },
  {
   "cell_type": "code",
   "execution_count": 31,
   "id": "5eeb620e-3182-4ab3-ac4c-b97fd2650975",
   "metadata": {},
   "outputs": [
    {
     "data": {
      "text/plain": [
       "healthcare facility type\n",
       "Private    259\n",
       "Public     217\n",
       "Unknown      1\n",
       "Name: healthcare facility name, dtype: int64"
      ]
     },
     "execution_count": 31,
     "metadata": {},
     "output_type": "execute_result"
    }
   ],
   "source": [
    "df.groupby(\"healthcare facility type\", observed=False)[\"healthcare facility name\"].nunique()"
   ]
  },
  {
   "cell_type": "code",
   "execution_count": 32,
   "id": "1d1045da-71c1-48e6-9301-2d4c916d63a9",
   "metadata": {},
   "outputs": [],
   "source": [
    "df[\"healthcare facility type\"] = df[\"healthcare facility type\"].cat.rename_categories({\"Publico\": \"Public\", \"Privado\": \"Private\"})"
   ]
  },
  {
   "cell_type": "code",
   "execution_count": 33,
   "id": "552b4087-9a34-4b0c-be79-4395ee2359a2",
   "metadata": {},
   "outputs": [
    {
     "data": {
      "image/png": "[encoded data removed]",
      "text/plain": [
       "<Figure size 640x480 with 1 Axes>"
      ]
     },
     "metadata": {},
     "output_type": "display_data"
    }
   ],
   "source": [
    "# Get value counts\n",
    "counts = df['healthcare facility type'].value_counts()\n",
    "\n",
    "# Plot bar chart\n",
    "ax = counts.plot(kind='bar', color='skyblue')\n",
    "\n",
    "# Add counts on top of each bar\n",
    "for i, count in enumerate(counts):\n",
    "    ax.text(i, count + 0.05, str(count), ha='center', va='bottom')\n",
    "\n",
    "plt.xlabel('Healthcare facility type')\n",
    "plt.ylabel(None)\n",
    "plt.title('Frequency of discharges by Healthcare Facility Type')\n",
    "plt.tick_params(labelleft=False)\n",
    "plt.show()\n"
   ]
  },
  {
   "cell_type": "raw",
   "id": "49f9df15-8e4e-4da8-a9ce-daff2fbbb15d",
   "metadata": {},
   "source": [
    "Summary of Healthcare facility type\n",
    "\n",
    "Counts: 17.489.355 (Fonasa) vs. 7.050.600 (Isapre) vs. 1.218.786 (Unknown)\n",
    "\n",
    "Proportions: 67.89% vs. 27.37% vs. 4.73%\n",
    "\n",
    "Mode: Public\n",
    "\n",
    "Balance: The big majority (2/3) of discharges are from public healthcare facility types\n",
    "\n",
    "Context: As it was stated, the public health insurance cover around 80% of the population; for hospital care those patients mostly access to public healthcare facilities to get financial coverage.\n",
    "Considering that 259 facilities are private and just 217 public (bivariate relationship between healthcare facility type and health insurance will be explored further later) the timely access to health services is conditioned, increasing waiting lists. "
   ]
  },
  {
   "cell_type": "markdown",
   "id": "91698ea4-8b4b-4111-b02c-342b081df054",
   "metadata": {},
   "source": [
    "# Discharge Condition"
   ]
  },
  {
   "cell_type": "code",
   "execution_count": 35,
   "id": "1e9b3e08-7427-41e5-a87c-c7938d487872",
   "metadata": {},
   "outputs": [
    {
     "data": {
      "text/plain": [
       "discharge condition\n",
       "Alive       25029231\n",
       "Deceased      729510\n",
       "Name: count, dtype: int64"
      ]
     },
     "execution_count": 35,
     "metadata": {},
     "output_type": "execute_result"
    }
   ],
   "source": [
    "df[\"discharge condition\"].value_counts()"
   ]
  },
  {
   "cell_type": "code",
   "execution_count": 36,
   "id": "8ebc99b8-2e6d-46b8-87e3-325e51b1e940",
   "metadata": {},
   "outputs": [
    {
     "data": {
      "text/plain": [
       "discharge condition\n",
       "Alive       97.167913\n",
       "Deceased     2.832087\n",
       "Name: proportion, dtype: float64"
      ]
     },
     "execution_count": 36,
     "metadata": {},
     "output_type": "execute_result"
    }
   ],
   "source": [
    "df[\"discharge condition\"].value_counts(normalize = True)*100"
   ]
  },
  {
   "cell_type": "code",
   "execution_count": 37,
   "id": "c2ea4650-68f8-4b0d-a58f-d3cf963e8ed4",
   "metadata": {},
   "outputs": [],
   "source": [
    "df[\"discharge condition\"] = df[\"discharge condition\"].cat.rename_categories({\"Vivo\": \"Alive\", \"Muerto\": \"Deceased\"})"
   ]
  },
  {
   "cell_type": "code",
   "execution_count": 38,
   "id": "2444a9a6-7c20-4f01-b21c-7637f093ac11",
   "metadata": {},
   "outputs": [
    {
     "data": {
      "image/png": "[encoded data removed]",
      "text/plain": [
       "<Figure size 640x480 with 1 Axes>"
      ]
     },
     "metadata": {},
     "output_type": "display_data"
    }
   ],
   "source": [
    "# Get value counts\n",
    "condition_counts = df['discharge condition'].value_counts()\n",
    "\n",
    "# Plot pie chart with percentages\n",
    "condition_counts.plot.pie(autopct='%1.1f%%', colors=['skyblue', 'lightgreen'], startangle=90)\n",
    "plt.ylabel('')  # Remove default y-label\n",
    "plt.title('Discharge condition')\n",
    "plt.show()\n"
   ]
  },
  {
   "cell_type": "raw",
   "id": "ffc95c34-9b9e-44cc-a53b-bae35e002e3d",
   "metadata": {},
   "source": [
    "Summary of Discharge condition\n",
    "\n",
    "Counts: 25.029.231 (Alive) vs. 729.510 (Deceased)\n",
    "\n",
    "Proportions: 97.16% vs. 2.83%\n",
    "\n",
    "Mode: Alive\n",
    "\n",
    "Balance: The big majority of discharges end with patients alive\n",
    "\n",
    "Context: The balance can reflect an effective healthcare system reducing mortality and/or that the health issues are low risk"
   ]
  },
  {
   "cell_type": "code",
   "execution_count": 39,
   "id": "45e449de-3278-4154-9000-8431dc0cada7",
   "metadata": {},
   "outputs": [
    {
     "data": {
      "text/plain": [
       "Index(['sex', 'age', 'health insurance', 'healthcare facility type',\n",
       "       'healthcare facility name', 'length of stay', 'discharge condition',\n",
       "       'primary diagnosis code', 'primary diagnosis name', 'year'],\n",
       "      dtype='object')"
      ]
     },
     "execution_count": 39,
     "metadata": {},
     "output_type": "execute_result"
    }
   ],
   "source": [
    "df.columns"
   ]
  },
  {
   "cell_type": "markdown",
   "id": "e5f599ee-f63b-492e-87fb-33d468f40ccf",
   "metadata": {},
   "source": [
    "# Age"
   ]
  },
  {
   "cell_type": "raw",
   "id": "f4098479-664e-40f3-a651-6e8ba9173c8f",
   "metadata": {},
   "source": [
    "The next cells that are shown as comments (#) transformed the \"age\" column to categorical variable with the age ranges stored as strings instead of lists. To avoid re running the code every time (whic is very slow) the updated dataframe was exported to be imported at the beggining of the notebook from now on"
   ]
  },
  {
   "cell_type": "code",
   "execution_count": 41,
   "id": "718a7ff9-406e-4ecd-b295-1d0855fea75c",
   "metadata": {},
   "outputs": [],
   "source": [
    "#df['age'] = pd.DataFrame(df['age'].tolist()).astype(str).agg('-'.join, axis=1)"
   ]
  },
  {
   "cell_type": "code",
   "execution_count": 42,
   "id": "449f313c-3393-45cc-a6cd-c28b7b014087",
   "metadata": {},
   "outputs": [],
   "source": [
    "# Assuming df['age_range'] is already the string labels \"30-39\", \"40-49\", etc.\n",
    "#age_categories = [\"0-1\", \"1-9\", \"10-19\", \"20-29\", \"30-39\", \"40-49\", \"50-59\", \"60-69\", \"70-79\", \"80-120\"]\n",
    "\n",
    "# Convert to ordered categorical\n",
    "#df['age'] = pd.Categorical(df['age'], categories=age_categories, ordered=True)"
   ]
  },
  {
   "cell_type": "code",
   "execution_count": 43,
   "id": "a52dbf60-6975-429b-ab16-f829d99892d1",
   "metadata": {},
   "outputs": [],
   "source": [
    "#df.info()"
   ]
  },
  {
   "cell_type": "code",
   "execution_count": 44,
   "id": "762bcc8f-fa8c-47f0-b175-26b3999538cb",
   "metadata": {},
   "outputs": [],
   "source": [
    "#df.to_parquet(\"Discharges_2001-2024_analysis_finalversionV2.parquet\", index=False)"
   ]
  },
  {
   "cell_type": "code",
   "execution_count": 45,
   "id": "3ac6605b-f033-4292-a7f3-d3d01f33d330",
   "metadata": {},
   "outputs": [
    {
     "name": "stdout",
     "output_type": "stream",
     "text": [
      "age\n",
      "0-1       2159003\n",
      "1-9       2127170\n",
      "10-19     1933405\n",
      "20-29     2085958\n",
      "30-39     2658631\n",
      "40-49     3133982\n",
      "50-59     3304514\n",
      "60-69     3400000\n",
      "70-79     2938127\n",
      "80-120    2017951\n",
      "Name: count, dtype: int64\n"
     ]
    }
   ],
   "source": [
    "# Frequency distribution of age ranges\n",
    "age_counts = df['age'].value_counts().sort_index()\n",
    "print(age_counts)"
   ]
  },
  {
   "cell_type": "code",
   "execution_count": 46,
   "id": "9860ec43-9a44-44a5-b100-dba5ea99da12",
   "metadata": {},
   "outputs": [
    {
     "name": "stdout",
     "output_type": "stream",
     "text": [
      "age\n",
      "0-1        8.381632\n",
      "1-9        8.258051\n",
      "10-19      7.505821\n",
      "20-29      8.098059\n",
      "30-39     10.321277\n",
      "40-49     12.166674\n",
      "50-59     12.828709\n",
      "60-69     13.199403\n",
      "70-79     11.406330\n",
      "80-120     7.834044\n",
      "Name: count, dtype: float64\n"
     ]
    }
   ],
   "source": [
    "percentages = age_counts / age_counts.sum() * 100\n",
    "print(percentages)\n"
   ]
  },
  {
   "cell_type": "code",
   "execution_count": 47,
   "id": "cd6b1b35-f2be-4d12-b741-501f692b5766",
   "metadata": {},
   "outputs": [
    {
     "data": {
      "image/png": "[encoded data removed]",
      "text/plain": [
       "<Figure size 640x480 with 1 Axes>"
      ]
     },
     "metadata": {},
     "output_type": "display_data"
    }
   ],
   "source": [
    "ax = age_counts.plot(kind=\"bar\", color=\"skyblue\")\n",
    "\n",
    "# Add counts on bars\n",
    "for i, count in enumerate(age_counts):\n",
    "    ax.text(i, count + 0.05, str(count), fontsize = 8, ha=\"center\", va=\"bottom\")\n",
    "\n",
    "plt.xlabel(\"Age Range\")\n",
    "plt.ylabel(\"Number of discharges\")\n",
    "plt.title(\"Frequency of discharges by Age Range\")\n",
    "plt.show()\n"
   ]
  },
  {
   "cell_type": "raw",
   "id": "4e650c8a-c7e2-4f83-99d8-38527bc37890",
   "metadata": {},
   "source": [
    "Summary of Age\n",
    "\n",
    "Most frequent age range: 60-69\n",
    "\n",
    "Distribution shape: Concentrated in middle ages (40-70) and increasing as people age. After 70 frequency drops.\n",
    "\n",
    "Balance: Dishcarges increase consistently after 30 years old and start decreasing after 70.\n",
    "\n",
    "Context: The distribution can reflect 2 dynamics: Population per age range (less people are alive after 70) and more prevalence of health issues as people age, increasing after 30 years old"
   ]
  },
  {
   "cell_type": "markdown",
   "id": "54934067-8e17-4089-9ec2-baefcc45e8c6",
   "metadata": {},
   "source": [
    "# Healthcare Facility Name"
   ]
  },
  {
   "cell_type": "raw",
   "id": "ef1e6592-e6e2-4513-9980-9870e9d7e62e",
   "metadata": {},
   "source": [
    "This variable consider discharges only from 2001 to 2020, after that there is no information available, so those values are flagged as \"Unknown\""
   ]
  },
  {
   "cell_type": "code",
   "execution_count": 49,
   "id": "866f4032-4faf-4308-bbf9-291cdff1bc82",
   "metadata": {},
   "outputs": [],
   "source": [
    "hospital_names_20012020 = df['healthcare facility name'][df['healthcare facility name']!= \"Unknown\"]"
   ]
  },
  {
   "cell_type": "code",
   "execution_count": 50,
   "id": "5ce07ad7-0e8a-4a3d-a444-898dbed86ad3",
   "metadata": {},
   "outputs": [
    {
     "data": {
      "text/plain": [
       "0                                        Clínica Familia \n",
       "1           Hospital Del Salvador (Santiago, Providencia)\n",
       "2           Hospital Del Salvador (Santiago, Providencia)\n",
       "3            Instituto de Neurocirugía Dr. Alfonso Asenjo\n",
       "4              Hospital Dr. Leonardo Guzmán (Antofagasta)\n",
       "                                ...                      \n",
       "20788758                              Clínica Las Condes \n",
       "20788759                                 Clínica Alemana \n",
       "20788760                                 Clínica Alemana \n",
       "20788761                 Hospital Base San José de Osorno\n",
       "20788762                 Hospital Base San José de Osorno\n",
       "Name: healthcare facility name, Length: 20788763, dtype: object"
      ]
     },
     "execution_count": 50,
     "metadata": {},
     "output_type": "execute_result"
    }
   ],
   "source": [
    "hospital_names_20012020"
   ]
  },
  {
   "cell_type": "code",
   "execution_count": 51,
   "id": "f12d173e-c13a-4a99-9006-c2a829d4194e",
   "metadata": {},
   "outputs": [
    {
     "name": "stdout",
     "output_type": "stream",
     "text": [
      "healthcare facility name\n",
      "Complejo Hospitalario Dr. Sótero del Río (Santiago, Puente Alto)        545983\n",
      "Hospital Clínico Regional Dr. Guillermo Grant Benavente (Concepción)    534799\n",
      "Hospital Dr. Hernán Henríquez Aravena (Temuco)                          421631\n",
      "Hospital Barros Luco Trudeau (Santiago, San Miguel)                     388789\n",
      "Clínica Dávila                                                          375298\n",
      "Hospital Carlos Van Buren (Valparaíso)                                  365457\n",
      "Hospital Clínico Universidad de Chile                                   347567\n",
      "Clínica Alemana                                                         347469\n",
      "Hospital Clínico San Borja-Arriarán (Santiago, Santiago)                340760\n",
      "Hospital Clínico Universidad Católica                                   334588\n",
      "Hospital Dr. Gustavo Fricke (Viña del Mar)                              325660\n",
      "Clínica Santa María                                                     321470\n",
      "Complejo Asistencial Dr. Víctor Ríos Ruiz (Los Ángeles)                 318753\n",
      "Hospital San Juan de Dios (Santiago, Santiago)                          317438\n",
      "Complejo Hospitalario San José (Santiago, Independencia)                313875\n",
      "Name: count, dtype: int64\n"
     ]
    }
   ],
   "source": [
    "hospital_counts_top15 = hospital_names_20012020.value_counts().head(15)\n",
    "print(hospital_counts_top15)"
   ]
  },
  {
   "cell_type": "code",
   "execution_count": 52,
   "id": "4bdbad7c-f339-4e28-b4da-320403d5e97b",
   "metadata": {},
   "outputs": [
    {
     "name": "stdout",
     "output_type": "stream",
     "text": [
      "5599537\n"
     ]
    }
   ],
   "source": [
    "print(hospital_counts_top15.sum())"
   ]
  },
  {
   "cell_type": "code",
   "execution_count": 53,
   "id": "7e347837-cb4e-4951-bb97-18a70844b8eb",
   "metadata": {},
   "outputs": [
    {
     "name": "stdout",
     "output_type": "stream",
     "text": [
      "94\n"
     ]
    }
   ],
   "source": [
    "hospital_counts_tail15 = hospital_names_20012020.value_counts().tail(15).sum()\n",
    "print(hospital_counts_tail15)"
   ]
  },
  {
   "cell_type": "code",
   "execution_count": 54,
   "id": "bc475837-abc9-4ef7-9c9f-19967fb40985",
   "metadata": {},
   "outputs": [
    {
     "name": "stdout",
     "output_type": "stream",
     "text": [
      "26.935402553773883\n"
     ]
    }
   ],
   "source": [
    "hospital_pct = (hospital_counts_top15.sum() / hospital_names_20012020.value_counts().sum()) * 100\n",
    "print(hospital_pct)"
   ]
  },
  {
   "cell_type": "code",
   "execution_count": 55,
   "id": "c9a9c951-dc28-40f3-95fd-5fa1b666a806",
   "metadata": {},
   "outputs": [],
   "source": [
    "# Top 15 hospitals account for 27% of discharges, while the remaining hospitals (“Other”) represent 73% of total discharges. (See visualiztion below)"
   ]
  },
  {
   "cell_type": "code",
   "execution_count": 56,
   "id": "014191f9-e8d5-4d76-a208-35c5d63afb69",
   "metadata": {},
   "outputs": [
    {
     "name": "stderr",
     "output_type": "stream",
     "text": [
      "C:\\Users\\mirko\\AppData\\Local\\Temp\\ipykernel_11592\\1368786341.py:12: FutureWarning: The default of observed=False is deprecated and will be changed to True in a future version of pandas. Pass observed=False to retain current behavior or observed=True to adopt the future default and silence this warning.\n",
      "  plot_data = df.groupby(['hospital_grouped', 'healthcare facility type']).size().unstack(fill_value=0)\n",
      "C:\\Users\\mirko\\AppData\\Local\\Temp\\ipykernel_11592\\1368786341.py:51: FutureWarning: Series.__getitem__ treating keys as positions is deprecated. In a future version, integer keys will always be treated as labels (consistent with DataFrame behavior). To access a value by position, use `ser.iloc[pos]`\n",
      "  ax.text(i, total + 5, f'{plot_percent[i]:.1f}%', ha='center', va='bottom', fontsize=10)\n"
     ]
    },
    {
     "data": {
      "image/png": "[encoded data removed]",
      "text/plain": [
       "<Figure size 1200x600 with 1 Axes>"
      ]
     },
     "metadata": {},
     "output_type": "display_data"
    }
   ],
   "source": [
    "# Compute hospital counts\n",
    "hospital_counts = hospital_names_20012020.value_counts()\n",
    "\n",
    "# Identify top 15 hospitals\n",
    "top_hospitals = hospital_counts.head(15).index.tolist()\n",
    "\n",
    "# Create a new column for plotting: keep top 15, collapse rest into 'Other'\n",
    "df['hospital_grouped'] = hospital_names_20012020.where(hospital_names_20012020.isin(top_hospitals), 'Other')\n",
    "\n",
    "\n",
    "# Group by hospital_grouped and hospital type\n",
    "plot_data = df.groupby(['hospital_grouped', 'healthcare facility type']).size().unstack(fill_value=0)\n",
    "\n",
    "# Compute percentages\n",
    "plot_percent = plot_data / plot_data.sum() * 100\n",
    "\n",
    "# Plot stacked bar chart\n",
    "# Keep the order: top 15 + Other\n",
    "order = top_hospitals + ['Other']\n",
    "order = [x for x in order if x in plot_data.index]  # ensure no duplicates\n",
    "plot_data = plot_data.loc[order]\n",
    "\n",
    "# Define colors for hospital types\n",
    "colors = []\n",
    "for col in plot_data.columns:\n",
    "    if col == 'Public':\n",
    "        colors.append('skyblue')\n",
    "    elif col == 'Private':\n",
    "        colors.append('orange')\n",
    "    elif col == 'Unknown':\n",
    "        colors.append('green')  # Unknown in green\n",
    "    else:\n",
    "        colors.append('lightgrey')  # fallback color\n",
    "\n",
    "# Plot stacked bar chart with these colors\n",
    "ax = plot_data.plot(kind='bar', stacked=True, figsize=(12,6), color=colors)\n",
    "plt.ylabel('Number of discharges')\n",
    "plt.xlabel('Hospital')\n",
    "plt.xticks(rotation=45, ha='right', fontsize=9)\n",
    "plt.title('Top 15 Hospitals by Discharges (Other included)')\n",
    "plt.legend(title='Hospital Type')\n",
    "\n",
    "# Compute totals per hospital (sum across hospital types if stacked)\n",
    "totals = plot_data.sum(axis=1)\n",
    "\n",
    "# Recompute percentages\n",
    "plot_percent = totals / totals.sum() * 100\n",
    "\n",
    "# Annotate percentages on top of bars\n",
    "for i, total in enumerate(totals):\n",
    "    ax.text(i, total + 5, f'{plot_percent[i]:.1f}%', ha='center', va='bottom', fontsize=10)\n",
    "\n",
    "\n",
    "plt.tight_layout()\n",
    "plt.show()"
   ]
  },
  {
   "cell_type": "code",
   "execution_count": 57,
   "id": "c93898e0-ee84-4941-910b-3023f4d7c8da",
   "metadata": {},
   "outputs": [],
   "source": [
    "df.drop(columns = [\"hospital_grouped\"], inplace = True)"
   ]
  },
  {
   "cell_type": "raw",
   "id": "6ccfa111-5d10-4cdb-9673-28dea4f96f2f",
   "metadata": {},
   "source": [
    "Summary of Hospital Name (2001-2020)\n",
    "\n",
    "Counts: The top 15 facilities concentrate just 5.599.537 out of 20.788.763 the discharges; The bottom 15 facilities just have 94 discharges\n",
    "\n",
    "Proportions: 26.9% top 15 vs. 73.1% other facilities\n",
    "\n",
    "Mode: Complejo Hospitalario Dr. Sótero del Río (Public)\n",
    "\n",
    "Balance: There is a really low concentration of discharges among facilities\n",
    "\n",
    "Context: The balance reflect that the discharges are disitributed among many facilities, so there is no concentration. Without going into depth in a bivariate analysis yet, 10/15 facilities are public, showing that they absorb most of the demand"
   ]
  },
  {
   "cell_type": "markdown",
   "id": "4df4fb1d-b488-4cab-b904-9343cebb3e75",
   "metadata": {},
   "source": [
    "# Primary diagnosis code/name"
   ]
  },
  {
   "cell_type": "code",
   "execution_count": 59,
   "id": "ea70160d-9618-4f21-a932-f01fad622503",
   "metadata": {},
   "outputs": [
    {
     "name": "stdout",
     "output_type": "stream",
     "text": [
      "primary diagnosis name\n",
      "neumonia, no especificada                                                    631123\n",
      "calculo de la vesicula biliar sin colecistitis                               518228\n",
      "otras apendicitis agudas y las no especificadas                              373913\n",
      "hernia inguinal unilateral o no especificada, sin obstruccion ni gangrena    314854\n",
      "infeccion de vias urinarias, sitio no especificado                           291738\n",
      "apendicitis aguda no especificada                                            254029\n",
      "nefritis tubulointersticial aguda                                            236153\n",
      "leiomioma del utero, sin otra especificacion                                 218079\n",
      "colecistitis aguda                                                           215681\n",
      "hiperplasia de la prostata                                                   197082\n",
      "ictericia neonatal, no especificada                                          196611\n",
      "prepucio redundante, fimosis y parafimosis                                   183376\n",
      "diarrea y gastroenteritis de presuno origen infeccioso                       169791\n",
      "covid-19, virus identificado                                                 156760\n",
      "bronquitis aguda, no especificado                                            156506\n",
      "Name: count, dtype: int64\n"
     ]
    }
   ],
   "source": [
    "names_counts_top15 = df[\"primary diagnosis name\"].value_counts().head(15)\n",
    "print(names_counts_top15)"
   ]
  },
  {
   "cell_type": "code",
   "execution_count": 60,
   "id": "5713c62a-2d2a-45ec-adaf-166794859748",
   "metadata": {},
   "outputs": [
    {
     "name": "stdout",
     "output_type": "stream",
     "text": [
      "4113924\n"
     ]
    }
   ],
   "source": [
    "print(names_counts_top15.sum())"
   ]
  },
  {
   "cell_type": "code",
   "execution_count": 61,
   "id": "8e35f452-af00-464d-8455-06b46f7c6bc1",
   "metadata": {},
   "outputs": [
    {
     "name": "stdout",
     "output_type": "stream",
     "text": [
      "15\n"
     ]
    }
   ],
   "source": [
    "names_counts_tail15 = df[\"primary diagnosis name\"].value_counts().tail(15).sum()\n",
    "print(names_counts_tail15)"
   ]
  },
  {
   "cell_type": "code",
   "execution_count": 62,
   "id": "2f5de7c4-a6ce-419c-96bc-2e399ee11c12",
   "metadata": {},
   "outputs": [
    {
     "name": "stdout",
     "output_type": "stream",
     "text": [
      "15.970982432720604\n"
     ]
    }
   ],
   "source": [
    "percent_contribution_top15 = (names_counts_top15.sum()/df[\"primary diagnosis name\"].value_counts().sum())*100\n",
    "print(percent_contribution_top15)"
   ]
  },
  {
   "cell_type": "code",
   "execution_count": 63,
   "id": "75694f98-9fe1-4585-80e8-2f8c8ca746da",
   "metadata": {},
   "outputs": [
    {
     "data": {
      "image/png": "[encoded data removed]",
      "text/plain": [
       "<Figure size 1200x600 with 1 Axes>"
      ]
     },
     "metadata": {},
     "output_type": "display_data"
    }
   ],
   "source": [
    "\n",
    "\n",
    "# --- Step 1: Count top 15 diagnoses ---\n",
    "diag_counts = df[\"primary diagnosis name\"].value_counts()\n",
    "top_diagnoses = diag_counts.head(15).index.tolist()\n",
    "\n",
    "# --- Step 2: Create grouped column (Top 15 + \"Other\") ---\n",
    "df[\"diagnosis_grouped\"] = df[\"primary diagnosis name\"].where(\n",
    "    df[\"primary diagnosis name\"].isin(top_diagnoses),\n",
    "    \"Other\"\n",
    ")\n",
    "\n",
    "# --- Step 3: Aggregate counts by diagnosis ---\n",
    "counts = df[\"diagnosis_grouped\"].value_counts().loc[top_diagnoses + [\"Other\"]]\n",
    "\n",
    "# --- Step 4: Compute percentages for labels ---\n",
    "percentages = counts / counts.sum() * 100\n",
    "\n",
    "# --- Step 5: Plot bar chart with frequencies on Y ---\n",
    "ax = counts.plot(kind=\"bar\", figsize=(12, 6))\n",
    "\n",
    "plt.ylabel(\"Number of discharges\")\n",
    "plt.xlabel(\"Primary Diagnosis\")\n",
    "plt.xticks(rotation=45, ha=\"right\", fontsize=9)\n",
    "plt.title(\"Top 15 Primary Diagnoses by Discharges (Other included)\")\n",
    "\n",
    "# --- Step 6: Annotate bars with percentages ---\n",
    "for i, (count, pct) in enumerate(zip(counts, percentages)):\n",
    "    ax.text(i, count + (0.01 * counts.max()), f\"{pct:.1f}%\", \n",
    "            ha=\"center\", va=\"bottom\", fontsize=10)\n",
    "\n",
    "plt.tight_layout()\n",
    "plt.show()\n",
    "\n"
   ]
  },
  {
   "cell_type": "code",
   "execution_count": 64,
   "id": "931ca230-1217-45e8-8b73-b90148d60fe3",
   "metadata": {},
   "outputs": [],
   "source": [
    "df.drop(columns = [\"diagnosis_grouped\"], inplace = True)"
   ]
  },
  {
   "cell_type": "markdown",
   "id": "42f36593-2a3b-46a0-8df8-8b9b22a1feff",
   "metadata": {},
   "source": [
    "# SEGUIR AQUI: AGRUPAR POR CAPITULO (LETRA CON QUE EMPIEZAN MAS 2 PRIMEROS NUMEROS, OJO CON V,W,X,Y,Z, REVISAR BIEN) Y TERMINAR DE HPONER COMENTARIOS EN CELDAS DE TODO EL NOTEBOOK"
   ]
  },
  {
   "cell_type": "code",
   "execution_count": 66,
   "id": "5cba6d50-e019-435b-ba75-31cf230b03db",
   "metadata": {},
   "outputs": [
    {
     "name": "stdout",
     "output_type": "stream",
     "text": [
      "diagnosis_group_letter\n",
      "K    4197640\n",
      "J    3225082\n",
      "N    2580826\n",
      "I    2518139\n",
      "S    2085565\n",
      "C    1361975\n",
      "M    1273698\n",
      "D    1042055\n",
      "Z     942933\n",
      "E     851501\n",
      "T     795277\n",
      "R     754874\n",
      "P     723093\n",
      "A     676580\n",
      "F     604635\n",
      "G     511669\n",
      "L     460161\n",
      "H     447225\n",
      "Q     373156\n",
      "U     165829\n",
      "B     163471\n",
      "k       3357\n",
      "Name: count, dtype: int64\n"
     ]
    }
   ],
   "source": [
    "# --- Step 1: Extract first letter from diagnosis code ---\n",
    "# Assuming you have a column with codes, e.g. df[\"primary diagnosis code\"]\n",
    "#df[\"diagnosis_group_letter\"] = df[\"primary diagnosis code\"].str[0]\n",
    "\n",
    "# --- Step 2: Quick check of counts per group ---\n",
    "#group_counts = df[\"diagnosis_group_letter\"].value_counts()\n",
    "\n",
    "#print(group_counts)\n"
   ]
  },
  {
   "cell_type": "code",
   "execution_count": 213,
   "id": "452d6736-40ee-4315-9bb1-2a777bf1f618",
   "metadata": {},
   "outputs": [],
   "source": [
    "cap_codes = [\"A00-B99\",\"C00-D48\",\"D50-D89\",\"E00-E90\",\"F00-F99\",\"G00-G99\",\"H00-H59\",\"H60-H95\",\"I00-I99\",\"J00-J99\",\"K00-K93\",\"L00-L99\",\"M00-M99\",\"N00-N99\",\n",
    "\"P00-P96\",\"Q00-Q99\",\"R00-R99\",\"S00-T98\",\"V01-Y98\",\"Z00-Z99\",\"U00-U99\"]"
   ]
  },
  {
   "cell_type": "code",
   "execution_count": 256,
   "id": "e93af59c-c7e9-4868-a9c7-1d56fb3abdda",
   "metadata": {},
   "outputs": [
    {
     "name": "stdout",
     "output_type": "stream",
     "text": [
      "V01-Y98\n"
     ]
    }
   ],
   "source": [
    "c=\"X846\"\n",
    "for code in cap_codes:\n",
    "    if code == \"V01-Y98\":\n",
    "        if (c[0] == \"W\" or c[0] == \"X\"):\n",
    "            c= code\n",
    "            print(c)\n",
    "        elif (c[0] == code[0] or c[0] == code[4]) and (int(code[1:3]) <= int(c[1:3]) <= int(code[5:7])):\n",
    "            c = code\n",
    "            print(c)\n",
    "            \n",
    "            \n",
    "    elif (c[0] == code[0] or c[0] == code[4]) and (int(code[1:3]) <= int(c[1:3]) <= int(code[5:7])):\n",
    "        c = code\n",
    "        print(c)"
   ]
  },
  {
   "cell_type": "code",
   "execution_count": 266,
   "id": "95a20278-b6df-4ae5-8427-401a5be12d19",
   "metadata": {},
   "outputs": [],
   "source": [
    "sample = df.sample(frac = 0.01, replace = True, random_state = 3)"
   ]
  },
  {
   "cell_type": "code",
   "execution_count": 268,
   "id": "be9edb4a-61b4-48ff-acd8-6a73780abb66",
   "metadata": {},
   "outputs": [
    {
     "data": {
      "text/html": [
       "<div>\n",
       "<style scoped>\n",
       "    .dataframe tbody tr th:only-of-type {\n",
       "        vertical-align: middle;\n",
       "    }\n",
       "\n",
       "    .dataframe tbody tr th {\n",
       "        vertical-align: top;\n",
       "    }\n",
       "\n",
       "    .dataframe thead th {\n",
       "        text-align: right;\n",
       "    }\n",
       "</style>\n",
       "<table border=\"1\" class=\"dataframe\">\n",
       "  <thead>\n",
       "    <tr style=\"text-align: right;\">\n",
       "      <th></th>\n",
       "      <th>sex</th>\n",
       "      <th>age</th>\n",
       "      <th>health insurance</th>\n",
       "      <th>healthcare facility type</th>\n",
       "      <th>healthcare facility name</th>\n",
       "      <th>length of stay</th>\n",
       "      <th>discharge condition</th>\n",
       "      <th>primary diagnosis code</th>\n",
       "      <th>primary diagnosis name</th>\n",
       "      <th>year</th>\n",
       "      <th>LOS_capped</th>\n",
       "    </tr>\n",
       "  </thead>\n",
       "  <tbody>\n",
       "    <tr>\n",
       "      <th>16848746</th>\n",
       "      <td>Male</td>\n",
       "      <td>40-49</td>\n",
       "      <td>Fonasa</td>\n",
       "      <td>Public</td>\n",
       "      <td>Hospital Clínico Regional Dr. Guillermo Grant ...</td>\n",
       "      <td>6</td>\n",
       "      <td>Alive</td>\n",
       "      <td>D70X</td>\n",
       "      <td>agranulocitosis</td>\n",
       "      <td>2017</td>\n",
       "      <td>6</td>\n",
       "    </tr>\n",
       "    <tr>\n",
       "      <th>1771160</th>\n",
       "      <td>Male</td>\n",
       "      <td>30-39</td>\n",
       "      <td>Isapre</td>\n",
       "      <td>Private</td>\n",
       "      <td>Clínica Las Condes</td>\n",
       "      <td>6</td>\n",
       "      <td>Alive</td>\n",
       "      <td>B679</td>\n",
       "      <td>equinococosis, otra y la no especificada</td>\n",
       "      <td>2003</td>\n",
       "      <td>6</td>\n",
       "    </tr>\n",
       "    <tr>\n",
       "      <th>21572857</th>\n",
       "      <td>Male</td>\n",
       "      <td>80-120</td>\n",
       "      <td>Fonasa</td>\n",
       "      <td>Public</td>\n",
       "      <td>Unknown</td>\n",
       "      <td>6</td>\n",
       "      <td>Alive</td>\n",
       "      <td>J159</td>\n",
       "      <td>neumonia bacteriana, no especificada</td>\n",
       "      <td>2021</td>\n",
       "      <td>6</td>\n",
       "    </tr>\n",
       "    <tr>\n",
       "      <th>17229443</th>\n",
       "      <td>Male</td>\n",
       "      <td>1-9</td>\n",
       "      <td>Isapre</td>\n",
       "      <td>Private</td>\n",
       "      <td>Clínica Alemana de Temuco</td>\n",
       "      <td>7</td>\n",
       "      <td>Alive</td>\n",
       "      <td>J121</td>\n",
       "      <td>neumonia debida a virus sincicial respiratorio</td>\n",
       "      <td>2017</td>\n",
       "      <td>7</td>\n",
       "    </tr>\n",
       "    <tr>\n",
       "      <th>7912376</th>\n",
       "      <td>Male</td>\n",
       "      <td>10-19</td>\n",
       "      <td>Fonasa</td>\n",
       "      <td>Public</td>\n",
       "      <td>Complejo Asistencial Dr. Víctor Ríos Ruiz (Los...</td>\n",
       "      <td>2</td>\n",
       "      <td>Alive</td>\n",
       "      <td>K350</td>\n",
       "      <td>apendicitis aguda con peritonitis generalizada</td>\n",
       "      <td>2009</td>\n",
       "      <td>2</td>\n",
       "    </tr>\n",
       "    <tr>\n",
       "      <th>...</th>\n",
       "      <td>...</td>\n",
       "      <td>...</td>\n",
       "      <td>...</td>\n",
       "      <td>...</td>\n",
       "      <td>...</td>\n",
       "      <td>...</td>\n",
       "      <td>...</td>\n",
       "      <td>...</td>\n",
       "      <td>...</td>\n",
       "      <td>...</td>\n",
       "      <td>...</td>\n",
       "    </tr>\n",
       "    <tr>\n",
       "      <th>17496414</th>\n",
       "      <td>Female</td>\n",
       "      <td>70-79</td>\n",
       "      <td>Fonasa</td>\n",
       "      <td>Public</td>\n",
       "      <td>Hospital Barros Luco Trudeau (Santiago, San Mi...</td>\n",
       "      <td>1</td>\n",
       "      <td>Alive</td>\n",
       "      <td>M895</td>\n",
       "      <td>osteolisis</td>\n",
       "      <td>2018</td>\n",
       "      <td>1</td>\n",
       "    </tr>\n",
       "    <tr>\n",
       "      <th>22902358</th>\n",
       "      <td>Male</td>\n",
       "      <td>70-79</td>\n",
       "      <td>Fonasa</td>\n",
       "      <td>Public</td>\n",
       "      <td>Unknown</td>\n",
       "      <td>2</td>\n",
       "      <td>Alive</td>\n",
       "      <td>R509</td>\n",
       "      <td>fiebre, no especificada</td>\n",
       "      <td>2022</td>\n",
       "      <td>2</td>\n",
       "    </tr>\n",
       "    <tr>\n",
       "      <th>12159640</th>\n",
       "      <td>Female</td>\n",
       "      <td>40-49</td>\n",
       "      <td>Isapre</td>\n",
       "      <td>Private</td>\n",
       "      <td>Clínica Antofagasta</td>\n",
       "      <td>1</td>\n",
       "      <td>Alive</td>\n",
       "      <td>K802</td>\n",
       "      <td>calculo de la vesicula biliar sin colecistitis</td>\n",
       "      <td>2013</td>\n",
       "      <td>1</td>\n",
       "    </tr>\n",
       "    <tr>\n",
       "      <th>12456718</th>\n",
       "      <td>Male</td>\n",
       "      <td>10-19</td>\n",
       "      <td>Isapre</td>\n",
       "      <td>Private</td>\n",
       "      <td>Clínica Alemana</td>\n",
       "      <td>1</td>\n",
       "      <td>Alive</td>\n",
       "      <td>I868</td>\n",
       "      <td>varices en otros sitios especificados</td>\n",
       "      <td>2013</td>\n",
       "      <td>1</td>\n",
       "    </tr>\n",
       "    <tr>\n",
       "      <th>13316820</th>\n",
       "      <td>Male</td>\n",
       "      <td>40-49</td>\n",
       "      <td>Fonasa</td>\n",
       "      <td>Public</td>\n",
       "      <td>Hospital Las Higueras (Talcahuano)</td>\n",
       "      <td>7</td>\n",
       "      <td>Alive</td>\n",
       "      <td>C189</td>\n",
       "      <td>tumor maligno del colon, parte no especificada</td>\n",
       "      <td>2014</td>\n",
       "      <td>7</td>\n",
       "    </tr>\n",
       "  </tbody>\n",
       "</table>\n",
       "<p>257587 rows × 11 columns</p>\n",
       "</div>"
      ],
      "text/plain": [
       "             sex     age health insurance healthcare facility type  \\\n",
       "16848746    Male   40-49           Fonasa                   Public   \n",
       "1771160     Male   30-39           Isapre                  Private   \n",
       "21572857    Male  80-120           Fonasa                   Public   \n",
       "17229443    Male     1-9           Isapre                  Private   \n",
       "7912376     Male   10-19           Fonasa                   Public   \n",
       "...          ...     ...              ...                      ...   \n",
       "17496414  Female   70-79           Fonasa                   Public   \n",
       "22902358    Male   70-79           Fonasa                   Public   \n",
       "12159640  Female   40-49           Isapre                  Private   \n",
       "12456718    Male   10-19           Isapre                  Private   \n",
       "13316820    Male   40-49           Fonasa                   Public   \n",
       "\n",
       "                                   healthcare facility name  length of stay  \\\n",
       "16848746  Hospital Clínico Regional Dr. Guillermo Grant ...               6   \n",
       "1771160                                 Clínica Las Condes                6   \n",
       "21572857                                            Unknown               6   \n",
       "17229443                         Clínica Alemana de Temuco                7   \n",
       "7912376   Complejo Asistencial Dr. Víctor Ríos Ruiz (Los...               2   \n",
       "...                                                     ...             ...   \n",
       "17496414  Hospital Barros Luco Trudeau (Santiago, San Mi...               1   \n",
       "22902358                                            Unknown               2   \n",
       "12159640                               Clínica Antofagasta                1   \n",
       "12456718                                   Clínica Alemana                1   \n",
       "13316820                 Hospital Las Higueras (Talcahuano)               7   \n",
       "\n",
       "         discharge condition primary diagnosis code  \\\n",
       "16848746               Alive                   D70X   \n",
       "1771160                Alive                   B679   \n",
       "21572857               Alive                   J159   \n",
       "17229443               Alive                   J121   \n",
       "7912376                Alive                   K350   \n",
       "...                      ...                    ...   \n",
       "17496414               Alive                   M895   \n",
       "22902358               Alive                   R509   \n",
       "12159640               Alive                   K802   \n",
       "12456718               Alive                   I868   \n",
       "13316820               Alive                   C189   \n",
       "\n",
       "                                  primary diagnosis name  year  LOS_capped  \n",
       "16848746                                 agranulocitosis  2017           6  \n",
       "1771160         equinococosis, otra y la no especificada  2003           6  \n",
       "21572857            neumonia bacteriana, no especificada  2021           6  \n",
       "17229443  neumonia debida a virus sincicial respiratorio  2017           7  \n",
       "7912376   apendicitis aguda con peritonitis generalizada  2009           2  \n",
       "...                                                  ...   ...         ...  \n",
       "17496414                                      osteolisis  2018           1  \n",
       "22902358                         fiebre, no especificada  2022           2  \n",
       "12159640  calculo de la vesicula biliar sin colecistitis  2013           1  \n",
       "12456718           varices en otros sitios especificados  2013           1  \n",
       "13316820  tumor maligno del colon, parte no especificada  2014           7  \n",
       "\n",
       "[257587 rows x 11 columns]"
      ]
     },
     "execution_count": 268,
     "metadata": {},
     "output_type": "execute_result"
    }
   ],
   "source": [
    "sample"
   ]
  },
  {
   "cell_type": "code",
   "execution_count": 270,
   "id": "b399a526-a6d9-4b09-b959-54d7d8fc9af9",
   "metadata": {},
   "outputs": [],
   "source": [
    "def codes(c):\n",
    "    cap_codes = [\"A00-B99\",\"C00-D48\",\"D50-D89\",\"E00-E90\",\"F00-F99\",\"G00-G99\",\"H00-H59\",\"H60-H95\",\"I00-I99\",\"J00-J99\",\"K00-K93\",\"L00-L99\",\"M00-M99\",\"N00-N99\",\n",
    "                 \"P00-P96\",\"Q00-Q99\",\"R00-R99\",\"S00-T98\",\"V01-Y98\",\"Z00-Z99\",\"U00-U99\"]\n",
    "    for code in cap_codes:\n",
    "        if code == \"V01-Y98\":\n",
    "            if (c[0] == \"W\" or c[0] == \"X\"):\n",
    "                c= code\n",
    "                return c\n",
    "            \n",
    "            elif (c[0] == code[0] or c[0] == code[4]) and (int(code[1:3]) <= int(c[1:3]) <= int(code[5:7])):\n",
    "                c = code\n",
    "                return c\n",
    "            \n",
    "            \n",
    "        elif (c[0] == code[0] or c[0] == code[4]) and (int(code[1:3]) <= int(c[1:3]) <= int(code[5:7])):\n",
    "            c = code\n",
    "            return c"
   ]
  },
  {
   "cell_type": "code",
   "execution_count": 330,
   "id": "6066f933-56ea-4226-89c4-a43337944bb6",
   "metadata": {},
   "outputs": [],
   "source": [
    "def codes_v1(c):\n",
    "    cap_codes = [\n",
    "        \"A00-B99\",\"C00-D48\",\"D50-D89\",\"E00-E90\",\"F00-F99\",\"G00-G99\",\n",
    "        \"H00-H59\",\"H60-H95\",\"I00-I99\",\"J00-J99\",\"K00-K93\",\"L00-L99\",\n",
    "        \"M00-M99\",\"N00-N99\",\"P00-P96\",\"Q00-Q99\",\"R00-R99\",\"S00-T98\",\n",
    "        \"V01-Y98\",\"Z00-Z99\",\"U00-U99\"\n",
    "    ]\n",
    "    \n",
    "    for code in cap_codes:\n",
    "        start, end = code.split(\"-\")  # → \"C00\", \"D48\"\n",
    "        \n",
    "        # Special case\n",
    "        if code == \"V01-Y98\":\n",
    "            if c[0] in [\"W\", \"X\"]:\n",
    "                return code\n",
    "        \n",
    "        # General case\n",
    "        if (c[0] == start[0] or c[0] == end[0]) and (int(start[1:]) <= int(c[1:]) <= int(end[1:])):\n",
    "            return code\n"
   ]
  },
  {
   "cell_type": "code",
   "execution_count": 334,
   "id": "f7ef1591-c5fc-4258-8fae-63c1013cbba9",
   "metadata": {},
   "outputs": [],
   "source": [
    "sample[\"chapter codes\"] = sample[\"primary diagnosis code\"].apply(codes)"
   ]
  },
  {
   "cell_type": "code",
   "execution_count": 338,
   "id": "5ef4177a-ef48-4086-9308-98d38b25371d",
   "metadata": {},
   "outputs": [],
   "source": [
    "missing_c = sample[sample[\"chapter codes\"].isna()]"
   ]
  },
  {
   "cell_type": "code",
   "execution_count": 348,
   "id": "c43638be-7074-4241-bdf2-87c0f23efc35",
   "metadata": {},
   "outputs": [],
   "source": [
    "first_letters = missing_c[\"primary diagnosis code\"].astype(str).str[0]"
   ]
  },
  {
   "cell_type": "code",
   "execution_count": 350,
   "id": "10dd6690-e7d3-44c7-a020-cb0ce4165d3f",
   "metadata": {},
   "outputs": [
    {
     "data": {
      "text/plain": [
       "primary diagnosis code\n",
       "C    8390\n",
       "k      31\n",
       "S      27\n",
       "Name: count, dtype: int64"
      ]
     },
     "execution_count": 350,
     "metadata": {},
     "output_type": "execute_result"
    }
   ],
   "source": [
    "first_letters.value_counts()"
   ]
  },
  {
   "cell_type": "markdown",
   "id": "445e9b00-07c7-477a-b3e4-14a738450bff",
   "metadata": {},
   "source": [
    "# HACER RESUMEN"
   ]
  },
  {
   "cell_type": "raw",
   "id": "88f6481a-0972-4cad-905d-6b308bd2c88c",
   "metadata": {},
   "source": [
    "Summary of Hospital Name (2001-2020)\n",
    "\n",
    "Counts: The top 15 facilities concentrate just 5.599.537 out of 20.788.763 the discharges; The bottom 15 facilities just have 94 discharges\n",
    "\n",
    "Proportions: 26.9% top 15 vs. 73.1% other facilities\n",
    "\n",
    "Mode: Complejo Hospitalario Dr. Sótero del Río (Public)\n",
    "\n",
    "Balance: There is a really low concentration of discharges among facilities\n",
    "\n",
    "Context: The balance reflect that the discharges are disitributed among many facilities, so there is no concentration. Without going into depth in a bivariate analysis yet, 10/15 facilities are public, showing that they absorb most of the demand"
   ]
  },
  {
   "cell_type": "markdown",
   "id": "c04b9139-ec4f-4a9f-86bd-84dcd0fbd5c3",
   "metadata": {},
   "source": [
    "# Length of stay"
   ]
  },
  {
   "cell_type": "markdown",
   "id": "edb01232-ca97-47f3-acd6-229bf2c8bf3e",
   "metadata": {},
   "source": [
    "# 1. Basic Overview"
   ]
  },
  {
   "cell_type": "raw",
   "id": "6f428673-7c6d-4502-a7cd-5d49325f7a64",
   "metadata": {},
   "source": [
    "Check data type, missing values, unique values.\n",
    "\n",
    "Look at descriptive statistics."
   ]
  },
  {
   "cell_type": "code",
   "execution_count": 70,
   "id": "d1cee356-345f-45f7-a8e4-3090318ab687",
   "metadata": {},
   "outputs": [
    {
     "data": {
      "text/plain": [
       "dtype('int32')"
      ]
     },
     "execution_count": 70,
     "metadata": {},
     "output_type": "execute_result"
    }
   ],
   "source": [
    "# Is numerical discrete variable\n",
    "df[\"length of stay\"].dtype"
   ]
  },
  {
   "cell_type": "code",
   "execution_count": 71,
   "id": "edf71d4c-dc21-42fb-afea-7b8ebf24b9fd",
   "metadata": {},
   "outputs": [
    {
     "data": {
      "text/plain": [
       "count    2.575874e+07\n",
       "mean     6.756565e+00\n",
       "std      5.994416e+01\n",
       "min      1.000000e+00\n",
       "25%      1.000000e+00\n",
       "50%      3.000000e+00\n",
       "75%      7.000000e+00\n",
       "max      3.245200e+04\n",
       "Name: length of stay, dtype: float64"
      ]
     },
     "execution_count": 71,
     "metadata": {},
     "output_type": "execute_result"
    }
   ],
   "source": [
    "df[\"length of stay\"].describe()"
   ]
  },
  {
   "cell_type": "raw",
   "id": "507033c1-f0ed-40e6-8db6-e83d941c6f79",
   "metadata": {},
   "source": [
    "The mean is higher than the median beacuse the maximum (and possibly other outliers are high) affecting the distribution of the data"
   ]
  },
  {
   "cell_type": "markdown",
   "id": "dc30d5b8-44a7-4b57-9977-9269f5a1f743",
   "metadata": {},
   "source": [
    "# 2. Distribution"
   ]
  },
  {
   "cell_type": "code",
   "execution_count": 73,
   "id": "f0fffa27-34ec-4da3-b5e7-3c5037a842da",
   "metadata": {},
   "outputs": [
    {
     "name": "stdout",
     "output_type": "stream",
     "text": [
      "Mean: 6.756565392695241\n",
      "Median: 3.0\n",
      "Mode: 1\n",
      "Std Dev: 59.94416128386496\n",
      "Range: 32451\n"
     ]
    }
   ],
   "source": [
    "# Pretty much the same as \"describe()\"\n",
    "print(\"Mean:\", df['length of stay'].mean())\n",
    "print(\"Median:\", df['length of stay'].median())\n",
    "print(\"Mode:\", df['length of stay'].mode()[0])\n",
    "print(\"Std Dev:\", df['length of stay'].std())\n",
    "print(\"Range:\", df['length of stay'].max() - df['length of stay'].min())\n"
   ]
  },
  {
   "cell_type": "raw",
   "id": "715098b8-48ea-4032-b2c9-872fbcf0b068",
   "metadata": {},
   "source": [
    "Histogram to see overall distribution"
   ]
  },
  {
   "cell_type": "code",
   "execution_count": 74,
   "id": "8cdfc1d7-7b6a-4253-93a1-97b7960eb66c",
   "metadata": {},
   "outputs": [
    {
     "data": {
      "image/png": "[encoded data removed]",
      "text/plain": [
       "<Figure size 800x500 with 1 Axes>"
      ]
     },
     "metadata": {},
     "output_type": "display_data"
    }
   ],
   "source": [
    "plt.figure(figsize=(8,5))\n",
    "df['length of stay'].plot(kind='hist', bins=30, edgecolor='black')\n",
    "plt.title(\"Distribution of Length of Stay\")\n",
    "plt.xlabel(\"Days\")\n",
    "plt.ylabel(\"Frequency\")\n",
    "plt.show()"
   ]
  },
  {
   "cell_type": "raw",
   "id": "a9d3b41b-1a75-472f-9a9d-d0c9792d1555",
   "metadata": {},
   "source": [
    "The histogram looks skewed, so it is neccesary to set a top limit (30 days) to visualize the distribution excluding outliers "
   ]
  },
  {
   "cell_type": "code",
   "execution_count": 75,
   "id": "3f80a9c0-982a-4524-9ae3-1edba677b5b4",
   "metadata": {},
   "outputs": [],
   "source": [
    "# Filtering the dataframe to include rows with length of stay less or equal than 30 days\n",
    "df_LOS_hist = df['length of stay'][df['length of stay'] <= 30]"
   ]
  },
  {
   "cell_type": "code",
   "execution_count": 76,
   "id": "d64b8cf6-42b0-480b-b8d3-b5de699f59a8",
   "metadata": {},
   "outputs": [
    {
     "data": {
      "image/png": "[encoded data removed]",
      "text/plain": [
       "<Figure size 800x500 with 1 Axes>"
      ]
     },
     "metadata": {},
     "output_type": "display_data"
    }
   ],
   "source": [
    "plt.figure(figsize=(8,5))\n",
    "df_LOS_hist.plot(kind='hist', bins=30, edgecolor='black')\n",
    "plt.title(\"Distribution of Length of Stay\")\n",
    "plt.xlabel(\"Days\")\n",
    "plt.ylabel(\"Frequency\")\n",
    "plt.show()"
   ]
  },
  {
   "cell_type": "raw",
   "id": "cce37026-c5e1-4995-b4e8-bdabf0389c6a",
   "metadata": {},
   "source": [
    "This is a left skewed distribution reflecting what was seen with the central tendency distribution measures: 75% of patients stay 7 days or less hospitalized"
   ]
  },
  {
   "cell_type": "code",
   "execution_count": 77,
   "id": "bf74c75f-b79a-4de3-ac9f-ef3eb2270535",
   "metadata": {},
   "outputs": [
    {
     "data": {
      "image/png": "[encoded data removed]",
      "text/plain": [
       "<Figure size 1000x700 with 1 Axes>"
      ]
     },
     "metadata": {},
     "output_type": "display_data"
    }
   ],
   "source": [
    "fig = plt.figure(figsize =(10, 7))\n",
    "\n",
    "plt.boxplot(df[\"length of stay\"])\n",
    "plt.show()"
   ]
  },
  {
   "cell_type": "code",
   "execution_count": 78,
   "id": "61e278f5-b9cd-4f0a-9be3-add551932eb7",
   "metadata": {},
   "outputs": [
    {
     "data": {
      "image/png": "[encoded data removed]",
      "text/plain": [
       "<Figure size 1000x700 with 1 Axes>"
      ]
     },
     "metadata": {},
     "output_type": "display_data"
    },
    {
     "name": "stdout",
     "output_type": "stream",
     "text": [
      "0.25     1.0\n",
      "0.50     3.0\n",
      "0.75     7.0\n",
      "0.95    22.0\n",
      "0.99    53.0\n",
      "Name: length of stay, dtype: float64\n"
     ]
    }
   ],
   "source": [
    "fig = plt.figure(figsize =(10, 7))\n",
    "\n",
    "plt.boxplot(df[\"length of stay\"])\n",
    "plt.yscale('log')\n",
    "plt.show()\n",
    "\n",
    "# Quantiles\n",
    "print(df['length of stay'].quantile([0.25, 0.5, 0.75, 0.95, 0.99]))"
   ]
  },
  {
   "cell_type": "raw",
   "id": "aebc67b9-9254-4063-8596-80a65c2a89ba",
   "metadata": {},
   "source": [
    "The same as int he histogram, the boxplot is skewed at the botoom beacuse there are high outlieras that affect the distribution"
   ]
  },
  {
   "cell_type": "code",
   "execution_count": 79,
   "id": "0c797874-f023-442d-b13c-85e4277f9d3a",
   "metadata": {},
   "outputs": [],
   "source": [
    "# Filtering length of stay to just consider disharges of 22 days or shorter to create a boxplot \n",
    "df_LOS_box = df['length of stay'][df['length of stay'] <= 22]"
   ]
  },
  {
   "cell_type": "code",
   "execution_count": 80,
   "id": "6d71b849-4418-48fc-89ba-da9e47b6ae5f",
   "metadata": {},
   "outputs": [
    {
     "data": {
      "image/png": "[encoded data removed]",
      "text/plain": [
       "<Figure size 1000x700 with 1 Axes>"
      ]
     },
     "metadata": {},
     "output_type": "display_data"
    }
   ],
   "source": [
    "# 22 days or less of length of stay includes all the discharges that are in the 95 percentile or below, so the 5% with longest stays are excluded.\n",
    "fig = plt.figure(figsize =(10, 7))\n",
    "\n",
    "plt.boxplot(df_LOS_box, showfliers=False)\n",
    "plt.ylim(0,22)\n",
    "plt.show()"
   ]
  },
  {
   "cell_type": "markdown",
   "id": "a67fb5bf-84cf-4017-9a1b-f12c87d99be9",
   "metadata": {},
   "source": [
    "# 3. Outliers analysis"
   ]
  },
  {
   "cell_type": "code",
   "execution_count": 82,
   "id": "8fddb050-b70e-40ce-be5c-9dfdaabd50af",
   "metadata": {},
   "outputs": [],
   "source": [
    "# Creating limits to separate outliers from the rest of the data\n",
    "limit_99 = df['length of stay'].quantile(0.99)\n",
    "limit_95 = df['length of stay'].quantile(0.95)"
   ]
  },
  {
   "cell_type": "code",
   "execution_count": 83,
   "id": "1656d21b-4ce2-433b-b944-b32929f1c4e7",
   "metadata": {},
   "outputs": [
    {
     "name": "stdout",
     "output_type": "stream",
     "text": [
      "Amount of discharges whose length of stay is over percentile 99 (53 days):  256528\n"
     ]
    }
   ],
   "source": [
    "print(\"Amount of discharges whose length of stay is over percentile 99 (53 days): \",len(df['length of stay'][df['length of stay'] > limit_99]))"
   ]
  },
  {
   "cell_type": "code",
   "execution_count": 84,
   "id": "e537aeda-0ac5-4939-8b3e-1ebf0672b5f7",
   "metadata": {},
   "outputs": [
    {
     "name": "stdout",
     "output_type": "stream",
     "text": [
      "Amount of discharges whose length of stay is over percentile 95 (22 days):  1229838\n"
     ]
    }
   ],
   "source": [
    "print(\"Amount of discharges whose length of stay is over percentile 95 (22 days): \",len(df['length of stay'][df['length of stay'] > limit_95]))"
   ]
  },
  {
   "cell_type": "raw",
   "id": "6127f1e2-63db-41c2-9fd4-fe90faa05490",
   "metadata": {},
   "source": [
    "Now we are going to define outliers based on the interquartile range method"
   ]
  },
  {
   "cell_type": "code",
   "execution_count": 85,
   "id": "1600a62e-f932-485d-9851-522c81e114f8",
   "metadata": {},
   "outputs": [
    {
     "name": "stdout",
     "output_type": "stream",
     "text": [
      "Q1: 1.0, Q3: 7.0, IQR: 6.0\n"
     ]
    }
   ],
   "source": [
    "# Drop missing values\n",
    "los = df['length of stay'].dropna()\n",
    "\n",
    "# Compute quartiles\n",
    "Q1 = los.quantile(0.25)\n",
    "Q3 = los.quantile(0.75)\n",
    "\n",
    "# Compute IQR\n",
    "IQR = Q3 - Q1\n",
    "\n",
    "print(f\"Q1: {Q1}, Q3: {Q3}, IQR: {IQR}\")\n"
   ]
  },
  {
   "cell_type": "code",
   "execution_count": 86,
   "id": "85e724c2-135a-498b-b291-b66338ae648c",
   "metadata": {},
   "outputs": [
    {
     "name": "stdout",
     "output_type": "stream",
     "text": [
      "Lower threshold: -8.0\n",
      "Upper threshold: 25.0\n"
     ]
    }
   ],
   "source": [
    "# Lower and upper thresholds\n",
    "lower_threshold = Q1 - 1.5 * IQR\n",
    "upper_threshold = Q3 + 3 * IQR\n",
    "\n",
    "print(f\"Lower threshold: {lower_threshold}\")\n",
    "print(f\"Upper threshold: {upper_threshold}\")\n"
   ]
  },
  {
   "cell_type": "raw",
   "id": "4f7547a6-3000-45b3-821d-63bc4da0277f",
   "metadata": {},
   "source": [
    "Discharges whose length of stay is longer than 25 days are considered outliers according to IQR method and the resulting upper threshold"
   ]
  },
  {
   "cell_type": "code",
   "execution_count": 87,
   "id": "ee002e42-8351-4340-89e1-28bf7eb504d9",
   "metadata": {},
   "outputs": [
    {
     "name": "stdout",
     "output_type": "stream",
     "text": [
      "Number of outliers: 1011147\n"
     ]
    }
   ],
   "source": [
    "outliers = los[(los < lower_threshold) | (los > upper_threshold)]\n",
    "print(f\"Number of outliers: {len(outliers)}\")\n"
   ]
  },
  {
   "cell_type": "code",
   "execution_count": 88,
   "id": "b3b76cee-b1bc-4b59-88c5-92fd96b23384",
   "metadata": {},
   "outputs": [
    {
     "name": "stdout",
     "output_type": "stream",
     "text": [
      "Percentage of outliers: 3.93%\n"
     ]
    }
   ],
   "source": [
    "pct_outliers = len(outliers) / len(los) * 100\n",
    "print(f\"Percentage of outliers: {pct_outliers:.2f}%\")\n"
   ]
  },
  {
   "cell_type": "markdown",
   "id": "87ec353c-50b8-4420-9713-87d4a9fda7a5",
   "metadata": {},
   "source": [
    "# Decision about outliers "
   ]
  },
  {
   "cell_type": "raw",
   "id": "65c43598-14fd-468e-90c7-5c111c16661c",
   "metadata": {},
   "source": [
    "What are the actual outliers?"
   ]
  },
  {
   "cell_type": "code",
   "execution_count": 90,
   "id": "8d4a5083-ae30-4abb-9bd5-8c906101b682",
   "metadata": {},
   "outputs": [],
   "source": [
    "outliers = df[df[\"length of stay\"] > upper_threshold]"
   ]
  },
  {
   "cell_type": "code",
   "execution_count": 91,
   "id": "ceb04f50-26d7-4850-9bfa-c297bb3b44e4",
   "metadata": {},
   "outputs": [
    {
     "name": "stdout",
     "output_type": "stream",
     "text": [
      "sex\n",
      "Male      596543\n",
      "Female    414604\n",
      "Name: count, dtype: int64\n",
      "age\n",
      "60-69     180248\n",
      "70-79     170926\n",
      "50-59     141667\n",
      "0-1       106327\n",
      "80-120    106323\n",
      "40-49      98570\n",
      "30-39      71972\n",
      "20-29      60969\n",
      "10-19      47622\n",
      "1-9        26523\n",
      "Name: count, dtype: int64\n",
      "health insurance\n",
      "Fonasa    938609\n",
      "Isapre     72538\n",
      "Name: count, dtype: int64\n",
      "healthcare facility type\n",
      "Public     838012\n",
      "Private    120366\n",
      "Unknown     52769\n",
      "Name: count, dtype: int64\n",
      "healthcare facility name\n",
      "Unknown                                                                 219698\n",
      "Hospital Barros Luco Trudeau (Santiago, San Miguel)                      34281\n",
      "Hospital Clínico Regional Dr. Guillermo Grant Benavente (Concepción)     30106\n",
      "Hospital Dr. Hernán Henríquez Aravena (Temuco)                           26543\n",
      "Complejo Hospitalario Dr. Sótero del Río (Santiago, Puente Alto)         26198\n",
      "                                                                         ...  \n",
      "Consultorio Mutual de Seguridad CChC (Chillán)                               1\n",
      "Policlínico del Trabajador  Coyhaique                                        1\n",
      "Labocenter                                                                   1\n",
      "Clínica  San José                                                            1\n",
      "Policlínico AChS Los ángeles                                                 1\n",
      "Name: count, Length: 446, dtype: int64\n",
      "length of stay\n",
      "26      58955\n",
      "28      57803\n",
      "27      56991\n",
      "29      50389\n",
      "30      46508\n",
      "        ...  \n",
      "3783        1\n",
      "4927        1\n",
      "3897        1\n",
      "1531        1\n",
      "5198        1\n",
      "Name: count, Length: 2998, dtype: int64\n",
      "discharge condition\n",
      "Alive       920813\n",
      "Deceased     90334\n",
      "Name: count, dtype: int64\n",
      "primary diagnosis code\n",
      "J189    20196\n",
      "U071    19515\n",
      "P073    17420\n",
      "S720    16201\n",
      "E145    16006\n",
      "        ...  \n",
      "E661        1\n",
      "M498        1\n",
      "Z901        1\n",
      "T495        1\n",
      "E769        1\n",
      "Name: count, Length: 6711, dtype: int64\n",
      "primary diagnosis name\n",
      "neumonia, no especificada                                                          20196\n",
      "covid-19, virus identificado                                                       19515\n",
      "otros recien nacidos pretermino                                                    17420\n",
      "fractura del cuello del femur                                                      16201\n",
      "diabetes mellitus no especificada, con complicaciones circulatorias perifericas    16006\n",
      "                                                                                   ...  \n",
      "tumor benigno de la vagina                                                             1\n",
      "envenenamiento por antiasmaticos, no clasificados en otra parte                        1\n",
      "palpitaciones                                                                          1\n",
      "subluxacion recidivante de la rotula                                                   1\n",
      "trastorno del metabolismo de los glucosaminoglicanos, no especificado                  1\n",
      "Name: count, Length: 6706, dtype: int64\n",
      "year\n",
      "2021    56847\n",
      "2024    55350\n",
      "2022    54732\n",
      "2023    52769\n",
      "2018    51543\n",
      "2013    51267\n",
      "2017    49777\n",
      "2016    48526\n",
      "2015    47273\n",
      "2020    47122\n",
      "2014    45066\n",
      "2012    42955\n",
      "2011    42144\n",
      "2009    40984\n",
      "2010    40858\n",
      "2008    39318\n",
      "2007    39011\n",
      "2006    36699\n",
      "2003    35782\n",
      "2005    33867\n",
      "2002    33306\n",
      "2019    28139\n",
      "2004    19406\n",
      "2001    18406\n",
      "Name: count, dtype: int64\n",
      "diagnosis_group_letter\n",
      "I    135358\n",
      "F    118644\n",
      "C     89325\n",
      "J     84360\n",
      "K     76141\n",
      "S     72405\n",
      "P     61519\n",
      "T     51904\n",
      "E     51224\n",
      "N     49447\n",
      "A     36833\n",
      "G     27946\n",
      "M     27886\n",
      "D     26090\n",
      "L     20372\n",
      "Q     20291\n",
      "U     20028\n",
      "Z     15081\n",
      "R     11846\n",
      "B     11712\n",
      "H      2697\n",
      "k        38\n",
      "Name: count, dtype: int64\n"
     ]
    }
   ],
   "source": [
    "for col in outliers.columns:\n",
    "    print(outliers[col].value_counts())"
   ]
  },
  {
   "cell_type": "code",
   "execution_count": 92,
   "id": "ca4bab35-83c0-422c-a938-8f31db755140",
   "metadata": {},
   "outputs": [
    {
     "data": {
      "text/plain": [
       "primary diagnosis name\n",
       "neumonia, no especificada                                                                20196\n",
       "covid-19, virus identificado                                                             19515\n",
       "otros recien nacidos pretermino                                                          17420\n",
       "fractura del cuello del femur                                                            16201\n",
       "diabetes mellitus no especificada, con complicaciones circulatorias perifericas          16006\n",
       "septicemia, no especificada                                                              13086\n",
       "esquizofrenia paranoide                                                                  12305\n",
       "esquizofrenia, no especificada                                                           11968\n",
       "enfermedad renal cronica, no especificada                                                11491\n",
       "diabetes mellitus no insulinodependiente con complicaciones circulatorias perifericas    10589\n",
       "sindrome de dificultad respiratoria del recien nacido                                    10540\n",
       "accidente vascular encefalico agudo, no especificado como hemorragico o isquemico         8937\n",
       "otras enfermedades cerebrovasculares especificadas                                        8644\n",
       "infeccion de vias urinarias, sitio no especificado                                        7884\n",
       "tumor maligno del estomago, parte no especificada                                         7655\n",
       "Name: count, dtype: int64"
      ]
     },
     "execution_count": 92,
     "metadata": {},
     "output_type": "execute_result"
    }
   ],
   "source": [
    "outliers[\"primary diagnosis name\"].value_counts().head(15)"
   ]
  },
  {
   "cell_type": "code",
   "execution_count": 93,
   "id": "c2eedf8e-3e0f-45d2-85a7-ce3f8f287b14",
   "metadata": {},
   "outputs": [],
   "source": [
    "out_top1000 = outliers.sort_values(by=\"length of stay\", ascending = False).head(1000)"
   ]
  },
  {
   "cell_type": "code",
   "execution_count": 94,
   "id": "cfdc13ed-8ed0-4092-9bdd-678adc82b979",
   "metadata": {},
   "outputs": [
    {
     "data": {
      "text/html": [
       "<div>\n",
       "<style scoped>\n",
       "    .dataframe tbody tr th:only-of-type {\n",
       "        vertical-align: middle;\n",
       "    }\n",
       "\n",
       "    .dataframe tbody tr th {\n",
       "        vertical-align: top;\n",
       "    }\n",
       "\n",
       "    .dataframe thead th {\n",
       "        text-align: right;\n",
       "    }\n",
       "</style>\n",
       "<table border=\"1\" class=\"dataframe\">\n",
       "  <thead>\n",
       "    <tr style=\"text-align: right;\">\n",
       "      <th></th>\n",
       "      <th>sex</th>\n",
       "      <th>age</th>\n",
       "      <th>health insurance</th>\n",
       "      <th>healthcare facility type</th>\n",
       "      <th>healthcare facility name</th>\n",
       "      <th>length of stay</th>\n",
       "      <th>discharge condition</th>\n",
       "      <th>primary diagnosis code</th>\n",
       "      <th>primary diagnosis name</th>\n",
       "      <th>year</th>\n",
       "      <th>diagnosis_group_letter</th>\n",
       "    </tr>\n",
       "  </thead>\n",
       "  <tbody>\n",
       "    <tr>\n",
       "      <th>2182477</th>\n",
       "      <td>Male</td>\n",
       "      <td>80-120</td>\n",
       "      <td>Isapre</td>\n",
       "      <td>Private</td>\n",
       "      <td>Clínica del Trabajador de la AChS Ovalle</td>\n",
       "      <td>32452</td>\n",
       "      <td>Alive</td>\n",
       "      <td>I679</td>\n",
       "      <td>enfermedad cerebrovascular, no especificada</td>\n",
       "      <td>2004</td>\n",
       "      <td>I</td>\n",
       "    </tr>\n",
       "    <tr>\n",
       "      <th>8239411</th>\n",
       "      <td>Female</td>\n",
       "      <td>80-120</td>\n",
       "      <td>Fonasa</td>\n",
       "      <td>Private</td>\n",
       "      <td>Clínica Psiquiatrica Raquel Gaete</td>\n",
       "      <td>29924</td>\n",
       "      <td>Deceased</td>\n",
       "      <td>F03X</td>\n",
       "      <td>demencia, no especificada</td>\n",
       "      <td>2010</td>\n",
       "      <td>F</td>\n",
       "    </tr>\n",
       "    <tr>\n",
       "      <th>10567377</th>\n",
       "      <td>Female</td>\n",
       "      <td>70-79</td>\n",
       "      <td>Fonasa</td>\n",
       "      <td>Private</td>\n",
       "      <td>Clínica Psiquiatrica Raquel Gaete</td>\n",
       "      <td>29235</td>\n",
       "      <td>Deceased</td>\n",
       "      <td>J189</td>\n",
       "      <td>neumonia, no especificada</td>\n",
       "      <td>2012</td>\n",
       "      <td>J</td>\n",
       "    </tr>\n",
       "    <tr>\n",
       "      <th>8991809</th>\n",
       "      <td>Female</td>\n",
       "      <td>80-120</td>\n",
       "      <td>Fonasa</td>\n",
       "      <td>Public</td>\n",
       "      <td>Instituto Psiquiátrico Dr. José Horwitz Barak ...</td>\n",
       "      <td>26855</td>\n",
       "      <td>Deceased</td>\n",
       "      <td>F209</td>\n",
       "      <td>esquizofrenia, no especificada</td>\n",
       "      <td>2010</td>\n",
       "      <td>F</td>\n",
       "    </tr>\n",
       "    <tr>\n",
       "      <th>9966755</th>\n",
       "      <td>Female</td>\n",
       "      <td>70-79</td>\n",
       "      <td>Fonasa</td>\n",
       "      <td>Private</td>\n",
       "      <td>Clínica Psiquiatrica Raquel Gaete</td>\n",
       "      <td>25837</td>\n",
       "      <td>Deceased</td>\n",
       "      <td>I64X</td>\n",
       "      <td>accidente vascular encefalico agudo, no especi...</td>\n",
       "      <td>2011</td>\n",
       "      <td>I</td>\n",
       "    </tr>\n",
       "    <tr>\n",
       "      <th>...</th>\n",
       "      <td>...</td>\n",
       "      <td>...</td>\n",
       "      <td>...</td>\n",
       "      <td>...</td>\n",
       "      <td>...</td>\n",
       "      <td>...</td>\n",
       "      <td>...</td>\n",
       "      <td>...</td>\n",
       "      <td>...</td>\n",
       "      <td>...</td>\n",
       "      <td>...</td>\n",
       "    </tr>\n",
       "    <tr>\n",
       "      <th>22255191</th>\n",
       "      <td>Male</td>\n",
       "      <td>30-39</td>\n",
       "      <td>Fonasa</td>\n",
       "      <td>Public</td>\n",
       "      <td>Unknown</td>\n",
       "      <td>3291</td>\n",
       "      <td>Alive</td>\n",
       "      <td>F203</td>\n",
       "      <td>esquizofrenia indiferenciada</td>\n",
       "      <td>2022</td>\n",
       "      <td>F</td>\n",
       "    </tr>\n",
       "    <tr>\n",
       "      <th>16692078</th>\n",
       "      <td>Male</td>\n",
       "      <td>60-69</td>\n",
       "      <td>Fonasa</td>\n",
       "      <td>Public</td>\n",
       "      <td>Hospital Psiquiátrico Dr. Philippe Pinel (Puta...</td>\n",
       "      <td>3291</td>\n",
       "      <td>Alive</td>\n",
       "      <td>F711</td>\n",
       "      <td>retraso mental moderado c/deterioro significat...</td>\n",
       "      <td>2017</td>\n",
       "      <td>F</td>\n",
       "    </tr>\n",
       "    <tr>\n",
       "      <th>7283174</th>\n",
       "      <td>Female</td>\n",
       "      <td>60-69</td>\n",
       "      <td>Fonasa</td>\n",
       "      <td>Private</td>\n",
       "      <td>Clínica Puerto Montt</td>\n",
       "      <td>3288</td>\n",
       "      <td>Alive</td>\n",
       "      <td>E149</td>\n",
       "      <td>diabetes mellitus no especificada, sin mencion...</td>\n",
       "      <td>2009</td>\n",
       "      <td>E</td>\n",
       "    </tr>\n",
       "    <tr>\n",
       "      <th>12763849</th>\n",
       "      <td>Male</td>\n",
       "      <td>80-120</td>\n",
       "      <td>Fonasa</td>\n",
       "      <td>Public</td>\n",
       "      <td>Hospital Psiquiátrico El Peral (Santiago, Puen...</td>\n",
       "      <td>3285</td>\n",
       "      <td>Alive</td>\n",
       "      <td>F209</td>\n",
       "      <td>esquizofrenia, no especificada</td>\n",
       "      <td>2014</td>\n",
       "      <td>F</td>\n",
       "    </tr>\n",
       "    <tr>\n",
       "      <th>6786701</th>\n",
       "      <td>Male</td>\n",
       "      <td>1-9</td>\n",
       "      <td>Fonasa</td>\n",
       "      <td>Public</td>\n",
       "      <td>Centro de Enfermedades Respiratorias Infantile...</td>\n",
       "      <td>3284</td>\n",
       "      <td>Alive</td>\n",
       "      <td>J449</td>\n",
       "      <td>enfermedad pulmonar obstructiva cronica, no es...</td>\n",
       "      <td>2008</td>\n",
       "      <td>J</td>\n",
       "    </tr>\n",
       "  </tbody>\n",
       "</table>\n",
       "<p>1000 rows × 11 columns</p>\n",
       "</div>"
      ],
      "text/plain": [
       "             sex     age health insurance healthcare facility type  \\\n",
       "2182477     Male  80-120           Isapre                  Private   \n",
       "8239411   Female  80-120           Fonasa                  Private   \n",
       "10567377  Female   70-79           Fonasa                  Private   \n",
       "8991809   Female  80-120           Fonasa                   Public   \n",
       "9966755   Female   70-79           Fonasa                  Private   \n",
       "...          ...     ...              ...                      ...   \n",
       "22255191    Male   30-39           Fonasa                   Public   \n",
       "16692078    Male   60-69           Fonasa                   Public   \n",
       "7283174   Female   60-69           Fonasa                  Private   \n",
       "12763849    Male  80-120           Fonasa                   Public   \n",
       "6786701     Male     1-9           Fonasa                   Public   \n",
       "\n",
       "                                   healthcare facility name  length of stay  \\\n",
       "2182477            Clínica del Trabajador de la AChS Ovalle           32452   \n",
       "8239411                   Clínica Psiquiatrica Raquel Gaete           29924   \n",
       "10567377                  Clínica Psiquiatrica Raquel Gaete           29235   \n",
       "8991809   Instituto Psiquiátrico Dr. José Horwitz Barak ...           26855   \n",
       "9966755                   Clínica Psiquiatrica Raquel Gaete           25837   \n",
       "...                                                     ...             ...   \n",
       "22255191                                            Unknown            3291   \n",
       "16692078  Hospital Psiquiátrico Dr. Philippe Pinel (Puta...            3291   \n",
       "7283174                               Clínica Puerto Montt             3288   \n",
       "12763849  Hospital Psiquiátrico El Peral (Santiago, Puen...            3285   \n",
       "6786701   Centro de Enfermedades Respiratorias Infantile...            3284   \n",
       "\n",
       "         discharge condition primary diagnosis code  \\\n",
       "2182477                Alive                   I679   \n",
       "8239411             Deceased                   F03X   \n",
       "10567377            Deceased                   J189   \n",
       "8991809             Deceased                   F209   \n",
       "9966755             Deceased                   I64X   \n",
       "...                      ...                    ...   \n",
       "22255191               Alive                   F203   \n",
       "16692078               Alive                   F711   \n",
       "7283174                Alive                   E149   \n",
       "12763849               Alive                   F209   \n",
       "6786701                Alive                   J449   \n",
       "\n",
       "                                     primary diagnosis name  year  \\\n",
       "2182477         enfermedad cerebrovascular, no especificada  2004   \n",
       "8239411                           demencia, no especificada  2010   \n",
       "10567377                          neumonia, no especificada  2012   \n",
       "8991809                      esquizofrenia, no especificada  2010   \n",
       "9966755   accidente vascular encefalico agudo, no especi...  2011   \n",
       "...                                                     ...   ...   \n",
       "22255191                       esquizofrenia indiferenciada  2022   \n",
       "16692078  retraso mental moderado c/deterioro significat...  2017   \n",
       "7283174   diabetes mellitus no especificada, sin mencion...  2009   \n",
       "12763849                     esquizofrenia, no especificada  2014   \n",
       "6786701   enfermedad pulmonar obstructiva cronica, no es...  2008   \n",
       "\n",
       "         diagnosis_group_letter  \n",
       "2182477                       I  \n",
       "8239411                       F  \n",
       "10567377                      J  \n",
       "8991809                       F  \n",
       "9966755                       I  \n",
       "...                         ...  \n",
       "22255191                      F  \n",
       "16692078                      F  \n",
       "7283174                       E  \n",
       "12763849                      F  \n",
       "6786701                       J  \n",
       "\n",
       "[1000 rows x 11 columns]"
      ]
     },
     "execution_count": 94,
     "metadata": {},
     "output_type": "execute_result"
    }
   ],
   "source": [
    "out_top1000"
   ]
  },
  {
   "cell_type": "code",
   "execution_count": 95,
   "id": "6b5994d4-a94a-49d0-b28a-6556946114a5",
   "metadata": {},
   "outputs": [
    {
     "data": {
      "text/plain": [
       "3284"
      ]
     },
     "execution_count": 95,
     "metadata": {},
     "output_type": "execute_result"
    }
   ],
   "source": [
    "out_top1000[\"length of stay\"].min()"
   ]
  },
  {
   "cell_type": "code",
   "execution_count": 96,
   "id": "5f7983cc-7f5f-4eda-ac0c-0b83de15ef90",
   "metadata": {},
   "outputs": [
    {
     "data": {
      "text/plain": [
       "primary diagnosis name\n",
       "esquizofrenia paranoide                                                                          150\n",
       "esquizofrenia, no especificada                                                                   141\n",
       "esquizofrenia residual                                                                            63\n",
       "retraso mental moderado c/deterioro significat. del comportam., que requiere atenc. o tratam.     54\n",
       "neumonia, no especificada                                                                         34\n",
       "infarto agudo del miocardio, sin otra especificacion                                              28\n",
       "retraso mental profundo c/deterioro significat. del comportam., que requiere atenc. o tratam.     26\n",
       "retraso mental, no especificado, con deterioro del comportamiento de grado no especificado        22\n",
       "esquizofrenia catatonica                                                                          20\n",
       "retraso mental moderado con deterioro del comportamiento de grado no especificado                 20\n",
       "otras esquizofrenias                                                                              15\n",
       "demencia, no especificada                                                                         14\n",
       "insuficiencia respiratoria aguda                                                                  14\n",
       "esquizofrenia hebefrenica                                                                         14\n",
       "trastorno mental organico o sintomatico, no especificado                                          13\n",
       "epilepsia, tipo no especificado                                                                   13\n",
       "trastorno del encefalo, no especificado                                                           10\n",
       "retraso mental grave con deterioro del comportamiento de grado no especificado                    10\n",
       "neumonia viral, no especificada (virus)                                                           10\n",
       "covid-19, virus identificado                                                                      10\n",
       "retraso mental profundo con deterioro del comportamiento de grado no especificado                  8\n",
       "paro cardiaco, no especificado                                                                     8\n",
       "trastorno afectivo bipolar, no especificado                                                        8\n",
       "trastorno mental, no especificado                                                                  8\n",
       "retraso mental moderado con deterioro del comportamiento nulo o minimo                             8\n",
       "trast.mental no especific. debido a lesion y a disfuncion cerebral y a enf. fisica (organico)      8\n",
       "retraso mental leve, con deterioro del comportamiento nulo o minimo                                7\n",
       "esquizofrenia indiferenciada                                                                       7\n",
       "retraso mental, no especificado, con deterioro del comportamiento nulo o minimo                    6\n",
       "retraso mental grave con deterioro del comportamiento nulo o minimo                                6\n",
       "Name: count, dtype: int64"
      ]
     },
     "execution_count": 96,
     "metadata": {},
     "output_type": "execute_result"
    }
   ],
   "source": [
    "out_top1000[\"primary diagnosis name\"].value_counts().head(30)"
   ]
  },
  {
   "cell_type": "code",
   "execution_count": 97,
   "id": "198774b8-f7b3-45ff-868c-8f08deb8dd31",
   "metadata": {},
   "outputs": [
    {
     "data": {
      "text/plain": [
       "healthcare facility name\n",
       "Hospital Psiquiátrico El Peral (Santiago, Puente Alto)                   227\n",
       "Hospital Psiquiátrico Dr. Philippe Pinel (Putaendo)                      178\n",
       "Instituto Psiquiátrico Dr. José Horwitz Barak (Santiago, Recoleta)       148\n",
       "Clínica Psiquiatrica Raquel Gaete                                        114\n",
       "Unknown                                                                  106\n",
       "Clínica del Carmen                                                        84\n",
       "Hospital Clínico de Magallanes Dr. Lautaro Navarro Avaria                 28\n",
       "Clínica Santa Elena                                                       18\n",
       "Clínica  Psiquiátrica Santa Cecilia                                       12\n",
       "Hospital Comunitario de Salud Familiar de Quirihue                        11\n",
       "Clínica San Miguel                                                         7\n",
       "Centro de Rehabilitación Limache Capredena                                 5\n",
       "Hospital Clorinda Avello (Santa Juana)                                     5\n",
       "Instituto Nacional Geriátrico Presidente Eduardo Frei Montalva             5\n",
       "Hogar Protegido Purranque                                                  4\n",
       "Hospital Dr. Leonardo Guzmán (Antofagasta)                                 3\n",
       "Hospital Centro Geriátrico Paz de la Tarde (Limache)                       3\n",
       "Hospital Dr. Ernesto Torres Galdames (Iquique)                             3\n",
       "Clínica Psiquiatrica España                                                3\n",
       "Clínica Santa Mariana IFREN                                                2\n",
       "Centro de Enfermedades Respiratorias Infantiles Josefina Martínez (D)      2\n",
       "Complejo Hospitalario Dr. Sótero del Río (Santiago, Puente Alto)           2\n",
       "Hospital Dr. Leopoldo Ortega R. (Chile Chico)                              2\n",
       "Clínica Colonial                                                           2\n",
       "Hospital Dr. Jorge Ibar (Cisnes)                                           2\n",
       "Clínica Santa Rosa                                                         1\n",
       "Centro CONIN Valparaíso                                                    1\n",
       "Complejo Hospitalario San José (Santiago, Independencia)                   1\n",
       "Clínica del Trabajador de la AChS Ovalle                                   1\n",
       "Hospital Clínico Herminda Martín (Chillán)                                 1\n",
       "Name: count, dtype: int64"
      ]
     },
     "execution_count": 97,
     "metadata": {},
     "output_type": "execute_result"
    }
   ],
   "source": [
    "out_top1000[\"healthcare facility name\"].value_counts().head(30)"
   ]
  },
  {
   "cell_type": "raw",
   "id": "57e847f6-9729-44c2-b69c-6e7693496678",
   "metadata": {},
   "source": [
    "Really long stays (ex. 3000 or more days) are mostly linked to mental health issues, so the decision is to cap the length of the stays to the xx percentile. This is based on blablabla"
   ]
  },
  {
   "cell_type": "code",
   "execution_count": 98,
   "id": "bf5d3c5d-09ec-4b8b-b1c2-c80e6cf96772",
   "metadata": {},
   "outputs": [],
   "source": [
    "mid_los = df[(df[\"length of stay\"] > upper_threshold) & (df[\"length of stay\"] <= 365)]"
   ]
  },
  {
   "cell_type": "code",
   "execution_count": 99,
   "id": "42b7470d-9ddf-4dfc-b05a-a098fb6ad3ed",
   "metadata": {},
   "outputs": [
    {
     "data": {
      "text/html": [
       "<div>\n",
       "<style scoped>\n",
       "    .dataframe tbody tr th:only-of-type {\n",
       "        vertical-align: middle;\n",
       "    }\n",
       "\n",
       "    .dataframe tbody tr th {\n",
       "        vertical-align: top;\n",
       "    }\n",
       "\n",
       "    .dataframe thead th {\n",
       "        text-align: right;\n",
       "    }\n",
       "</style>\n",
       "<table border=\"1\" class=\"dataframe\">\n",
       "  <thead>\n",
       "    <tr style=\"text-align: right;\">\n",
       "      <th></th>\n",
       "      <th>sex</th>\n",
       "      <th>age</th>\n",
       "      <th>health insurance</th>\n",
       "      <th>healthcare facility type</th>\n",
       "      <th>healthcare facility name</th>\n",
       "      <th>length of stay</th>\n",
       "      <th>discharge condition</th>\n",
       "      <th>primary diagnosis code</th>\n",
       "      <th>primary diagnosis name</th>\n",
       "      <th>year</th>\n",
       "      <th>diagnosis_group_letter</th>\n",
       "    </tr>\n",
       "  </thead>\n",
       "  <tbody>\n",
       "    <tr>\n",
       "      <th>1</th>\n",
       "      <td>Male</td>\n",
       "      <td>70-79</td>\n",
       "      <td>Fonasa</td>\n",
       "      <td>Public</td>\n",
       "      <td>Hospital Del Salvador (Santiago, Providencia)</td>\n",
       "      <td>58</td>\n",
       "      <td>Deceased</td>\n",
       "      <td>E145</td>\n",
       "      <td>diabetes mellitus no especificada, con complic...</td>\n",
       "      <td>2001</td>\n",
       "      <td>E</td>\n",
       "    </tr>\n",
       "    <tr>\n",
       "      <th>14</th>\n",
       "      <td>Male</td>\n",
       "      <td>40-49</td>\n",
       "      <td>Fonasa</td>\n",
       "      <td>Public</td>\n",
       "      <td>Instituto Nacional de Enfermedades Respiratori...</td>\n",
       "      <td>45</td>\n",
       "      <td>Deceased</td>\n",
       "      <td>J189</td>\n",
       "      <td>neumonia, no especificada</td>\n",
       "      <td>2001</td>\n",
       "      <td>J</td>\n",
       "    </tr>\n",
       "    <tr>\n",
       "      <th>18</th>\n",
       "      <td>Male</td>\n",
       "      <td>0-1</td>\n",
       "      <td>Fonasa</td>\n",
       "      <td>Public</td>\n",
       "      <td>Hospital Dr. Ernesto Torres Galdames (Iquique)</td>\n",
       "      <td>105</td>\n",
       "      <td>Deceased</td>\n",
       "      <td>P050</td>\n",
       "      <td>bajo peso para la edad gestacional</td>\n",
       "      <td>2001</td>\n",
       "      <td>P</td>\n",
       "    </tr>\n",
       "    <tr>\n",
       "      <th>19</th>\n",
       "      <td>Male</td>\n",
       "      <td>0-1</td>\n",
       "      <td>Fonasa</td>\n",
       "      <td>Public</td>\n",
       "      <td>Hospital Dr. Ernesto Torres Galdames (Iquique)</td>\n",
       "      <td>83</td>\n",
       "      <td>Deceased</td>\n",
       "      <td>A419</td>\n",
       "      <td>septicemia, no especificada</td>\n",
       "      <td>2001</td>\n",
       "      <td>A</td>\n",
       "    </tr>\n",
       "    <tr>\n",
       "      <th>21</th>\n",
       "      <td>Male</td>\n",
       "      <td>70-79</td>\n",
       "      <td>Fonasa</td>\n",
       "      <td>Public</td>\n",
       "      <td>Hospital Dr. Juan Noé Crevanni (Arica)</td>\n",
       "      <td>55</td>\n",
       "      <td>Deceased</td>\n",
       "      <td>E145</td>\n",
       "      <td>diabetes mellitus no especificada, con complic...</td>\n",
       "      <td>2001</td>\n",
       "      <td>E</td>\n",
       "    </tr>\n",
       "    <tr>\n",
       "      <th>...</th>\n",
       "      <td>...</td>\n",
       "      <td>...</td>\n",
       "      <td>...</td>\n",
       "      <td>...</td>\n",
       "      <td>...</td>\n",
       "      <td>...</td>\n",
       "      <td>...</td>\n",
       "      <td>...</td>\n",
       "      <td>...</td>\n",
       "      <td>...</td>\n",
       "      <td>...</td>\n",
       "    </tr>\n",
       "    <tr>\n",
       "      <th>25758630</th>\n",
       "      <td>Female</td>\n",
       "      <td>80-120</td>\n",
       "      <td>Isapre</td>\n",
       "      <td>Private</td>\n",
       "      <td>Unknown</td>\n",
       "      <td>30</td>\n",
       "      <td>Alive</td>\n",
       "      <td>A400</td>\n",
       "      <td>septicemia debida a estreptococo, grupo a</td>\n",
       "      <td>2024</td>\n",
       "      <td>A</td>\n",
       "    </tr>\n",
       "    <tr>\n",
       "      <th>25758648</th>\n",
       "      <td>Female</td>\n",
       "      <td>0-1</td>\n",
       "      <td>Isapre</td>\n",
       "      <td>Private</td>\n",
       "      <td>Unknown</td>\n",
       "      <td>28</td>\n",
       "      <td>Alive</td>\n",
       "      <td>P284</td>\n",
       "      <td>otras apneas del recien nacido</td>\n",
       "      <td>2024</td>\n",
       "      <td>P</td>\n",
       "    </tr>\n",
       "    <tr>\n",
       "      <th>25758649</th>\n",
       "      <td>Female</td>\n",
       "      <td>0-1</td>\n",
       "      <td>Isapre</td>\n",
       "      <td>Private</td>\n",
       "      <td>Unknown</td>\n",
       "      <td>28</td>\n",
       "      <td>Alive</td>\n",
       "      <td>P229</td>\n",
       "      <td>dificultad respiratoria del recien nacido, no ...</td>\n",
       "      <td>2024</td>\n",
       "      <td>P</td>\n",
       "    </tr>\n",
       "    <tr>\n",
       "      <th>25758650</th>\n",
       "      <td>Female</td>\n",
       "      <td>0-1</td>\n",
       "      <td>Isapre</td>\n",
       "      <td>Private</td>\n",
       "      <td>Unknown</td>\n",
       "      <td>38</td>\n",
       "      <td>Alive</td>\n",
       "      <td>P220</td>\n",
       "      <td>sindrome de dificultad respiratoria del recien...</td>\n",
       "      <td>2024</td>\n",
       "      <td>P</td>\n",
       "    </tr>\n",
       "    <tr>\n",
       "      <th>25758651</th>\n",
       "      <td>Female</td>\n",
       "      <td>0-1</td>\n",
       "      <td>Isapre</td>\n",
       "      <td>Private</td>\n",
       "      <td>Unknown</td>\n",
       "      <td>66</td>\n",
       "      <td>Alive</td>\n",
       "      <td>Q871</td>\n",
       "      <td>sindromes de malformaciones congenitas asociad...</td>\n",
       "      <td>2024</td>\n",
       "      <td>Q</td>\n",
       "    </tr>\n",
       "  </tbody>\n",
       "</table>\n",
       "<p>1002303 rows × 11 columns</p>\n",
       "</div>"
      ],
      "text/plain": [
       "             sex     age health insurance healthcare facility type  \\\n",
       "1           Male   70-79           Fonasa                   Public   \n",
       "14          Male   40-49           Fonasa                   Public   \n",
       "18          Male     0-1           Fonasa                   Public   \n",
       "19          Male     0-1           Fonasa                   Public   \n",
       "21          Male   70-79           Fonasa                   Public   \n",
       "...          ...     ...              ...                      ...   \n",
       "25758630  Female  80-120           Isapre                  Private   \n",
       "25758648  Female     0-1           Isapre                  Private   \n",
       "25758649  Female     0-1           Isapre                  Private   \n",
       "25758650  Female     0-1           Isapre                  Private   \n",
       "25758651  Female     0-1           Isapre                  Private   \n",
       "\n",
       "                                   healthcare facility name  length of stay  \\\n",
       "1             Hospital Del Salvador (Santiago, Providencia)              58   \n",
       "14        Instituto Nacional de Enfermedades Respiratori...              45   \n",
       "18           Hospital Dr. Ernesto Torres Galdames (Iquique)             105   \n",
       "19           Hospital Dr. Ernesto Torres Galdames (Iquique)              83   \n",
       "21                   Hospital Dr. Juan Noé Crevanni (Arica)              55   \n",
       "...                                                     ...             ...   \n",
       "25758630                                            Unknown              30   \n",
       "25758648                                            Unknown              28   \n",
       "25758649                                            Unknown              28   \n",
       "25758650                                            Unknown              38   \n",
       "25758651                                            Unknown              66   \n",
       "\n",
       "         discharge condition primary diagnosis code  \\\n",
       "1                   Deceased                   E145   \n",
       "14                  Deceased                   J189   \n",
       "18                  Deceased                   P050   \n",
       "19                  Deceased                   A419   \n",
       "21                  Deceased                   E145   \n",
       "...                      ...                    ...   \n",
       "25758630               Alive                   A400   \n",
       "25758648               Alive                   P284   \n",
       "25758649               Alive                   P229   \n",
       "25758650               Alive                   P220   \n",
       "25758651               Alive                   Q871   \n",
       "\n",
       "                                     primary diagnosis name  year  \\\n",
       "1         diabetes mellitus no especificada, con complic...  2001   \n",
       "14                                neumonia, no especificada  2001   \n",
       "18                       bajo peso para la edad gestacional  2001   \n",
       "19                              septicemia, no especificada  2001   \n",
       "21        diabetes mellitus no especificada, con complic...  2001   \n",
       "...                                                     ...   ...   \n",
       "25758630          septicemia debida a estreptococo, grupo a  2024   \n",
       "25758648                     otras apneas del recien nacido  2024   \n",
       "25758649  dificultad respiratoria del recien nacido, no ...  2024   \n",
       "25758650  sindrome de dificultad respiratoria del recien...  2024   \n",
       "25758651  sindromes de malformaciones congenitas asociad...  2024   \n",
       "\n",
       "         diagnosis_group_letter  \n",
       "1                             E  \n",
       "14                            J  \n",
       "18                            P  \n",
       "19                            A  \n",
       "21                            E  \n",
       "...                         ...  \n",
       "25758630                      A  \n",
       "25758648                      P  \n",
       "25758649                      P  \n",
       "25758650                      P  \n",
       "25758651                      Q  \n",
       "\n",
       "[1002303 rows x 11 columns]"
      ]
     },
     "execution_count": 99,
     "metadata": {},
     "output_type": "execute_result"
    }
   ],
   "source": [
    "mid_los"
   ]
  },
  {
   "cell_type": "code",
   "execution_count": 100,
   "id": "4d9334fe-7648-49b8-ba49-a1e508f25189",
   "metadata": {
    "scrolled": true
   },
   "outputs": [
    {
     "name": "stdout",
     "output_type": "stream",
     "text": [
      "sex\n",
      "Male      590739\n",
      "Female    411564\n",
      "Name: count, dtype: int64\n",
      "age\n",
      "60-69     179105\n",
      "70-79     170036\n",
      "50-59     140430\n",
      "80-120    105623\n",
      "0-1       105498\n",
      "40-49      97345\n",
      "30-39      70963\n",
      "20-29      60216\n",
      "10-19      47371\n",
      "1-9        25716\n",
      "Name: count, dtype: int64\n",
      "health insurance\n",
      "Fonasa    930233\n",
      "Isapre     72070\n",
      "Name: count, dtype: int64\n",
      "healthcare facility type\n",
      "Public     831823\n",
      "Private    118221\n",
      "Unknown     52259\n",
      "Name: count, dtype: int64\n",
      "healthcare facility name\n",
      "Unknown                                                                 217744\n",
      "Hospital Barros Luco Trudeau (Santiago, San Miguel)                      34243\n",
      "Hospital Clínico Regional Dr. Guillermo Grant Benavente (Concepción)     29974\n",
      "Hospital Dr. Hernán Henríquez Aravena (Temuco)                           26513\n",
      "Complejo Hospitalario Dr. Sótero del Río (Santiago, Puente Alto)         26143\n",
      "                                                                         ...  \n",
      "Clínica  San José                                                            1\n",
      "Clínica Universitaria San Pedro de la Paz                                    1\n",
      "Clínica Monteblanco                                                          1\n",
      "Consultorio Mutual de Seguridad CChC (Chillán)                               1\n",
      "Policlínico del Trabajador  Coyhaique                                        1\n",
      "Name: count, Length: 441, dtype: int64\n",
      "length of stay\n",
      "26     58955\n",
      "28     57803\n",
      "27     56991\n",
      "29     50389\n",
      "30     46508\n",
      "       ...  \n",
      "356       26\n",
      "361       26\n",
      "353       25\n",
      "317       24\n",
      "324       22\n",
      "Name: count, Length: 340, dtype: int64\n",
      "discharge condition\n",
      "Alive       913225\n",
      "Deceased     89078\n",
      "Name: count, dtype: int64\n",
      "primary diagnosis code\n",
      "J189    20067\n",
      "U071    19476\n",
      "P073    17412\n",
      "S720    16184\n",
      "E145    15995\n",
      "        ...  \n",
      "G254        1\n",
      "T381        1\n",
      "Q691        1\n",
      "Q722        1\n",
      "E769        1\n",
      "Name: count, Length: 6701, dtype: int64\n",
      "primary diagnosis name\n",
      "neumonia, no especificada                                                          20067\n",
      "covid-19, virus identificado                                                       19476\n",
      "otros recien nacidos pretermino                                                    17412\n",
      "fractura del cuello del femur                                                      16184\n",
      "diabetes mellitus no especificada, con complicaciones circulatorias perifericas    15995\n",
      "                                                                                   ...  \n",
      "fiebre paratifoidea a                                                                  1\n",
      "polipo del tracto genital femenino, no especificado                                    1\n",
      "bartonelosis cutanea y mucocutanea                                                     1\n",
      "examen y observacion consecutivos a denuncia de violacion y seduccion                  1\n",
      "trastorno del metabolismo de los glucosaminoglicanos, no especificado                  1\n",
      "Name: count, Length: 6696, dtype: int64\n",
      "year\n",
      "2021    56377\n",
      "2024    54818\n",
      "2022    54290\n",
      "2023    52259\n",
      "2018    51066\n",
      "2013    50915\n",
      "2017    49371\n",
      "2016    48118\n",
      "2015    46927\n",
      "2020    46691\n",
      "2014    44726\n",
      "2012    42649\n",
      "2011    41758\n",
      "2009    40623\n",
      "2010    40488\n",
      "2008    38969\n",
      "2007    38694\n",
      "2006    36351\n",
      "2003    35286\n",
      "2005    33611\n",
      "2002    32907\n",
      "2019    27869\n",
      "2004    19224\n",
      "2001    18316\n",
      "Name: count, dtype: int64\n",
      "diagnosis_group_letter\n",
      "I    134789\n",
      "F    114862\n",
      "C     89165\n",
      "J     83604\n",
      "K     75888\n",
      "S     72163\n",
      "P     61399\n",
      "T     51669\n",
      "E     50577\n",
      "N     49277\n",
      "A     36651\n",
      "M     27814\n",
      "G     27298\n",
      "D     26015\n",
      "L     20285\n",
      "U     19978\n",
      "Q     19953\n",
      "Z     14780\n",
      "R     11753\n",
      "B     11661\n",
      "H      2684\n",
      "k        38\n",
      "Name: count, dtype: int64\n"
     ]
    }
   ],
   "source": [
    "for col in mid_los.columns:\n",
    "    print(mid_los[col].value_counts())"
   ]
  },
  {
   "cell_type": "code",
   "execution_count": 101,
   "id": "0dcd7ff2-dc1a-4224-8deb-57b1b447a94d",
   "metadata": {},
   "outputs": [
    {
     "data": {
      "text/plain": [
       "primary diagnosis name\n",
       "neumonia, no especificada                                                                20067\n",
       "covid-19, virus identificado                                                             19476\n",
       "otros recien nacidos pretermino                                                          17412\n",
       "fractura del cuello del femur                                                            16184\n",
       "diabetes mellitus no especificada, con complicaciones circulatorias perifericas          15995\n",
       "septicemia, no especificada                                                              13018\n",
       "esquizofrenia paranoide                                                                  11526\n",
       "enfermedad renal cronica, no especificada                                                11461\n",
       "esquizofrenia, no especificada                                                           11381\n",
       "diabetes mellitus no insulinodependiente con complicaciones circulatorias perifericas    10582\n",
       "sindrome de dificultad respiratoria del recien nacido                                    10533\n",
       "accidente vascular encefalico agudo, no especificado como hemorragico o isquemico         8872\n",
       "otras enfermedades cerebrovasculares especificadas                                        8621\n",
       "infeccion de vias urinarias, sitio no especificado                                        7851\n",
       "tumor maligno del estomago, parte no especificada                                         7643\n",
       "Name: count, dtype: int64"
      ]
     },
     "execution_count": 101,
     "metadata": {},
     "output_type": "execute_result"
    }
   ],
   "source": [
    "mid_los[\"primary diagnosis name\"].value_counts().head(15)"
   ]
  },
  {
   "cell_type": "code",
   "execution_count": 102,
   "id": "952852a8-4b55-4a52-9a29-82173cfb417a",
   "metadata": {},
   "outputs": [],
   "source": [
    "mid_los_top1000 = mid_los.sort_values(by=\"length of stay\", ascending = False).head(1000)"
   ]
  },
  {
   "cell_type": "code",
   "execution_count": 103,
   "id": "21f419e4-29e2-47fc-8f8e-bebcc8a04baa",
   "metadata": {},
   "outputs": [
    {
     "data": {
      "text/html": [
       "<div>\n",
       "<style scoped>\n",
       "    .dataframe tbody tr th:only-of-type {\n",
       "        vertical-align: middle;\n",
       "    }\n",
       "\n",
       "    .dataframe tbody tr th {\n",
       "        vertical-align: top;\n",
       "    }\n",
       "\n",
       "    .dataframe thead th {\n",
       "        text-align: right;\n",
       "    }\n",
       "</style>\n",
       "<table border=\"1\" class=\"dataframe\">\n",
       "  <thead>\n",
       "    <tr style=\"text-align: right;\">\n",
       "      <th></th>\n",
       "      <th>sex</th>\n",
       "      <th>age</th>\n",
       "      <th>health insurance</th>\n",
       "      <th>healthcare facility type</th>\n",
       "      <th>healthcare facility name</th>\n",
       "      <th>length of stay</th>\n",
       "      <th>discharge condition</th>\n",
       "      <th>primary diagnosis code</th>\n",
       "      <th>primary diagnosis name</th>\n",
       "      <th>year</th>\n",
       "      <th>diagnosis_group_letter</th>\n",
       "    </tr>\n",
       "  </thead>\n",
       "  <tbody>\n",
       "    <tr>\n",
       "      <th>668276</th>\n",
       "      <td>Female</td>\n",
       "      <td>60-69</td>\n",
       "      <td>Fonasa</td>\n",
       "      <td>Public</td>\n",
       "      <td>Complejo Hospitalario Dr. Sótero del Río (Sant...</td>\n",
       "      <td>365</td>\n",
       "      <td>Alive</td>\n",
       "      <td>Z019</td>\n",
       "      <td>examen especial no especificado</td>\n",
       "      <td>2002</td>\n",
       "      <td>Z</td>\n",
       "    </tr>\n",
       "    <tr>\n",
       "      <th>510192</th>\n",
       "      <td>Male</td>\n",
       "      <td>1-9</td>\n",
       "      <td>Isapre</td>\n",
       "      <td>Private</td>\n",
       "      <td>Centro CONIN Concepción</td>\n",
       "      <td>365</td>\n",
       "      <td>Alive</td>\n",
       "      <td>E639</td>\n",
       "      <td>deficiencia nutricional, no especificada</td>\n",
       "      <td>2002</td>\n",
       "      <td>E</td>\n",
       "    </tr>\n",
       "    <tr>\n",
       "      <th>14493304</th>\n",
       "      <td>Female</td>\n",
       "      <td>40-49</td>\n",
       "      <td>Fonasa</td>\n",
       "      <td>Public</td>\n",
       "      <td>Complejo Hospitalario Dr. Sótero del Río (Sant...</td>\n",
       "      <td>365</td>\n",
       "      <td>Alive</td>\n",
       "      <td>T844</td>\n",
       "      <td>complic.mecanica de otros dispositivos protesi...</td>\n",
       "      <td>2015</td>\n",
       "      <td>T</td>\n",
       "    </tr>\n",
       "    <tr>\n",
       "      <th>7926846</th>\n",
       "      <td>Male</td>\n",
       "      <td>1-9</td>\n",
       "      <td>Fonasa</td>\n",
       "      <td>Private</td>\n",
       "      <td>Clínica Universitaria de Puerto Montt S.A.</td>\n",
       "      <td>365</td>\n",
       "      <td>Alive</td>\n",
       "      <td>S420</td>\n",
       "      <td>fractura de la clavicula</td>\n",
       "      <td>2009</td>\n",
       "      <td>S</td>\n",
       "    </tr>\n",
       "    <tr>\n",
       "      <th>879632</th>\n",
       "      <td>Male</td>\n",
       "      <td>10-19</td>\n",
       "      <td>Fonasa</td>\n",
       "      <td>Public</td>\n",
       "      <td>Hospital Santa Elisa (Mariquina) (D)</td>\n",
       "      <td>365</td>\n",
       "      <td>Alive</td>\n",
       "      <td>F238</td>\n",
       "      <td>otros trastornos psicoticos agudos y transitorios</td>\n",
       "      <td>2002</td>\n",
       "      <td>F</td>\n",
       "    </tr>\n",
       "    <tr>\n",
       "      <th>...</th>\n",
       "      <td>...</td>\n",
       "      <td>...</td>\n",
       "      <td>...</td>\n",
       "      <td>...</td>\n",
       "      <td>...</td>\n",
       "      <td>...</td>\n",
       "      <td>...</td>\n",
       "      <td>...</td>\n",
       "      <td>...</td>\n",
       "      <td>...</td>\n",
       "      <td>...</td>\n",
       "    </tr>\n",
       "    <tr>\n",
       "      <th>18587403</th>\n",
       "      <td>Male</td>\n",
       "      <td>30-39</td>\n",
       "      <td>Fonasa</td>\n",
       "      <td>Public</td>\n",
       "      <td>Hospital Clínico Regional Dr. Guillermo Grant ...</td>\n",
       "      <td>339</td>\n",
       "      <td>Alive</td>\n",
       "      <td>A419</td>\n",
       "      <td>septicemia, no especificada</td>\n",
       "      <td>2019</td>\n",
       "      <td>A</td>\n",
       "    </tr>\n",
       "    <tr>\n",
       "      <th>14318084</th>\n",
       "      <td>Male</td>\n",
       "      <td>50-59</td>\n",
       "      <td>Isapre</td>\n",
       "      <td>Private</td>\n",
       "      <td>Hospital Clínico Viña del Mar</td>\n",
       "      <td>339</td>\n",
       "      <td>Alive</td>\n",
       "      <td>G931</td>\n",
       "      <td>lesion cerebral anoxica, no clasificada en otr...</td>\n",
       "      <td>2015</td>\n",
       "      <td>G</td>\n",
       "    </tr>\n",
       "    <tr>\n",
       "      <th>19730943</th>\n",
       "      <td>Female</td>\n",
       "      <td>60-69</td>\n",
       "      <td>Fonasa</td>\n",
       "      <td>Public</td>\n",
       "      <td>Hospital Carlos Van Buren (Valparaíso)</td>\n",
       "      <td>339</td>\n",
       "      <td>Alive</td>\n",
       "      <td>I619</td>\n",
       "      <td>hemorragia intraencefalica, no especificada</td>\n",
       "      <td>2020</td>\n",
       "      <td>I</td>\n",
       "    </tr>\n",
       "    <tr>\n",
       "      <th>15693092</th>\n",
       "      <td>Male</td>\n",
       "      <td>30-39</td>\n",
       "      <td>Fonasa</td>\n",
       "      <td>Public</td>\n",
       "      <td>Hospital San José de Maipo</td>\n",
       "      <td>339</td>\n",
       "      <td>Alive</td>\n",
       "      <td>Z549</td>\n",
       "      <td>convalecencia consecutiva a tratamiento no esp...</td>\n",
       "      <td>2016</td>\n",
       "      <td>Z</td>\n",
       "    </tr>\n",
       "    <tr>\n",
       "      <th>19160594</th>\n",
       "      <td>Female</td>\n",
       "      <td>50-59</td>\n",
       "      <td>Fonasa</td>\n",
       "      <td>Public</td>\n",
       "      <td>Hospital Psiquiátrico Dr. Philippe Pinel (Puta...</td>\n",
       "      <td>339</td>\n",
       "      <td>Alive</td>\n",
       "      <td>F200</td>\n",
       "      <td>esquizofrenia paranoide</td>\n",
       "      <td>2020</td>\n",
       "      <td>F</td>\n",
       "    </tr>\n",
       "  </tbody>\n",
       "</table>\n",
       "<p>1000 rows × 11 columns</p>\n",
       "</div>"
      ],
      "text/plain": [
       "             sex    age health insurance healthcare facility type  \\\n",
       "668276    Female  60-69           Fonasa                   Public   \n",
       "510192      Male    1-9           Isapre                  Private   \n",
       "14493304  Female  40-49           Fonasa                   Public   \n",
       "7926846     Male    1-9           Fonasa                  Private   \n",
       "879632      Male  10-19           Fonasa                   Public   \n",
       "...          ...    ...              ...                      ...   \n",
       "18587403    Male  30-39           Fonasa                   Public   \n",
       "14318084    Male  50-59           Isapre                  Private   \n",
       "19730943  Female  60-69           Fonasa                   Public   \n",
       "15693092    Male  30-39           Fonasa                   Public   \n",
       "19160594  Female  50-59           Fonasa                   Public   \n",
       "\n",
       "                                   healthcare facility name  length of stay  \\\n",
       "668276    Complejo Hospitalario Dr. Sótero del Río (Sant...             365   \n",
       "510192                             Centro CONIN Concepción              365   \n",
       "14493304  Complejo Hospitalario Dr. Sótero del Río (Sant...             365   \n",
       "7926846          Clínica Universitaria de Puerto Montt S.A.             365   \n",
       "879632                 Hospital Santa Elisa (Mariquina) (D)             365   \n",
       "...                                                     ...             ...   \n",
       "18587403  Hospital Clínico Regional Dr. Guillermo Grant ...             339   \n",
       "14318084                     Hospital Clínico Viña del Mar              339   \n",
       "19730943             Hospital Carlos Van Buren (Valparaíso)             339   \n",
       "15693092                         Hospital San José de Maipo             339   \n",
       "19160594  Hospital Psiquiátrico Dr. Philippe Pinel (Puta...             339   \n",
       "\n",
       "         discharge condition primary diagnosis code  \\\n",
       "668276                 Alive                   Z019   \n",
       "510192                 Alive                   E639   \n",
       "14493304               Alive                   T844   \n",
       "7926846                Alive                   S420   \n",
       "879632                 Alive                   F238   \n",
       "...                      ...                    ...   \n",
       "18587403               Alive                   A419   \n",
       "14318084               Alive                   G931   \n",
       "19730943               Alive                   I619   \n",
       "15693092               Alive                   Z549   \n",
       "19160594               Alive                   F200   \n",
       "\n",
       "                                     primary diagnosis name  year  \\\n",
       "668276                      examen especial no especificado  2002   \n",
       "510192             deficiencia nutricional, no especificada  2002   \n",
       "14493304  complic.mecanica de otros dispositivos protesi...  2015   \n",
       "7926846                            fractura de la clavicula  2009   \n",
       "879632    otros trastornos psicoticos agudos y transitorios  2002   \n",
       "...                                                     ...   ...   \n",
       "18587403                        septicemia, no especificada  2019   \n",
       "14318084  lesion cerebral anoxica, no clasificada en otr...  2015   \n",
       "19730943        hemorragia intraencefalica, no especificada  2020   \n",
       "15693092  convalecencia consecutiva a tratamiento no esp...  2016   \n",
       "19160594                            esquizofrenia paranoide  2020   \n",
       "\n",
       "         diagnosis_group_letter  \n",
       "668276                        Z  \n",
       "510192                        E  \n",
       "14493304                      T  \n",
       "7926846                       S  \n",
       "879632                        F  \n",
       "...                         ...  \n",
       "18587403                      A  \n",
       "14318084                      G  \n",
       "19730943                      I  \n",
       "15693092                      Z  \n",
       "19160594                      F  \n",
       "\n",
       "[1000 rows x 11 columns]"
      ]
     },
     "execution_count": 103,
     "metadata": {},
     "output_type": "execute_result"
    }
   ],
   "source": [
    "mid_los_top1000"
   ]
  },
  {
   "cell_type": "code",
   "execution_count": 104,
   "id": "039d570b-7cc0-466a-acac-6f0a697ad04a",
   "metadata": {},
   "outputs": [
    {
     "data": {
      "text/plain": [
       "primary diagnosis name\n",
       "desnutricion proteicocalorica no especificada                                                    72\n",
       "desnutricion proteicocalorica leve                                                               67\n",
       "esquizofrenia paranoide                                                                          67\n",
       "esquizofrenia, no especificada                                                                   46\n",
       "desnutricion proteicocalorica moderada                                                           20\n",
       "retraso mental moderado c/deterioro significat. del comportam., que requiere atenc. o tratam.    20\n",
       "esquizofrenia hebefrenica                                                                        17\n",
       "esquizofrenia indiferenciada                                                                     15\n",
       "problema no especificado relacionado con el ambiente social                                      14\n",
       "demencia, no especificada                                                                        12\n",
       "tuberculosis de pulmon, sin mencion de confirmacion bacteriologica o histologica                 11\n",
       "septicemia, no especificada                                                                      11\n",
       "accidente vascular encefalico agudo, no especificado como hemorragico o isquemico                10\n",
       "desnutricion proteicocalorica severa, no especificada                                            10\n",
       "enfermedad pulmonar obstructiva cronica, no especificada                                          9\n",
       "otros problemas relacionados con el ambiente social                                               9\n",
       "secuelas de enfermedad cerebrovascular, no especificada como hemorragica u oclusiva               8\n",
       "traumatismo intracraneal, no especificado                                                         7\n",
       "insuficiencia respiratoria cronica                                                                7\n",
       "trastorno afectivo bipolar, no especificado                                                       7\n",
       "negligencia o abandono                                                                            7\n",
       "trast.mental no especific. debido a lesion y a disfuncion cerebral y a enf. fisica (organico)     6\n",
       "paralisis cerebral infantil, sin otra especificacion                                              6\n",
       "esquizofrenia catatonica                                                                          6\n",
       "insuficiencia respiratoria, no especificada                                                       5\n",
       "epilepsia, tipo no especificado                                                                   5\n",
       "tumor maligno de la prostata                                                                      5\n",
       "neumonia, no especificada                                                                         5\n",
       "esquizofrenia residual                                                                            5\n",
       "paralisis cerebral espastica                                                                      4\n",
       "Name: count, dtype: int64"
      ]
     },
     "execution_count": 104,
     "metadata": {},
     "output_type": "execute_result"
    }
   ],
   "source": [
    "mid_los_top1000[\"primary diagnosis name\"].value_counts().head(30)"
   ]
  },
  {
   "cell_type": "code",
   "execution_count": 105,
   "id": "db09edfe-1481-4aee-9117-a37c77dfa7d9",
   "metadata": {},
   "outputs": [
    {
     "data": {
      "text/plain": [
       "healthcare facility name\n",
       "Unknown                                                                  202\n",
       "Hospital Psiquiátrico Dr. Philippe Pinel (Putaendo)                      105\n",
       "Instituto Psiquiátrico Dr. José Horwitz Barak (Santiago, Recoleta)        59\n",
       "Centro CONIN Valdivia                                                     41\n",
       "Hospital San José de Maipo                                                35\n",
       "Centro CONIN Credes                                                       29\n",
       "Hospital Del Salvador (Valparaíso)                                        23\n",
       "Centro Nutricional CONIN de Viña del Mar                                  21\n",
       "Hospital Clínico Regional Dr. Guillermo Grant Benavente (Concepción)      20\n",
       "Centro Nutricional CONIN de San Antonio                                   17\n",
       "Centro CONIN Temuco                                                       17\n",
       "Centro de Enfermedades Respiratorias Infantiles Josefina Martínez (D)     16\n",
       "Hospital Dr. Leonardo Guzmán (Antofagasta)                                14\n",
       "Centro CONIN Curicó                                                       12\n",
       "CONIN Traiguén                                                            12\n",
       "CONIN Linares                                                             12\n",
       "Complejo Hospitalario Dr. Sótero del Río (Santiago, Puente Alto)          12\n",
       "Clínica Familia                                                           11\n",
       "Centro CONIN Los Ángeles                                                  11\n",
       "Hospital Psiquiátrico El Peral (Santiago, Puente Alto)                    11\n",
       "Clínica Los Coihues                                                       11\n",
       "Hospital de Puerto Montt                                                  10\n",
       "Centro CONIN Chillán                                                      10\n",
       "Hospital Barros Luco Trudeau (Santiago, San Miguel)                        9\n",
       "Hospital Centro Geriátrico Paz de la Tarde (Limache)                       9\n",
       "Hospital Dr. César Garavagno Burotto (Talca)                               8\n",
       "Hospital San Juan de Dios (Santiago, Santiago)                             8\n",
       "Centro CONIN Concepción                                                    7\n",
       "Hospital Juana Ross de Edwards (Peñablanca, Villa Alemana)                 6\n",
       "Servicios Clínicos Neuropsiquiátricos y Geriátricos R y G Limitada         6\n",
       "Name: count, dtype: int64"
      ]
     },
     "execution_count": 105,
     "metadata": {},
     "output_type": "execute_result"
    }
   ],
   "source": [
    "mid_los_top1000[\"healthcare facility name\"].value_counts().head(30)"
   ]
  },
  {
   "cell_type": "markdown",
   "id": "dac84928-8ed4-4d8c-96b1-49634163b219",
   "metadata": {},
   "source": [
    "# Capping (winsorize) outliers"
   ]
  },
  {
   "cell_type": "raw",
   "id": "104ff9c6-e898-4851-9e59-2e9bee4fcee3",
   "metadata": {},
   "source": [
    "3,94% (1.011.147 rows) of length of stays are outliers (more than 25 days) which is not a significant proportion of the data. However, some length of stay are really long, affecting the mean of the variable, but more importantly potencially affecting future insights, like hospital efficiency. It was found out that mainly long stays correspond to patients with mental health issues and neumonia, so the centers that are specialized in those health problems could be unfairly considered as less efficient than others. Based on this and considering the purpose of the project, both the \"raw data\" (with outliers) and data with capped outliers will be kept in 2 different columns. The first one represents the reality, helping analyzing trends and patterns over the time and the second one allows to prioritze the bulk of the data and protect its importance from outliers distortions. "
   ]
  },
  {
   "cell_type": "markdown",
   "id": "08c16338-566f-4616-9739-6bf9fda6f54c",
   "metadata": {},
   "source": [
    "# Anotar comentarios en cada celda explicando el codigo"
   ]
  },
  {
   "cell_type": "code",
   "execution_count": 108,
   "id": "6ed9f88e-48cf-44a4-9689-701be7e76f72",
   "metadata": {},
   "outputs": [
    {
     "name": "stdout",
     "output_type": "stream",
     "text": [
      "Mean with outliers: 6.756565392695241\n",
      "Median with outliers: 3.0\n",
      "Mean without outliers: 4.4637734076290405\n",
      "Median without outliers: 3.0\n"
     ]
    }
   ],
   "source": [
    "mean_original = los.mean()\n",
    "median_original = los.median()\n",
    "mean_wo_outliers = los[(los >= lower_threshold) & (los <= upper_threshold)].mean()\n",
    "median_wo_outliers = los[(los >= lower_threshold) & (los <= upper_threshold)].median()\n",
    "\n",
    "\n",
    "\n",
    "print(\"Mean with outliers:\", mean_original)\n",
    "print(\"Median with outliers:\", median_original)\n",
    "print(\"Mean without outliers:\", mean_wo_outliers)\n",
    "print(\"Median without outliers:\", median_wo_outliers)"
   ]
  },
  {
   "cell_type": "code",
   "execution_count": 109,
   "id": "10e5a0e0-ca19-4611-9995-9b7ce9c74f6d",
   "metadata": {},
   "outputs": [
    {
     "name": "stdout",
     "output_type": "stream",
     "text": [
      "0.950     22.0\n",
      "0.990     53.0\n",
      "0.995     75.0\n",
      "0.999    176.0\n",
      "Name: length of stay, dtype: float64\n"
     ]
    }
   ],
   "source": [
    "print(df['length of stay'].quantile([0.95, 0.99, 0.995, 0.999]))"
   ]
  },
  {
   "cell_type": "code",
   "execution_count": 110,
   "id": "549836c5-7e45-4130-8d18-afd6d8a19721",
   "metadata": {},
   "outputs": [
    {
     "name": "stdout",
     "output_type": "stream",
     "text": [
      "25565 values are capped\n"
     ]
    }
   ],
   "source": [
    "capped_count = (df['length of stay'] > 176).sum()\n",
    "print(capped_count, \"values are capped\")"
   ]
  },
  {
   "cell_type": "code",
   "execution_count": 111,
   "id": "977daf47-3559-4e41-bbf3-d20bb219cdfd",
   "metadata": {},
   "outputs": [],
   "source": [
    "df['LOS_capped'] = np.minimum(df['length of stay'], 176)"
   ]
  },
  {
   "cell_type": "code",
   "execution_count": 112,
   "id": "d98a9c4e-baaa-4697-8c45-27443222e9c5",
   "metadata": {},
   "outputs": [
    {
     "data": {
      "text/plain": [
       "176"
      ]
     },
     "execution_count": 112,
     "metadata": {},
     "output_type": "execute_result"
    }
   ],
   "source": [
    "df['LOS_capped'].max()"
   ]
  },
  {
   "cell_type": "code",
   "execution_count": 113,
   "id": "3be2e919-da62-47a4-b36d-88ff68b872ad",
   "metadata": {},
   "outputs": [
    {
     "data": {
      "text/plain": [
       "sex                         0\n",
       "age                         0\n",
       "health insurance            0\n",
       "healthcare facility type    0\n",
       "healthcare facility name    0\n",
       "length of stay              0\n",
       "discharge condition         0\n",
       "primary diagnosis code      0\n",
       "primary diagnosis name      0\n",
       "year                        0\n",
       "diagnosis_group_letter      0\n",
       "LOS_capped                  0\n",
       "dtype: int64"
      ]
     },
     "execution_count": 113,
     "metadata": {},
     "output_type": "execute_result"
    }
   ],
   "source": [
    "df.isna().sum()"
   ]
  },
  {
   "cell_type": "code",
   "execution_count": 114,
   "id": "1ffa6d78-8f18-43c0-bdae-718b1efe2903",
   "metadata": {},
   "outputs": [
    {
     "data": {
      "image/png": "[encoded data removed]",
      "text/plain": [
       "<Figure size 1200x500 with 2 Axes>"
      ]
     },
     "metadata": {},
     "output_type": "display_data"
    }
   ],
   "source": [
    "\n",
    "\n",
    "import numpy as np\n",
    "import matplotlib.pyplot as plt\n",
    "\n",
    "# Apply log1p transform (handles zeros safely)\n",
    "log_raw = np.log1p(df['length of stay'])\n",
    "log_capped = np.log1p(df['LOS_capped'])\n",
    "\n",
    "plt.figure(figsize=(12,5))\n",
    "\n",
    "# Plot histograms side by side\n",
    "ax1 = plt.subplot(1,2,1)\n",
    "ax1.hist(log_raw, bins=50, alpha=0.7, edgecolor='black')\n",
    "ax1.set_title(\"Log-Transformed Raw LOS\")\n",
    "ax1.set_xlabel(\"log(1 + Days)\")\n",
    "ax1.set_ylabel(\"Frequency\")\n",
    "\n",
    "ax2 = plt.subplot(1,2,2)\n",
    "ax2.hist(log_capped, bins=50, alpha=0.7, edgecolor='black')\n",
    "ax2.set_title(\"Log-Transformed Capped LOS\")\n",
    "ax2.set_xlabel(\"log(1 + Days)\")\n",
    "ax2.set_ylabel(\"Frequency\")\n",
    "\n",
    "# Synchronize axes for comparability\n",
    "x_min = min(log_raw.min(), log_capped.min())\n",
    "x_max = max(log_raw.max(), log_capped.max())\n",
    "y_max = max(ax1.get_ylim()[1], ax2.get_ylim()[1])\n",
    "\n",
    "ax1.set_xlim(x_min, x_max)\n",
    "ax2.set_xlim(x_min, x_max)\n",
    "ax1.set_ylim(0, y_max)\n",
    "ax2.set_ylim(0, y_max)\n",
    "\n",
    "plt.tight_layout()\n",
    "plt.show()\n",
    "\n"
   ]
  },
  {
   "cell_type": "code",
   "execution_count": 115,
   "id": "6a34ae93-84c4-4f6f-8d78-781bb52599f7",
   "metadata": {},
   "outputs": [
    {
     "data": {
      "image/png": "[encoded data removed]",
      "text/plain": [
       "<Figure size 600x500 with 1 Axes>"
      ]
     },
     "metadata": {},
     "output_type": "display_data"
    }
   ],
   "source": [
    "plt.figure(figsize=(6,5))\n",
    "plt.boxplot([df['length of stay'], df['LOS_capped']], labels=['Raw', 'Capped'])\n",
    "plt.title(\"LOS vs Capped LOS\")\n",
    "plt.ylabel(\"Days\")\n",
    "plt.yscale(\"log\")  # log scale to handle skew\n",
    "plt.show()\n"
   ]
  },
  {
   "cell_type": "raw",
   "id": "613ff6a8-7175-4460-80d7-fe6cecdc5ddc",
   "metadata": {},
   "source": [
    "When capping the outliers, it was chosen to set the maximum value on the percentile 99.9. This means outliers over it will be capped to the length of stay equal to 176 days. With this measure are achieved two goals simultaniously. First, 99,9% of the data is preserved, meaning just 25.565 values capped, keeping the data feasible; second, the distribution of the data is not heavily affected by outliers, allowing to focus the analysis and insights on the bulk of the data, where the information is more representative of general patterns. Both columns show a similar distribution of the data when mean is not considered, giving to the median and other measures more importance."
   ]
  },
  {
   "cell_type": "raw",
   "id": "9927e43e-97a4-4119-8a2f-ce0158ba88a8",
   "metadata": {},
   "source": [
    "Summary of Length of Stay\n",
    "\n",
    "Counts / Range:\n",
    "N = 25.758.741 valid records\n",
    "Range: 1 – 32.452 days (before capping)\n",
    "\n",
    "Central tendency:\n",
    "Mean (before outlier treatment): 6.76\n",
    "Median (before outlier treatment): 3.0\n",
    "Mean (after outlier treatment): 4.46\n",
    "Median (after outlier treatment): 3.0\n",
    "Mode: 1.0 day\n",
    "\n",
    "Dispersion:\n",
    "Standard deviation: 59.94\n",
    "IQR (25th–75th percentile): 1 – 7 days\n",
    "95th percentile: 22 days\n",
    "99th percentile: 176 days (capping threshold applied)\n",
    "\n",
    "Effect of Outliers:\n",
    "Mean dropped from 6.76 → 4.46 after capping\n",
    "Median stayed constant at 3.0\n",
    "Indicates strong right skew driven by extreme stays\n",
    "\n",
    "Distribution Shape:\n",
    "Visualization: long right tail, concentration between 1–10 days\n",
    "\n",
    "Balance / Interpretation:\n",
    "Most patients stay less than a week\n",
    "Small fraction of extreme values distort averages\n",
    "After capping, distribution better reflects typical patient experience\n",
    "\n",
    "Context:\n",
    "Hospitals likely discharge the majority of patients within a short window\n",
    "Extreme LOS cases represent long term, special care or complications\n",
    "Keeping both raw and capped versions allows balancing real-world extremes with statistical stability"
   ]
  },
  {
   "cell_type": "markdown",
   "id": "5a03223b-7609-472e-9e15-872306792041",
   "metadata": {},
   "source": [
    "# Bivariate and Multivariate Analysis"
   ]
  },
  {
   "cell_type": "markdown",
   "id": "c6a09a88-2e82-4c4b-8861-8f9da28ecfb2",
   "metadata": {},
   "source": [
    "# Guiding Questions"
   ]
  },
  {
   "cell_type": "markdown",
   "id": "1f7fb4be-bdae-449a-9377-01b5b5d32efb",
   "metadata": {},
   "source": [
    "# Visualizations"
   ]
  },
  {
   "cell_type": "markdown",
   "id": "1a46cf4b-fe86-40d1-ad23-6ba32010fe44",
   "metadata": {},
   "source": [
    "# Questions"
   ]
  },
  {
   "cell_type": "raw",
   "id": "413ce1f0-e53a-42c7-b413-e58095daf2e7",
   "metadata": {},
   "source": [
    "1. How the distribution of the data is affected if healthy newborns are not considered in the analysis?"
   ]
  },
  {
   "cell_type": "markdown",
   "id": "5eeaa33f-200c-463b-ae18-92619a43ed89",
   "metadata": {},
   "source": [
    "# Insights"
   ]
  },
  {
   "cell_type": "raw",
   "id": "793e63ea-b778-46c0-9d19-fa733f5c77da",
   "metadata": {},
   "source": []
  },
  {
   "cell_type": "markdown",
   "id": "e1673bdc-9f1d-4b00-b2c2-4e28a0b5a8dc",
   "metadata": {},
   "source": [
    "# Ideas or considerations"
   ]
  },
  {
   "cell_type": "raw",
   "id": "a297fd67-b2ec-4953-ae76-2f56f3ca7f03",
   "metadata": {},
   "source": [
    "👉Maybe don’t separate diagnoses, but at least flag specialty hospitals vs general hospitals. That’s a cleaner comparison.\n",
    "👉Check if long stays are increasing, decreasing, or stable over time. If psychiatric long-term care got restructured (e.g., deinstitutionalization), you’ll want that story.\n",
    "👉 Always report medians + IQR alongside means.\n",
    "👉 For center efficiency, avoid depending on one metric (mean LOS is too fragile).\n",
    "\n",
    "Q1 – Trends over time\n",
    "\n",
    "Use Median to see the stable central trend.\n",
    "\n",
    "Use Capped Mean to monitor resource use (avoids distortion from extreme cases).\n",
    "\n",
    "⚠️ Avoid raw mean, it will give a false sense of increase/decrease.\n",
    "\n",
    "Q2 – Differences by patient characteristics (sex, age, insurance, etc.)\n",
    "\n",
    "Use Median for fair comparisons.\n",
    "\n",
    "Optionally add IQR (spread) to show variability.\n",
    "\n",
    "If you want to see if a group has “more long stays,” add proportion of outliers.\n",
    "\n",
    "Q3 – Efficiency of health centers\n",
    "\n",
    "Use Median → “typical discharge efficiency.”\n",
    "\n",
    "Use Capped Mean → “adjusted workload.”\n",
    "\n",
    "Report outlier percentage → shows if a center accumulates unusually long stays (psychiatry, chronic, etc.)."
   ]
  },
  {
   "cell_type": "code",
   "execution_count": null,
   "id": "0062a1d0-63ab-4e74-a8ff-c4f7ebe8b539",
   "metadata": {},
   "outputs": [],
   "source": []
  }
 ],
 "metadata": {
  "kernelspec": {
   "display_name": "Python 3 (ipykernel)",
   "language": "python",
   "name": "python3"
  },
  "language_info": {
   "codemirror_mode": {
    "name": "ipython",
    "version": 3
   },
   "file_extension": ".py",
   "mimetype": "text/x-python",
   "name": "python",
   "nbconvert_exporter": "python",
   "pygments_lexer": "ipython3",
   "version": "3.12.4"
  }
 },
 "nbformat": 4,
 "nbformat_minor": 5
}
