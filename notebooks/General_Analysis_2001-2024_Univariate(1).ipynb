{
 "cells": [
  {
   "cell_type": "markdown",
   "id": "51d78b2d-d952-46bd-a044-bcf31cf3041a",
   "metadata": {},
   "source": [
    "# 1. Introduction"
   ]
  },
  {
   "cell_type": "raw",
   "id": "9c079ee7-1fb1-4ad4-b70d-49222eca900e",
   "metadata": {},
   "source": [
    "Dataset description:\n",
    "\n",
    "Origin -> \"Departamento de Estadísticas e Información de Salud\" (DEIS), Ministerio de Salud, Chile\n",
    "\n",
    "Size -> 25.758.741 rows and 10 columns\n",
    "\n",
    "Time frame -> From year 2001 to 2024\n",
    "\n",
    "Units of observation -> Discharges\n",
    "\n",
    "Objective: Analyze the evolution of diagnosis through hospital discharges between years 2001 and 2024 in Chile\n",
    "\n",
    "Guiding questions:\n",
    "\n",
    "1. ¿What is the trend in the prevalence of health problems over the years?\n",
    "2. ¿Is there a relationship between individual characteristics (sex, age, health insurance) and specific health problems?\n",
    "3.  What type of health centers (public or private) and specificall which onesy use more or fewer bed-days to solve health problems? 2001-2024 in general and 2001-2020 in specifi\n",
    "3.1.  To what extent is the efficiency of health centers linked to individual characteristics of the population served and/or their financing? Depends on finding ins Q.2 2001-2024 in general and 2001-2020 in specific]"
   ]
  },
  {
   "cell_type": "markdown",
   "id": "d91cf0a4-ddc2-442e-bd87-65c4aebeb6f9",
   "metadata": {},
   "source": [
    "# Libraries and Data importation"
   ]
  },
  {
   "cell_type": "code",
   "execution_count": 3,
   "id": "731074ac-dd86-4c11-b449-5ad7863aec7a",
   "metadata": {},
   "outputs": [],
   "source": [
    "# Import libraries\n",
    "import pandas as pd\n",
    "import numpy as np\n",
    "import matplotlib.pyplot as plt\n",
    "import seaborn as sns"
   ]
  },
  {
   "cell_type": "code",
   "execution_count": 4,
   "id": "62458c14-55bb-4aa6-ba9a-318299904782",
   "metadata": {},
   "outputs": [],
   "source": [
    "# Import full dataframe\n",
    "df = pd.read_parquet(r\"C:\\Users\\mirko\\Desktop\\Curso Data Science DL\\EDAHospDischarges_Chile2001-2024\\data\\processed\\Discharges_2001-2024_analysis_finalversionV2.parquet\")"
   ]
  },
  {
   "cell_type": "markdown",
   "id": "8eb91693-65c4-43d3-9ae4-f64f090e4416",
   "metadata": {},
   "source": [
    "# 2. Data Overview"
   ]
  },
  {
   "cell_type": "markdown",
   "id": "712e34c7-c4fe-473c-8e29-a41574b0d426",
   "metadata": {},
   "source": [
    "# Shape of the dataset (rows, columns)."
   ]
  },
  {
   "cell_type": "code",
   "execution_count": 7,
   "id": "8c040d8d-d8c5-4372-ad10-880b313dd287",
   "metadata": {},
   "outputs": [
    {
     "data": {
      "text/html": [
       "<div>\n",
       "<style scoped>\n",
       "    .dataframe tbody tr th:only-of-type {\n",
       "        vertical-align: middle;\n",
       "    }\n",
       "\n",
       "    .dataframe tbody tr th {\n",
       "        vertical-align: top;\n",
       "    }\n",
       "\n",
       "    .dataframe thead th {\n",
       "        text-align: right;\n",
       "    }\n",
       "</style>\n",
       "<table border=\"1\" class=\"dataframe\">\n",
       "  <thead>\n",
       "    <tr style=\"text-align: right;\">\n",
       "      <th></th>\n",
       "      <th>sex</th>\n",
       "      <th>age</th>\n",
       "      <th>health insurance</th>\n",
       "      <th>healthcare facility type</th>\n",
       "      <th>healthcare facility name</th>\n",
       "      <th>length of stay</th>\n",
       "      <th>discharge condition</th>\n",
       "      <th>primary diagnosis code</th>\n",
       "      <th>primary diagnosis name</th>\n",
       "      <th>year</th>\n",
       "    </tr>\n",
       "  </thead>\n",
       "  <tbody>\n",
       "    <tr>\n",
       "      <th>0</th>\n",
       "      <td>Male</td>\n",
       "      <td>60-69</td>\n",
       "      <td>Fonasa</td>\n",
       "      <td>Private</td>\n",
       "      <td>Clínica Familia</td>\n",
       "      <td>2</td>\n",
       "      <td>Deceased</td>\n",
       "      <td>C780</td>\n",
       "      <td>tumor maligno secundario del pulmon</td>\n",
       "      <td>2001</td>\n",
       "    </tr>\n",
       "    <tr>\n",
       "      <th>1</th>\n",
       "      <td>Male</td>\n",
       "      <td>70-79</td>\n",
       "      <td>Fonasa</td>\n",
       "      <td>Public</td>\n",
       "      <td>Hospital Del Salvador (Santiago, Providencia)</td>\n",
       "      <td>58</td>\n",
       "      <td>Deceased</td>\n",
       "      <td>E145</td>\n",
       "      <td>diabetes mellitus no especificada, con complic...</td>\n",
       "      <td>2001</td>\n",
       "    </tr>\n",
       "    <tr>\n",
       "      <th>2</th>\n",
       "      <td>Male</td>\n",
       "      <td>70-79</td>\n",
       "      <td>Fonasa</td>\n",
       "      <td>Public</td>\n",
       "      <td>Hospital Del Salvador (Santiago, Providencia)</td>\n",
       "      <td>12</td>\n",
       "      <td>Deceased</td>\n",
       "      <td>J189</td>\n",
       "      <td>neumonia, no especificada</td>\n",
       "      <td>2001</td>\n",
       "    </tr>\n",
       "    <tr>\n",
       "      <th>3</th>\n",
       "      <td>Male</td>\n",
       "      <td>1-9</td>\n",
       "      <td>Fonasa</td>\n",
       "      <td>Public</td>\n",
       "      <td>Instituto de Neurocirugía Dr. Alfonso Asenjo</td>\n",
       "      <td>1</td>\n",
       "      <td>Deceased</td>\n",
       "      <td>S065</td>\n",
       "      <td>hemorragia subdural traumatica</td>\n",
       "      <td>2001</td>\n",
       "    </tr>\n",
       "    <tr>\n",
       "      <th>4</th>\n",
       "      <td>Male</td>\n",
       "      <td>80-120</td>\n",
       "      <td>Fonasa</td>\n",
       "      <td>Public</td>\n",
       "      <td>Hospital Dr. Leonardo Guzmán (Antofagasta)</td>\n",
       "      <td>7</td>\n",
       "      <td>Alive</td>\n",
       "      <td>K830</td>\n",
       "      <td>colangitis</td>\n",
       "      <td>2001</td>\n",
       "    </tr>\n",
       "  </tbody>\n",
       "</table>\n",
       "</div>"
      ],
      "text/plain": [
       "    sex     age health insurance healthcare facility type  \\\n",
       "0  Male   60-69           Fonasa                  Private   \n",
       "1  Male   70-79           Fonasa                   Public   \n",
       "2  Male   70-79           Fonasa                   Public   \n",
       "3  Male     1-9           Fonasa                   Public   \n",
       "4  Male  80-120           Fonasa                   Public   \n",
       "\n",
       "                        healthcare facility name  length of stay  \\\n",
       "0                               Clínica Familia                2   \n",
       "1  Hospital Del Salvador (Santiago, Providencia)              58   \n",
       "2  Hospital Del Salvador (Santiago, Providencia)              12   \n",
       "3   Instituto de Neurocirugía Dr. Alfonso Asenjo               1   \n",
       "4     Hospital Dr. Leonardo Guzmán (Antofagasta)               7   \n",
       "\n",
       "  discharge condition primary diagnosis code  \\\n",
       "0            Deceased                   C780   \n",
       "1            Deceased                   E145   \n",
       "2            Deceased                   J189   \n",
       "3            Deceased                   S065   \n",
       "4               Alive                   K830   \n",
       "\n",
       "                              primary diagnosis name  year  \n",
       "0                tumor maligno secundario del pulmon  2001  \n",
       "1  diabetes mellitus no especificada, con complic...  2001  \n",
       "2                          neumonia, no especificada  2001  \n",
       "3                     hemorragia subdural traumatica  2001  \n",
       "4                                         colangitis  2001  "
      ]
     },
     "execution_count": 7,
     "metadata": {},
     "output_type": "execute_result"
    }
   ],
   "source": [
    "df.head()"
   ]
  },
  {
   "cell_type": "code",
   "execution_count": 8,
   "id": "397df6f6-3e69-45e9-8328-43d080e0be2c",
   "metadata": {},
   "outputs": [
    {
     "data": {
      "text/plain": [
       "(25758741, 10)"
      ]
     },
     "execution_count": 8,
     "metadata": {},
     "output_type": "execute_result"
    }
   ],
   "source": [
    "df.shape"
   ]
  },
  {
   "cell_type": "markdown",
   "id": "587607b8-9287-4489-8120-58c430bfb162",
   "metadata": {},
   "source": [
    "# Data dictionary / main variables (categorical, numerical)."
   ]
  },
  {
   "cell_type": "code",
   "execution_count": 10,
   "id": "0b6c7832-bacc-4d69-bd09-3e2c96d33888",
   "metadata": {},
   "outputs": [
    {
     "name": "stdout",
     "output_type": "stream",
     "text": [
      "<class 'pandas.core.frame.DataFrame'>\n",
      "RangeIndex: 25758741 entries, 0 to 25758740\n",
      "Data columns (total 10 columns):\n",
      " #   Column                    Dtype   \n",
      "---  ------                    -----   \n",
      " 0   sex                       category\n",
      " 1   age                       category\n",
      " 2   health insurance          category\n",
      " 3   healthcare facility type  category\n",
      " 4   healthcare facility name  object  \n",
      " 5   length of stay            int32   \n",
      " 6   discharge condition       category\n",
      " 7   primary diagnosis code    object  \n",
      " 8   primary diagnosis name    object  \n",
      " 9   year                      int32   \n",
      "dtypes: category(5), int32(2), object(3)\n",
      "memory usage: 908.9+ MB\n"
     ]
    }
   ],
   "source": [
    "# Data type customization really helped to reduce memory usage, increasing speed and capacity to create new columns\n",
    "df.info()"
   ]
  },
  {
   "cell_type": "raw",
   "id": "ed957ab6-a090-48d6-b86c-a2722dcb5ee4",
   "metadata": {},
   "source": [
    "Variables\n",
    "\n",
    "Individual characteristics:\n",
    "Sex (Categorical)\n",
    "Age ranges (Categorical)\n",
    "Health insurance (Categorical)\n",
    "\n",
    "Health center characteristics:\n",
    "Name (Categorical)\n",
    "Public or private (Categorical)\n",
    "\n",
    "Variables associated with the diagnosis:\n",
    "Name of the health problem (and health problem code) (Categorical)\n",
    "\n",
    "Variables associated with the individual, health center, and disease simultaneously:\n",
    "Length of stay (Numerical)\n",
    "Discharge condition (alive or dead) (Categorical)"
   ]
  },
  {
   "cell_type": "markdown",
   "id": "02bdb511-07e7-45fb-bb5f-c9fd50840fc7",
   "metadata": {},
   "source": [
    "# Missing values / NA treatment summary."
   ]
  },
  {
   "cell_type": "code",
   "execution_count": 12,
   "id": "7523bace-7d6c-41a7-8ecd-66c9eae86a19",
   "metadata": {},
   "outputs": [
    {
     "data": {
      "text/plain": [
       "sex                         0\n",
       "age                         0\n",
       "health insurance            0\n",
       "healthcare facility type    0\n",
       "healthcare facility name    0\n",
       "length of stay              0\n",
       "discharge condition         0\n",
       "primary diagnosis code      0\n",
       "primary diagnosis name      0\n",
       "year                        0\n",
       "dtype: int64"
      ]
     },
     "execution_count": 12,
     "metadata": {},
     "output_type": "execute_result"
    }
   ],
   "source": [
    "# Dataframe is cleaned from previous steps\n",
    "df.isna().sum()"
   ]
  },
  {
   "cell_type": "markdown",
   "id": "c6a49f95-7e20-4e8d-920b-dda1aacb241f",
   "metadata": {},
   "source": [
    "The dataframe is completely clean without any missing value. For healthcare facility name the data was missing from 2021 to 2024 and healthcare facility type had around 20% of NaNs, mainly on year 2023. All these values were imputed to \"Unknown\" to preserve the rest of the data, considering it was not missing at random, so bias could be introduced in case of deletion. The rest of the variables had NaNs and were deleted becasue it did not affected the representativeness of the sample."
   ]
  },
  {
   "cell_type": "markdown",
   "id": "59cf0b26-a1f2-4dff-a2e0-677c565b2782",
   "metadata": {},
   "source": [
    "# First impressions after cleaning (anything noteworthy?)."
   ]
  },
  {
   "cell_type": "markdown",
   "id": "5751c72b-c359-4910-bddb-9799be463b2d",
   "metadata": {},
   "source": [
    "It was complex to manage 24 dataframes and explore the data, particulary the missing values and take important decisions to ensure data integrity and accuracy at the same time. There are many duplicates and that is the main uncertainty about the realiability of the information, but it was chosen to just delete duplicates when the patient ID was available, making more evident that some rows were real duplicates. There are many health problems that are highly prevalent and common among specific kind of patients, so it would not be surprising that similar rows are different discharges even if they are completely identical and no ID is available."
   ]
  },
  {
   "cell_type": "markdown",
   "id": "89529330-98dd-4ab0-8191-24d37a8cb1de",
   "metadata": {},
   "source": [
    "# 3. Univariate Analysis"
   ]
  },
  {
   "cell_type": "code",
   "execution_count": 17,
   "id": "fb798911-a62c-43f4-949b-6ab7b7f4652d",
   "metadata": {},
   "outputs": [
    {
     "data": {
      "text/plain": [
       "Index(['sex', 'age', 'health insurance', 'healthcare facility type',\n",
       "       'healthcare facility name', 'length of stay', 'discharge condition',\n",
       "       'primary diagnosis code', 'primary diagnosis name', 'year'],\n",
       "      dtype='object')"
      ]
     },
     "execution_count": 17,
     "metadata": {},
     "output_type": "execute_result"
    }
   ],
   "source": [
    "# The analysis will be over all the columns except \"year\", for which just a line plot will be done to show evolution of discharges over the years\n",
    "df.columns"
   ]
  },
  {
   "cell_type": "markdown",
   "id": "d9d91cdb-806f-4652-8f43-0f098dd8b246",
   "metadata": {},
   "source": [
    "# Categorical variables (7)"
   ]
  },
  {
   "cell_type": "markdown",
   "id": "e1b153f3-c45c-4504-884b-99ea98af76b4",
   "metadata": {},
   "source": [
    "# Sex"
   ]
  },
  {
   "cell_type": "code",
   "execution_count": 20,
   "id": "5a5fe8d4-0fd5-4a7a-b015-5d1e8581566e",
   "metadata": {},
   "outputs": [
    {
     "data": {
      "text/plain": [
       "sex\n",
       "Male      13290560\n",
       "Female    12468181\n",
       "Name: count, dtype: int64"
      ]
     },
     "execution_count": 20,
     "metadata": {},
     "output_type": "execute_result"
    }
   ],
   "source": [
    "# Counts\n",
    "df.sex.value_counts()"
   ]
  },
  {
   "cell_type": "code",
   "execution_count": 21,
   "id": "222a51e3-a5b7-4b14-b273-761a4240bc5b",
   "metadata": {},
   "outputs": [
    {
     "data": {
      "text/plain": [
       "sex\n",
       "Male      51.596311\n",
       "Female    48.403689\n",
       "Name: proportion, dtype: float64"
      ]
     },
     "execution_count": 21,
     "metadata": {},
     "output_type": "execute_result"
    }
   ],
   "source": [
    "# Percentage\n",
    "df.sex.value_counts(normalize = True)*100"
   ]
  },
  {
   "cell_type": "code",
   "execution_count": 22,
   "id": "37f71e13-d860-4dc6-bd8f-374b6bff09d9",
   "metadata": {},
   "outputs": [],
   "source": [
    "# Translate from spanish to english\n",
    "df[\"sex\"] = df[\"sex\"].cat.rename_categories({\"Hombre\": \"Male\", \"Mujer\": \"Female\"})"
   ]
  },
  {
   "cell_type": "code",
   "execution_count": 23,
   "id": "ea3bce91-c020-4ad0-bc54-7e22b0a04b42",
   "metadata": {},
   "outputs": [
    {
     "data": {
      "image/png": "[encoded data removed]",
      "text/plain": [
       "<Figure size 640x480 with 1 Axes>"
      ]
     },
     "metadata": {},
     "output_type": "display_data"
    }
   ],
   "source": [
    "# Get value counts\n",
    "counts = df['sex'].value_counts()\n",
    "\n",
    "# Plot bar chart\n",
    "ax = counts.plot(kind='bar', color='skyblue')\n",
    "\n",
    "# Add counts on top of each bar\n",
    "for i, count in enumerate(counts):\n",
    "    ax.text(i, count + 0.05, str(count), ha='center', va='bottom')\n",
    "\n",
    "plt.xlabel('Sex')\n",
    "plt.ylabel(None)\n",
    "plt.title('Frequency of discharges by sex')\n",
    "plt.tick_params(labelleft=False)\n",
    "plt.show()\n"
   ]
  },
  {
   "cell_type": "raw",
   "id": "a421e535-0c71-421f-b155-11cabde22a21",
   "metadata": {},
   "source": [
    "Summary of Sex\n",
    "\n",
    "Counts: 13.290.560 (male) vs. 12.468.181 (female)\n",
    "\n",
    "Proportions: 51,59% vs. 48,40%.\n",
    "\n",
    "Mode: Male.\n",
    "\n",
    "Balance: Slight male majority, but both well represented.\n",
    "\n",
    "Context: Could indicate real differences in prevalence of health issues more associated with men"
   ]
  },
  {
   "cell_type": "markdown",
   "id": "d1eab476-c90c-448c-a1bb-cf960fdc66b3",
   "metadata": {},
   "source": [
    "# Health insurance"
   ]
  },
  {
   "cell_type": "code",
   "execution_count": 25,
   "id": "631baf0d-b394-4d6e-a4bf-830849170851",
   "metadata": {},
   "outputs": [
    {
     "data": {
      "text/plain": [
       "health insurance\n",
       "Fonasa    20688143\n",
       "Isapre     5070598\n",
       "Name: count, dtype: int64"
      ]
     },
     "execution_count": 25,
     "metadata": {},
     "output_type": "execute_result"
    }
   ],
   "source": [
    "# Counts\n",
    "df[\"health insurance\"].value_counts()"
   ]
  },
  {
   "cell_type": "code",
   "execution_count": 26,
   "id": "00526121-3c38-4991-8ddd-467ac27e8aef",
   "metadata": {},
   "outputs": [
    {
     "data": {
      "text/plain": [
       "health insurance\n",
       "Fonasa    80.315039\n",
       "Isapre    19.684961\n",
       "Name: proportion, dtype: float64"
      ]
     },
     "execution_count": 26,
     "metadata": {},
     "output_type": "execute_result"
    }
   ],
   "source": [
    "# Percentage\n",
    "df[\"health insurance\"].value_counts(normalize = True)*100"
   ]
  },
  {
   "cell_type": "code",
   "execution_count": 27,
   "id": "0e3519b6-10ab-445d-ae97-d58bd2fffd78",
   "metadata": {},
   "outputs": [
    {
     "data": {
      "image/png": "[encoded data removed]",
      "text/plain": [
       "<Figure size 640x480 with 1 Axes>"
      ]
     },
     "metadata": {},
     "output_type": "display_data"
    }
   ],
   "source": [
    "# Get value counts\n",
    "counts = df['health insurance'].value_counts()\n",
    "\n",
    "# Plot pie chart with percentages\n",
    "counts.plot.pie(autopct='%1.1f%%', colors=['skyblue', 'lightgreen'], startangle=90)\n",
    "plt.ylabel('')  # Remove default y-label\n",
    "plt.title('Discharges by health insurance')\n",
    "plt.show()\n"
   ]
  },
  {
   "cell_type": "raw",
   "id": "9b10c512-54c1-48c3-8bcb-8a728fe953dd",
   "metadata": {},
   "source": [
    "Summary of Health Insurance\n",
    "\n",
    "Counts: 20.688.143 (Fonasa) vs. 5.070.598 (Isapre)\n",
    "\n",
    "Proportions: 80,3% vs. 19,7%.\n",
    "\n",
    "Mode: Fonasa.\n",
    "\n",
    "Balance: The big majority of discharges are for patients covered by the public health insurance\n",
    "\n",
    "Context: The public health insurance cover around 80% of the population, due to preference or affordability issues of private health insurance. This matches with the fact that 80% of the discharges are for patients in Fonasa."
   ]
  },
  {
   "cell_type": "markdown",
   "id": "6fb58b82-a933-4339-8783-78ee26adbb1e",
   "metadata": {},
   "source": [
    "# Healthcare facility type"
   ]
  },
  {
   "cell_type": "code",
   "execution_count": 29,
   "id": "a3585515-5ea7-4d39-a755-9c968a850783",
   "metadata": {},
   "outputs": [
    {
     "data": {
      "text/plain": [
       "healthcare facility type\n",
       "Public     17489355\n",
       "Private     7050600\n",
       "Unknown     1218786\n",
       "Name: count, dtype: int64"
      ]
     },
     "execution_count": 29,
     "metadata": {},
     "output_type": "execute_result"
    }
   ],
   "source": [
    "# Counts\n",
    "df[\"healthcare facility type\"].value_counts()"
   ]
  },
  {
   "cell_type": "code",
   "execution_count": 30,
   "id": "02c19f07-a3bf-4932-a0af-df0a14d7d2e8",
   "metadata": {},
   "outputs": [
    {
     "data": {
      "text/plain": [
       "healthcare facility type\n",
       "Public     67.896777\n",
       "Private    27.371679\n",
       "Unknown     4.731543\n",
       "Name: proportion, dtype: float64"
      ]
     },
     "execution_count": 30,
     "metadata": {},
     "output_type": "execute_result"
    }
   ],
   "source": [
    "# Percentage\n",
    "df[\"healthcare facility type\"].value_counts(normalize = True)*100"
   ]
  },
  {
   "cell_type": "code",
   "execution_count": 31,
   "id": "5eeb620e-3182-4ab3-ac4c-b97fd2650975",
   "metadata": {},
   "outputs": [
    {
     "data": {
      "text/plain": [
       "healthcare facility type\n",
       "Private    259\n",
       "Public     217\n",
       "Unknown      1\n",
       "Name: healthcare facility name, dtype: int64"
      ]
     },
     "execution_count": 31,
     "metadata": {},
     "output_type": "execute_result"
    }
   ],
   "source": [
    "# See how many facilities are per type\n",
    "df.groupby(\"healthcare facility type\", observed=False)[\"healthcare facility name\"].nunique()"
   ]
  },
  {
   "cell_type": "code",
   "execution_count": 32,
   "id": "1d1045da-71c1-48e6-9301-2d4c916d63a9",
   "metadata": {},
   "outputs": [],
   "source": [
    "# Translate to english\n",
    "df[\"healthcare facility type\"] = df[\"healthcare facility type\"].cat.rename_categories({\"Publico\": \"Public\", \"Privado\": \"Private\"})"
   ]
  },
  {
   "cell_type": "code",
   "execution_count": 33,
   "id": "552b4087-9a34-4b0c-be79-4395ee2359a2",
   "metadata": {},
   "outputs": [
    {
     "data": {
      "image/png": "[encoded data removed]",
      "text/plain": [
       "<Figure size 640x480 with 1 Axes>"
      ]
     },
     "metadata": {},
     "output_type": "display_data"
    }
   ],
   "source": [
    "# Get value counts\n",
    "counts = df['healthcare facility type'].value_counts()\n",
    "\n",
    "# Plot bar chart\n",
    "ax = counts.plot(kind='bar', color='skyblue')\n",
    "\n",
    "# Add counts on top of each bar\n",
    "for i, count in enumerate(counts):\n",
    "    ax.text(i, count + 0.05, str(count), ha='center', va='bottom')\n",
    "\n",
    "plt.xlabel('Healthcare facility type')\n",
    "plt.ylabel(None)\n",
    "plt.title('Frequency of discharges by Healthcare Facility Type')\n",
    "plt.tick_params(labelleft=False)\n",
    "plt.show()\n"
   ]
  },
  {
   "cell_type": "raw",
   "id": "49f9df15-8e4e-4da8-a9ce-daff2fbbb15d",
   "metadata": {},
   "source": [
    "Summary of Healthcare facility type\n",
    "\n",
    "Counts: 17.489.355 (Fonasa) vs. 7.050.600 (Isapre) vs. 1.218.786 (Unknown)\n",
    "\n",
    "Proportions: 67.89% vs. 27.37% vs. 4.73%\n",
    "\n",
    "Mode: Public\n",
    "\n",
    "Balance: The big majority (2/3) of discharges are from public healthcare facility types\n",
    "\n",
    "Context: As it was stated, the public health insurance cover around 80% of the population; for hospital care those patients mostly access to public healthcare facilities to get financial coverage.\n",
    "Considering that 259 facilities are private and just 217 public (bivariate relationship between healthcare facility type and health insurance will be explored further later) the timely access to health services is conditioned, increasing waiting lists. "
   ]
  },
  {
   "cell_type": "markdown",
   "id": "91698ea4-8b4b-4111-b02c-342b081df054",
   "metadata": {},
   "source": [
    "# Discharge Condition"
   ]
  },
  {
   "cell_type": "code",
   "execution_count": 35,
   "id": "1e9b3e08-7427-41e5-a87c-c7938d487872",
   "metadata": {},
   "outputs": [
    {
     "data": {
      "text/plain": [
       "discharge condition\n",
       "Alive       25029231\n",
       "Deceased      729510\n",
       "Name: count, dtype: int64"
      ]
     },
     "execution_count": 35,
     "metadata": {},
     "output_type": "execute_result"
    }
   ],
   "source": [
    "# Counts\n",
    "df[\"discharge condition\"].value_counts()"
   ]
  },
  {
   "cell_type": "code",
   "execution_count": 36,
   "id": "8ebc99b8-2e6d-46b8-87e3-325e51b1e940",
   "metadata": {},
   "outputs": [
    {
     "data": {
      "text/plain": [
       "discharge condition\n",
       "Alive       97.167913\n",
       "Deceased     2.832087\n",
       "Name: proportion, dtype: float64"
      ]
     },
     "execution_count": 36,
     "metadata": {},
     "output_type": "execute_result"
    }
   ],
   "source": [
    "# Percentage\n",
    "df[\"discharge condition\"].value_counts(normalize = True)*100"
   ]
  },
  {
   "cell_type": "code",
   "execution_count": 37,
   "id": "c2ea4650-68f8-4b0d-a58f-d3cf963e8ed4",
   "metadata": {},
   "outputs": [],
   "source": [
    "# Translate to english\n",
    "df[\"discharge condition\"] = df[\"discharge condition\"].cat.rename_categories({\"Vivo\": \"Alive\", \"Muerto\": \"Deceased\"})"
   ]
  },
  {
   "cell_type": "code",
   "execution_count": 38,
   "id": "2444a9a6-7c20-4f01-b21c-7637f093ac11",
   "metadata": {},
   "outputs": [
    {
     "data": {
      "image/png": "[encoded data removed]",
      "text/plain": [
       "<Figure size 640x480 with 1 Axes>"
      ]
     },
     "metadata": {},
     "output_type": "display_data"
    }
   ],
   "source": [
    "# Get value counts\n",
    "condition_counts = df['discharge condition'].value_counts()\n",
    "\n",
    "# Plot pie chart with percentages\n",
    "condition_counts.plot.pie(autopct='%1.1f%%', colors=['skyblue', 'lightgreen'], startangle=90)\n",
    "plt.ylabel('')  # Remove default y-label\n",
    "plt.title('Discharge condition')\n",
    "plt.show()\n"
   ]
  },
  {
   "cell_type": "raw",
   "id": "ffc95c34-9b9e-44cc-a53b-bae35e002e3d",
   "metadata": {},
   "source": [
    "Summary of Discharge condition\n",
    "\n",
    "Counts: 25.029.231 (Alive) vs. 729.510 (Deceased)\n",
    "\n",
    "Proportions: 97.16% vs. 2.83%\n",
    "\n",
    "Mode: Alive\n",
    "\n",
    "Balance: The big majority of discharges end with patients alive\n",
    "\n",
    "Context: The balance can reflect an effective healthcare system reducing mortality and/or that the health issues are low risk"
   ]
  },
  {
   "cell_type": "code",
   "execution_count": 39,
   "id": "45e449de-3278-4154-9000-8431dc0cada7",
   "metadata": {},
   "outputs": [
    {
     "data": {
      "text/plain": [
       "Index(['sex', 'age', 'health insurance', 'healthcare facility type',\n",
       "       'healthcare facility name', 'length of stay', 'discharge condition',\n",
       "       'primary diagnosis code', 'primary diagnosis name', 'year'],\n",
       "      dtype='object')"
      ]
     },
     "execution_count": 39,
     "metadata": {},
     "output_type": "execute_result"
    }
   ],
   "source": [
    "df.columns"
   ]
  },
  {
   "cell_type": "markdown",
   "id": "e5f599ee-f63b-492e-87fb-33d468f40ccf",
   "metadata": {},
   "source": [
    "# Age"
   ]
  },
  {
   "cell_type": "raw",
   "id": "f4098479-664e-40f3-a651-6e8ba9173c8f",
   "metadata": {},
   "source": [
    "The next cells that are shown as comments (#) transformed the \"age\" column to categorical variable with the age ranges stored as strings instead of lists. To avoid re running the code every time (whic is very slow) the updated dataframe was exported to be imported at the beggining of the notebook from now on"
   ]
  },
  {
   "cell_type": "code",
   "execution_count": 41,
   "id": "718a7ff9-406e-4ecd-b295-1d0855fea75c",
   "metadata": {},
   "outputs": [],
   "source": [
    "#df['age'] = pd.DataFrame(df['age'].tolist()).astype(str).agg('-'.join, axis=1)"
   ]
  },
  {
   "cell_type": "code",
   "execution_count": 42,
   "id": "449f313c-3393-45cc-a6cd-c28b7b014087",
   "metadata": {},
   "outputs": [],
   "source": [
    "# Assuming df['age_range'] is already the string labels \"30-39\", \"40-49\", etc.\n",
    "#age_categories = [\"0-1\", \"1-9\", \"10-19\", \"20-29\", \"30-39\", \"40-49\", \"50-59\", \"60-69\", \"70-79\", \"80-120\"]\n",
    "\n",
    "# Convert to ordered categorical\n",
    "#df['age'] = pd.Categorical(df['age'], categories=age_categories, ordered=True)"
   ]
  },
  {
   "cell_type": "code",
   "execution_count": 43,
   "id": "a52dbf60-6975-429b-ab16-f829d99892d1",
   "metadata": {},
   "outputs": [],
   "source": [
    "#df.info()"
   ]
  },
  {
   "cell_type": "code",
   "execution_count": 44,
   "id": "762bcc8f-fa8c-47f0-b175-26b3999538cb",
   "metadata": {},
   "outputs": [],
   "source": [
    "#df.to_parquet(\"Discharges_2001-2024_analysis_finalversionV2.parquet\", index=False)"
   ]
  },
  {
   "cell_type": "code",
   "execution_count": 45,
   "id": "3ac6605b-f033-4292-a7f3-d3d01f33d330",
   "metadata": {},
   "outputs": [
    {
     "name": "stdout",
     "output_type": "stream",
     "text": [
      "age\n",
      "0-1       2159003\n",
      "1-9       2127170\n",
      "10-19     1933405\n",
      "20-29     2085958\n",
      "30-39     2658631\n",
      "40-49     3133982\n",
      "50-59     3304514\n",
      "60-69     3400000\n",
      "70-79     2938127\n",
      "80-120    2017951\n",
      "Name: count, dtype: int64\n"
     ]
    }
   ],
   "source": [
    "# Frequency distribution of age ranges\n",
    "age_counts = df['age'].value_counts().sort_index()\n",
    "print(age_counts)"
   ]
  },
  {
   "cell_type": "code",
   "execution_count": 46,
   "id": "9860ec43-9a44-44a5-b100-dba5ea99da12",
   "metadata": {},
   "outputs": [
    {
     "name": "stdout",
     "output_type": "stream",
     "text": [
      "age\n",
      "0-1        8.381632\n",
      "1-9        8.258051\n",
      "10-19      7.505821\n",
      "20-29      8.098059\n",
      "30-39     10.321277\n",
      "40-49     12.166674\n",
      "50-59     12.828709\n",
      "60-69     13.199403\n",
      "70-79     11.406330\n",
      "80-120     7.834044\n",
      "Name: count, dtype: float64\n"
     ]
    }
   ],
   "source": [
    "# Age range percents\n",
    "percentages = age_counts / age_counts.sum() * 100\n",
    "print(percentages)\n"
   ]
  },
  {
   "cell_type": "code",
   "execution_count": 47,
   "id": "cd6b1b35-f2be-4d12-b741-501f692b5766",
   "metadata": {},
   "outputs": [
    {
     "data": {
      "image/png": "[encoded data removed]",
      "text/plain": [
       "<Figure size 640x480 with 1 Axes>"
      ]
     },
     "metadata": {},
     "output_type": "display_data"
    }
   ],
   "source": [
    "ax = age_counts.plot(kind=\"bar\", color=\"skyblue\")\n",
    "\n",
    "# Add counts on bars\n",
    "for i, count in enumerate(age_counts):\n",
    "    ax.text(i, count + 0.05, str(count), fontsize = 8, ha=\"center\", va=\"bottom\")\n",
    "\n",
    "plt.xlabel(\"Age Range\")\n",
    "plt.ylabel(\"Number of discharges\")\n",
    "plt.title(\"Frequency of discharges by Age Range\")\n",
    "plt.show()\n"
   ]
  },
  {
   "cell_type": "raw",
   "id": "4e650c8a-c7e2-4f83-99d8-38527bc37890",
   "metadata": {},
   "source": [
    "Summary of Age\n",
    "\n",
    "Most frequent age range: 60-69\n",
    "\n",
    "Distribution shape: Concentrated in middle ages (40-70) and increasing as people age. After 70 frequency drops.\n",
    "\n",
    "Balance: Dishcarges increase consistently after 30 years old and start decreasing after 70.\n",
    "\n",
    "Context: The distribution can reflect 2 dynamics: Population per age range (less people are alive after 70) and more prevalence of health issues as people age, increasing after 30 years old"
   ]
  },
  {
   "cell_type": "markdown",
   "id": "54934067-8e17-4089-9ec2-baefcc45e8c6",
   "metadata": {},
   "source": [
    "# Healthcare Facility Name"
   ]
  },
  {
   "cell_type": "raw",
   "id": "ef1e6592-e6e2-4513-9980-9870e9d7e62e",
   "metadata": {},
   "source": [
    "This variable consider discharges only from 2001 to 2020, after that there is no information available, so those values are flagged as \"Unknown\""
   ]
  },
  {
   "cell_type": "code",
   "execution_count": 49,
   "id": "866f4032-4faf-4308-bbf9-291cdff1bc82",
   "metadata": {},
   "outputs": [],
   "source": [
    "# Just consider known gealthcare facility names. This mean discharges rom year 2021 to 2024 are excluded from the univariate analysis\n",
    "hospital_names_20012020 = df['healthcare facility name'][df['healthcare facility name']!= \"Unknown\"]"
   ]
  },
  {
   "cell_type": "code",
   "execution_count": 50,
   "id": "5ce07ad7-0e8a-4a3d-a444-898dbed86ad3",
   "metadata": {},
   "outputs": [
    {
     "data": {
      "text/plain": [
       "0                                        Clínica Familia \n",
       "1           Hospital Del Salvador (Santiago, Providencia)\n",
       "2           Hospital Del Salvador (Santiago, Providencia)\n",
       "3            Instituto de Neurocirugía Dr. Alfonso Asenjo\n",
       "4              Hospital Dr. Leonardo Guzmán (Antofagasta)\n",
       "                                ...                      \n",
       "20788758                              Clínica Las Condes \n",
       "20788759                                 Clínica Alemana \n",
       "20788760                                 Clínica Alemana \n",
       "20788761                 Hospital Base San José de Osorno\n",
       "20788762                 Hospital Base San José de Osorno\n",
       "Name: healthcare facility name, Length: 20788763, dtype: object"
      ]
     },
     "execution_count": 50,
     "metadata": {},
     "output_type": "execute_result"
    }
   ],
   "source": [
    "hospital_names_20012020"
   ]
  },
  {
   "cell_type": "code",
   "execution_count": 51,
   "id": "f12d173e-c13a-4a99-9006-c2a829d4194e",
   "metadata": {},
   "outputs": [
    {
     "name": "stdout",
     "output_type": "stream",
     "text": [
      "healthcare facility name\n",
      "Complejo Hospitalario Dr. Sótero del Río (Santiago, Puente Alto)        545983\n",
      "Hospital Clínico Regional Dr. Guillermo Grant Benavente (Concepción)    534799\n",
      "Hospital Dr. Hernán Henríquez Aravena (Temuco)                          421631\n",
      "Hospital Barros Luco Trudeau (Santiago, San Miguel)                     388789\n",
      "Clínica Dávila                                                          375298\n",
      "Hospital Carlos Van Buren (Valparaíso)                                  365457\n",
      "Hospital Clínico Universidad de Chile                                   347567\n",
      "Clínica Alemana                                                         347469\n",
      "Hospital Clínico San Borja-Arriarán (Santiago, Santiago)                340760\n",
      "Hospital Clínico Universidad Católica                                   334588\n",
      "Hospital Dr. Gustavo Fricke (Viña del Mar)                              325660\n",
      "Clínica Santa María                                                     321470\n",
      "Complejo Asistencial Dr. Víctor Ríos Ruiz (Los Ángeles)                 318753\n",
      "Hospital San Juan de Dios (Santiago, Santiago)                          317438\n",
      "Complejo Hospitalario San José (Santiago, Independencia)                313875\n",
      "Name: count, dtype: int64\n"
     ]
    }
   ],
   "source": [
    "# Just take top 15 facilities with more discharges\n",
    "hospital_counts_top15 = hospital_names_20012020.value_counts().head(15)\n",
    "print(hospital_counts_top15)"
   ]
  },
  {
   "cell_type": "code",
   "execution_count": 52,
   "id": "4bdbad7c-f339-4e28-b4da-320403d5e97b",
   "metadata": {},
   "outputs": [
    {
     "name": "stdout",
     "output_type": "stream",
     "text": [
      "5599537\n"
     ]
    }
   ],
   "source": [
    "# Total amount of discharges among the top 15\n",
    "print(hospital_counts_top15.sum())"
   ]
  },
  {
   "cell_type": "code",
   "execution_count": 53,
   "id": "7e347837-cb4e-4951-bb97-18a70844b8eb",
   "metadata": {},
   "outputs": [
    {
     "name": "stdout",
     "output_type": "stream",
     "text": [
      "94\n"
     ]
    }
   ],
   "source": [
    "# Amount of discharges among the bottom 15\n",
    "hospital_counts_tail15 = hospital_names_20012020.value_counts().tail(15).sum()\n",
    "print(hospital_counts_tail15)"
   ]
  },
  {
   "cell_type": "code",
   "execution_count": 54,
   "id": "bc475837-abc9-4ef7-9c9f-19967fb40985",
   "metadata": {},
   "outputs": [
    {
     "name": "stdout",
     "output_type": "stream",
     "text": [
      "26.935402553773883\n"
     ]
    }
   ],
   "source": [
    "# Percent of discharges adding up the top 15 facilities\n",
    "hospital_pct = (hospital_counts_top15.sum() / hospital_names_20012020.value_counts().sum()) * 100\n",
    "print(hospital_pct)"
   ]
  },
  {
   "cell_type": "code",
   "execution_count": 55,
   "id": "c9a9c951-dc28-40f3-95fd-5fa1b666a806",
   "metadata": {},
   "outputs": [],
   "source": [
    "# Top 15 hospitals account for 27% of discharges, while the remaining hospitals (“Other”) represent 73% of total discharges. (See visualiztion below)"
   ]
  },
  {
   "cell_type": "code",
   "execution_count": 56,
   "id": "014191f9-e8d5-4d76-a208-35c5d63afb69",
   "metadata": {},
   "outputs": [
    {
     "name": "stderr",
     "output_type": "stream",
     "text": [
      "C:\\Users\\mirko\\AppData\\Local\\Temp\\ipykernel_1520\\1368786341.py:12: FutureWarning: The default of observed=False is deprecated and will be changed to True in a future version of pandas. Pass observed=False to retain current behavior or observed=True to adopt the future default and silence this warning.\n",
      "  plot_data = df.groupby(['hospital_grouped', 'healthcare facility type']).size().unstack(fill_value=0)\n",
      "C:\\Users\\mirko\\AppData\\Local\\Temp\\ipykernel_1520\\1368786341.py:51: FutureWarning: Series.__getitem__ treating keys as positions is deprecated. In a future version, integer keys will always be treated as labels (consistent with DataFrame behavior). To access a value by position, use `ser.iloc[pos]`\n",
      "  ax.text(i, total + 5, f'{plot_percent[i]:.1f}%', ha='center', va='bottom', fontsize=10)\n"
     ]
    },
    {
     "data": {
      "image/png": "[encoded data removed]",
      "text/plain": [
       "<Figure size 1200x600 with 1 Axes>"
      ]
     },
     "metadata": {},
     "output_type": "display_data"
    }
   ],
   "source": [
    "# Compute hospital counts\n",
    "hospital_counts = hospital_names_20012020.value_counts()\n",
    "\n",
    "# Identify top 15 hospitals\n",
    "top_hospitals = hospital_counts.head(15).index.tolist()\n",
    "\n",
    "# Create a new column for plotting: keep top 15, collapse rest into 'Other'\n",
    "df['hospital_grouped'] = hospital_names_20012020.where(hospital_names_20012020.isin(top_hospitals), 'Other')\n",
    "\n",
    "\n",
    "# Group by hospital_grouped and hospital type\n",
    "plot_data = df.groupby(['hospital_grouped', 'healthcare facility type']).size().unstack(fill_value=0)\n",
    "\n",
    "# Compute percentages\n",
    "plot_percent = plot_data / plot_data.sum() * 100\n",
    "\n",
    "# Plot stacked bar chart\n",
    "# Keep the order: top 15 + Other\n",
    "order = top_hospitals + ['Other']\n",
    "order = [x for x in order if x in plot_data.index]  # ensure no duplicates\n",
    "plot_data = plot_data.loc[order]\n",
    "\n",
    "# Define colors for hospital types\n",
    "colors = []\n",
    "for col in plot_data.columns:\n",
    "    if col == 'Public':\n",
    "        colors.append('skyblue')\n",
    "    elif col == 'Private':\n",
    "        colors.append('orange')\n",
    "    elif col == 'Unknown':\n",
    "        colors.append('green')  # Unknown in green\n",
    "    else:\n",
    "        colors.append('lightgrey')  # fallback color\n",
    "\n",
    "# Plot stacked bar chart with these colors\n",
    "ax = plot_data.plot(kind='bar', stacked=True, figsize=(12,6), color=colors)\n",
    "plt.ylabel('Number of discharges')\n",
    "plt.xlabel('Hospital')\n",
    "plt.xticks(rotation=45, ha='right', fontsize=9)\n",
    "plt.title('Top 15 Hospitals by Discharges (Other included)')\n",
    "plt.legend(title='Hospital Type')\n",
    "\n",
    "# Compute totals per hospital (sum across hospital types if stacked)\n",
    "totals = plot_data.sum(axis=1)\n",
    "\n",
    "# Recompute percentages\n",
    "plot_percent = totals / totals.sum() * 100\n",
    "\n",
    "# Annotate percentages on top of bars\n",
    "for i, total in enumerate(totals):\n",
    "    ax.text(i, total + 5, f'{plot_percent[i]:.1f}%', ha='center', va='bottom', fontsize=10)\n",
    "\n",
    "\n",
    "plt.tight_layout()\n",
    "plt.show()"
   ]
  },
  {
   "cell_type": "code",
   "execution_count": 57,
   "id": "c93898e0-ee84-4941-910b-3023f4d7c8da",
   "metadata": {},
   "outputs": [],
   "source": [
    "# Drop column created to plot\n",
    "df.drop(columns = [\"hospital_grouped\"], inplace = True)"
   ]
  },
  {
   "cell_type": "raw",
   "id": "6ccfa111-5d10-4cdb-9673-28dea4f96f2f",
   "metadata": {},
   "source": [
    "Summary of Hospital Name (2001-2020)\n",
    "\n",
    "Counts: The top 15 facilities concentrate just 5.599.537 out of 20.788.763 the discharges; The bottom 15 facilities just have 94 discharges\n",
    "\n",
    "Proportions: 26.9% top 15 vs. 73.1% other facilities\n",
    "\n",
    "Mode: Complejo Hospitalario Dr. Sótero del Río (Public)\n",
    "\n",
    "Balance: There is a really low concentration of discharges among facilities\n",
    "\n",
    "Context: The balance reflect that the discharges are disitributed among many facilities, so there is no concentration. Without going into depth in a bivariate analysis yet, 10/15 facilities are public, showing that they absorb most of the demand"
   ]
  },
  {
   "cell_type": "markdown",
   "id": "4df4fb1d-b488-4cab-b904-9343cebb3e75",
   "metadata": {},
   "source": [
    "# Primary diagnosis code/name"
   ]
  },
  {
   "cell_type": "code",
   "execution_count": 59,
   "id": "ea70160d-9618-4f21-a932-f01fad622503",
   "metadata": {},
   "outputs": [
    {
     "name": "stdout",
     "output_type": "stream",
     "text": [
      "primary diagnosis name\n",
      "neumonia, no especificada                                                    631123\n",
      "calculo de la vesicula biliar sin colecistitis                               518228\n",
      "otras apendicitis agudas y las no especificadas                              373913\n",
      "hernia inguinal unilateral o no especificada, sin obstruccion ni gangrena    314854\n",
      "infeccion de vias urinarias, sitio no especificado                           291738\n",
      "apendicitis aguda no especificada                                            254029\n",
      "nefritis tubulointersticial aguda                                            236153\n",
      "leiomioma del utero, sin otra especificacion                                 218079\n",
      "colecistitis aguda                                                           215681\n",
      "hiperplasia de la prostata                                                   197082\n",
      "ictericia neonatal, no especificada                                          196611\n",
      "prepucio redundante, fimosis y parafimosis                                   183376\n",
      "diarrea y gastroenteritis de presuno origen infeccioso                       169791\n",
      "covid-19, virus identificado                                                 156760\n",
      "bronquitis aguda, no especificado                                            156506\n",
      "Name: count, dtype: int64\n"
     ]
    }
   ],
   "source": [
    "# Counts of top 15 most frequent diagnoses\n",
    "names_counts_top15 = df[\"primary diagnosis name\"].value_counts().head(15)\n",
    "print(names_counts_top15)"
   ]
  },
  {
   "cell_type": "code",
   "execution_count": 60,
   "id": "5713c62a-2d2a-45ec-adaf-166794859748",
   "metadata": {},
   "outputs": [
    {
     "name": "stdout",
     "output_type": "stream",
     "text": [
      "4113924\n"
     ]
    }
   ],
   "source": [
    "# The top 15 added up to 4.113.924 discharges\n",
    "print(names_counts_top15.sum())"
   ]
  },
  {
   "cell_type": "code",
   "execution_count": 61,
   "id": "8e35f452-af00-464d-8455-06b46f7c6bc1",
   "metadata": {},
   "outputs": [
    {
     "name": "stdout",
     "output_type": "stream",
     "text": [
      "15\n"
     ]
    }
   ],
   "source": [
    "# The 15 least frequent diangoses have just 1 discharge each (15 in total)\n",
    "names_counts_tail15 = df[\"primary diagnosis name\"].value_counts().tail(15).sum()\n",
    "print(names_counts_tail15)"
   ]
  },
  {
   "cell_type": "code",
   "execution_count": 62,
   "id": "2f5de7c4-a6ce-419c-96bc-2e399ee11c12",
   "metadata": {},
   "outputs": [
    {
     "name": "stdout",
     "output_type": "stream",
     "text": [
      "15.970982432720604\n"
     ]
    }
   ],
   "source": [
    "# The top 15 diagnoses contribute to the 15.97% of the discharges from 2001 to 2024\n",
    "percent_contribution_top15 = (names_counts_top15.sum()/df[\"primary diagnosis name\"].value_counts().sum())*100\n",
    "print(percent_contribution_top15)"
   ]
  },
  {
   "cell_type": "code",
   "execution_count": 63,
   "id": "75694f98-9fe1-4585-80e8-2f8c8ca746da",
   "metadata": {},
   "outputs": [
    {
     "data": {
      "image/png": "[encoded data removed]",
      "text/plain": [
       "<Figure size 1200x600 with 1 Axes>"
      ]
     },
     "metadata": {},
     "output_type": "display_data"
    }
   ],
   "source": [
    "# Plot hostogram with the top 15 most frequent diagnoses. The rest are grouped in \"others\"\n",
    "\n",
    "# --- Step 1: Count top 15 diagnoses ---\n",
    "diag_counts = df[\"primary diagnosis name\"].value_counts()\n",
    "top_diagnoses = diag_counts.head(15).index.tolist()\n",
    "\n",
    "# --- Step 2: Create grouped column (Top 15 + \"Other\") ---\n",
    "df[\"diagnosis_grouped\"] = df[\"primary diagnosis name\"].where(\n",
    "    df[\"primary diagnosis name\"].isin(top_diagnoses),\n",
    "    \"Other\"\n",
    ")\n",
    "\n",
    "# --- Step 3: Aggregate counts by diagnosis ---\n",
    "counts = df[\"diagnosis_grouped\"].value_counts().loc[top_diagnoses + [\"Other\"]]\n",
    "\n",
    "# --- Step 4: Compute percentages for labels ---\n",
    "percentages = counts / counts.sum() * 100\n",
    "\n",
    "# --- Step 5: Plot bar chart with frequencies on Y ---\n",
    "ax = counts.plot(kind=\"bar\", figsize=(12, 6))\n",
    "\n",
    "plt.ylabel(\"Number of discharges\")\n",
    "plt.xlabel(\"Primary Diagnosis\")\n",
    "plt.xticks(rotation=45, ha=\"right\", fontsize=9)\n",
    "plt.title(\"Top 15 Primary Diagnoses by Discharges (Other included)\")\n",
    "\n",
    "# --- Step 6: Annotate bars with percentages ---\n",
    "for i, (count, pct) in enumerate(zip(counts, percentages)):\n",
    "    ax.text(i, count + (0.01 * counts.max()), f\"{pct:.1f}%\", \n",
    "            ha=\"center\", va=\"bottom\", fontsize=10)\n",
    "\n",
    "plt.tight_layout()\n",
    "plt.show()\n",
    "\n"
   ]
  },
  {
   "cell_type": "code",
   "execution_count": 64,
   "id": "931ca230-1217-45e8-8b73-b90148d60fe3",
   "metadata": {},
   "outputs": [],
   "source": [
    "# drop column used to plot histogram, to keep dataframe clean and light\n",
    "df.drop(columns = [\"diagnosis_grouped\"], inplace = True)"
   ]
  },
  {
   "cell_type": "raw",
   "id": "47896076-8318-4f3e-bea8-4f64f3ef1e34",
   "metadata": {},
   "source": [
    "Just a quick check of the first letters of diagnoses codes. It is not neccesary to run it each time"
   ]
  },
  {
   "cell_type": "code",
   "execution_count": 65,
   "id": "5cba6d50-e019-435b-ba75-31cf230b03db",
   "metadata": {},
   "outputs": [],
   "source": [
    "# --- Step 1: Extract first letter from diagnosis code ---\n",
    "# Assuming you have a column with codes, e.g. df[\"primary diagnosis code\"]\n",
    "#df[\"diagnosis_group_letter\"] = df[\"primary diagnosis code\"].str[0]\n",
    "\n",
    "# --- Step 2: Quick check of counts per group ---\n",
    "#group_counts = df[\"diagnosis_group_letter\"].value_counts()\n",
    "\n",
    "#print(group_counts)\n"
   ]
  },
  {
   "cell_type": "code",
   "execution_count": 66,
   "id": "452d6736-40ee-4315-9bb1-2a777bf1f618",
   "metadata": {},
   "outputs": [],
   "source": [
    "# This is a list of the chapter codes, manually extracted from the government excel file containing the information about the raw dataframes\n",
    "cap_codes = [\"A00-B99\",\"C00-D48\",\"D50-D89\",\"E00-E90\",\"F00-F99\",\"G00-G99\",\"H00-H59\",\"H60-H95\",\"I00-I99\",\"J00-J99\",\"K00-K93\",\"L00-L99\",\"M00-M99\",\"N00-N99\",\n",
    "\"P00-P96\",\"Q00-Q99\",\"R00-R99\",\"S00-T98\",\"V01-Y98\",\"Z00-Z99\",\"U00-U99\"]"
   ]
  },
  {
   "cell_type": "markdown",
   "id": "5dc5f09c-6d14-4b19-8652-5674b97c58a2",
   "metadata": {},
   "source": [
    "# Test looping logic "
   ]
  },
  {
   "cell_type": "raw",
   "id": "6bf3cd4c-a166-4446-8ed6-94a7b3d7708f",
   "metadata": {},
   "source": [
    "I do it on just a single chapter code and then escalate progressevely to the whole dataframe"
   ]
  },
  {
   "cell_type": "code",
   "execution_count": 67,
   "id": "e93af59c-c7e9-4868-a9c7-1d56fb3abdda",
   "metadata": {},
   "outputs": [
    {
     "name": "stdout",
     "output_type": "stream",
     "text": [
      "V01-Y98\n"
     ]
    }
   ],
   "source": [
    "# Based on first letter and two first numbers is possible to determine to which chapter code the diangosis code belongs\n",
    "c=\"X846\"\n",
    "for code in cap_codes:\n",
    "    if code == \"V01-Y98\":\n",
    "        if (c[0] == \"W\" or c[0] == \"X\"):\n",
    "            c= code\n",
    "            print(c)\n",
    "        elif (c[0] == code[0] or c[0] == code[4]) and (int(code[1:3]) <= int(c[1:3]) <= int(code[5:7])):\n",
    "            c = code\n",
    "            print(c)\n",
    "            \n",
    "            \n",
    "    elif (c[0] == code[0] or c[0] == code[4]) and (int(code[1:3]) <= int(c[1:3]) <= int(code[5:7])):\n",
    "        c = code\n",
    "        print(c)"
   ]
  },
  {
   "cell_type": "markdown",
   "id": "d700dcd8-dfdf-4387-94e6-bb20d744d449",
   "metadata": {},
   "source": [
    "# Escalating looping logic to a sample of the dataframe"
   ]
  },
  {
   "cell_type": "raw",
   "id": "6aecc925-57e9-4a3b-ac08-bbb1954c0b1c",
   "metadata": {},
   "source": [
    "There si no need to run the sample cells, as this was to test before applying vectorization over the full dataframe. Use cells as reference of the escalating process"
   ]
  },
  {
   "cell_type": "raw",
   "id": "cc128c92-9f47-48a9-bc4a-fdb892319e59",
   "metadata": {},
   "source": [
    "# Create a sample (1% of dataframe) with a random seed to keep same values\n",
    "sample = df.sample(frac = 0.01, replace = True, random_state = 3)"
   ]
  },
  {
   "cell_type": "raw",
   "id": "0246e717-0cc7-46db-bdb2-f208020efdf4",
   "metadata": {},
   "source": [
    "sample"
   ]
  },
  {
   "cell_type": "raw",
   "id": "e9885479-db46-4250-8aae-7f8da1074405",
   "metadata": {},
   "source": [
    "# Define a function to apply over \"primary diagnosis codes\" and create a new column with the chapter codes\n",
    "def codes(c):\n",
    "    c = str(c).upper()\n",
    "    cap_codes = [\"A00-B99\",\"C00-D48\",\"D50-D89\",\"E00-E90\",\"F00-F99\",\"G00-G99\",\"H00-H59\",\"H60-H95\",\"I00-I99\",\"J00-J99\",\"K00-K93\",\"L00-L99\",\"M00-M99\",\"N00-N99\",\n",
    "                 \"P00-P96\",\"Q00-Q99\",\"R00-R99\",\"S00-T98\",\"V01-Y98\",\"Z00-Z99\",\"U00-U99\"]\n",
    "    for code in cap_codes:\n",
    "        if code == \"V01-Y98\":\n",
    "            if (c[0] == \"W\" or c[0] == \"X\"):\n",
    "                return code\n",
    "        if code == \"C00-D48\" and c[0] == \"C\" and int(c[1:3]) > 48:\n",
    "            return code\n",
    "        if code == \"S00-T98\" and c[0] == \"S\" and int(c[1:3]) > 98:\n",
    "            return code\n",
    "            \n",
    "            \n",
    "            \n",
    "            \n",
    "        elif (c[0] == code[0] or c[0] == code[4]) and (int(code[1:3]) <= int(c[1:3]) <= int(code[5:7])):\n",
    "            return code"
   ]
  },
  {
   "cell_type": "raw",
   "id": "3ef28f28-2b4b-43c3-a624-09dc58ad6deb",
   "metadata": {},
   "source": [
    "# Apply the function and create column with chapter codes\n",
    "sample[\"chapter codes\"] = sample[\"primary diagnosis code\"].apply(codes)"
   ]
  },
  {
   "cell_type": "raw",
   "id": "540ef295-4260-4d65-81d3-79b381eca967",
   "metadata": {},
   "source": [
    "# Just checking special cases which could be conflicting\n",
    "sample[sample[\"primary diagnosis code\"].str.startswith(\"C97\")].head(2)"
   ]
  },
  {
   "cell_type": "raw",
   "id": "985096bb-72a4-4150-87fd-79c3c932ea7a",
   "metadata": {},
   "source": [
    "# Checking if the function left some NaNs\n",
    "sample.isna().sum()"
   ]
  },
  {
   "cell_type": "markdown",
   "id": "f9d09973-c426-4f77-aa9d-c294cd88fa40",
   "metadata": {},
   "source": [
    "# Vectorization"
   ]
  },
  {
   "cell_type": "raw",
   "id": "f415393b-7f46-4f1d-88c1-44cccd3790bf",
   "metadata": {},
   "source": [
    "Using the function .apply() over the whole dataframe is inefficient considering execution speed, because each row is evaluated individually. So, instead of that, the idea is to vectorize, that means setting a rule and checking which values match with it at once, fill the values in the new column and then move to the next rule"
   ]
  },
  {
   "cell_type": "raw",
   "id": "ea2ff79c-2ecd-4638-88e2-825b603b20cd",
   "metadata": {},
   "source": [
    "1. Precompute temporary columns"
   ]
  },
  {
   "cell_type": "raw",
   "id": "40c89a91-80f3-4e26-848e-7cf88de2e522",
   "metadata": {},
   "source": [
    "# Create temporary column with the first letter of each code and turn it to upper case to avoid conflicts with case differences\n",
    "sample[\"first letter\"] = sample[\"primary diagnosis code\"].str[0].str.upper()"
   ]
  },
  {
   "cell_type": "raw",
   "id": "654f1383-5343-4651-be32-4824177ed3db",
   "metadata": {},
   "source": [
    "# Create temporary column with first 2 digits of each code and convert them to integer\n",
    "sample[\"two digits\"] = sample[\"primary diagnosis code\"].str[1:3].astype(int)"
   ]
  },
  {
   "cell_type": "code",
   "execution_count": 69,
   "id": "5d89db10-bdfd-4550-9f53-86e6a39f6d62",
   "metadata": {},
   "outputs": [],
   "source": [
    "# Create temporary column with the first letter of each code and turn it to upper case to avoid conflicts with case differences\n",
    "df[\"first letter\"] = df[\"primary diagnosis code\"].str[0].str.upper()"
   ]
  },
  {
   "cell_type": "code",
   "execution_count": 70,
   "id": "78103ac1-b243-4817-ba53-f8295ab094cf",
   "metadata": {},
   "outputs": [],
   "source": [
    "# Create temporary column with first 2 digits of each code and convert them to integer\n",
    "df[\"two digits\"] = df[\"primary diagnosis code\"].str[1:3].astype(int)"
   ]
  },
  {
   "cell_type": "raw",
   "id": "b246ea0b-4c61-4a08-bad9-a7f846bc485b",
   "metadata": {},
   "source": [
    "2. Loop over chapter codes and create the mask"
   ]
  },
  {
   "cell_type": "raw",
   "id": "e8cbbc63-7021-42d8-85d6-75fe01881b19",
   "metadata": {},
   "source": [
    "# Create empty column to fill with chapter codes\n",
    "sample[\"chapter\"] = None"
   ]
  },
  {
   "cell_type": "code",
   "execution_count": 71,
   "id": "29e53e0b-047f-4f01-9176-f9371d5dedb2",
   "metadata": {},
   "outputs": [],
   "source": [
    "# Create empty column to fill with chapter codes\n",
    "df[\"chapter codes\"] = None"
   ]
  },
  {
   "cell_type": "raw",
   "id": "baff43b1-88b8-4a10-908f-caeb958e3e8e",
   "metadata": {},
   "source": [
    "# Loop over each chapter code from the list, splitting each one in 2 separated codes to be used to compare with diangosis codes. After that, take the first letter and the 2 first numbers of each\n",
    "for code in cap_codes:\n",
    "    l = code.split(\"-\")\n",
    "    start = l[0]\n",
    "    s_letter = start[0]\n",
    "    s_number = start[1:3]\n",
    "    end = l[1]\n",
    "    e_letter = end[0]\n",
    "    e_number = end[1:3]\n",
    "\n",
    "# Create conditions over special cases where the chapter code includes diagnosis codes that can start with 2 different letters\n",
    "# The mask check for conditions in a vectorized way and if true, the chapter code is assigned to the new column in the corresponding row to the diagnosis code\n",
    "    if code == \"V01-Y98\":\n",
    "        mask = (sample[\"first letter\"].isin([\"V\",\"W\",\"X\",\"Y\"])) & (sample[\"two digits\"] <=99)\n",
    "        sample.loc[mask, \"chapter\"] = code\n",
    "        continue\n",
    "    if code == \"C00-D48\":\n",
    "        mask = ((sample[\"first letter\"] == \"C\") | (sample[\"first letter\"] == \"D\")) & (sample[\"two digits\"] <= 99)\n",
    "        sample.loc[mask, \"chapter\"] = code\n",
    "        continue\n",
    "    if code == \"S00-T98\":\n",
    "        mask = ((sample[\"first letter\"]== \"S\") | (sample[\"first letter\"] == \"T\")) & (sample[\"two digits\"] <= 99)\n",
    "        sample.loc[mask, \"chapter\"] = code\n",
    "        continue\n",
    "\n",
    "# Mask for the general case\n",
    "    # Mask replaces row by row \"if\"\n",
    "    mask = ((sample[\"first letter\"] == s_letter) | (sample[\"first letter\"] == e_letter)) & (sample[\"two digits\"].between(int(s_number), int(e_number)))\n",
    "    sample.loc[mask, \"chapter\"] = code"
   ]
  },
  {
   "cell_type": "code",
   "execution_count": 72,
   "id": "67c9b8f6-1ffd-4c01-bc69-b56f3ad8c4a4",
   "metadata": {},
   "outputs": [],
   "source": [
    "# Loop over each chapter code from the list, splitting each one in 2 separated codes to be used to compare with diangosis codes.\n",
    "# After that, take the first letter and the 2 first numbers of each\n",
    "for code in cap_codes:\n",
    "    l = code.split(\"-\")\n",
    "    start = l[0]\n",
    "    s_letter = start[0]\n",
    "    s_number = start[1:3]\n",
    "    end = l[1]\n",
    "    e_letter = end[0]\n",
    "    e_number = end[1:3]\n",
    "\n",
    "# Create conditions over special cases where the chapter code includes diagnosis codes that can start with 2 different letters\n",
    "# The mask check for conditions in a vectorized way and if true, the chapter code is assigned to the new column in the corresponding row to the \n",
    "    \n",
    "    if code == \"V01-Y98\":\n",
    "        mask = (df[\"first letter\"].isin([\"V\",\"W\",\"X\",\"Y\"])) & (df[\"two digits\"] <=99)\n",
    "        df.loc[mask, \"chapter codes\"] = code\n",
    "        continue\n",
    "    if code == \"C00-D48\":\n",
    "        mask = ((df[\"first letter\"] == \"C\") | (df[\"first letter\"] == \"D\")) & (df[\"two digits\"] <= 99)\n",
    "        df.loc[mask, \"chapter codes\"] = code\n",
    "        continue\n",
    "    if code == \"S00-T98\":\n",
    "        mask = ((df[\"first letter\"]== \"S\") | (df[\"first letter\"] == \"T\")) & (df[\"two digits\"] <= 99)\n",
    "        df.loc[mask, \"chapter codes\"] = code\n",
    "        continue\n",
    "        \n",
    "# Mask for the general case\n",
    "    # Mask replaces row by row \"if\"\n",
    "    mask = ((df[\"first letter\"] == s_letter) | (df[\"first letter\"] == e_letter)) & (df[\"two digits\"].between(int(s_number), int(e_number)))\n",
    "    df.loc[mask, \"chapter codes\"] = code"
   ]
  },
  {
   "cell_type": "raw",
   "id": "c0fd11da-f48a-4605-8ccc-93e7bfcdb0f5",
   "metadata": {},
   "source": [
    "# Checking if the new column was filled correctly\n",
    "sample.head(5)"
   ]
  },
  {
   "cell_type": "code",
   "execution_count": 73,
   "id": "fe3011f8-fd3d-427d-ba56-46717a1f053c",
   "metadata": {},
   "outputs": [
    {
     "data": {
      "text/html": [
       "<div>\n",
       "<style scoped>\n",
       "    .dataframe tbody tr th:only-of-type {\n",
       "        vertical-align: middle;\n",
       "    }\n",
       "\n",
       "    .dataframe tbody tr th {\n",
       "        vertical-align: top;\n",
       "    }\n",
       "\n",
       "    .dataframe thead th {\n",
       "        text-align: right;\n",
       "    }\n",
       "</style>\n",
       "<table border=\"1\" class=\"dataframe\">\n",
       "  <thead>\n",
       "    <tr style=\"text-align: right;\">\n",
       "      <th></th>\n",
       "      <th>sex</th>\n",
       "      <th>age</th>\n",
       "      <th>health insurance</th>\n",
       "      <th>healthcare facility type</th>\n",
       "      <th>healthcare facility name</th>\n",
       "      <th>length of stay</th>\n",
       "      <th>discharge condition</th>\n",
       "      <th>primary diagnosis code</th>\n",
       "      <th>primary diagnosis name</th>\n",
       "      <th>year</th>\n",
       "      <th>first letter</th>\n",
       "      <th>two digits</th>\n",
       "      <th>chapter codes</th>\n",
       "    </tr>\n",
       "  </thead>\n",
       "  <tbody>\n",
       "    <tr>\n",
       "      <th>0</th>\n",
       "      <td>Male</td>\n",
       "      <td>60-69</td>\n",
       "      <td>Fonasa</td>\n",
       "      <td>Private</td>\n",
       "      <td>Clínica Familia</td>\n",
       "      <td>2</td>\n",
       "      <td>Deceased</td>\n",
       "      <td>C780</td>\n",
       "      <td>tumor maligno secundario del pulmon</td>\n",
       "      <td>2001</td>\n",
       "      <td>C</td>\n",
       "      <td>78</td>\n",
       "      <td>C00-D48</td>\n",
       "    </tr>\n",
       "    <tr>\n",
       "      <th>1</th>\n",
       "      <td>Male</td>\n",
       "      <td>70-79</td>\n",
       "      <td>Fonasa</td>\n",
       "      <td>Public</td>\n",
       "      <td>Hospital Del Salvador (Santiago, Providencia)</td>\n",
       "      <td>58</td>\n",
       "      <td>Deceased</td>\n",
       "      <td>E145</td>\n",
       "      <td>diabetes mellitus no especificada, con complic...</td>\n",
       "      <td>2001</td>\n",
       "      <td>E</td>\n",
       "      <td>14</td>\n",
       "      <td>E00-E90</td>\n",
       "    </tr>\n",
       "    <tr>\n",
       "      <th>2</th>\n",
       "      <td>Male</td>\n",
       "      <td>70-79</td>\n",
       "      <td>Fonasa</td>\n",
       "      <td>Public</td>\n",
       "      <td>Hospital Del Salvador (Santiago, Providencia)</td>\n",
       "      <td>12</td>\n",
       "      <td>Deceased</td>\n",
       "      <td>J189</td>\n",
       "      <td>neumonia, no especificada</td>\n",
       "      <td>2001</td>\n",
       "      <td>J</td>\n",
       "      <td>18</td>\n",
       "      <td>J00-J99</td>\n",
       "    </tr>\n",
       "    <tr>\n",
       "      <th>3</th>\n",
       "      <td>Male</td>\n",
       "      <td>1-9</td>\n",
       "      <td>Fonasa</td>\n",
       "      <td>Public</td>\n",
       "      <td>Instituto de Neurocirugía Dr. Alfonso Asenjo</td>\n",
       "      <td>1</td>\n",
       "      <td>Deceased</td>\n",
       "      <td>S065</td>\n",
       "      <td>hemorragia subdural traumatica</td>\n",
       "      <td>2001</td>\n",
       "      <td>S</td>\n",
       "      <td>6</td>\n",
       "      <td>S00-T98</td>\n",
       "    </tr>\n",
       "    <tr>\n",
       "      <th>4</th>\n",
       "      <td>Male</td>\n",
       "      <td>80-120</td>\n",
       "      <td>Fonasa</td>\n",
       "      <td>Public</td>\n",
       "      <td>Hospital Dr. Leonardo Guzmán (Antofagasta)</td>\n",
       "      <td>7</td>\n",
       "      <td>Alive</td>\n",
       "      <td>K830</td>\n",
       "      <td>colangitis</td>\n",
       "      <td>2001</td>\n",
       "      <td>K</td>\n",
       "      <td>83</td>\n",
       "      <td>K00-K93</td>\n",
       "    </tr>\n",
       "  </tbody>\n",
       "</table>\n",
       "</div>"
      ],
      "text/plain": [
       "    sex     age health insurance healthcare facility type  \\\n",
       "0  Male   60-69           Fonasa                  Private   \n",
       "1  Male   70-79           Fonasa                   Public   \n",
       "2  Male   70-79           Fonasa                   Public   \n",
       "3  Male     1-9           Fonasa                   Public   \n",
       "4  Male  80-120           Fonasa                   Public   \n",
       "\n",
       "                        healthcare facility name  length of stay  \\\n",
       "0                               Clínica Familia                2   \n",
       "1  Hospital Del Salvador (Santiago, Providencia)              58   \n",
       "2  Hospital Del Salvador (Santiago, Providencia)              12   \n",
       "3   Instituto de Neurocirugía Dr. Alfonso Asenjo               1   \n",
       "4     Hospital Dr. Leonardo Guzmán (Antofagasta)               7   \n",
       "\n",
       "  discharge condition primary diagnosis code  \\\n",
       "0            Deceased                   C780   \n",
       "1            Deceased                   E145   \n",
       "2            Deceased                   J189   \n",
       "3            Deceased                   S065   \n",
       "4               Alive                   K830   \n",
       "\n",
       "                              primary diagnosis name  year first letter  \\\n",
       "0                tumor maligno secundario del pulmon  2001            C   \n",
       "1  diabetes mellitus no especificada, con complic...  2001            E   \n",
       "2                          neumonia, no especificada  2001            J   \n",
       "3                     hemorragia subdural traumatica  2001            S   \n",
       "4                                         colangitis  2001            K   \n",
       "\n",
       "   two digits chapter codes  \n",
       "0          78       C00-D48  \n",
       "1          14       E00-E90  \n",
       "2          18       J00-J99  \n",
       "3           6       S00-T98  \n",
       "4          83       K00-K93  "
      ]
     },
     "execution_count": 73,
     "metadata": {},
     "output_type": "execute_result"
    }
   ],
   "source": [
    "# Checking if the new column was filled correctly\n",
    "df.head(5)"
   ]
  },
  {
   "cell_type": "raw",
   "id": "e3b88bea-544f-4fba-81eb-df91e6458063",
   "metadata": {},
   "source": [
    "# The vectorization was succesfull as all the values are valid, even for special cases\n",
    "sample[sample[\"chapter\"].isna()]"
   ]
  },
  {
   "cell_type": "code",
   "execution_count": 74,
   "id": "9219c295-fa8a-47c9-a51a-fd63927d7342",
   "metadata": {},
   "outputs": [
    {
     "data": {
      "text/html": [
       "<div>\n",
       "<style scoped>\n",
       "    .dataframe tbody tr th:only-of-type {\n",
       "        vertical-align: middle;\n",
       "    }\n",
       "\n",
       "    .dataframe tbody tr th {\n",
       "        vertical-align: top;\n",
       "    }\n",
       "\n",
       "    .dataframe thead th {\n",
       "        text-align: right;\n",
       "    }\n",
       "</style>\n",
       "<table border=\"1\" class=\"dataframe\">\n",
       "  <thead>\n",
       "    <tr style=\"text-align: right;\">\n",
       "      <th></th>\n",
       "      <th>sex</th>\n",
       "      <th>age</th>\n",
       "      <th>health insurance</th>\n",
       "      <th>healthcare facility type</th>\n",
       "      <th>healthcare facility name</th>\n",
       "      <th>length of stay</th>\n",
       "      <th>discharge condition</th>\n",
       "      <th>primary diagnosis code</th>\n",
       "      <th>primary diagnosis name</th>\n",
       "      <th>year</th>\n",
       "      <th>first letter</th>\n",
       "      <th>two digits</th>\n",
       "      <th>chapter codes</th>\n",
       "    </tr>\n",
       "  </thead>\n",
       "  <tbody>\n",
       "  </tbody>\n",
       "</table>\n",
       "</div>"
      ],
      "text/plain": [
       "Empty DataFrame\n",
       "Columns: [sex, age, health insurance, healthcare facility type, healthcare facility name, length of stay, discharge condition, primary diagnosis code, primary diagnosis name, year, first letter, two digits, chapter codes]\n",
       "Index: []"
      ]
     },
     "execution_count": 74,
     "metadata": {},
     "output_type": "execute_result"
    }
   ],
   "source": [
    "# The vectorization was succesfull as all the values are valid, even for special cases\n",
    "df[df[\"chapter codes\"].isna()]"
   ]
  },
  {
   "cell_type": "raw",
   "id": "c222ad27-7a9c-4ac0-9229-c840c58fe5ff",
   "metadata": {},
   "source": [
    "# \"C\" with two digits >48, first letter \"S\" with two digits >98, \"W\" or \"X\" for V01-Y98\n",
    "sample[(sample[\"first letter\"] == \"S\") & (sample[\"two digits\"] > 98)]"
   ]
  },
  {
   "cell_type": "code",
   "execution_count": 75,
   "id": "c1747ae2-9fda-4e8d-96c5-6603955982c0",
   "metadata": {},
   "outputs": [
    {
     "data": {
      "text/html": [
       "<div>\n",
       "<style scoped>\n",
       "    .dataframe tbody tr th:only-of-type {\n",
       "        vertical-align: middle;\n",
       "    }\n",
       "\n",
       "    .dataframe tbody tr th {\n",
       "        vertical-align: top;\n",
       "    }\n",
       "\n",
       "    .dataframe thead th {\n",
       "        text-align: right;\n",
       "    }\n",
       "</style>\n",
       "<table border=\"1\" class=\"dataframe\">\n",
       "  <thead>\n",
       "    <tr style=\"text-align: right;\">\n",
       "      <th></th>\n",
       "      <th>sex</th>\n",
       "      <th>age</th>\n",
       "      <th>health insurance</th>\n",
       "      <th>healthcare facility type</th>\n",
       "      <th>healthcare facility name</th>\n",
       "      <th>length of stay</th>\n",
       "      <th>discharge condition</th>\n",
       "      <th>primary diagnosis code</th>\n",
       "      <th>primary diagnosis name</th>\n",
       "      <th>year</th>\n",
       "      <th>first letter</th>\n",
       "      <th>two digits</th>\n",
       "      <th>chapter codes</th>\n",
       "    </tr>\n",
       "  </thead>\n",
       "  <tbody>\n",
       "    <tr>\n",
       "      <th>16076</th>\n",
       "      <td>Male</td>\n",
       "      <td>20-29</td>\n",
       "      <td>Fonasa</td>\n",
       "      <td>Public</td>\n",
       "      <td>Hospital San Francisco (Llaillay)</td>\n",
       "      <td>5</td>\n",
       "      <td>Alive</td>\n",
       "      <td>S997</td>\n",
       "      <td>traumatismos multiples del pie y del tobillo</td>\n",
       "      <td>2001</td>\n",
       "      <td>S</td>\n",
       "      <td>99</td>\n",
       "      <td>S00-T98</td>\n",
       "    </tr>\n",
       "    <tr>\n",
       "      <th>31318</th>\n",
       "      <td>Male</td>\n",
       "      <td>50-59</td>\n",
       "      <td>Fonasa</td>\n",
       "      <td>Private</td>\n",
       "      <td>Hospital Mutual de Seguridad CChC Los Ángeles</td>\n",
       "      <td>4</td>\n",
       "      <td>Alive</td>\n",
       "      <td>S999</td>\n",
       "      <td>traumatismo del pie y del tobillo, no especifi...</td>\n",
       "      <td>2001</td>\n",
       "      <td>S</td>\n",
       "      <td>99</td>\n",
       "      <td>S00-T98</td>\n",
       "    </tr>\n",
       "    <tr>\n",
       "      <th>31392</th>\n",
       "      <td>Male</td>\n",
       "      <td>50-59</td>\n",
       "      <td>Fonasa</td>\n",
       "      <td>Private</td>\n",
       "      <td>Hospital Mutual de Seguridad CChC Los Ángeles</td>\n",
       "      <td>4</td>\n",
       "      <td>Alive</td>\n",
       "      <td>S999</td>\n",
       "      <td>traumatismo del pie y del tobillo, no especifi...</td>\n",
       "      <td>2001</td>\n",
       "      <td>S</td>\n",
       "      <td>99</td>\n",
       "      <td>S00-T98</td>\n",
       "    </tr>\n",
       "    <tr>\n",
       "      <th>35586</th>\n",
       "      <td>Male</td>\n",
       "      <td>20-29</td>\n",
       "      <td>Fonasa</td>\n",
       "      <td>Private</td>\n",
       "      <td>Hospital Mutual de Seguridad CChC Los Ángeles</td>\n",
       "      <td>14</td>\n",
       "      <td>Alive</td>\n",
       "      <td>S999</td>\n",
       "      <td>traumatismo del pie y del tobillo, no especifi...</td>\n",
       "      <td>2001</td>\n",
       "      <td>S</td>\n",
       "      <td>99</td>\n",
       "      <td>S00-T98</td>\n",
       "    </tr>\n",
       "    <tr>\n",
       "      <th>38310</th>\n",
       "      <td>Male</td>\n",
       "      <td>30-39</td>\n",
       "      <td>Fonasa</td>\n",
       "      <td>Private</td>\n",
       "      <td>Hospital Mutual de Seguridad CChC Los Ángeles</td>\n",
       "      <td>2</td>\n",
       "      <td>Alive</td>\n",
       "      <td>S999</td>\n",
       "      <td>traumatismo del pie y del tobillo, no especifi...</td>\n",
       "      <td>2001</td>\n",
       "      <td>S</td>\n",
       "      <td>99</td>\n",
       "      <td>S00-T98</td>\n",
       "    </tr>\n",
       "    <tr>\n",
       "      <th>...</th>\n",
       "      <td>...</td>\n",
       "      <td>...</td>\n",
       "      <td>...</td>\n",
       "      <td>...</td>\n",
       "      <td>...</td>\n",
       "      <td>...</td>\n",
       "      <td>...</td>\n",
       "      <td>...</td>\n",
       "      <td>...</td>\n",
       "      <td>...</td>\n",
       "      <td>...</td>\n",
       "      <td>...</td>\n",
       "      <td>...</td>\n",
       "    </tr>\n",
       "    <tr>\n",
       "      <th>25665947</th>\n",
       "      <td>Female</td>\n",
       "      <td>40-49</td>\n",
       "      <td>Isapre</td>\n",
       "      <td>Private</td>\n",
       "      <td>Unknown</td>\n",
       "      <td>1</td>\n",
       "      <td>Alive</td>\n",
       "      <td>S998</td>\n",
       "      <td>otros traumatismos del pie y del tobillo, espe...</td>\n",
       "      <td>2024</td>\n",
       "      <td>S</td>\n",
       "      <td>99</td>\n",
       "      <td>S00-T98</td>\n",
       "    </tr>\n",
       "    <tr>\n",
       "      <th>25711985</th>\n",
       "      <td>Female</td>\n",
       "      <td>80-120</td>\n",
       "      <td>Fonasa</td>\n",
       "      <td>Private</td>\n",
       "      <td>Unknown</td>\n",
       "      <td>1</td>\n",
       "      <td>Alive</td>\n",
       "      <td>S999</td>\n",
       "      <td>traumatismo del pie y del tobillo, no especifi...</td>\n",
       "      <td>2024</td>\n",
       "      <td>S</td>\n",
       "      <td>99</td>\n",
       "      <td>S00-T98</td>\n",
       "    </tr>\n",
       "    <tr>\n",
       "      <th>25717610</th>\n",
       "      <td>Male</td>\n",
       "      <td>40-49</td>\n",
       "      <td>Isapre</td>\n",
       "      <td>Private</td>\n",
       "      <td>Unknown</td>\n",
       "      <td>1</td>\n",
       "      <td>Alive</td>\n",
       "      <td>S998</td>\n",
       "      <td>otros traumatismos del pie y del tobillo, espe...</td>\n",
       "      <td>2024</td>\n",
       "      <td>S</td>\n",
       "      <td>99</td>\n",
       "      <td>S00-T98</td>\n",
       "    </tr>\n",
       "    <tr>\n",
       "      <th>25718028</th>\n",
       "      <td>Male</td>\n",
       "      <td>70-79</td>\n",
       "      <td>Isapre</td>\n",
       "      <td>Private</td>\n",
       "      <td>Unknown</td>\n",
       "      <td>2</td>\n",
       "      <td>Alive</td>\n",
       "      <td>S998</td>\n",
       "      <td>otros traumatismos del pie y del tobillo, espe...</td>\n",
       "      <td>2024</td>\n",
       "      <td>S</td>\n",
       "      <td>99</td>\n",
       "      <td>S00-T98</td>\n",
       "    </tr>\n",
       "    <tr>\n",
       "      <th>25740211</th>\n",
       "      <td>Male</td>\n",
       "      <td>20-29</td>\n",
       "      <td>Fonasa</td>\n",
       "      <td>Private</td>\n",
       "      <td>Unknown</td>\n",
       "      <td>3</td>\n",
       "      <td>Alive</td>\n",
       "      <td>S998</td>\n",
       "      <td>otros traumatismos del pie y del tobillo, espe...</td>\n",
       "      <td>2024</td>\n",
       "      <td>S</td>\n",
       "      <td>99</td>\n",
       "      <td>S00-T98</td>\n",
       "    </tr>\n",
       "  </tbody>\n",
       "</table>\n",
       "<p>2224 rows × 13 columns</p>\n",
       "</div>"
      ],
      "text/plain": [
       "             sex     age health insurance healthcare facility type  \\\n",
       "16076       Male   20-29           Fonasa                   Public   \n",
       "31318       Male   50-59           Fonasa                  Private   \n",
       "31392       Male   50-59           Fonasa                  Private   \n",
       "35586       Male   20-29           Fonasa                  Private   \n",
       "38310       Male   30-39           Fonasa                  Private   \n",
       "...          ...     ...              ...                      ...   \n",
       "25665947  Female   40-49           Isapre                  Private   \n",
       "25711985  Female  80-120           Fonasa                  Private   \n",
       "25717610    Male   40-49           Isapre                  Private   \n",
       "25718028    Male   70-79           Isapre                  Private   \n",
       "25740211    Male   20-29           Fonasa                  Private   \n",
       "\n",
       "                                healthcare facility name  length of stay  \\\n",
       "16076                  Hospital San Francisco (Llaillay)               5   \n",
       "31318     Hospital Mutual de Seguridad CChC Los Ángeles                4   \n",
       "31392     Hospital Mutual de Seguridad CChC Los Ángeles                4   \n",
       "35586     Hospital Mutual de Seguridad CChC Los Ángeles               14   \n",
       "38310     Hospital Mutual de Seguridad CChC Los Ángeles                2   \n",
       "...                                                  ...             ...   \n",
       "25665947                                         Unknown               1   \n",
       "25711985                                         Unknown               1   \n",
       "25717610                                         Unknown               1   \n",
       "25718028                                         Unknown               2   \n",
       "25740211                                         Unknown               3   \n",
       "\n",
       "         discharge condition primary diagnosis code  \\\n",
       "16076                  Alive                   S997   \n",
       "31318                  Alive                   S999   \n",
       "31392                  Alive                   S999   \n",
       "35586                  Alive                   S999   \n",
       "38310                  Alive                   S999   \n",
       "...                      ...                    ...   \n",
       "25665947               Alive                   S998   \n",
       "25711985               Alive                   S999   \n",
       "25717610               Alive                   S998   \n",
       "25718028               Alive                   S998   \n",
       "25740211               Alive                   S998   \n",
       "\n",
       "                                     primary diagnosis name  year  \\\n",
       "16076          traumatismos multiples del pie y del tobillo  2001   \n",
       "31318     traumatismo del pie y del tobillo, no especifi...  2001   \n",
       "31392     traumatismo del pie y del tobillo, no especifi...  2001   \n",
       "35586     traumatismo del pie y del tobillo, no especifi...  2001   \n",
       "38310     traumatismo del pie y del tobillo, no especifi...  2001   \n",
       "...                                                     ...   ...   \n",
       "25665947  otros traumatismos del pie y del tobillo, espe...  2024   \n",
       "25711985  traumatismo del pie y del tobillo, no especifi...  2024   \n",
       "25717610  otros traumatismos del pie y del tobillo, espe...  2024   \n",
       "25718028  otros traumatismos del pie y del tobillo, espe...  2024   \n",
       "25740211  otros traumatismos del pie y del tobillo, espe...  2024   \n",
       "\n",
       "         first letter  two digits chapter codes  \n",
       "16076               S          99       S00-T98  \n",
       "31318               S          99       S00-T98  \n",
       "31392               S          99       S00-T98  \n",
       "35586               S          99       S00-T98  \n",
       "38310               S          99       S00-T98  \n",
       "...               ...         ...           ...  \n",
       "25665947            S          99       S00-T98  \n",
       "25711985            S          99       S00-T98  \n",
       "25717610            S          99       S00-T98  \n",
       "25718028            S          99       S00-T98  \n",
       "25740211            S          99       S00-T98  \n",
       "\n",
       "[2224 rows x 13 columns]"
      ]
     },
     "execution_count": 75,
     "metadata": {},
     "output_type": "execute_result"
    }
   ],
   "source": [
    "# Special cases checked: \"C\" with two digits >48, first letter \"S\" with two digits >98, \"W\" or \"X\" for V01-Y98\n",
    "df[(df[\"first letter\"] == \"S\") & (df[\"two digits\"] > 98)]"
   ]
  },
  {
   "cell_type": "raw",
   "id": "624dcbc5-06dd-4d6c-9d72-62140cbcf06f",
   "metadata": {},
   "source": [
    "sample[(sample[\"first letter\"] == \"D\") & (sample[\"two digits\"] < 48)]"
   ]
  },
  {
   "cell_type": "code",
   "execution_count": 76,
   "id": "3a1402ae-a213-4b64-be27-73933714c94d",
   "metadata": {},
   "outputs": [
    {
     "data": {
      "text/html": [
       "<div>\n",
       "<style scoped>\n",
       "    .dataframe tbody tr th:only-of-type {\n",
       "        vertical-align: middle;\n",
       "    }\n",
       "\n",
       "    .dataframe tbody tr th {\n",
       "        vertical-align: top;\n",
       "    }\n",
       "\n",
       "    .dataframe thead th {\n",
       "        text-align: right;\n",
       "    }\n",
       "</style>\n",
       "<table border=\"1\" class=\"dataframe\">\n",
       "  <thead>\n",
       "    <tr style=\"text-align: right;\">\n",
       "      <th></th>\n",
       "      <th>sex</th>\n",
       "      <th>age</th>\n",
       "      <th>health insurance</th>\n",
       "      <th>healthcare facility type</th>\n",
       "      <th>healthcare facility name</th>\n",
       "      <th>length of stay</th>\n",
       "      <th>discharge condition</th>\n",
       "      <th>primary diagnosis code</th>\n",
       "      <th>primary diagnosis name</th>\n",
       "      <th>year</th>\n",
       "      <th>first letter</th>\n",
       "      <th>two digits</th>\n",
       "      <th>chapter codes</th>\n",
       "    </tr>\n",
       "  </thead>\n",
       "  <tbody>\n",
       "    <tr>\n",
       "      <th>125</th>\n",
       "      <td>Male</td>\n",
       "      <td>80-120</td>\n",
       "      <td>Fonasa</td>\n",
       "      <td>Public</td>\n",
       "      <td>Hospital de Til Til</td>\n",
       "      <td>3</td>\n",
       "      <td>Deceased</td>\n",
       "      <td>D099</td>\n",
       "      <td>carcinoma in situ, sitio no especificado</td>\n",
       "      <td>2001</td>\n",
       "      <td>D</td>\n",
       "      <td>9</td>\n",
       "      <td>C00-D48</td>\n",
       "    </tr>\n",
       "    <tr>\n",
       "      <th>369</th>\n",
       "      <td>Male</td>\n",
       "      <td>30-39</td>\n",
       "      <td>Fonasa</td>\n",
       "      <td>Public</td>\n",
       "      <td>Instituto de Neurocirugía Dr. Alfonso Asenjo</td>\n",
       "      <td>4</td>\n",
       "      <td>Deceased</td>\n",
       "      <td>D430</td>\n",
       "      <td>tumor de comportamiento incierto o desconocido...</td>\n",
       "      <td>2001</td>\n",
       "      <td>D</td>\n",
       "      <td>43</td>\n",
       "      <td>C00-D48</td>\n",
       "    </tr>\n",
       "    <tr>\n",
       "      <th>394</th>\n",
       "      <td>Male</td>\n",
       "      <td>60-69</td>\n",
       "      <td>Fonasa</td>\n",
       "      <td>Public</td>\n",
       "      <td>Hospital de Maullín</td>\n",
       "      <td>3</td>\n",
       "      <td>Deceased</td>\n",
       "      <td>D381</td>\n",
       "      <td>tumor de comportamiento incierto o desconocido...</td>\n",
       "      <td>2001</td>\n",
       "      <td>D</td>\n",
       "      <td>38</td>\n",
       "      <td>C00-D48</td>\n",
       "    </tr>\n",
       "    <tr>\n",
       "      <th>644</th>\n",
       "      <td>Male</td>\n",
       "      <td>50-59</td>\n",
       "      <td>Fonasa</td>\n",
       "      <td>Public</td>\n",
       "      <td>Hospital Dr. Leonardo Guzmán (Antofagasta)</td>\n",
       "      <td>1</td>\n",
       "      <td>Deceased</td>\n",
       "      <td>D331</td>\n",
       "      <td>tumor benigno del encefalo, infratentorial</td>\n",
       "      <td>2001</td>\n",
       "      <td>D</td>\n",
       "      <td>33</td>\n",
       "      <td>C00-D48</td>\n",
       "    </tr>\n",
       "    <tr>\n",
       "      <th>702</th>\n",
       "      <td>Male</td>\n",
       "      <td>10-19</td>\n",
       "      <td>Fonasa</td>\n",
       "      <td>Public</td>\n",
       "      <td>Hospital Dr. Juan Noé Crevanni (Arica)</td>\n",
       "      <td>10</td>\n",
       "      <td>Alive</td>\n",
       "      <td>D430</td>\n",
       "      <td>tumor de comportamiento incierto o desconocido...</td>\n",
       "      <td>2001</td>\n",
       "      <td>D</td>\n",
       "      <td>43</td>\n",
       "      <td>C00-D48</td>\n",
       "    </tr>\n",
       "    <tr>\n",
       "      <th>...</th>\n",
       "      <td>...</td>\n",
       "      <td>...</td>\n",
       "      <td>...</td>\n",
       "      <td>...</td>\n",
       "      <td>...</td>\n",
       "      <td>...</td>\n",
       "      <td>...</td>\n",
       "      <td>...</td>\n",
       "      <td>...</td>\n",
       "      <td>...</td>\n",
       "      <td>...</td>\n",
       "      <td>...</td>\n",
       "      <td>...</td>\n",
       "    </tr>\n",
       "    <tr>\n",
       "      <th>25758397</th>\n",
       "      <td>Female</td>\n",
       "      <td>70-79</td>\n",
       "      <td>Isapre</td>\n",
       "      <td>Private</td>\n",
       "      <td>Unknown</td>\n",
       "      <td>1</td>\n",
       "      <td>Alive</td>\n",
       "      <td>D047</td>\n",
       "      <td>carcinoma in situ de la piel del miembro infer...</td>\n",
       "      <td>2024</td>\n",
       "      <td>D</td>\n",
       "      <td>4</td>\n",
       "      <td>C00-D48</td>\n",
       "    </tr>\n",
       "    <tr>\n",
       "      <th>25758424</th>\n",
       "      <td>Female</td>\n",
       "      <td>70-79</td>\n",
       "      <td>Isapre</td>\n",
       "      <td>Private</td>\n",
       "      <td>Unknown</td>\n",
       "      <td>2</td>\n",
       "      <td>Alive</td>\n",
       "      <td>D259</td>\n",
       "      <td>leiomioma del utero, sin otra especificacion</td>\n",
       "      <td>2024</td>\n",
       "      <td>D</td>\n",
       "      <td>25</td>\n",
       "      <td>C00-D48</td>\n",
       "    </tr>\n",
       "    <tr>\n",
       "      <th>25758429</th>\n",
       "      <td>Female</td>\n",
       "      <td>70-79</td>\n",
       "      <td>Isapre</td>\n",
       "      <td>Private</td>\n",
       "      <td>Unknown</td>\n",
       "      <td>2</td>\n",
       "      <td>Alive</td>\n",
       "      <td>D320</td>\n",
       "      <td>tumor benigno de las meninges cerebrales</td>\n",
       "      <td>2024</td>\n",
       "      <td>D</td>\n",
       "      <td>32</td>\n",
       "      <td>C00-D48</td>\n",
       "    </tr>\n",
       "    <tr>\n",
       "      <th>25758469</th>\n",
       "      <td>Female</td>\n",
       "      <td>70-79</td>\n",
       "      <td>Isapre</td>\n",
       "      <td>Private</td>\n",
       "      <td>Unknown</td>\n",
       "      <td>8</td>\n",
       "      <td>Alive</td>\n",
       "      <td>D320</td>\n",
       "      <td>tumor benigno de las meninges cerebrales</td>\n",
       "      <td>2024</td>\n",
       "      <td>D</td>\n",
       "      <td>32</td>\n",
       "      <td>C00-D48</td>\n",
       "    </tr>\n",
       "    <tr>\n",
       "      <th>25758607</th>\n",
       "      <td>Female</td>\n",
       "      <td>80-120</td>\n",
       "      <td>Isapre</td>\n",
       "      <td>Private</td>\n",
       "      <td>Unknown</td>\n",
       "      <td>3</td>\n",
       "      <td>Alive</td>\n",
       "      <td>D375</td>\n",
       "      <td>tumor de comportamiento incierto o desconocido...</td>\n",
       "      <td>2024</td>\n",
       "      <td>D</td>\n",
       "      <td>37</td>\n",
       "      <td>C00-D48</td>\n",
       "    </tr>\n",
       "  </tbody>\n",
       "</table>\n",
       "<p>769733 rows × 13 columns</p>\n",
       "</div>"
      ],
      "text/plain": [
       "             sex     age health insurance healthcare facility type  \\\n",
       "125         Male  80-120           Fonasa                   Public   \n",
       "369         Male   30-39           Fonasa                   Public   \n",
       "394         Male   60-69           Fonasa                   Public   \n",
       "644         Male   50-59           Fonasa                   Public   \n",
       "702         Male   10-19           Fonasa                   Public   \n",
       "...          ...     ...              ...                      ...   \n",
       "25758397  Female   70-79           Isapre                  Private   \n",
       "25758424  Female   70-79           Isapre                  Private   \n",
       "25758429  Female   70-79           Isapre                  Private   \n",
       "25758469  Female   70-79           Isapre                  Private   \n",
       "25758607  Female  80-120           Isapre                  Private   \n",
       "\n",
       "                              healthcare facility name  length of stay  \\\n",
       "125                                Hospital de Til Til               3   \n",
       "369       Instituto de Neurocirugía Dr. Alfonso Asenjo               4   \n",
       "394                                Hospital de Maullín               3   \n",
       "644         Hospital Dr. Leonardo Guzmán (Antofagasta)               1   \n",
       "702             Hospital Dr. Juan Noé Crevanni (Arica)              10   \n",
       "...                                                ...             ...   \n",
       "25758397                                       Unknown               1   \n",
       "25758424                                       Unknown               2   \n",
       "25758429                                       Unknown               2   \n",
       "25758469                                       Unknown               8   \n",
       "25758607                                       Unknown               3   \n",
       "\n",
       "         discharge condition primary diagnosis code  \\\n",
       "125                 Deceased                   D099   \n",
       "369                 Deceased                   D430   \n",
       "394                 Deceased                   D381   \n",
       "644                 Deceased                   D331   \n",
       "702                    Alive                   D430   \n",
       "...                      ...                    ...   \n",
       "25758397               Alive                   D047   \n",
       "25758424               Alive                   D259   \n",
       "25758429               Alive                   D320   \n",
       "25758469               Alive                   D320   \n",
       "25758607               Alive                   D375   \n",
       "\n",
       "                                     primary diagnosis name  year  \\\n",
       "125                carcinoma in situ, sitio no especificado  2001   \n",
       "369       tumor de comportamiento incierto o desconocido...  2001   \n",
       "394       tumor de comportamiento incierto o desconocido...  2001   \n",
       "644              tumor benigno del encefalo, infratentorial  2001   \n",
       "702       tumor de comportamiento incierto o desconocido...  2001   \n",
       "...                                                     ...   ...   \n",
       "25758397  carcinoma in situ de la piel del miembro infer...  2024   \n",
       "25758424       leiomioma del utero, sin otra especificacion  2024   \n",
       "25758429           tumor benigno de las meninges cerebrales  2024   \n",
       "25758469           tumor benigno de las meninges cerebrales  2024   \n",
       "25758607  tumor de comportamiento incierto o desconocido...  2024   \n",
       "\n",
       "         first letter  two digits chapter codes  \n",
       "125                 D           9       C00-D48  \n",
       "369                 D          43       C00-D48  \n",
       "394                 D          38       C00-D48  \n",
       "644                 D          33       C00-D48  \n",
       "702                 D          43       C00-D48  \n",
       "...               ...         ...           ...  \n",
       "25758397            D           4       C00-D48  \n",
       "25758424            D          25       C00-D48  \n",
       "25758429            D          32       C00-D48  \n",
       "25758469            D          32       C00-D48  \n",
       "25758607            D          37       C00-D48  \n",
       "\n",
       "[769733 rows x 13 columns]"
      ]
     },
     "execution_count": 76,
     "metadata": {},
     "output_type": "execute_result"
    }
   ],
   "source": [
    "df[(df[\"first letter\"] == \"D\") & (df[\"two digits\"] < 48)]"
   ]
  },
  {
   "cell_type": "raw",
   "id": "98126096-5d85-4204-b38e-67c177b961c8",
   "metadata": {},
   "source": [
    "# The column filled with applying the function (row by row iteration) and the vectorized one are identic. This is useful to check the values are correct\n",
    "# This step was not done with the whole dataframe, because only a vectorization was applied\n",
    "sample[\"chapter codes\"].equals(sample[\"chapter\"])"
   ]
  },
  {
   "cell_type": "raw",
   "id": "3af3b901-54dd-461c-b07d-74029e112e06",
   "metadata": {},
   "source": [
    "# Drop column resulted from row by row iteration\n",
    "sample.drop(columns = \"chapter codes\", inplace = True)"
   ]
  },
  {
   "cell_type": "markdown",
   "id": "dfe738da-c4e4-47a0-a0cf-5a936bc0df70",
   "metadata": {},
   "source": [
    "# Map chapter names"
   ]
  },
  {
   "cell_type": "code",
   "execution_count": 78,
   "id": "12fc4357-41e3-429d-a4a2-5abc735a820a",
   "metadata": {},
   "outputs": [],
   "source": [
    "# I manually filled the dictionary, pairing each chapter code with its corresponding chapter name extracted from the misnisrty of health excel\n",
    "# with information about the data\n",
    "cap_names = {\"A00-B99\": \"Ciertas enfermedades infecciosas y parasitarias\",\"C00-D48\": \"Tumores [Neoplasias]\",\n",
    "             \"D50-D89\" : \"Enfermedades de la sangre y de los órganos hematopoyéticos, y ciertos trastornos que afectan el mecanismo de la inmunidad \",\n",
    "             \"E00-E90\" : \"Enfermedades endocrinas, nutricionales y metabólicas\",\"F00-F99\" : \"Trastornos mentales y del comportamiento\",\n",
    "             \"G00-G99\" : \"Enfermedades del sistema nervioso central\",\"H00-H59\" : \"Enfermedades del ojo y sus anexos \",\n",
    "             \"H60-H95\" : \"Enfermedades del oído y de la apófisis mastoides\",\"I00-I99\" : \"Enfermedades del sistema circulatorio\",\n",
    "             \"J00-J99\" : \"Enfermedades del sistema respiratorio\",\"K00-K93\" : \"Enfermedades del sistema digestivo\",\n",
    "             \"L00-L99\" : \"Enfermedades de la piel y del tejido subcutáneo\",\"M00-M99\" : \"Enfermedades del sistema osteomuscular y del tejido conjuntivo\",\n",
    "             \"N00-N99\" : \"Enfermedades del sistema genitourinario\",\"P00-P96\" : \"Ciertas afecciones originadas en el período perinatal\",\n",
    "             \"Q00-Q99\" : \"Malformaciones congénitas, deformidades y anomalías cromosómicas\",\n",
    "             \"R00-R99\" : \"Síntomas, signos y hallazgos anormales clínicos y de laboratorio, no clasificados en otra parte\",\n",
    "             \"S00-T98\" : \"Traumatismos, envenenamientos y algunas otras consecuencias de causas externas\",\n",
    "             \"V01-Y98\" : \"Causas externas de morbilidad y de mortalidad\",\n",
    "             \"Z00-Z99\" : \"Factores que influyen en el estado de salud y contacto con los  servicios de salud\",\"U00-U99\" : \"Códigos para propósitos especiales\"}"
   ]
  },
  {
   "cell_type": "raw",
   "id": "d5bed863-1b88-497d-a85c-628416f19bc2",
   "metadata": {},
   "source": [
    "# Vectorization mapping each chapter name with the corresponding chapter code and creating a column resulting from it\n",
    "sample[\"chapter names\"] = sample[\"chapter\"].map(cap_names)"
   ]
  },
  {
   "cell_type": "code",
   "execution_count": 79,
   "id": "e7f794b4-2f6c-49f2-a4ab-70b3c018b633",
   "metadata": {},
   "outputs": [],
   "source": [
    "# Vectorization mapping each chapter name with the corresponding chapter code and creating a column resulting from it\n",
    "df[\"chapter names\"] = df[\"chapter codes\"].map(cap_names)"
   ]
  },
  {
   "cell_type": "code",
   "execution_count": 241,
   "id": "6e172a4f-7da0-4a04-8a84-5eed77813d0f",
   "metadata": {},
   "outputs": [
    {
     "data": {
      "text/html": [
       "<div>\n",
       "<style scoped>\n",
       "    .dataframe tbody tr th:only-of-type {\n",
       "        vertical-align: middle;\n",
       "    }\n",
       "\n",
       "    .dataframe tbody tr th {\n",
       "        vertical-align: top;\n",
       "    }\n",
       "\n",
       "    .dataframe thead th {\n",
       "        text-align: right;\n",
       "    }\n",
       "</style>\n",
       "<table border=\"1\" class=\"dataframe\">\n",
       "  <thead>\n",
       "    <tr style=\"text-align: right;\">\n",
       "      <th></th>\n",
       "      <th>sex</th>\n",
       "      <th>age</th>\n",
       "      <th>health insurance</th>\n",
       "      <th>healthcare facility type</th>\n",
       "      <th>healthcare facility name</th>\n",
       "      <th>length of stay</th>\n",
       "      <th>discharge condition</th>\n",
       "      <th>primary diagnosis code</th>\n",
       "      <th>primary diagnosis name</th>\n",
       "      <th>year</th>\n",
       "      <th>chapter codes</th>\n",
       "      <th>chapter names</th>\n",
       "      <th>LOS_capped</th>\n",
       "    </tr>\n",
       "  </thead>\n",
       "  <tbody>\n",
       "    <tr>\n",
       "      <th>0</th>\n",
       "      <td>Male</td>\n",
       "      <td>60-69</td>\n",
       "      <td>Fonasa</td>\n",
       "      <td>Private</td>\n",
       "      <td>Clínica Familia</td>\n",
       "      <td>2</td>\n",
       "      <td>Deceased</td>\n",
       "      <td>C780</td>\n",
       "      <td>tumor maligno secundario del pulmon</td>\n",
       "      <td>2001</td>\n",
       "      <td>C00-D48</td>\n",
       "      <td>Tumores [Neoplasias]</td>\n",
       "      <td>2</td>\n",
       "    </tr>\n",
       "    <tr>\n",
       "      <th>1</th>\n",
       "      <td>Male</td>\n",
       "      <td>70-79</td>\n",
       "      <td>Fonasa</td>\n",
       "      <td>Public</td>\n",
       "      <td>Hospital Del Salvador (Santiago, Providencia)</td>\n",
       "      <td>58</td>\n",
       "      <td>Deceased</td>\n",
       "      <td>E145</td>\n",
       "      <td>diabetes mellitus no especificada, con complic...</td>\n",
       "      <td>2001</td>\n",
       "      <td>E00-E90</td>\n",
       "      <td>Enfermedades endocrinas, nutricionales y metab...</td>\n",
       "      <td>58</td>\n",
       "    </tr>\n",
       "    <tr>\n",
       "      <th>2</th>\n",
       "      <td>Male</td>\n",
       "      <td>70-79</td>\n",
       "      <td>Fonasa</td>\n",
       "      <td>Public</td>\n",
       "      <td>Hospital Del Salvador (Santiago, Providencia)</td>\n",
       "      <td>12</td>\n",
       "      <td>Deceased</td>\n",
       "      <td>J189</td>\n",
       "      <td>neumonia, no especificada</td>\n",
       "      <td>2001</td>\n",
       "      <td>J00-J99</td>\n",
       "      <td>Enfermedades del sistema respiratorio</td>\n",
       "      <td>12</td>\n",
       "    </tr>\n",
       "    <tr>\n",
       "      <th>3</th>\n",
       "      <td>Male</td>\n",
       "      <td>1-9</td>\n",
       "      <td>Fonasa</td>\n",
       "      <td>Public</td>\n",
       "      <td>Instituto de Neurocirugía Dr. Alfonso Asenjo</td>\n",
       "      <td>1</td>\n",
       "      <td>Deceased</td>\n",
       "      <td>S065</td>\n",
       "      <td>hemorragia subdural traumatica</td>\n",
       "      <td>2001</td>\n",
       "      <td>S00-T98</td>\n",
       "      <td>Traumatismos, envenenamientos y algunas otras ...</td>\n",
       "      <td>1</td>\n",
       "    </tr>\n",
       "    <tr>\n",
       "      <th>4</th>\n",
       "      <td>Male</td>\n",
       "      <td>80-120</td>\n",
       "      <td>Fonasa</td>\n",
       "      <td>Public</td>\n",
       "      <td>Hospital Dr. Leonardo Guzmán (Antofagasta)</td>\n",
       "      <td>7</td>\n",
       "      <td>Alive</td>\n",
       "      <td>K830</td>\n",
       "      <td>colangitis</td>\n",
       "      <td>2001</td>\n",
       "      <td>K00-K93</td>\n",
       "      <td>Enfermedades del sistema digestivo</td>\n",
       "      <td>7</td>\n",
       "    </tr>\n",
       "    <tr>\n",
       "      <th>...</th>\n",
       "      <td>...</td>\n",
       "      <td>...</td>\n",
       "      <td>...</td>\n",
       "      <td>...</td>\n",
       "      <td>...</td>\n",
       "      <td>...</td>\n",
       "      <td>...</td>\n",
       "      <td>...</td>\n",
       "      <td>...</td>\n",
       "      <td>...</td>\n",
       "      <td>...</td>\n",
       "      <td>...</td>\n",
       "      <td>...</td>\n",
       "    </tr>\n",
       "    <tr>\n",
       "      <th>25758736</th>\n",
       "      <td>Female</td>\n",
       "      <td>70-79</td>\n",
       "      <td>Isapre</td>\n",
       "      <td>Public</td>\n",
       "      <td>Unknown</td>\n",
       "      <td>5</td>\n",
       "      <td>Alive</td>\n",
       "      <td>S525</td>\n",
       "      <td>fractura de la epifisis inferior del radio</td>\n",
       "      <td>2024</td>\n",
       "      <td>S00-T98</td>\n",
       "      <td>Traumatismos, envenenamientos y algunas otras ...</td>\n",
       "      <td>5</td>\n",
       "    </tr>\n",
       "    <tr>\n",
       "      <th>25758737</th>\n",
       "      <td>Female</td>\n",
       "      <td>80-120</td>\n",
       "      <td>Isapre</td>\n",
       "      <td>Public</td>\n",
       "      <td>Unknown</td>\n",
       "      <td>9</td>\n",
       "      <td>Alive</td>\n",
       "      <td>K805</td>\n",
       "      <td>calculo de conducto biliar sin colangitis ni c...</td>\n",
       "      <td>2024</td>\n",
       "      <td>K00-K93</td>\n",
       "      <td>Enfermedades del sistema digestivo</td>\n",
       "      <td>9</td>\n",
       "    </tr>\n",
       "    <tr>\n",
       "      <th>25758738</th>\n",
       "      <td>Female</td>\n",
       "      <td>80-120</td>\n",
       "      <td>Isapre</td>\n",
       "      <td>Public</td>\n",
       "      <td>Unknown</td>\n",
       "      <td>7</td>\n",
       "      <td>Alive</td>\n",
       "      <td>M169</td>\n",
       "      <td>coxartrosis, no especificada</td>\n",
       "      <td>2024</td>\n",
       "      <td>M00-M99</td>\n",
       "      <td>Enfermedades del sistema osteomuscular y del t...</td>\n",
       "      <td>7</td>\n",
       "    </tr>\n",
       "    <tr>\n",
       "      <th>25758739</th>\n",
       "      <td>Female</td>\n",
       "      <td>80-120</td>\n",
       "      <td>Isapre</td>\n",
       "      <td>Public</td>\n",
       "      <td>Unknown</td>\n",
       "      <td>9</td>\n",
       "      <td>Deceased</td>\n",
       "      <td>I489</td>\n",
       "      <td>fibrilacion y aleteo auricular, no especificado</td>\n",
       "      <td>2024</td>\n",
       "      <td>I00-I99</td>\n",
       "      <td>Enfermedades del sistema circulatorio</td>\n",
       "      <td>9</td>\n",
       "    </tr>\n",
       "    <tr>\n",
       "      <th>25758740</th>\n",
       "      <td>Female</td>\n",
       "      <td>0-1</td>\n",
       "      <td>Isapre</td>\n",
       "      <td>Public</td>\n",
       "      <td>Unknown</td>\n",
       "      <td>23</td>\n",
       "      <td>Alive</td>\n",
       "      <td>P073</td>\n",
       "      <td>otros recien nacidos pretermino</td>\n",
       "      <td>2024</td>\n",
       "      <td>P00-P96</td>\n",
       "      <td>Ciertas afecciones originadas en el período pe...</td>\n",
       "      <td>23</td>\n",
       "    </tr>\n",
       "  </tbody>\n",
       "</table>\n",
       "<p>25758741 rows × 13 columns</p>\n",
       "</div>"
      ],
      "text/plain": [
       "             sex     age health insurance healthcare facility type  \\\n",
       "0           Male   60-69           Fonasa                  Private   \n",
       "1           Male   70-79           Fonasa                   Public   \n",
       "2           Male   70-79           Fonasa                   Public   \n",
       "3           Male     1-9           Fonasa                   Public   \n",
       "4           Male  80-120           Fonasa                   Public   \n",
       "...          ...     ...              ...                      ...   \n",
       "25758736  Female   70-79           Isapre                   Public   \n",
       "25758737  Female  80-120           Isapre                   Public   \n",
       "25758738  Female  80-120           Isapre                   Public   \n",
       "25758739  Female  80-120           Isapre                   Public   \n",
       "25758740  Female     0-1           Isapre                   Public   \n",
       "\n",
       "                               healthcare facility name  length of stay  \\\n",
       "0                                      Clínica Familia                2   \n",
       "1         Hospital Del Salvador (Santiago, Providencia)              58   \n",
       "2         Hospital Del Salvador (Santiago, Providencia)              12   \n",
       "3          Instituto de Neurocirugía Dr. Alfonso Asenjo               1   \n",
       "4            Hospital Dr. Leonardo Guzmán (Antofagasta)               7   \n",
       "...                                                 ...             ...   \n",
       "25758736                                        Unknown               5   \n",
       "25758737                                        Unknown               9   \n",
       "25758738                                        Unknown               7   \n",
       "25758739                                        Unknown               9   \n",
       "25758740                                        Unknown              23   \n",
       "\n",
       "         discharge condition primary diagnosis code  \\\n",
       "0                   Deceased                   C780   \n",
       "1                   Deceased                   E145   \n",
       "2                   Deceased                   J189   \n",
       "3                   Deceased                   S065   \n",
       "4                      Alive                   K830   \n",
       "...                      ...                    ...   \n",
       "25758736               Alive                   S525   \n",
       "25758737               Alive                   K805   \n",
       "25758738               Alive                   M169   \n",
       "25758739            Deceased                   I489   \n",
       "25758740               Alive                   P073   \n",
       "\n",
       "                                     primary diagnosis name  year  \\\n",
       "0                       tumor maligno secundario del pulmon  2001   \n",
       "1         diabetes mellitus no especificada, con complic...  2001   \n",
       "2                                 neumonia, no especificada  2001   \n",
       "3                            hemorragia subdural traumatica  2001   \n",
       "4                                                colangitis  2001   \n",
       "...                                                     ...   ...   \n",
       "25758736         fractura de la epifisis inferior del radio  2024   \n",
       "25758737  calculo de conducto biliar sin colangitis ni c...  2024   \n",
       "25758738                       coxartrosis, no especificada  2024   \n",
       "25758739    fibrilacion y aleteo auricular, no especificado  2024   \n",
       "25758740                    otros recien nacidos pretermino  2024   \n",
       "\n",
       "         chapter codes                                      chapter names  \\\n",
       "0              C00-D48                               Tumores [Neoplasias]   \n",
       "1              E00-E90  Enfermedades endocrinas, nutricionales y metab...   \n",
       "2              J00-J99              Enfermedades del sistema respiratorio   \n",
       "3              S00-T98  Traumatismos, envenenamientos y algunas otras ...   \n",
       "4              K00-K93                 Enfermedades del sistema digestivo   \n",
       "...                ...                                                ...   \n",
       "25758736       S00-T98  Traumatismos, envenenamientos y algunas otras ...   \n",
       "25758737       K00-K93                 Enfermedades del sistema digestivo   \n",
       "25758738       M00-M99  Enfermedades del sistema osteomuscular y del t...   \n",
       "25758739       I00-I99              Enfermedades del sistema circulatorio   \n",
       "25758740       P00-P96  Ciertas afecciones originadas en el período pe...   \n",
       "\n",
       "          LOS_capped  \n",
       "0                  2  \n",
       "1                 58  \n",
       "2                 12  \n",
       "3                  1  \n",
       "4                  7  \n",
       "...              ...  \n",
       "25758736           5  \n",
       "25758737           9  \n",
       "25758738           7  \n",
       "25758739           9  \n",
       "25758740          23  \n",
       "\n",
       "[25758741 rows x 13 columns]"
      ]
     },
     "execution_count": 241,
     "metadata": {},
     "output_type": "execute_result"
    }
   ],
   "source": [
    "# Drop transitory columns to keep dataframe clean\n",
    "df.drop(columns = [\"first letter\", \"two digits\"])"
   ]
  },
  {
   "cell_type": "markdown",
   "id": "093247b8-a992-4c57-a00f-e6b7e61b9440",
   "metadata": {},
   "source": [
    "# Plot distribution of diagnoses by chapter names"
   ]
  },
  {
   "cell_type": "code",
   "execution_count": 252,
   "id": "a1a45e6a-6777-442d-bcd9-e06c7453452f",
   "metadata": {},
   "outputs": [
    {
     "data": {
      "text/plain": [
       "15405886"
      ]
     },
     "execution_count": 252,
     "metadata": {},
     "output_type": "execute_result"
    }
   ],
   "source": [
    "# Top 5 chapter names concentrate 15.405.886 discharges (59.8%)\n",
    "df[\"chapter names\"].value_counts().head(5).sum()"
   ]
  },
  {
   "cell_type": "code",
   "execution_count": 248,
   "id": "85af4a1e-999f-4cdb-a0a1-e1905be3e5f6",
   "metadata": {},
   "outputs": [
    {
     "data": {
      "image/png": "[encoded data removed]",
      "text/plain": [
       "<Figure size 1200x600 with 1 Axes>"
      ]
     },
     "metadata": {},
     "output_type": "display_data"
    }
   ],
   "source": [
    "# --- Step 1: Count top 5 diagnoses ---\n",
    "diag_counts = df[\"chapter names\"].value_counts()\n",
    "top_diagnoses = diag_counts.head(5).index.tolist()\n",
    "\n",
    "# --- Step 2: Create grouped column (Top 5 + \"Other\") ---\n",
    "df[\"diagnosis_grouped\"] = df[\"chapter names\"].where(\n",
    "    df[\"chapter names\"].isin(top_diagnoses),\n",
    "    \"Other\"\n",
    ")\n",
    "\n",
    "# --- Step 3: Aggregate counts by diagnosis ---\n",
    "counts = df[\"diagnosis_grouped\"].value_counts().loc[top_diagnoses + [\"Other\"]]\n",
    "\n",
    "# --- Step 4: Compute percentages for labels ---\n",
    "percentages = counts / counts.sum() * 100\n",
    "\n",
    "# --- Step 5: Plot bar chart with frequencies on Y ---\n",
    "ax = counts.plot(kind=\"bar\", figsize=(12, 6))\n",
    "\n",
    "plt.ylabel(\"Number of discharges\")\n",
    "plt.xlabel(\"Primary Diagnosis\")\n",
    "plt.xticks(rotation=45, ha=\"right\", fontsize=9)\n",
    "plt.title(\"Top 5 diagnoses chapters by Discharges (Other included)\")\n",
    "\n",
    "# --- Step 6: Annotate bars with percentages ---\n",
    "for i, (count, pct) in enumerate(zip(counts, percentages)):\n",
    "    ax.text(i, count + (0.01 * counts.max()), f\"{pct:.1f}%\", \n",
    "            ha=\"center\", va=\"bottom\", fontsize=10)\n",
    "\n",
    "plt.tight_layout()\n",
    "plt.show()"
   ]
  },
  {
   "cell_type": "raw",
   "id": "88f6481a-0972-4cad-905d-6b308bd2c88c",
   "metadata": {},
   "source": [
    "Summary of primary diagnosis codes/names\n",
    "\n",
    "Counts: The top 15 diagnoses concentrate just 4.113.924 out of 25.758.741 discharges; The bottom 15 facilities just have 15 discharges. When grouping diagnoses by chapter, the top 5 concentrate 15.405.886 out of 25.758.741 discharges\n",
    "\n",
    "Proportions: 15.97% top 15 diagnoses vs. 84.03% other diagnoses. When grouping diagnoses by chapter the top 5 concentrate 59.8%\n",
    "\n",
    "Mode: Diagnosis -> Neumonia, not specified (2.5%)\n",
    "      Chapter -> Digestive system (16.3%)\n",
    "\n",
    "Balance: There is a really low concentration of discharges among diagnoses, showing heterogeneity. When grouping by chapter, the top 5 concentrate more than the half of discharges.\n",
    "\n",
    "Context: The balance reflect that the discharges are disitributed among many diangoses, so there is no concentration. In that sense, is useful to group them by chapter to show what kind of health issues are more prevalent. More value from this can be seen in the bivariate and multivariate analysis."
   ]
  },
  {
   "cell_type": "markdown",
   "id": "c04b9139-ec4f-4a9f-86bd-84dcd0fbd5c3",
   "metadata": {},
   "source": [
    "# Length of stay"
   ]
  },
  {
   "cell_type": "markdown",
   "id": "edb01232-ca97-47f3-acd6-229bf2c8bf3e",
   "metadata": {},
   "source": [
    "# 1. Basic Overview"
   ]
  },
  {
   "cell_type": "raw",
   "id": "6f428673-7c6d-4502-a7cd-5d49325f7a64",
   "metadata": {},
   "source": [
    "Check data type, missing values, unique values.\n",
    "\n",
    "Look at descriptive statistics."
   ]
  },
  {
   "cell_type": "code",
   "execution_count": 84,
   "id": "d1cee356-345f-45f7-a8e4-3090318ab687",
   "metadata": {},
   "outputs": [
    {
     "data": {
      "text/plain": [
       "dtype('int32')"
      ]
     },
     "execution_count": 84,
     "metadata": {},
     "output_type": "execute_result"
    }
   ],
   "source": [
    "# It is a numerical discrete variable\n",
    "df[\"length of stay\"].dtype"
   ]
  },
  {
   "cell_type": "code",
   "execution_count": 85,
   "id": "edf71d4c-dc21-42fb-afea-7b8ebf24b9fd",
   "metadata": {},
   "outputs": [
    {
     "data": {
      "text/plain": [
       "count    2.575874e+07\n",
       "mean     6.756565e+00\n",
       "std      5.994416e+01\n",
       "min      1.000000e+00\n",
       "25%      1.000000e+00\n",
       "50%      3.000000e+00\n",
       "75%      7.000000e+00\n",
       "max      3.245200e+04\n",
       "Name: length of stay, dtype: float64"
      ]
     },
     "execution_count": 85,
     "metadata": {},
     "output_type": "execute_result"
    }
   ],
   "source": [
    "# Dispersion and central tendency measures\n",
    "df[\"length of stay\"].describe()"
   ]
  },
  {
   "cell_type": "raw",
   "id": "507033c1-f0ed-40e6-8db6-e83d941c6f79",
   "metadata": {},
   "source": [
    "The mean is higher than the median beacuse the maximum (and possibly other outliers are high) affecting the distribution of the data"
   ]
  },
  {
   "cell_type": "markdown",
   "id": "dc30d5b8-44a7-4b57-9977-9269f5a1f743",
   "metadata": {},
   "source": [
    "# 2. Distribution"
   ]
  },
  {
   "cell_type": "code",
   "execution_count": 87,
   "id": "f0fffa27-34ec-4da3-b5e7-3c5037a842da",
   "metadata": {},
   "outputs": [
    {
     "name": "stdout",
     "output_type": "stream",
     "text": [
      "Mean: 6.756565392695241\n",
      "Median: 3.0\n",
      "Mode: 1\n",
      "Std Dev: 59.94416128386496\n",
      "Range: 32451\n"
     ]
    }
   ],
   "source": [
    "# Pretty much the same as \"describe()\"\n",
    "print(\"Mean:\", df['length of stay'].mean())\n",
    "print(\"Median:\", df['length of stay'].median())\n",
    "print(\"Mode:\", df['length of stay'].mode()[0])\n",
    "print(\"Std Dev:\", df['length of stay'].std())\n",
    "print(\"Range:\", df['length of stay'].max() - df['length of stay'].min())\n"
   ]
  },
  {
   "cell_type": "raw",
   "id": "715098b8-48ea-4032-b2c9-872fbcf0b068",
   "metadata": {},
   "source": [
    "Histogram to see overall distribution, which is really skewed"
   ]
  },
  {
   "cell_type": "code",
   "execution_count": 88,
   "id": "8cdfc1d7-7b6a-4253-93a1-97b7960eb66c",
   "metadata": {},
   "outputs": [
    {
     "data": {
      "image/png": "[encoded data removed]",
      "text/plain": [
       "<Figure size 800x500 with 1 Axes>"
      ]
     },
     "metadata": {},
     "output_type": "display_data"
    }
   ],
   "source": [
    "plt.figure(figsize=(8,5))\n",
    "df['length of stay'].plot(kind='hist', bins=30, edgecolor='black')\n",
    "plt.title(\"Distribution of Length of Stay\")\n",
    "plt.xlabel(\"Days\")\n",
    "plt.ylabel(\"Frequency\")\n",
    "plt.show()"
   ]
  },
  {
   "cell_type": "raw",
   "id": "a9d3b41b-1a75-472f-9a9d-d0c9792d1555",
   "metadata": {},
   "source": [
    "The histogram looks skewed, so it is neccesary to set a top limit (30 days) to visualize the distribution excluding outliers "
   ]
  },
  {
   "cell_type": "code",
   "execution_count": 89,
   "id": "3f80a9c0-982a-4524-9ae3-1edba677b5b4",
   "metadata": {},
   "outputs": [],
   "source": [
    "# Filtering the dataframe to include rows with length of stay less or equal than 30 days\n",
    "df_LOS_hist = df['length of stay'][df['length of stay'] <= 30]"
   ]
  },
  {
   "cell_type": "code",
   "execution_count": 90,
   "id": "d64b8cf6-42b0-480b-b8d3-b5de699f59a8",
   "metadata": {},
   "outputs": [
    {
     "data": {
      "image/png": "[encoded data removed]",
      "text/plain": [
       "<Figure size 800x500 with 1 Axes>"
      ]
     },
     "metadata": {},
     "output_type": "display_data"
    }
   ],
   "source": [
    "plt.figure(figsize=(8,5))\n",
    "df_LOS_hist.plot(kind='hist', bins=30, edgecolor='black')\n",
    "plt.title(\"Distribution of Length of Stay\")\n",
    "plt.xlabel(\"Days\")\n",
    "plt.ylabel(\"Frequency\")\n",
    "plt.show()"
   ]
  },
  {
   "cell_type": "raw",
   "id": "cce37026-c5e1-4995-b4e8-bdabf0389c6a",
   "metadata": {},
   "source": [
    "This is a left skewed distribution reflecting what was seen with the central tendency distribution measures: 75% of patients stay 7 days or less hospitalized"
   ]
  },
  {
   "cell_type": "code",
   "execution_count": 91,
   "id": "bf74c75f-b79a-4de3-ac9f-ef3eb2270535",
   "metadata": {},
   "outputs": [
    {
     "data": {
      "image/png": "[encoded data removed]",
      "text/plain": [
       "<Figure size 1000x700 with 1 Axes>"
      ]
     },
     "metadata": {},
     "output_type": "display_data"
    }
   ],
   "source": [
    "# The boxplot shows what is seen in the first histogram: the distribution is skewed and affected by really high extreme values\n",
    "fig = plt.figure(figsize =(10, 7))\n",
    "\n",
    "plt.boxplot(df[\"length of stay\"])\n",
    "plt.show()"
   ]
  },
  {
   "cell_type": "code",
   "execution_count": 92,
   "id": "61e278f5-b9cd-4f0a-9be3-add551932eb7",
   "metadata": {},
   "outputs": [
    {
     "data": {
      "image/png": "[encoded data removed]",
      "text/plain": [
       "<Figure size 1000x700 with 1 Axes>"
      ]
     },
     "metadata": {},
     "output_type": "display_data"
    },
    {
     "name": "stdout",
     "output_type": "stream",
     "text": [
      "0.25     1.0\n",
      "0.50     3.0\n",
      "0.75     7.0\n",
      "0.95    22.0\n",
      "0.99    53.0\n",
      "Name: length of stay, dtype: float64\n"
     ]
    }
   ],
   "source": [
    "# Applying logarithmic transformation helps to visualize the distribution clearer\n",
    "fig = plt.figure(figsize =(10, 7))\n",
    "\n",
    "plt.boxplot(df[\"length of stay\"])\n",
    "plt.yscale('log')\n",
    "plt.show()\n",
    "\n",
    "# Quantiles\n",
    "print(df['length of stay'].quantile([0.25, 0.5, 0.75, 0.95, 0.99]))"
   ]
  },
  {
   "cell_type": "code",
   "execution_count": 93,
   "id": "0c797874-f023-442d-b13c-85e4277f9d3a",
   "metadata": {},
   "outputs": [],
   "source": [
    "# Filtering length of stay to just consider disharges of 22 days (percentile 95) or shorter to create a boxplot \n",
    "df_LOS_box = df['length of stay'][df['length of stay'] <= 22]"
   ]
  },
  {
   "cell_type": "code",
   "execution_count": 94,
   "id": "6d71b849-4418-48fc-89ba-da9e47b6ae5f",
   "metadata": {},
   "outputs": [
    {
     "data": {
      "image/png": "[encoded data removed]",
      "text/plain": [
       "<Figure size 1000x700 with 1 Axes>"
      ]
     },
     "metadata": {},
     "output_type": "display_data"
    }
   ],
   "source": [
    "# 22 days or less of length of stay includes all the discharges that are in the 95 percentile or below, so the 5% with longest stays are excluded.\n",
    "fig = plt.figure(figsize =(10, 7))\n",
    "\n",
    "plt.boxplot(df_LOS_box, showfliers=False)\n",
    "plt.ylim(0,22)\n",
    "plt.show()"
   ]
  },
  {
   "cell_type": "raw",
   "id": "b8146b49-3cdb-4e15-a84a-bfa50f978f6b",
   "metadata": {},
   "source": [
    "Boxplot shows that 75% of the discharges are less than 7 days"
   ]
  },
  {
   "cell_type": "markdown",
   "id": "a67fb5bf-84cf-4017-9a1b-f12c87d99be9",
   "metadata": {},
   "source": [
    "# 3. Outliers analysis"
   ]
  },
  {
   "cell_type": "code",
   "execution_count": 96,
   "id": "8fddb050-b70e-40ce-be5c-9dfdaabd50af",
   "metadata": {},
   "outputs": [],
   "source": [
    "# Creating limits to separate outliers from the rest of the data\n",
    "limit_99 = df['length of stay'].quantile(0.99)\n",
    "limit_95 = df['length of stay'].quantile(0.95)"
   ]
  },
  {
   "cell_type": "code",
   "execution_count": 97,
   "id": "1656d21b-4ce2-433b-b944-b32929f1c4e7",
   "metadata": {},
   "outputs": [
    {
     "name": "stdout",
     "output_type": "stream",
     "text": [
      "Amount of discharges whose length of stay is over percentile 99 (53 days):  256528\n"
     ]
    }
   ],
   "source": [
    "print(\"Amount of discharges whose length of stay is over percentile 99 (53 days): \",len(df['length of stay'][df['length of stay'] > limit_99]))"
   ]
  },
  {
   "cell_type": "code",
   "execution_count": 98,
   "id": "e537aeda-0ac5-4939-8b3e-1ebf0672b5f7",
   "metadata": {},
   "outputs": [
    {
     "name": "stdout",
     "output_type": "stream",
     "text": [
      "Amount of discharges whose length of stay is over percentile 95 (22 days):  1229838\n"
     ]
    }
   ],
   "source": [
    "print(\"Amount of discharges whose length of stay is over percentile 95 (22 days): \",len(df['length of stay'][df['length of stay'] > limit_95]))"
   ]
  },
  {
   "cell_type": "raw",
   "id": "6127f1e2-63db-41c2-9fd4-fe90faa05490",
   "metadata": {},
   "source": [
    "Now we are going to define outliers based on the interquartile range method"
   ]
  },
  {
   "cell_type": "code",
   "execution_count": 99,
   "id": "1600a62e-f932-485d-9851-522c81e114f8",
   "metadata": {},
   "outputs": [
    {
     "name": "stdout",
     "output_type": "stream",
     "text": [
      "Q1: 1.0, Q3: 7.0, IQR: 6.0\n"
     ]
    }
   ],
   "source": [
    "# Drop missing values\n",
    "los = df['length of stay'].dropna()\n",
    "\n",
    "# Compute quartiles\n",
    "Q1 = los.quantile(0.25)\n",
    "Q3 = los.quantile(0.75)\n",
    "\n",
    "# Compute IQR\n",
    "IQR = Q3 - Q1\n",
    "\n",
    "print(f\"Q1: {Q1}, Q3: {Q3}, IQR: {IQR}\")\n"
   ]
  },
  {
   "cell_type": "code",
   "execution_count": 100,
   "id": "85e724c2-135a-498b-b291-b66338ae648c",
   "metadata": {},
   "outputs": [
    {
     "name": "stdout",
     "output_type": "stream",
     "text": [
      "Lower threshold: -8.0\n",
      "Upper threshold: 25.0\n"
     ]
    }
   ],
   "source": [
    "# Lower and upper thresholds\n",
    "lower_threshold = Q1 - 1.5 * IQR\n",
    "upper_threshold = Q3 + 3 * IQR\n",
    "\n",
    "print(f\"Lower threshold: {lower_threshold}\")\n",
    "print(f\"Upper threshold: {upper_threshold}\")\n"
   ]
  },
  {
   "cell_type": "raw",
   "id": "4f7547a6-3000-45b3-821d-63bc4da0277f",
   "metadata": {},
   "source": [
    "Discharges whose length of stay is longer than 25 days are considered outliers according to IQR method and the resulting upper threshold"
   ]
  },
  {
   "cell_type": "code",
   "execution_count": 101,
   "id": "ee002e42-8351-4340-89e1-28bf7eb504d9",
   "metadata": {},
   "outputs": [
    {
     "name": "stdout",
     "output_type": "stream",
     "text": [
      "Number of outliers: 1011147\n"
     ]
    }
   ],
   "source": [
    "outliers = los[(los < lower_threshold) | (los > upper_threshold)]\n",
    "print(f\"Number of outliers: {len(outliers)}\")\n"
   ]
  },
  {
   "cell_type": "code",
   "execution_count": 102,
   "id": "b3b76cee-b1bc-4b59-88c5-92fd96b23384",
   "metadata": {},
   "outputs": [
    {
     "name": "stdout",
     "output_type": "stream",
     "text": [
      "Percentage of outliers: 3.93%\n"
     ]
    }
   ],
   "source": [
    "pct_outliers = len(outliers) / len(los) * 100\n",
    "print(f\"Percentage of outliers: {pct_outliers:.2f}%\")\n"
   ]
  },
  {
   "cell_type": "markdown",
   "id": "87ec353c-50b8-4420-9713-87d4a9fda7a5",
   "metadata": {},
   "source": [
    "# Decision about outliers "
   ]
  },
  {
   "cell_type": "raw",
   "id": "65c43598-14fd-468e-90c7-5c111c16661c",
   "metadata": {},
   "source": [
    "What are the actual outliers?"
   ]
  },
  {
   "cell_type": "code",
   "execution_count": 104,
   "id": "8d4a5083-ae30-4abb-9bd5-8c906101b682",
   "metadata": {},
   "outputs": [],
   "source": [
    "# Create a dataframe only with outliers\n",
    "outliers = df[df[\"length of stay\"] > upper_threshold]"
   ]
  },
  {
   "cell_type": "code",
   "execution_count": 105,
   "id": "ceb04f50-26d7-4850-9bfa-c297bb3b44e4",
   "metadata": {},
   "outputs": [
    {
     "name": "stdout",
     "output_type": "stream",
     "text": [
      "sex\n",
      "Male      596543\n",
      "Female    414604\n",
      "Name: count, dtype: int64\n",
      "age\n",
      "60-69     180248\n",
      "70-79     170926\n",
      "50-59     141667\n",
      "0-1       106327\n",
      "80-120    106323\n",
      "40-49      98570\n",
      "30-39      71972\n",
      "20-29      60969\n",
      "10-19      47622\n",
      "1-9        26523\n",
      "Name: count, dtype: int64\n",
      "health insurance\n",
      "Fonasa    938609\n",
      "Isapre     72538\n",
      "Name: count, dtype: int64\n",
      "healthcare facility type\n",
      "Public     838012\n",
      "Private    120366\n",
      "Unknown     52769\n",
      "Name: count, dtype: int64\n",
      "healthcare facility name\n",
      "Unknown                                                                 219698\n",
      "Hospital Barros Luco Trudeau (Santiago, San Miguel)                      34281\n",
      "Hospital Clínico Regional Dr. Guillermo Grant Benavente (Concepción)     30106\n",
      "Hospital Dr. Hernán Henríquez Aravena (Temuco)                           26543\n",
      "Complejo Hospitalario Dr. Sótero del Río (Santiago, Puente Alto)         26198\n",
      "                                                                         ...  \n",
      "Consultorio Mutual de Seguridad CChC (Chillán)                               1\n",
      "Policlínico del Trabajador  Coyhaique                                        1\n",
      "Labocenter                                                                   1\n",
      "Clínica  San José                                                            1\n",
      "Policlínico AChS Los ángeles                                                 1\n",
      "Name: count, Length: 446, dtype: int64\n",
      "length of stay\n",
      "26      58955\n",
      "28      57803\n",
      "27      56991\n",
      "29      50389\n",
      "30      46508\n",
      "        ...  \n",
      "3783        1\n",
      "4927        1\n",
      "3897        1\n",
      "1531        1\n",
      "5198        1\n",
      "Name: count, Length: 2998, dtype: int64\n",
      "discharge condition\n",
      "Alive       920813\n",
      "Deceased     90334\n",
      "Name: count, dtype: int64\n",
      "primary diagnosis code\n",
      "J189    20196\n",
      "U071    19515\n",
      "P073    17420\n",
      "S720    16201\n",
      "E145    16006\n",
      "        ...  \n",
      "E661        1\n",
      "M498        1\n",
      "Z901        1\n",
      "T495        1\n",
      "E769        1\n",
      "Name: count, Length: 6711, dtype: int64\n",
      "primary diagnosis name\n",
      "neumonia, no especificada                                                          20196\n",
      "covid-19, virus identificado                                                       19515\n",
      "otros recien nacidos pretermino                                                    17420\n",
      "fractura del cuello del femur                                                      16201\n",
      "diabetes mellitus no especificada, con complicaciones circulatorias perifericas    16006\n",
      "                                                                                   ...  \n",
      "tumor benigno de la vagina                                                             1\n",
      "envenenamiento por antiasmaticos, no clasificados en otra parte                        1\n",
      "palpitaciones                                                                          1\n",
      "subluxacion recidivante de la rotula                                                   1\n",
      "trastorno del metabolismo de los glucosaminoglicanos, no especificado                  1\n",
      "Name: count, Length: 6706, dtype: int64\n",
      "year\n",
      "2021    56847\n",
      "2024    55350\n",
      "2022    54732\n",
      "2023    52769\n",
      "2018    51543\n",
      "2013    51267\n",
      "2017    49777\n",
      "2016    48526\n",
      "2015    47273\n",
      "2020    47122\n",
      "2014    45066\n",
      "2012    42955\n",
      "2011    42144\n",
      "2009    40984\n",
      "2010    40858\n",
      "2008    39318\n",
      "2007    39011\n",
      "2006    36699\n",
      "2003    35782\n",
      "2005    33867\n",
      "2002    33306\n",
      "2019    28139\n",
      "2004    19406\n",
      "2001    18406\n",
      "Name: count, dtype: int64\n",
      "first letter\n",
      "I    135358\n",
      "F    118644\n",
      "C     89325\n",
      "J     84360\n",
      "K     76179\n",
      "S     72405\n",
      "P     61519\n",
      "T     51904\n",
      "E     51224\n",
      "N     49447\n",
      "A     36833\n",
      "G     27946\n",
      "M     27886\n",
      "D     26090\n",
      "L     20372\n",
      "Q     20291\n",
      "U     20028\n",
      "Z     15081\n",
      "R     11846\n",
      "B     11712\n",
      "H      2697\n",
      "Name: count, dtype: int64\n",
      "two digits\n",
      "7     51043\n",
      "18    49024\n",
      "20    46359\n",
      "72    31059\n",
      "14    24228\n",
      "      ...  \n",
      "66     1900\n",
      "94     1631\n",
      "68     1345\n",
      "88     1018\n",
      "58      691\n",
      "Name: count, Length: 100, dtype: int64\n",
      "chapter codes\n",
      "I00-I99    135358\n",
      "S00-T98    124309\n",
      "F00-F99    118644\n",
      "C00-D48    108173\n",
      "J00-J99     84360\n",
      "K00-K93     76179\n",
      "P00-P96     61519\n",
      "E00-E90     51224\n",
      "N00-N99     49447\n",
      "A00-B99     48545\n",
      "G00-G99     27946\n",
      "M00-M99     27886\n",
      "L00-L99     20372\n",
      "Q00-Q99     20291\n",
      "U00-U99     20028\n",
      "Z00-Z99     15081\n",
      "R00-R99     11846\n",
      "D50-D89      7242\n",
      "H00-H59      2173\n",
      "H60-H95       524\n",
      "Name: count, dtype: int64\n",
      "chapter names\n",
      "Enfermedades del sistema circulatorio                                                                                         135358\n",
      "Traumatismos, envenenamientos y algunas otras consecuencias de causas externas                                                124309\n",
      "Trastornos mentales y del comportamiento                                                                                      118644\n",
      "Tumores [Neoplasias]                                                                                                          108173\n",
      "Enfermedades del sistema respiratorio                                                                                          84360\n",
      "Enfermedades del sistema digestivo                                                                                             76179\n",
      "Ciertas afecciones originadas en el período perinatal                                                                          61519\n",
      "Enfermedades endocrinas, nutricionales y metabólicas                                                                           51224\n",
      "Enfermedades del sistema genitourinario                                                                                        49447\n",
      "Ciertas enfermedades infecciosas y parasitarias                                                                                48545\n",
      "Enfermedades del sistema nervioso central                                                                                      27946\n",
      "Enfermedades del sistema osteomuscular y del tejido conjuntivo                                                                 27886\n",
      "Enfermedades de la piel y del tejido subcutáneo                                                                                20372\n",
      "Malformaciones congénitas, deformidades y anomalías cromosómicas                                                               20291\n",
      "Códigos para propósitos especiales                                                                                             20028\n",
      "Factores que influyen en el estado de salud y contacto con los  servicios de salud                                             15081\n",
      "Síntomas, signos y hallazgos anormales clínicos y de laboratorio, no clasificados en otra parte                                11846\n",
      "Enfermedades de la sangre y de los órganos hematopoyéticos, y ciertos trastornos que afectan el mecanismo de la inmunidad       7242\n",
      "Enfermedades del ojo y sus anexos                                                                                               2173\n",
      "Enfermedades del oído y de la apófisis mastoides                                                                                 524\n",
      "Name: count, dtype: int64\n"
     ]
    }
   ],
   "source": [
    "# Counts of outliers per column. This is useful to know what are the characterstics of the outliers apart of length of stay.\n",
    "for col in outliers.columns:\n",
    "    print(outliers[col].value_counts())"
   ]
  },
  {
   "cell_type": "code",
   "execution_count": 106,
   "id": "ca4bab35-83c0-422c-a938-8f31db755140",
   "metadata": {},
   "outputs": [
    {
     "data": {
      "text/plain": [
       "primary diagnosis name\n",
       "neumonia, no especificada                                                                20196\n",
       "covid-19, virus identificado                                                             19515\n",
       "otros recien nacidos pretermino                                                          17420\n",
       "fractura del cuello del femur                                                            16201\n",
       "diabetes mellitus no especificada, con complicaciones circulatorias perifericas          16006\n",
       "septicemia, no especificada                                                              13086\n",
       "esquizofrenia paranoide                                                                  12305\n",
       "esquizofrenia, no especificada                                                           11968\n",
       "enfermedad renal cronica, no especificada                                                11491\n",
       "diabetes mellitus no insulinodependiente con complicaciones circulatorias perifericas    10589\n",
       "sindrome de dificultad respiratoria del recien nacido                                    10540\n",
       "accidente vascular encefalico agudo, no especificado como hemorragico o isquemico         8937\n",
       "otras enfermedades cerebrovasculares especificadas                                        8644\n",
       "infeccion de vias urinarias, sitio no especificado                                        7884\n",
       "tumor maligno del estomago, parte no especificada                                         7655\n",
       "Name: count, dtype: int64"
      ]
     },
     "execution_count": 106,
     "metadata": {},
     "output_type": "execute_result"
    }
   ],
   "source": [
    "# Top 15 diagnoses with long stays\n",
    "outliers[\"primary diagnosis name\"].value_counts().head(15)"
   ]
  },
  {
   "cell_type": "code",
   "execution_count": 107,
   "id": "c2eedf8e-3e0f-45d2-85a7-ce3f8f287b14",
   "metadata": {},
   "outputs": [],
   "source": [
    "# Sample of outliers dataframe with the top 1000 longest stays\n",
    "out_top1000 = outliers.sort_values(by=\"length of stay\", ascending = False).head(1000)"
   ]
  },
  {
   "cell_type": "code",
   "execution_count": 108,
   "id": "cfdc13ed-8ed0-4092-9bdd-678adc82b979",
   "metadata": {},
   "outputs": [
    {
     "data": {
      "text/html": [
       "<div>\n",
       "<style scoped>\n",
       "    .dataframe tbody tr th:only-of-type {\n",
       "        vertical-align: middle;\n",
       "    }\n",
       "\n",
       "    .dataframe tbody tr th {\n",
       "        vertical-align: top;\n",
       "    }\n",
       "\n",
       "    .dataframe thead th {\n",
       "        text-align: right;\n",
       "    }\n",
       "</style>\n",
       "<table border=\"1\" class=\"dataframe\">\n",
       "  <thead>\n",
       "    <tr style=\"text-align: right;\">\n",
       "      <th></th>\n",
       "      <th>sex</th>\n",
       "      <th>age</th>\n",
       "      <th>health insurance</th>\n",
       "      <th>healthcare facility type</th>\n",
       "      <th>healthcare facility name</th>\n",
       "      <th>length of stay</th>\n",
       "      <th>discharge condition</th>\n",
       "      <th>primary diagnosis code</th>\n",
       "      <th>primary diagnosis name</th>\n",
       "      <th>year</th>\n",
       "      <th>first letter</th>\n",
       "      <th>two digits</th>\n",
       "      <th>chapter codes</th>\n",
       "      <th>chapter names</th>\n",
       "    </tr>\n",
       "  </thead>\n",
       "  <tbody>\n",
       "    <tr>\n",
       "      <th>2182477</th>\n",
       "      <td>Male</td>\n",
       "      <td>80-120</td>\n",
       "      <td>Isapre</td>\n",
       "      <td>Private</td>\n",
       "      <td>Clínica del Trabajador de la AChS Ovalle</td>\n",
       "      <td>32452</td>\n",
       "      <td>Alive</td>\n",
       "      <td>I679</td>\n",
       "      <td>enfermedad cerebrovascular, no especificada</td>\n",
       "      <td>2004</td>\n",
       "      <td>I</td>\n",
       "      <td>67</td>\n",
       "      <td>I00-I99</td>\n",
       "      <td>Enfermedades del sistema circulatorio</td>\n",
       "    </tr>\n",
       "    <tr>\n",
       "      <th>8239411</th>\n",
       "      <td>Female</td>\n",
       "      <td>80-120</td>\n",
       "      <td>Fonasa</td>\n",
       "      <td>Private</td>\n",
       "      <td>Clínica Psiquiatrica Raquel Gaete</td>\n",
       "      <td>29924</td>\n",
       "      <td>Deceased</td>\n",
       "      <td>F03X</td>\n",
       "      <td>demencia, no especificada</td>\n",
       "      <td>2010</td>\n",
       "      <td>F</td>\n",
       "      <td>3</td>\n",
       "      <td>F00-F99</td>\n",
       "      <td>Trastornos mentales y del comportamiento</td>\n",
       "    </tr>\n",
       "    <tr>\n",
       "      <th>10567377</th>\n",
       "      <td>Female</td>\n",
       "      <td>70-79</td>\n",
       "      <td>Fonasa</td>\n",
       "      <td>Private</td>\n",
       "      <td>Clínica Psiquiatrica Raquel Gaete</td>\n",
       "      <td>29235</td>\n",
       "      <td>Deceased</td>\n",
       "      <td>J189</td>\n",
       "      <td>neumonia, no especificada</td>\n",
       "      <td>2012</td>\n",
       "      <td>J</td>\n",
       "      <td>18</td>\n",
       "      <td>J00-J99</td>\n",
       "      <td>Enfermedades del sistema respiratorio</td>\n",
       "    </tr>\n",
       "    <tr>\n",
       "      <th>8991809</th>\n",
       "      <td>Female</td>\n",
       "      <td>80-120</td>\n",
       "      <td>Fonasa</td>\n",
       "      <td>Public</td>\n",
       "      <td>Instituto Psiquiátrico Dr. José Horwitz Barak ...</td>\n",
       "      <td>26855</td>\n",
       "      <td>Deceased</td>\n",
       "      <td>F209</td>\n",
       "      <td>esquizofrenia, no especificada</td>\n",
       "      <td>2010</td>\n",
       "      <td>F</td>\n",
       "      <td>20</td>\n",
       "      <td>F00-F99</td>\n",
       "      <td>Trastornos mentales y del comportamiento</td>\n",
       "    </tr>\n",
       "    <tr>\n",
       "      <th>9966755</th>\n",
       "      <td>Female</td>\n",
       "      <td>70-79</td>\n",
       "      <td>Fonasa</td>\n",
       "      <td>Private</td>\n",
       "      <td>Clínica Psiquiatrica Raquel Gaete</td>\n",
       "      <td>25837</td>\n",
       "      <td>Deceased</td>\n",
       "      <td>I64X</td>\n",
       "      <td>accidente vascular encefalico agudo, no especi...</td>\n",
       "      <td>2011</td>\n",
       "      <td>I</td>\n",
       "      <td>64</td>\n",
       "      <td>I00-I99</td>\n",
       "      <td>Enfermedades del sistema circulatorio</td>\n",
       "    </tr>\n",
       "    <tr>\n",
       "      <th>...</th>\n",
       "      <td>...</td>\n",
       "      <td>...</td>\n",
       "      <td>...</td>\n",
       "      <td>...</td>\n",
       "      <td>...</td>\n",
       "      <td>...</td>\n",
       "      <td>...</td>\n",
       "      <td>...</td>\n",
       "      <td>...</td>\n",
       "      <td>...</td>\n",
       "      <td>...</td>\n",
       "      <td>...</td>\n",
       "      <td>...</td>\n",
       "      <td>...</td>\n",
       "    </tr>\n",
       "    <tr>\n",
       "      <th>22255191</th>\n",
       "      <td>Male</td>\n",
       "      <td>30-39</td>\n",
       "      <td>Fonasa</td>\n",
       "      <td>Public</td>\n",
       "      <td>Unknown</td>\n",
       "      <td>3291</td>\n",
       "      <td>Alive</td>\n",
       "      <td>F203</td>\n",
       "      <td>esquizofrenia indiferenciada</td>\n",
       "      <td>2022</td>\n",
       "      <td>F</td>\n",
       "      <td>20</td>\n",
       "      <td>F00-F99</td>\n",
       "      <td>Trastornos mentales y del comportamiento</td>\n",
       "    </tr>\n",
       "    <tr>\n",
       "      <th>16692078</th>\n",
       "      <td>Male</td>\n",
       "      <td>60-69</td>\n",
       "      <td>Fonasa</td>\n",
       "      <td>Public</td>\n",
       "      <td>Hospital Psiquiátrico Dr. Philippe Pinel (Puta...</td>\n",
       "      <td>3291</td>\n",
       "      <td>Alive</td>\n",
       "      <td>F711</td>\n",
       "      <td>retraso mental moderado c/deterioro significat...</td>\n",
       "      <td>2017</td>\n",
       "      <td>F</td>\n",
       "      <td>71</td>\n",
       "      <td>F00-F99</td>\n",
       "      <td>Trastornos mentales y del comportamiento</td>\n",
       "    </tr>\n",
       "    <tr>\n",
       "      <th>7283174</th>\n",
       "      <td>Female</td>\n",
       "      <td>60-69</td>\n",
       "      <td>Fonasa</td>\n",
       "      <td>Private</td>\n",
       "      <td>Clínica Puerto Montt</td>\n",
       "      <td>3288</td>\n",
       "      <td>Alive</td>\n",
       "      <td>E149</td>\n",
       "      <td>diabetes mellitus no especificada, sin mencion...</td>\n",
       "      <td>2009</td>\n",
       "      <td>E</td>\n",
       "      <td>14</td>\n",
       "      <td>E00-E90</td>\n",
       "      <td>Enfermedades endocrinas, nutricionales y metab...</td>\n",
       "    </tr>\n",
       "    <tr>\n",
       "      <th>12763849</th>\n",
       "      <td>Male</td>\n",
       "      <td>80-120</td>\n",
       "      <td>Fonasa</td>\n",
       "      <td>Public</td>\n",
       "      <td>Hospital Psiquiátrico El Peral (Santiago, Puen...</td>\n",
       "      <td>3285</td>\n",
       "      <td>Alive</td>\n",
       "      <td>F209</td>\n",
       "      <td>esquizofrenia, no especificada</td>\n",
       "      <td>2014</td>\n",
       "      <td>F</td>\n",
       "      <td>20</td>\n",
       "      <td>F00-F99</td>\n",
       "      <td>Trastornos mentales y del comportamiento</td>\n",
       "    </tr>\n",
       "    <tr>\n",
       "      <th>6786701</th>\n",
       "      <td>Male</td>\n",
       "      <td>1-9</td>\n",
       "      <td>Fonasa</td>\n",
       "      <td>Public</td>\n",
       "      <td>Centro de Enfermedades Respiratorias Infantile...</td>\n",
       "      <td>3284</td>\n",
       "      <td>Alive</td>\n",
       "      <td>J449</td>\n",
       "      <td>enfermedad pulmonar obstructiva cronica, no es...</td>\n",
       "      <td>2008</td>\n",
       "      <td>J</td>\n",
       "      <td>44</td>\n",
       "      <td>J00-J99</td>\n",
       "      <td>Enfermedades del sistema respiratorio</td>\n",
       "    </tr>\n",
       "  </tbody>\n",
       "</table>\n",
       "<p>1000 rows × 14 columns</p>\n",
       "</div>"
      ],
      "text/plain": [
       "             sex     age health insurance healthcare facility type  \\\n",
       "2182477     Male  80-120           Isapre                  Private   \n",
       "8239411   Female  80-120           Fonasa                  Private   \n",
       "10567377  Female   70-79           Fonasa                  Private   \n",
       "8991809   Female  80-120           Fonasa                   Public   \n",
       "9966755   Female   70-79           Fonasa                  Private   \n",
       "...          ...     ...              ...                      ...   \n",
       "22255191    Male   30-39           Fonasa                   Public   \n",
       "16692078    Male   60-69           Fonasa                   Public   \n",
       "7283174   Female   60-69           Fonasa                  Private   \n",
       "12763849    Male  80-120           Fonasa                   Public   \n",
       "6786701     Male     1-9           Fonasa                   Public   \n",
       "\n",
       "                                   healthcare facility name  length of stay  \\\n",
       "2182477            Clínica del Trabajador de la AChS Ovalle           32452   \n",
       "8239411                   Clínica Psiquiatrica Raquel Gaete           29924   \n",
       "10567377                  Clínica Psiquiatrica Raquel Gaete           29235   \n",
       "8991809   Instituto Psiquiátrico Dr. José Horwitz Barak ...           26855   \n",
       "9966755                   Clínica Psiquiatrica Raquel Gaete           25837   \n",
       "...                                                     ...             ...   \n",
       "22255191                                            Unknown            3291   \n",
       "16692078  Hospital Psiquiátrico Dr. Philippe Pinel (Puta...            3291   \n",
       "7283174                               Clínica Puerto Montt             3288   \n",
       "12763849  Hospital Psiquiátrico El Peral (Santiago, Puen...            3285   \n",
       "6786701   Centro de Enfermedades Respiratorias Infantile...            3284   \n",
       "\n",
       "         discharge condition primary diagnosis code  \\\n",
       "2182477                Alive                   I679   \n",
       "8239411             Deceased                   F03X   \n",
       "10567377            Deceased                   J189   \n",
       "8991809             Deceased                   F209   \n",
       "9966755             Deceased                   I64X   \n",
       "...                      ...                    ...   \n",
       "22255191               Alive                   F203   \n",
       "16692078               Alive                   F711   \n",
       "7283174                Alive                   E149   \n",
       "12763849               Alive                   F209   \n",
       "6786701                Alive                   J449   \n",
       "\n",
       "                                     primary diagnosis name  year  \\\n",
       "2182477         enfermedad cerebrovascular, no especificada  2004   \n",
       "8239411                           demencia, no especificada  2010   \n",
       "10567377                          neumonia, no especificada  2012   \n",
       "8991809                      esquizofrenia, no especificada  2010   \n",
       "9966755   accidente vascular encefalico agudo, no especi...  2011   \n",
       "...                                                     ...   ...   \n",
       "22255191                       esquizofrenia indiferenciada  2022   \n",
       "16692078  retraso mental moderado c/deterioro significat...  2017   \n",
       "7283174   diabetes mellitus no especificada, sin mencion...  2009   \n",
       "12763849                     esquizofrenia, no especificada  2014   \n",
       "6786701   enfermedad pulmonar obstructiva cronica, no es...  2008   \n",
       "\n",
       "         first letter  two digits chapter codes  \\\n",
       "2182477             I          67       I00-I99   \n",
       "8239411             F           3       F00-F99   \n",
       "10567377            J          18       J00-J99   \n",
       "8991809             F          20       F00-F99   \n",
       "9966755             I          64       I00-I99   \n",
       "...               ...         ...           ...   \n",
       "22255191            F          20       F00-F99   \n",
       "16692078            F          71       F00-F99   \n",
       "7283174             E          14       E00-E90   \n",
       "12763849            F          20       F00-F99   \n",
       "6786701             J          44       J00-J99   \n",
       "\n",
       "                                              chapter names  \n",
       "2182477               Enfermedades del sistema circulatorio  \n",
       "8239411            Trastornos mentales y del comportamiento  \n",
       "10567377              Enfermedades del sistema respiratorio  \n",
       "8991809            Trastornos mentales y del comportamiento  \n",
       "9966755               Enfermedades del sistema circulatorio  \n",
       "...                                                     ...  \n",
       "22255191           Trastornos mentales y del comportamiento  \n",
       "16692078           Trastornos mentales y del comportamiento  \n",
       "7283174   Enfermedades endocrinas, nutricionales y metab...  \n",
       "12763849           Trastornos mentales y del comportamiento  \n",
       "6786701               Enfermedades del sistema respiratorio  \n",
       "\n",
       "[1000 rows x 14 columns]"
      ]
     },
     "execution_count": 108,
     "metadata": {},
     "output_type": "execute_result"
    }
   ],
   "source": [
    "out_top1000"
   ]
  },
  {
   "cell_type": "code",
   "execution_count": 109,
   "id": "6b5994d4-a94a-49d0-b28a-6556946114a5",
   "metadata": {},
   "outputs": [
    {
     "data": {
      "text/plain": [
       "3284"
      ]
     },
     "execution_count": 109,
     "metadata": {},
     "output_type": "execute_result"
    }
   ],
   "source": [
    "# The shortest discharge in the top 1000 was 3284 days long (around 9 years)\n",
    "out_top1000[\"length of stay\"].min()"
   ]
  },
  {
   "cell_type": "code",
   "execution_count": 110,
   "id": "5f7983cc-7f5f-4eda-ac0c-0b83de15ef90",
   "metadata": {},
   "outputs": [
    {
     "data": {
      "text/plain": [
       "primary diagnosis name\n",
       "esquizofrenia paranoide                                                                          150\n",
       "esquizofrenia, no especificada                                                                   141\n",
       "esquizofrenia residual                                                                            63\n",
       "retraso mental moderado c/deterioro significat. del comportam., que requiere atenc. o tratam.     54\n",
       "neumonia, no especificada                                                                         34\n",
       "infarto agudo del miocardio, sin otra especificacion                                              28\n",
       "retraso mental profundo c/deterioro significat. del comportam., que requiere atenc. o tratam.     26\n",
       "retraso mental, no especificado, con deterioro del comportamiento de grado no especificado        22\n",
       "esquizofrenia catatonica                                                                          20\n",
       "retraso mental moderado con deterioro del comportamiento de grado no especificado                 20\n",
       "otras esquizofrenias                                                                              15\n",
       "demencia, no especificada                                                                         14\n",
       "insuficiencia respiratoria aguda                                                                  14\n",
       "esquizofrenia hebefrenica                                                                         14\n",
       "trastorno mental organico o sintomatico, no especificado                                          13\n",
       "epilepsia, tipo no especificado                                                                   13\n",
       "trastorno del encefalo, no especificado                                                           10\n",
       "retraso mental grave con deterioro del comportamiento de grado no especificado                    10\n",
       "neumonia viral, no especificada (virus)                                                           10\n",
       "covid-19, virus identificado                                                                      10\n",
       "retraso mental profundo con deterioro del comportamiento de grado no especificado                  8\n",
       "paro cardiaco, no especificado                                                                     8\n",
       "trastorno afectivo bipolar, no especificado                                                        8\n",
       "trastorno mental, no especificado                                                                  8\n",
       "retraso mental moderado con deterioro del comportamiento nulo o minimo                             8\n",
       "trast.mental no especific. debido a lesion y a disfuncion cerebral y a enf. fisica (organico)      8\n",
       "retraso mental leve, con deterioro del comportamiento nulo o minimo                                7\n",
       "esquizofrenia indiferenciada                                                                       7\n",
       "retraso mental, no especificado, con deterioro del comportamiento nulo o minimo                    6\n",
       "retraso mental grave con deterioro del comportamiento nulo o minimo                                6\n",
       "Name: count, dtype: int64"
      ]
     },
     "execution_count": 110,
     "metadata": {},
     "output_type": "execute_result"
    }
   ],
   "source": [
    "# Which diagnoses are more frequent among the top 1000 longest stays? Mental health problems\n",
    "out_top1000[\"primary diagnosis name\"].value_counts().head(30)"
   ]
  },
  {
   "cell_type": "code",
   "execution_count": 111,
   "id": "198774b8-f7b3-45ff-868c-8f08deb8dd31",
   "metadata": {},
   "outputs": [
    {
     "data": {
      "text/plain": [
       "healthcare facility name\n",
       "Hospital Psiquiátrico El Peral (Santiago, Puente Alto)                   227\n",
       "Hospital Psiquiátrico Dr. Philippe Pinel (Putaendo)                      178\n",
       "Instituto Psiquiátrico Dr. José Horwitz Barak (Santiago, Recoleta)       148\n",
       "Clínica Psiquiatrica Raquel Gaete                                        114\n",
       "Unknown                                                                  106\n",
       "Clínica del Carmen                                                        84\n",
       "Hospital Clínico de Magallanes Dr. Lautaro Navarro Avaria                 28\n",
       "Clínica Santa Elena                                                       18\n",
       "Clínica  Psiquiátrica Santa Cecilia                                       12\n",
       "Hospital Comunitario de Salud Familiar de Quirihue                        11\n",
       "Clínica San Miguel                                                         7\n",
       "Centro de Rehabilitación Limache Capredena                                 5\n",
       "Hospital Clorinda Avello (Santa Juana)                                     5\n",
       "Instituto Nacional Geriátrico Presidente Eduardo Frei Montalva             5\n",
       "Hogar Protegido Purranque                                                  4\n",
       "Hospital Dr. Leonardo Guzmán (Antofagasta)                                 3\n",
       "Hospital Centro Geriátrico Paz de la Tarde (Limache)                       3\n",
       "Hospital Dr. Ernesto Torres Galdames (Iquique)                             3\n",
       "Clínica Psiquiatrica España                                                3\n",
       "Clínica Santa Mariana IFREN                                                2\n",
       "Centro de Enfermedades Respiratorias Infantiles Josefina Martínez (D)      2\n",
       "Complejo Hospitalario Dr. Sótero del Río (Santiago, Puente Alto)           2\n",
       "Hospital Dr. Leopoldo Ortega R. (Chile Chico)                              2\n",
       "Clínica Colonial                                                           2\n",
       "Hospital Dr. Jorge Ibar (Cisnes)                                           2\n",
       "Clínica Santa Rosa                                                         1\n",
       "Centro CONIN Valparaíso                                                    1\n",
       "Complejo Hospitalario San José (Santiago, Independencia)                   1\n",
       "Clínica del Trabajador de la AChS Ovalle                                   1\n",
       "Hospital Clínico Herminda Martín (Chillán)                                 1\n",
       "Name: count, dtype: int64"
      ]
     },
     "execution_count": 111,
     "metadata": {},
     "output_type": "execute_result"
    }
   ],
   "source": [
    "# Which healthcare facilities have the longest stays? Are institutions dedicated to patients with mental health problems\n",
    "out_top1000[\"healthcare facility name\"].value_counts().head(30)"
   ]
  },
  {
   "cell_type": "raw",
   "id": "57e847f6-9729-44c2-b69c-6e7693496678",
   "metadata": {},
   "source": [
    "Really long stays (ex. 3000 or more days) are mostly linked to mental health issues, so the decision is to cap the length of the stays to the percentile 99. Explanation and justification of the decision can be checked after some cells below."
   ]
  },
  {
   "cell_type": "code",
   "execution_count": 112,
   "id": "bf5d3c5d-09ec-4b8b-b1c2-c80e6cf96772",
   "metadata": {},
   "outputs": [],
   "source": [
    "# Filter medium-long stays that are higher than the upper threshold (outlier), but shorter than 1 year\n",
    "mid_los = df[(df[\"length of stay\"] > upper_threshold) & (df[\"length of stay\"] <= 365)]"
   ]
  },
  {
   "cell_type": "code",
   "execution_count": 113,
   "id": "42b7470d-9ddf-4dfc-b05a-a098fb6ad3ed",
   "metadata": {},
   "outputs": [
    {
     "data": {
      "text/html": [
       "<div>\n",
       "<style scoped>\n",
       "    .dataframe tbody tr th:only-of-type {\n",
       "        vertical-align: middle;\n",
       "    }\n",
       "\n",
       "    .dataframe tbody tr th {\n",
       "        vertical-align: top;\n",
       "    }\n",
       "\n",
       "    .dataframe thead th {\n",
       "        text-align: right;\n",
       "    }\n",
       "</style>\n",
       "<table border=\"1\" class=\"dataframe\">\n",
       "  <thead>\n",
       "    <tr style=\"text-align: right;\">\n",
       "      <th></th>\n",
       "      <th>sex</th>\n",
       "      <th>age</th>\n",
       "      <th>health insurance</th>\n",
       "      <th>healthcare facility type</th>\n",
       "      <th>healthcare facility name</th>\n",
       "      <th>length of stay</th>\n",
       "      <th>discharge condition</th>\n",
       "      <th>primary diagnosis code</th>\n",
       "      <th>primary diagnosis name</th>\n",
       "      <th>year</th>\n",
       "      <th>first letter</th>\n",
       "      <th>two digits</th>\n",
       "      <th>chapter codes</th>\n",
       "      <th>chapter names</th>\n",
       "    </tr>\n",
       "  </thead>\n",
       "  <tbody>\n",
       "    <tr>\n",
       "      <th>1</th>\n",
       "      <td>Male</td>\n",
       "      <td>70-79</td>\n",
       "      <td>Fonasa</td>\n",
       "      <td>Public</td>\n",
       "      <td>Hospital Del Salvador (Santiago, Providencia)</td>\n",
       "      <td>58</td>\n",
       "      <td>Deceased</td>\n",
       "      <td>E145</td>\n",
       "      <td>diabetes mellitus no especificada, con complic...</td>\n",
       "      <td>2001</td>\n",
       "      <td>E</td>\n",
       "      <td>14</td>\n",
       "      <td>E00-E90</td>\n",
       "      <td>Enfermedades endocrinas, nutricionales y metab...</td>\n",
       "    </tr>\n",
       "    <tr>\n",
       "      <th>14</th>\n",
       "      <td>Male</td>\n",
       "      <td>40-49</td>\n",
       "      <td>Fonasa</td>\n",
       "      <td>Public</td>\n",
       "      <td>Instituto Nacional de Enfermedades Respiratori...</td>\n",
       "      <td>45</td>\n",
       "      <td>Deceased</td>\n",
       "      <td>J189</td>\n",
       "      <td>neumonia, no especificada</td>\n",
       "      <td>2001</td>\n",
       "      <td>J</td>\n",
       "      <td>18</td>\n",
       "      <td>J00-J99</td>\n",
       "      <td>Enfermedades del sistema respiratorio</td>\n",
       "    </tr>\n",
       "    <tr>\n",
       "      <th>18</th>\n",
       "      <td>Male</td>\n",
       "      <td>0-1</td>\n",
       "      <td>Fonasa</td>\n",
       "      <td>Public</td>\n",
       "      <td>Hospital Dr. Ernesto Torres Galdames (Iquique)</td>\n",
       "      <td>105</td>\n",
       "      <td>Deceased</td>\n",
       "      <td>P050</td>\n",
       "      <td>bajo peso para la edad gestacional</td>\n",
       "      <td>2001</td>\n",
       "      <td>P</td>\n",
       "      <td>5</td>\n",
       "      <td>P00-P96</td>\n",
       "      <td>Ciertas afecciones originadas en el período pe...</td>\n",
       "    </tr>\n",
       "    <tr>\n",
       "      <th>19</th>\n",
       "      <td>Male</td>\n",
       "      <td>0-1</td>\n",
       "      <td>Fonasa</td>\n",
       "      <td>Public</td>\n",
       "      <td>Hospital Dr. Ernesto Torres Galdames (Iquique)</td>\n",
       "      <td>83</td>\n",
       "      <td>Deceased</td>\n",
       "      <td>A419</td>\n",
       "      <td>septicemia, no especificada</td>\n",
       "      <td>2001</td>\n",
       "      <td>A</td>\n",
       "      <td>41</td>\n",
       "      <td>A00-B99</td>\n",
       "      <td>Ciertas enfermedades infecciosas y parasitarias</td>\n",
       "    </tr>\n",
       "    <tr>\n",
       "      <th>21</th>\n",
       "      <td>Male</td>\n",
       "      <td>70-79</td>\n",
       "      <td>Fonasa</td>\n",
       "      <td>Public</td>\n",
       "      <td>Hospital Dr. Juan Noé Crevanni (Arica)</td>\n",
       "      <td>55</td>\n",
       "      <td>Deceased</td>\n",
       "      <td>E145</td>\n",
       "      <td>diabetes mellitus no especificada, con complic...</td>\n",
       "      <td>2001</td>\n",
       "      <td>E</td>\n",
       "      <td>14</td>\n",
       "      <td>E00-E90</td>\n",
       "      <td>Enfermedades endocrinas, nutricionales y metab...</td>\n",
       "    </tr>\n",
       "    <tr>\n",
       "      <th>...</th>\n",
       "      <td>...</td>\n",
       "      <td>...</td>\n",
       "      <td>...</td>\n",
       "      <td>...</td>\n",
       "      <td>...</td>\n",
       "      <td>...</td>\n",
       "      <td>...</td>\n",
       "      <td>...</td>\n",
       "      <td>...</td>\n",
       "      <td>...</td>\n",
       "      <td>...</td>\n",
       "      <td>...</td>\n",
       "      <td>...</td>\n",
       "      <td>...</td>\n",
       "    </tr>\n",
       "    <tr>\n",
       "      <th>25758630</th>\n",
       "      <td>Female</td>\n",
       "      <td>80-120</td>\n",
       "      <td>Isapre</td>\n",
       "      <td>Private</td>\n",
       "      <td>Unknown</td>\n",
       "      <td>30</td>\n",
       "      <td>Alive</td>\n",
       "      <td>A400</td>\n",
       "      <td>septicemia debida a estreptococo, grupo a</td>\n",
       "      <td>2024</td>\n",
       "      <td>A</td>\n",
       "      <td>40</td>\n",
       "      <td>A00-B99</td>\n",
       "      <td>Ciertas enfermedades infecciosas y parasitarias</td>\n",
       "    </tr>\n",
       "    <tr>\n",
       "      <th>25758648</th>\n",
       "      <td>Female</td>\n",
       "      <td>0-1</td>\n",
       "      <td>Isapre</td>\n",
       "      <td>Private</td>\n",
       "      <td>Unknown</td>\n",
       "      <td>28</td>\n",
       "      <td>Alive</td>\n",
       "      <td>P284</td>\n",
       "      <td>otras apneas del recien nacido</td>\n",
       "      <td>2024</td>\n",
       "      <td>P</td>\n",
       "      <td>28</td>\n",
       "      <td>P00-P96</td>\n",
       "      <td>Ciertas afecciones originadas en el período pe...</td>\n",
       "    </tr>\n",
       "    <tr>\n",
       "      <th>25758649</th>\n",
       "      <td>Female</td>\n",
       "      <td>0-1</td>\n",
       "      <td>Isapre</td>\n",
       "      <td>Private</td>\n",
       "      <td>Unknown</td>\n",
       "      <td>28</td>\n",
       "      <td>Alive</td>\n",
       "      <td>P229</td>\n",
       "      <td>dificultad respiratoria del recien nacido, no ...</td>\n",
       "      <td>2024</td>\n",
       "      <td>P</td>\n",
       "      <td>22</td>\n",
       "      <td>P00-P96</td>\n",
       "      <td>Ciertas afecciones originadas en el período pe...</td>\n",
       "    </tr>\n",
       "    <tr>\n",
       "      <th>25758650</th>\n",
       "      <td>Female</td>\n",
       "      <td>0-1</td>\n",
       "      <td>Isapre</td>\n",
       "      <td>Private</td>\n",
       "      <td>Unknown</td>\n",
       "      <td>38</td>\n",
       "      <td>Alive</td>\n",
       "      <td>P220</td>\n",
       "      <td>sindrome de dificultad respiratoria del recien...</td>\n",
       "      <td>2024</td>\n",
       "      <td>P</td>\n",
       "      <td>22</td>\n",
       "      <td>P00-P96</td>\n",
       "      <td>Ciertas afecciones originadas en el período pe...</td>\n",
       "    </tr>\n",
       "    <tr>\n",
       "      <th>25758651</th>\n",
       "      <td>Female</td>\n",
       "      <td>0-1</td>\n",
       "      <td>Isapre</td>\n",
       "      <td>Private</td>\n",
       "      <td>Unknown</td>\n",
       "      <td>66</td>\n",
       "      <td>Alive</td>\n",
       "      <td>Q871</td>\n",
       "      <td>sindromes de malformaciones congenitas asociad...</td>\n",
       "      <td>2024</td>\n",
       "      <td>Q</td>\n",
       "      <td>87</td>\n",
       "      <td>Q00-Q99</td>\n",
       "      <td>Malformaciones congénitas, deformidades y anom...</td>\n",
       "    </tr>\n",
       "  </tbody>\n",
       "</table>\n",
       "<p>1002303 rows × 14 columns</p>\n",
       "</div>"
      ],
      "text/plain": [
       "             sex     age health insurance healthcare facility type  \\\n",
       "1           Male   70-79           Fonasa                   Public   \n",
       "14          Male   40-49           Fonasa                   Public   \n",
       "18          Male     0-1           Fonasa                   Public   \n",
       "19          Male     0-1           Fonasa                   Public   \n",
       "21          Male   70-79           Fonasa                   Public   \n",
       "...          ...     ...              ...                      ...   \n",
       "25758630  Female  80-120           Isapre                  Private   \n",
       "25758648  Female     0-1           Isapre                  Private   \n",
       "25758649  Female     0-1           Isapre                  Private   \n",
       "25758650  Female     0-1           Isapre                  Private   \n",
       "25758651  Female     0-1           Isapre                  Private   \n",
       "\n",
       "                                   healthcare facility name  length of stay  \\\n",
       "1             Hospital Del Salvador (Santiago, Providencia)              58   \n",
       "14        Instituto Nacional de Enfermedades Respiratori...              45   \n",
       "18           Hospital Dr. Ernesto Torres Galdames (Iquique)             105   \n",
       "19           Hospital Dr. Ernesto Torres Galdames (Iquique)              83   \n",
       "21                   Hospital Dr. Juan Noé Crevanni (Arica)              55   \n",
       "...                                                     ...             ...   \n",
       "25758630                                            Unknown              30   \n",
       "25758648                                            Unknown              28   \n",
       "25758649                                            Unknown              28   \n",
       "25758650                                            Unknown              38   \n",
       "25758651                                            Unknown              66   \n",
       "\n",
       "         discharge condition primary diagnosis code  \\\n",
       "1                   Deceased                   E145   \n",
       "14                  Deceased                   J189   \n",
       "18                  Deceased                   P050   \n",
       "19                  Deceased                   A419   \n",
       "21                  Deceased                   E145   \n",
       "...                      ...                    ...   \n",
       "25758630               Alive                   A400   \n",
       "25758648               Alive                   P284   \n",
       "25758649               Alive                   P229   \n",
       "25758650               Alive                   P220   \n",
       "25758651               Alive                   Q871   \n",
       "\n",
       "                                     primary diagnosis name  year  \\\n",
       "1         diabetes mellitus no especificada, con complic...  2001   \n",
       "14                                neumonia, no especificada  2001   \n",
       "18                       bajo peso para la edad gestacional  2001   \n",
       "19                              septicemia, no especificada  2001   \n",
       "21        diabetes mellitus no especificada, con complic...  2001   \n",
       "...                                                     ...   ...   \n",
       "25758630          septicemia debida a estreptococo, grupo a  2024   \n",
       "25758648                     otras apneas del recien nacido  2024   \n",
       "25758649  dificultad respiratoria del recien nacido, no ...  2024   \n",
       "25758650  sindrome de dificultad respiratoria del recien...  2024   \n",
       "25758651  sindromes de malformaciones congenitas asociad...  2024   \n",
       "\n",
       "         first letter  two digits chapter codes  \\\n",
       "1                   E          14       E00-E90   \n",
       "14                  J          18       J00-J99   \n",
       "18                  P           5       P00-P96   \n",
       "19                  A          41       A00-B99   \n",
       "21                  E          14       E00-E90   \n",
       "...               ...         ...           ...   \n",
       "25758630            A          40       A00-B99   \n",
       "25758648            P          28       P00-P96   \n",
       "25758649            P          22       P00-P96   \n",
       "25758650            P          22       P00-P96   \n",
       "25758651            Q          87       Q00-Q99   \n",
       "\n",
       "                                              chapter names  \n",
       "1         Enfermedades endocrinas, nutricionales y metab...  \n",
       "14                    Enfermedades del sistema respiratorio  \n",
       "18        Ciertas afecciones originadas en el período pe...  \n",
       "19          Ciertas enfermedades infecciosas y parasitarias  \n",
       "21        Enfermedades endocrinas, nutricionales y metab...  \n",
       "...                                                     ...  \n",
       "25758630    Ciertas enfermedades infecciosas y parasitarias  \n",
       "25758648  Ciertas afecciones originadas en el período pe...  \n",
       "25758649  Ciertas afecciones originadas en el período pe...  \n",
       "25758650  Ciertas afecciones originadas en el período pe...  \n",
       "25758651  Malformaciones congénitas, deformidades y anom...  \n",
       "\n",
       "[1002303 rows x 14 columns]"
      ]
     },
     "execution_count": 113,
     "metadata": {},
     "output_type": "execute_result"
    }
   ],
   "source": [
    "mid_los"
   ]
  },
  {
   "cell_type": "code",
   "execution_count": 114,
   "id": "4d9334fe-7648-49b8-ba49-a1e508f25189",
   "metadata": {
    "scrolled": true
   },
   "outputs": [
    {
     "name": "stdout",
     "output_type": "stream",
     "text": [
      "sex\n",
      "Male      590739\n",
      "Female    411564\n",
      "Name: count, dtype: int64\n",
      "age\n",
      "60-69     179105\n",
      "70-79     170036\n",
      "50-59     140430\n",
      "80-120    105623\n",
      "0-1       105498\n",
      "40-49      97345\n",
      "30-39      70963\n",
      "20-29      60216\n",
      "10-19      47371\n",
      "1-9        25716\n",
      "Name: count, dtype: int64\n",
      "health insurance\n",
      "Fonasa    930233\n",
      "Isapre     72070\n",
      "Name: count, dtype: int64\n",
      "healthcare facility type\n",
      "Public     831823\n",
      "Private    118221\n",
      "Unknown     52259\n",
      "Name: count, dtype: int64\n",
      "healthcare facility name\n",
      "Unknown                                                                 217744\n",
      "Hospital Barros Luco Trudeau (Santiago, San Miguel)                      34243\n",
      "Hospital Clínico Regional Dr. Guillermo Grant Benavente (Concepción)     29974\n",
      "Hospital Dr. Hernán Henríquez Aravena (Temuco)                           26513\n",
      "Complejo Hospitalario Dr. Sótero del Río (Santiago, Puente Alto)         26143\n",
      "                                                                         ...  \n",
      "Clínica  San José                                                            1\n",
      "Clínica Universitaria San Pedro de la Paz                                    1\n",
      "Clínica Monteblanco                                                          1\n",
      "Consultorio Mutual de Seguridad CChC (Chillán)                               1\n",
      "Policlínico del Trabajador  Coyhaique                                        1\n",
      "Name: count, Length: 441, dtype: int64\n",
      "length of stay\n",
      "26     58955\n",
      "28     57803\n",
      "27     56991\n",
      "29     50389\n",
      "30     46508\n",
      "       ...  \n",
      "356       26\n",
      "361       26\n",
      "353       25\n",
      "317       24\n",
      "324       22\n",
      "Name: count, Length: 340, dtype: int64\n",
      "discharge condition\n",
      "Alive       913225\n",
      "Deceased     89078\n",
      "Name: count, dtype: int64\n",
      "primary diagnosis code\n",
      "J189    20067\n",
      "U071    19476\n",
      "P073    17412\n",
      "S720    16184\n",
      "E145    15995\n",
      "        ...  \n",
      "G254        1\n",
      "T381        1\n",
      "Q691        1\n",
      "Q722        1\n",
      "E769        1\n",
      "Name: count, Length: 6701, dtype: int64\n",
      "primary diagnosis name\n",
      "neumonia, no especificada                                                          20067\n",
      "covid-19, virus identificado                                                       19476\n",
      "otros recien nacidos pretermino                                                    17412\n",
      "fractura del cuello del femur                                                      16184\n",
      "diabetes mellitus no especificada, con complicaciones circulatorias perifericas    15995\n",
      "                                                                                   ...  \n",
      "fiebre paratifoidea a                                                                  1\n",
      "polipo del tracto genital femenino, no especificado                                    1\n",
      "bartonelosis cutanea y mucocutanea                                                     1\n",
      "examen y observacion consecutivos a denuncia de violacion y seduccion                  1\n",
      "trastorno del metabolismo de los glucosaminoglicanos, no especificado                  1\n",
      "Name: count, Length: 6696, dtype: int64\n",
      "year\n",
      "2021    56377\n",
      "2024    54818\n",
      "2022    54290\n",
      "2023    52259\n",
      "2018    51066\n",
      "2013    50915\n",
      "2017    49371\n",
      "2016    48118\n",
      "2015    46927\n",
      "2020    46691\n",
      "2014    44726\n",
      "2012    42649\n",
      "2011    41758\n",
      "2009    40623\n",
      "2010    40488\n",
      "2008    38969\n",
      "2007    38694\n",
      "2006    36351\n",
      "2003    35286\n",
      "2005    33611\n",
      "2002    32907\n",
      "2019    27869\n",
      "2004    19224\n",
      "2001    18316\n",
      "Name: count, dtype: int64\n",
      "first letter\n",
      "I    134789\n",
      "F    114862\n",
      "C     89165\n",
      "J     83604\n",
      "K     75926\n",
      "S     72163\n",
      "P     61399\n",
      "T     51669\n",
      "E     50577\n",
      "N     49277\n",
      "A     36651\n",
      "M     27814\n",
      "G     27298\n",
      "D     26015\n",
      "L     20285\n",
      "U     19978\n",
      "Q     19953\n",
      "Z     14780\n",
      "R     11753\n",
      "B     11661\n",
      "H      2684\n",
      "Name: count, dtype: int64\n",
      "two digits\n",
      "7     50899\n",
      "18    48804\n",
      "20    44377\n",
      "72    30931\n",
      "14    24170\n",
      "      ...  \n",
      "66     1888\n",
      "94     1611\n",
      "68     1326\n",
      "88     1011\n",
      "58      686\n",
      "Name: count, Length: 100, dtype: int64\n",
      "chapter codes\n",
      "I00-I99    134789\n",
      "S00-T98    123832\n",
      "F00-F99    114862\n",
      "C00-D48    107959\n",
      "J00-J99     83604\n",
      "K00-K93     75926\n",
      "P00-P96     61399\n",
      "E00-E90     50577\n",
      "N00-N99     49277\n",
      "A00-B99     48312\n",
      "M00-M99     27814\n",
      "G00-G99     27298\n",
      "L00-L99     20285\n",
      "U00-U99     19978\n",
      "Q00-Q99     19953\n",
      "Z00-Z99     14780\n",
      "R00-R99     11753\n",
      "D50-D89      7221\n",
      "H00-H59      2164\n",
      "H60-H95       520\n",
      "Name: count, dtype: int64\n",
      "chapter names\n",
      "Enfermedades del sistema circulatorio                                                                                         134789\n",
      "Traumatismos, envenenamientos y algunas otras consecuencias de causas externas                                                123832\n",
      "Trastornos mentales y del comportamiento                                                                                      114862\n",
      "Tumores [Neoplasias]                                                                                                          107959\n",
      "Enfermedades del sistema respiratorio                                                                                          83604\n",
      "Enfermedades del sistema digestivo                                                                                             75926\n",
      "Ciertas afecciones originadas en el período perinatal                                                                          61399\n",
      "Enfermedades endocrinas, nutricionales y metabólicas                                                                           50577\n",
      "Enfermedades del sistema genitourinario                                                                                        49277\n",
      "Ciertas enfermedades infecciosas y parasitarias                                                                                48312\n",
      "Enfermedades del sistema osteomuscular y del tejido conjuntivo                                                                 27814\n",
      "Enfermedades del sistema nervioso central                                                                                      27298\n",
      "Enfermedades de la piel y del tejido subcutáneo                                                                                20285\n",
      "Códigos para propósitos especiales                                                                                             19978\n",
      "Malformaciones congénitas, deformidades y anomalías cromosómicas                                                               19953\n",
      "Factores que influyen en el estado de salud y contacto con los  servicios de salud                                             14780\n",
      "Síntomas, signos y hallazgos anormales clínicos y de laboratorio, no clasificados en otra parte                                11753\n",
      "Enfermedades de la sangre y de los órganos hematopoyéticos, y ciertos trastornos que afectan el mecanismo de la inmunidad       7221\n",
      "Enfermedades del ojo y sus anexos                                                                                               2164\n",
      "Enfermedades del oído y de la apófisis mastoides                                                                                 520\n",
      "Name: count, dtype: int64\n"
     ]
    }
   ],
   "source": [
    "# See how are these stays in relation to other columns\n",
    "for col in mid_los.columns:\n",
    "    print(mid_los[col].value_counts())"
   ]
  },
  {
   "cell_type": "code",
   "execution_count": 115,
   "id": "0dcd7ff2-dc1a-4224-8deb-57b1b447a94d",
   "metadata": {},
   "outputs": [
    {
     "data": {
      "text/plain": [
       "primary diagnosis name\n",
       "neumonia, no especificada                                                                20067\n",
       "covid-19, virus identificado                                                             19476\n",
       "otros recien nacidos pretermino                                                          17412\n",
       "fractura del cuello del femur                                                            16184\n",
       "diabetes mellitus no especificada, con complicaciones circulatorias perifericas          15995\n",
       "septicemia, no especificada                                                              13018\n",
       "esquizofrenia paranoide                                                                  11526\n",
       "enfermedad renal cronica, no especificada                                                11461\n",
       "esquizofrenia, no especificada                                                           11381\n",
       "diabetes mellitus no insulinodependiente con complicaciones circulatorias perifericas    10582\n",
       "sindrome de dificultad respiratoria del recien nacido                                    10533\n",
       "accidente vascular encefalico agudo, no especificado como hemorragico o isquemico         8872\n",
       "otras enfermedades cerebrovasculares especificadas                                        8621\n",
       "infeccion de vias urinarias, sitio no especificado                                        7851\n",
       "tumor maligno del estomago, parte no especificada                                         7643\n",
       "Name: count, dtype: int64"
      ]
     },
     "execution_count": 115,
     "metadata": {},
     "output_type": "execute_result"
    }
   ],
   "source": [
    "# The most frequent diagnoses are different than with really long stays.\n",
    "# Now neumonia is the most frequent, followed by COVID, some chronic diseases (ex. diabetes and complications) tumors and others\n",
    "mid_los[\"primary diagnosis name\"].value_counts().head(15)"
   ]
  },
  {
   "cell_type": "code",
   "execution_count": 116,
   "id": "952852a8-4b55-4a52-9a29-82173cfb417a",
   "metadata": {},
   "outputs": [],
   "source": [
    "# Top 1000 longest medium-long stays\n",
    "mid_los_top1000 = mid_los.sort_values(by=\"length of stay\", ascending = False).head(1000)"
   ]
  },
  {
   "cell_type": "code",
   "execution_count": 117,
   "id": "21f419e4-29e2-47fc-8f8e-bebcc8a04baa",
   "metadata": {},
   "outputs": [
    {
     "data": {
      "text/html": [
       "<div>\n",
       "<style scoped>\n",
       "    .dataframe tbody tr th:only-of-type {\n",
       "        vertical-align: middle;\n",
       "    }\n",
       "\n",
       "    .dataframe tbody tr th {\n",
       "        vertical-align: top;\n",
       "    }\n",
       "\n",
       "    .dataframe thead th {\n",
       "        text-align: right;\n",
       "    }\n",
       "</style>\n",
       "<table border=\"1\" class=\"dataframe\">\n",
       "  <thead>\n",
       "    <tr style=\"text-align: right;\">\n",
       "      <th></th>\n",
       "      <th>sex</th>\n",
       "      <th>age</th>\n",
       "      <th>health insurance</th>\n",
       "      <th>healthcare facility type</th>\n",
       "      <th>healthcare facility name</th>\n",
       "      <th>length of stay</th>\n",
       "      <th>discharge condition</th>\n",
       "      <th>primary diagnosis code</th>\n",
       "      <th>primary diagnosis name</th>\n",
       "      <th>year</th>\n",
       "      <th>first letter</th>\n",
       "      <th>two digits</th>\n",
       "      <th>chapter codes</th>\n",
       "      <th>chapter names</th>\n",
       "    </tr>\n",
       "  </thead>\n",
       "  <tbody>\n",
       "    <tr>\n",
       "      <th>668276</th>\n",
       "      <td>Female</td>\n",
       "      <td>60-69</td>\n",
       "      <td>Fonasa</td>\n",
       "      <td>Public</td>\n",
       "      <td>Complejo Hospitalario Dr. Sótero del Río (Sant...</td>\n",
       "      <td>365</td>\n",
       "      <td>Alive</td>\n",
       "      <td>Z019</td>\n",
       "      <td>examen especial no especificado</td>\n",
       "      <td>2002</td>\n",
       "      <td>Z</td>\n",
       "      <td>1</td>\n",
       "      <td>Z00-Z99</td>\n",
       "      <td>Factores que influyen en el estado de salud y ...</td>\n",
       "    </tr>\n",
       "    <tr>\n",
       "      <th>510192</th>\n",
       "      <td>Male</td>\n",
       "      <td>1-9</td>\n",
       "      <td>Isapre</td>\n",
       "      <td>Private</td>\n",
       "      <td>Centro CONIN Concepción</td>\n",
       "      <td>365</td>\n",
       "      <td>Alive</td>\n",
       "      <td>E639</td>\n",
       "      <td>deficiencia nutricional, no especificada</td>\n",
       "      <td>2002</td>\n",
       "      <td>E</td>\n",
       "      <td>63</td>\n",
       "      <td>E00-E90</td>\n",
       "      <td>Enfermedades endocrinas, nutricionales y metab...</td>\n",
       "    </tr>\n",
       "    <tr>\n",
       "      <th>14493304</th>\n",
       "      <td>Female</td>\n",
       "      <td>40-49</td>\n",
       "      <td>Fonasa</td>\n",
       "      <td>Public</td>\n",
       "      <td>Complejo Hospitalario Dr. Sótero del Río (Sant...</td>\n",
       "      <td>365</td>\n",
       "      <td>Alive</td>\n",
       "      <td>T844</td>\n",
       "      <td>complic.mecanica de otros dispositivos protesi...</td>\n",
       "      <td>2015</td>\n",
       "      <td>T</td>\n",
       "      <td>84</td>\n",
       "      <td>S00-T98</td>\n",
       "      <td>Traumatismos, envenenamientos y algunas otras ...</td>\n",
       "    </tr>\n",
       "    <tr>\n",
       "      <th>7926846</th>\n",
       "      <td>Male</td>\n",
       "      <td>1-9</td>\n",
       "      <td>Fonasa</td>\n",
       "      <td>Private</td>\n",
       "      <td>Clínica Universitaria de Puerto Montt S.A.</td>\n",
       "      <td>365</td>\n",
       "      <td>Alive</td>\n",
       "      <td>S420</td>\n",
       "      <td>fractura de la clavicula</td>\n",
       "      <td>2009</td>\n",
       "      <td>S</td>\n",
       "      <td>42</td>\n",
       "      <td>S00-T98</td>\n",
       "      <td>Traumatismos, envenenamientos y algunas otras ...</td>\n",
       "    </tr>\n",
       "    <tr>\n",
       "      <th>879632</th>\n",
       "      <td>Male</td>\n",
       "      <td>10-19</td>\n",
       "      <td>Fonasa</td>\n",
       "      <td>Public</td>\n",
       "      <td>Hospital Santa Elisa (Mariquina) (D)</td>\n",
       "      <td>365</td>\n",
       "      <td>Alive</td>\n",
       "      <td>F238</td>\n",
       "      <td>otros trastornos psicoticos agudos y transitorios</td>\n",
       "      <td>2002</td>\n",
       "      <td>F</td>\n",
       "      <td>23</td>\n",
       "      <td>F00-F99</td>\n",
       "      <td>Trastornos mentales y del comportamiento</td>\n",
       "    </tr>\n",
       "    <tr>\n",
       "      <th>...</th>\n",
       "      <td>...</td>\n",
       "      <td>...</td>\n",
       "      <td>...</td>\n",
       "      <td>...</td>\n",
       "      <td>...</td>\n",
       "      <td>...</td>\n",
       "      <td>...</td>\n",
       "      <td>...</td>\n",
       "      <td>...</td>\n",
       "      <td>...</td>\n",
       "      <td>...</td>\n",
       "      <td>...</td>\n",
       "      <td>...</td>\n",
       "      <td>...</td>\n",
       "    </tr>\n",
       "    <tr>\n",
       "      <th>18587403</th>\n",
       "      <td>Male</td>\n",
       "      <td>30-39</td>\n",
       "      <td>Fonasa</td>\n",
       "      <td>Public</td>\n",
       "      <td>Hospital Clínico Regional Dr. Guillermo Grant ...</td>\n",
       "      <td>339</td>\n",
       "      <td>Alive</td>\n",
       "      <td>A419</td>\n",
       "      <td>septicemia, no especificada</td>\n",
       "      <td>2019</td>\n",
       "      <td>A</td>\n",
       "      <td>41</td>\n",
       "      <td>A00-B99</td>\n",
       "      <td>Ciertas enfermedades infecciosas y parasitarias</td>\n",
       "    </tr>\n",
       "    <tr>\n",
       "      <th>14318084</th>\n",
       "      <td>Male</td>\n",
       "      <td>50-59</td>\n",
       "      <td>Isapre</td>\n",
       "      <td>Private</td>\n",
       "      <td>Hospital Clínico Viña del Mar</td>\n",
       "      <td>339</td>\n",
       "      <td>Alive</td>\n",
       "      <td>G931</td>\n",
       "      <td>lesion cerebral anoxica, no clasificada en otr...</td>\n",
       "      <td>2015</td>\n",
       "      <td>G</td>\n",
       "      <td>93</td>\n",
       "      <td>G00-G99</td>\n",
       "      <td>Enfermedades del sistema nervioso central</td>\n",
       "    </tr>\n",
       "    <tr>\n",
       "      <th>19730943</th>\n",
       "      <td>Female</td>\n",
       "      <td>60-69</td>\n",
       "      <td>Fonasa</td>\n",
       "      <td>Public</td>\n",
       "      <td>Hospital Carlos Van Buren (Valparaíso)</td>\n",
       "      <td>339</td>\n",
       "      <td>Alive</td>\n",
       "      <td>I619</td>\n",
       "      <td>hemorragia intraencefalica, no especificada</td>\n",
       "      <td>2020</td>\n",
       "      <td>I</td>\n",
       "      <td>61</td>\n",
       "      <td>I00-I99</td>\n",
       "      <td>Enfermedades del sistema circulatorio</td>\n",
       "    </tr>\n",
       "    <tr>\n",
       "      <th>15693092</th>\n",
       "      <td>Male</td>\n",
       "      <td>30-39</td>\n",
       "      <td>Fonasa</td>\n",
       "      <td>Public</td>\n",
       "      <td>Hospital San José de Maipo</td>\n",
       "      <td>339</td>\n",
       "      <td>Alive</td>\n",
       "      <td>Z549</td>\n",
       "      <td>convalecencia consecutiva a tratamiento no esp...</td>\n",
       "      <td>2016</td>\n",
       "      <td>Z</td>\n",
       "      <td>54</td>\n",
       "      <td>Z00-Z99</td>\n",
       "      <td>Factores que influyen en el estado de salud y ...</td>\n",
       "    </tr>\n",
       "    <tr>\n",
       "      <th>19160594</th>\n",
       "      <td>Female</td>\n",
       "      <td>50-59</td>\n",
       "      <td>Fonasa</td>\n",
       "      <td>Public</td>\n",
       "      <td>Hospital Psiquiátrico Dr. Philippe Pinel (Puta...</td>\n",
       "      <td>339</td>\n",
       "      <td>Alive</td>\n",
       "      <td>F200</td>\n",
       "      <td>esquizofrenia paranoide</td>\n",
       "      <td>2020</td>\n",
       "      <td>F</td>\n",
       "      <td>20</td>\n",
       "      <td>F00-F99</td>\n",
       "      <td>Trastornos mentales y del comportamiento</td>\n",
       "    </tr>\n",
       "  </tbody>\n",
       "</table>\n",
       "<p>1000 rows × 14 columns</p>\n",
       "</div>"
      ],
      "text/plain": [
       "             sex    age health insurance healthcare facility type  \\\n",
       "668276    Female  60-69           Fonasa                   Public   \n",
       "510192      Male    1-9           Isapre                  Private   \n",
       "14493304  Female  40-49           Fonasa                   Public   \n",
       "7926846     Male    1-9           Fonasa                  Private   \n",
       "879632      Male  10-19           Fonasa                   Public   \n",
       "...          ...    ...              ...                      ...   \n",
       "18587403    Male  30-39           Fonasa                   Public   \n",
       "14318084    Male  50-59           Isapre                  Private   \n",
       "19730943  Female  60-69           Fonasa                   Public   \n",
       "15693092    Male  30-39           Fonasa                   Public   \n",
       "19160594  Female  50-59           Fonasa                   Public   \n",
       "\n",
       "                                   healthcare facility name  length of stay  \\\n",
       "668276    Complejo Hospitalario Dr. Sótero del Río (Sant...             365   \n",
       "510192                             Centro CONIN Concepción              365   \n",
       "14493304  Complejo Hospitalario Dr. Sótero del Río (Sant...             365   \n",
       "7926846          Clínica Universitaria de Puerto Montt S.A.             365   \n",
       "879632                 Hospital Santa Elisa (Mariquina) (D)             365   \n",
       "...                                                     ...             ...   \n",
       "18587403  Hospital Clínico Regional Dr. Guillermo Grant ...             339   \n",
       "14318084                     Hospital Clínico Viña del Mar              339   \n",
       "19730943             Hospital Carlos Van Buren (Valparaíso)             339   \n",
       "15693092                         Hospital San José de Maipo             339   \n",
       "19160594  Hospital Psiquiátrico Dr. Philippe Pinel (Puta...             339   \n",
       "\n",
       "         discharge condition primary diagnosis code  \\\n",
       "668276                 Alive                   Z019   \n",
       "510192                 Alive                   E639   \n",
       "14493304               Alive                   T844   \n",
       "7926846                Alive                   S420   \n",
       "879632                 Alive                   F238   \n",
       "...                      ...                    ...   \n",
       "18587403               Alive                   A419   \n",
       "14318084               Alive                   G931   \n",
       "19730943               Alive                   I619   \n",
       "15693092               Alive                   Z549   \n",
       "19160594               Alive                   F200   \n",
       "\n",
       "                                     primary diagnosis name  year  \\\n",
       "668276                      examen especial no especificado  2002   \n",
       "510192             deficiencia nutricional, no especificada  2002   \n",
       "14493304  complic.mecanica de otros dispositivos protesi...  2015   \n",
       "7926846                            fractura de la clavicula  2009   \n",
       "879632    otros trastornos psicoticos agudos y transitorios  2002   \n",
       "...                                                     ...   ...   \n",
       "18587403                        septicemia, no especificada  2019   \n",
       "14318084  lesion cerebral anoxica, no clasificada en otr...  2015   \n",
       "19730943        hemorragia intraencefalica, no especificada  2020   \n",
       "15693092  convalecencia consecutiva a tratamiento no esp...  2016   \n",
       "19160594                            esquizofrenia paranoide  2020   \n",
       "\n",
       "         first letter  two digits chapter codes  \\\n",
       "668276              Z           1       Z00-Z99   \n",
       "510192              E          63       E00-E90   \n",
       "14493304            T          84       S00-T98   \n",
       "7926846             S          42       S00-T98   \n",
       "879632              F          23       F00-F99   \n",
       "...               ...         ...           ...   \n",
       "18587403            A          41       A00-B99   \n",
       "14318084            G          93       G00-G99   \n",
       "19730943            I          61       I00-I99   \n",
       "15693092            Z          54       Z00-Z99   \n",
       "19160594            F          20       F00-F99   \n",
       "\n",
       "                                              chapter names  \n",
       "668276    Factores que influyen en el estado de salud y ...  \n",
       "510192    Enfermedades endocrinas, nutricionales y metab...  \n",
       "14493304  Traumatismos, envenenamientos y algunas otras ...  \n",
       "7926846   Traumatismos, envenenamientos y algunas otras ...  \n",
       "879632             Trastornos mentales y del comportamiento  \n",
       "...                                                     ...  \n",
       "18587403    Ciertas enfermedades infecciosas y parasitarias  \n",
       "14318084          Enfermedades del sistema nervioso central  \n",
       "19730943              Enfermedades del sistema circulatorio  \n",
       "15693092  Factores que influyen en el estado de salud y ...  \n",
       "19160594           Trastornos mentales y del comportamiento  \n",
       "\n",
       "[1000 rows x 14 columns]"
      ]
     },
     "execution_count": 117,
     "metadata": {},
     "output_type": "execute_result"
    }
   ],
   "source": [
    "mid_los_top1000"
   ]
  },
  {
   "cell_type": "code",
   "execution_count": 118,
   "id": "039d570b-7cc0-466a-acac-6f0a697ad04a",
   "metadata": {},
   "outputs": [
    {
     "data": {
      "text/plain": [
       "primary diagnosis name\n",
       "desnutricion proteicocalorica no especificada                                                    72\n",
       "desnutricion proteicocalorica leve                                                               67\n",
       "esquizofrenia paranoide                                                                          67\n",
       "esquizofrenia, no especificada                                                                   46\n",
       "desnutricion proteicocalorica moderada                                                           20\n",
       "retraso mental moderado c/deterioro significat. del comportam., que requiere atenc. o tratam.    20\n",
       "esquizofrenia hebefrenica                                                                        17\n",
       "esquizofrenia indiferenciada                                                                     15\n",
       "problema no especificado relacionado con el ambiente social                                      14\n",
       "demencia, no especificada                                                                        12\n",
       "tuberculosis de pulmon, sin mencion de confirmacion bacteriologica o histologica                 11\n",
       "septicemia, no especificada                                                                      11\n",
       "accidente vascular encefalico agudo, no especificado como hemorragico o isquemico                10\n",
       "desnutricion proteicocalorica severa, no especificada                                            10\n",
       "enfermedad pulmonar obstructiva cronica, no especificada                                          9\n",
       "otros problemas relacionados con el ambiente social                                               9\n",
       "secuelas de enfermedad cerebrovascular, no especificada como hemorragica u oclusiva               8\n",
       "traumatismo intracraneal, no especificado                                                         7\n",
       "insuficiencia respiratoria cronica                                                                7\n",
       "trastorno afectivo bipolar, no especificado                                                       7\n",
       "negligencia o abandono                                                                            7\n",
       "trast.mental no especific. debido a lesion y a disfuncion cerebral y a enf. fisica (organico)     6\n",
       "paralisis cerebral infantil, sin otra especificacion                                              6\n",
       "esquizofrenia catatonica                                                                          6\n",
       "insuficiencia respiratoria, no especificada                                                       5\n",
       "epilepsia, tipo no especificado                                                                   5\n",
       "tumor maligno de la prostata                                                                      5\n",
       "neumonia, no especificada                                                                         5\n",
       "esquizofrenia residual                                                                            5\n",
       "paralisis cerebral espastica                                                                      4\n",
       "Name: count, dtype: int64"
      ]
     },
     "execution_count": 118,
     "metadata": {},
     "output_type": "execute_result"
    }
   ],
   "source": [
    "# The longest medium-long stays diagnoses are related to mental and nutrition issues (often realted to mental health disorders)\n",
    "mid_los_top1000[\"primary diagnosis name\"].value_counts().head(30)"
   ]
  },
  {
   "cell_type": "code",
   "execution_count": 119,
   "id": "db09edfe-1481-4aee-9117-a37c77dfa7d9",
   "metadata": {},
   "outputs": [
    {
     "data": {
      "text/plain": [
       "healthcare facility name\n",
       "Unknown                                                                  202\n",
       "Hospital Psiquiátrico Dr. Philippe Pinel (Putaendo)                      105\n",
       "Instituto Psiquiátrico Dr. José Horwitz Barak (Santiago, Recoleta)        59\n",
       "Centro CONIN Valdivia                                                     41\n",
       "Hospital San José de Maipo                                                35\n",
       "Centro CONIN Credes                                                       29\n",
       "Hospital Del Salvador (Valparaíso)                                        23\n",
       "Centro Nutricional CONIN de Viña del Mar                                  21\n",
       "Hospital Clínico Regional Dr. Guillermo Grant Benavente (Concepción)      20\n",
       "Centro Nutricional CONIN de San Antonio                                   17\n",
       "Centro CONIN Temuco                                                       17\n",
       "Centro de Enfermedades Respiratorias Infantiles Josefina Martínez (D)     16\n",
       "Hospital Dr. Leonardo Guzmán (Antofagasta)                                14\n",
       "Centro CONIN Curicó                                                       12\n",
       "CONIN Traiguén                                                            12\n",
       "CONIN Linares                                                             12\n",
       "Complejo Hospitalario Dr. Sótero del Río (Santiago, Puente Alto)          12\n",
       "Clínica Familia                                                           11\n",
       "Centro CONIN Los Ángeles                                                  11\n",
       "Hospital Psiquiátrico El Peral (Santiago, Puente Alto)                    11\n",
       "Clínica Los Coihues                                                       11\n",
       "Hospital de Puerto Montt                                                  10\n",
       "Centro CONIN Chillán                                                      10\n",
       "Hospital Barros Luco Trudeau (Santiago, San Miguel)                        9\n",
       "Hospital Centro Geriátrico Paz de la Tarde (Limache)                       9\n",
       "Hospital Dr. César Garavagno Burotto (Talca)                               8\n",
       "Hospital San Juan de Dios (Santiago, Santiago)                             8\n",
       "Centro CONIN Concepción                                                    7\n",
       "Hospital Juana Ross de Edwards (Peñablanca, Villa Alemana)                 6\n",
       "Servicios Clínicos Neuropsiquiátricos y Geriátricos R y G Limitada         6\n",
       "Name: count, dtype: int64"
      ]
     },
     "execution_count": 119,
     "metadata": {},
     "output_type": "execute_result"
    }
   ],
   "source": [
    "# Most frequent facilities are related to mental health issues again, nut there is more presence of other hospitals. Unkown values are from 2021 to 2024.\n",
    "mid_los_top1000[\"healthcare facility name\"].value_counts().head(30)"
   ]
  },
  {
   "cell_type": "markdown",
   "id": "dac84928-8ed4-4d8c-96b1-49634163b219",
   "metadata": {},
   "source": [
    "# Capping (winsorize) outliers"
   ]
  },
  {
   "cell_type": "raw",
   "id": "104ff9c6-e898-4851-9e59-2e9bee4fcee3",
   "metadata": {},
   "source": [
    "3,94% (1.011.147 rows) of length of stays are outliers (more than 25 days) which is not a significant proportion of the data. However, some length of stay are really long, affecting the mean of the variable, but more importantly potencially affecting future insights, like hospital efficiency. It was found out that mainly long stays correspond to patients with mental health issues and neumonia, so the centers that are specialized in those health problems could be unfairly considered as less efficient than others. Based on this and considering the purpose of the project, both the \"raw data\" (with outliers) and data with capped outliers will be kept in 2 different columns. The first one represents the reality, helping analyzing trends and patterns over the time and the second one allows to prioritze the bulk of the data and protect its importance from outliers distortions. "
   ]
  },
  {
   "cell_type": "code",
   "execution_count": 122,
   "id": "6ed9f88e-48cf-44a4-9689-701be7e76f72",
   "metadata": {},
   "outputs": [
    {
     "name": "stdout",
     "output_type": "stream",
     "text": [
      "Mean with outliers: 6.756565392695241\n",
      "Median with outliers: 3.0\n",
      "Mean without outliers: 4.4637734076290405\n",
      "Median without outliers: 3.0\n"
     ]
    }
   ],
   "source": [
    "# Compare central tendency measures with and without outliers\n",
    "mean_original = los.mean()\n",
    "median_original = los.median()\n",
    "mean_wo_outliers = los[(los >= lower_threshold) & (los <= upper_threshold)].mean()\n",
    "median_wo_outliers = los[(los >= lower_threshold) & (los <= upper_threshold)].median()\n",
    "\n",
    "\n",
    "# Median is the same, showing more reliability on this measure and mean is distorted by extreme values\n",
    "# upper threshold is more flexible (higher) due to expansion in the IQR formula, changing the multiplier, which commonly is 1.5 for 3.\n",
    "print(\"Mean with outliers:\", mean_original)\n",
    "print(\"Median with outliers:\", median_original)\n",
    "print(\"Mean without outliers:\", mean_wo_outliers)\n",
    "print(\"Median without outliers:\", median_wo_outliers)"
   ]
  },
  {
   "cell_type": "code",
   "execution_count": 123,
   "id": "10e5a0e0-ca19-4611-9995-9b7ce9c74f6d",
   "metadata": {},
   "outputs": [
    {
     "name": "stdout",
     "output_type": "stream",
     "text": [
      "0.950     22.0\n",
      "0.990     53.0\n",
      "0.995     75.0\n",
      "0.999    176.0\n",
      "Name: length of stay, dtype: float64\n"
     ]
    }
   ],
   "source": [
    "# Checking percentiles in the really high section\n",
    "print(df['length of stay'].quantile([0.95, 0.99, 0.995, 0.999]))"
   ]
  },
  {
   "cell_type": "code",
   "execution_count": 124,
   "id": "549836c5-7e45-4130-8d18-afd6d8a19721",
   "metadata": {},
   "outputs": [
    {
     "name": "stdout",
     "output_type": "stream",
     "text": [
      "25565 values are capped\n"
     ]
    }
   ],
   "source": [
    "# Number of values capped choosing the percentile 99.9 as the limit\n",
    "# 25.565 outliers higher than 176 days are capped\n",
    "capped_count = (df['length of stay'] > 176).sum()\n",
    "print(capped_count, \"values are capped\")"
   ]
  },
  {
   "cell_type": "code",
   "execution_count": 125,
   "id": "977daf47-3559-4e41-bbf3-d20bb219cdfd",
   "metadata": {},
   "outputs": [],
   "source": [
    "# Vectorization to create a length of stay column with capped values\n",
    "df['LOS_capped'] = np.minimum(df['length of stay'], 176)"
   ]
  },
  {
   "cell_type": "code",
   "execution_count": 126,
   "id": "d98a9c4e-baaa-4697-8c45-27443222e9c5",
   "metadata": {},
   "outputs": [
    {
     "data": {
      "text/plain": [
       "176"
      ]
     },
     "execution_count": 126,
     "metadata": {},
     "output_type": "execute_result"
    }
   ],
   "source": [
    "# Checking values are capped\n",
    "df['LOS_capped'].max()"
   ]
  },
  {
   "cell_type": "code",
   "execution_count": 127,
   "id": "3be2e919-da62-47a4-b36d-88ff68b872ad",
   "metadata": {},
   "outputs": [
    {
     "data": {
      "text/plain": [
       "sex                         0\n",
       "age                         0\n",
       "health insurance            0\n",
       "healthcare facility type    0\n",
       "healthcare facility name    0\n",
       "length of stay              0\n",
       "discharge condition         0\n",
       "primary diagnosis code      0\n",
       "primary diagnosis name      0\n",
       "year                        0\n",
       "first letter                0\n",
       "two digits                  0\n",
       "chapter codes               0\n",
       "chapter names               0\n",
       "LOS_capped                  0\n",
       "dtype: int64"
      ]
     },
     "execution_count": 127,
     "metadata": {},
     "output_type": "execute_result"
    }
   ],
   "source": [
    "# No NaNs after vectorization\n",
    "df.isna().sum()"
   ]
  },
  {
   "cell_type": "markdown",
   "id": "4fde4ec0-4b6b-4c30-855c-1960a11bcbea",
   "metadata": {},
   "source": [
    "# Plot side by side distribution of length of stay with outliers and capped values"
   ]
  },
  {
   "cell_type": "code",
   "execution_count": 128,
   "id": "1ffa6d78-8f18-43c0-bdae-718b1efe2903",
   "metadata": {},
   "outputs": [
    {
     "data": {
      "image/png": "[encoded data removed]",
      "text/plain": [
       "<Figure size 1200x500 with 2 Axes>"
      ]
     },
     "metadata": {},
     "output_type": "display_data"
    }
   ],
   "source": [
    "\n",
    "# Apply log1p transform (handles zeros safely)\n",
    "log_raw = np.log1p(df['length of stay'])\n",
    "log_capped = np.log1p(df['LOS_capped'])\n",
    "\n",
    "plt.figure(figsize=(12,5))\n",
    "\n",
    "# Plot histograms side by side\n",
    "ax1 = plt.subplot(1,2,1)\n",
    "ax1.hist(log_raw, bins=50, alpha=0.7, edgecolor='black')\n",
    "ax1.set_title(\"Log-Transformed Raw LOS\")\n",
    "ax1.set_xlabel(\"log(1 + Days)\")\n",
    "ax1.set_ylabel(\"Frequency\")\n",
    "\n",
    "ax2 = plt.subplot(1,2,2)\n",
    "ax2.hist(log_capped, bins=50, alpha=0.7, edgecolor='black')\n",
    "ax2.set_title(\"Log-Transformed Capped LOS\")\n",
    "ax2.set_xlabel(\"log(1 + Days)\")\n",
    "ax2.set_ylabel(\"Frequency\")\n",
    "\n",
    "# Synchronize axes for comparability\n",
    "x_min = min(log_raw.min(), log_capped.min())\n",
    "x_max = max(log_raw.max(), log_capped.max())\n",
    "y_max = max(ax1.get_ylim()[1], ax2.get_ylim()[1])\n",
    "\n",
    "ax1.set_xlim(x_min, x_max)\n",
    "ax2.set_xlim(x_min, x_max)\n",
    "ax1.set_ylim(0, y_max)\n",
    "ax2.set_ylim(0, y_max)\n",
    "\n",
    "plt.tight_layout()\n",
    "plt.show()\n",
    "\n"
   ]
  },
  {
   "cell_type": "raw",
   "id": "13937eaa-fefa-4fae-93ff-ef525d8ee940",
   "metadata": {},
   "source": [
    "The bulk of the data is not affected after capping, because the shape of the distribution is similar. Also seen below with boxplots"
   ]
  },
  {
   "cell_type": "code",
   "execution_count": 129,
   "id": "6a34ae93-84c4-4f6f-8d78-781bb52599f7",
   "metadata": {},
   "outputs": [
    {
     "data": {
      "image/png": "[encoded data removed]",
      "text/plain": [
       "<Figure size 600x500 with 1 Axes>"
      ]
     },
     "metadata": {},
     "output_type": "display_data"
    }
   ],
   "source": [
    "plt.figure(figsize=(6,5))\n",
    "plt.boxplot([df['length of stay'], df['LOS_capped']], labels=['Raw', 'Capped'])\n",
    "plt.title(\"LOS vs Capped LOS\")\n",
    "plt.ylabel(\"Days\")\n",
    "plt.yscale(\"log\")  # log scale to handle skew\n",
    "plt.show()\n"
   ]
  },
  {
   "cell_type": "raw",
   "id": "613ff6a8-7175-4460-80d7-fe6cecdc5ddc",
   "metadata": {},
   "source": [
    "When capping the outliers, it was chosen to set the maximum value on the percentile 99.9. This means outliers over it will be capped to the length of stay equal to 176 days. With this measure are achieved two goals simultaniously. First, 99,9% of the data is preserved, meaning just 25.565 values capped, keeping the data feasible; second, the distribution of the data is not heavily affected by outliers, allowing to focus the analysis and insights on the bulk of the data, where the information is more representative of general patterns. Both columns show a similar distribution of the data when mean is not considered, giving to the median and other measures more importance."
   ]
  },
  {
   "cell_type": "raw",
   "id": "9927e43e-97a4-4119-8a2f-ce0158ba88a8",
   "metadata": {},
   "source": [
    "Summary of Length of Stay\n",
    "\n",
    "Counts / Range:\n",
    "N = 25.758.741 valid records\n",
    "Range: 1 – 32.452 days (before capping)\n",
    "\n",
    "Central tendency:\n",
    "Mean (before outlier treatment): 6.76\n",
    "Median (before outlier treatment): 3.0\n",
    "Mean (after outlier treatment): 4.46\n",
    "Median (after outlier treatment): 3.0\n",
    "Mode: 1.0 day\n",
    "\n",
    "Dispersion:\n",
    "Standard deviation: 59.94\n",
    "IQR (25th–75th percentile): 1 – 7 days\n",
    "95th percentile: 22 days\n",
    "99.9th percentile: 176 days (capping threshold applied)\n",
    "\n",
    "Effect of Outliers:\n",
    "Mean dropped from 6.76 → 4.46 after capping\n",
    "Median stayed constant at 3.0\n",
    "Indicates strong right skew driven by extreme stays\n",
    "\n",
    "Distribution Shape:\n",
    "Visualization: long right tail, concentration between 1–10 days\n",
    "\n",
    "Balance / Interpretation:\n",
    "Most patients stay less than a week\n",
    "Small fraction of extreme values distort averages\n",
    "After capping, distribution better reflects typical patient experience\n",
    "\n",
    "Context:\n",
    "Hospitals likely discharge the majority of patients within a short window\n",
    "Extreme LOS cases represent long term, special care or complications\n",
    "Keeping both raw and capped versions allows balancing real-world extremes with statistical stability"
   ]
  },
  {
   "cell_type": "markdown",
   "id": "c6a09a88-2e82-4c4b-8861-8f9da28ecfb2",
   "metadata": {},
   "source": [
    "# Guiding Questions"
   ]
  },
  {
   "cell_type": "markdown",
   "id": "1f7fb4be-bdae-449a-9377-01b5b5d32efb",
   "metadata": {},
   "source": [
    "# Visualizations"
   ]
  },
  {
   "cell_type": "markdown",
   "id": "1a46cf4b-fe86-40d1-ad23-6ba32010fe44",
   "metadata": {},
   "source": [
    "# Questions"
   ]
  },
  {
   "cell_type": "markdown",
   "id": "5eeaa33f-200c-463b-ae18-92619a43ed89",
   "metadata": {},
   "source": [
    "# Insights"
   ]
  },
  {
   "cell_type": "raw",
   "id": "793e63ea-b778-46c0-9d19-fa733f5c77da",
   "metadata": {},
   "source": []
  },
  {
   "cell_type": "markdown",
   "id": "e1673bdc-9f1d-4b00-b2c2-4e28a0b5a8dc",
   "metadata": {},
   "source": [
    "# Ideas or considerations for future analysis"
   ]
  },
  {
   "cell_type": "raw",
   "id": "a297fd67-b2ec-4953-ae76-2f56f3ca7f03",
   "metadata": {},
   "source": [
    "👉Maybe don’t separate diagnoses, but at least flag specialty hospitals vs general hospitals. That’s a cleaner comparison.\n",
    "👉Check if long stays are increasing, decreasing, or stable over time. If psychiatric long-term care got restructured (e.g., deinstitutionalization), you’ll want that story.\n",
    "👉 Always report medians + IQR alongside means.\n",
    "👉 For center efficiency, avoid depending on one metric (mean LOS is too fragile).\n",
    "\n",
    "Q1 – Trends over time\n",
    "\n",
    "Use Median to see the stable central trend.\n",
    "\n",
    "Use Capped Mean to monitor resource use (avoids distortion from extreme cases).\n",
    "\n",
    "⚠️ Avoid raw mean, it will give a false sense of increase/decrease.\n",
    "\n",
    "Q2 – Differences by patient characteristics (sex, age, insurance, etc.)\n",
    "\n",
    "Use Median for fair comparisons.\n",
    "\n",
    "Optionally add IQR (spread) to show variability.\n",
    "\n",
    "If you want to see if a group has “more long stays,” add proportion of outliers.\n",
    "\n",
    "Q3 – Efficiency of health centers\n",
    "\n",
    "Use Median → “typical discharge efficiency.”\n",
    "\n",
    "Use Capped Mean → “adjusted workload.”\n",
    "\n",
    "Report outlier percentage → shows if a center accumulates unusually long stays (psychiatry, chronic, etc.)."
   ]
  },
  {
   "cell_type": "code",
   "execution_count": null,
   "id": "0062a1d0-63ab-4e74-a8ff-c4f7ebe8b539",
   "metadata": {},
   "outputs": [],
   "source": []
  }
 ],
 "metadata": {
  "kernelspec": {
   "display_name": "Python 3 (ipykernel)",
   "language": "python",
   "name": "python3"
  },
  "language_info": {
   "codemirror_mode": {
    "name": "ipython",
    "version": 3
   },
   "file_extension": ".py",
   "mimetype": "text/x-python",
   "name": "python",
   "nbconvert_exporter": "python",
   "pygments_lexer": "ipython3",
   "version": "3.12.4"
  }
 },
 "nbformat": 4,
 "nbformat_minor": 5
}
