{
 "cells": [
  {
   "cell_type": "markdown",
   "id": "79ebdbac-195e-4c05-a6ee-042b5e1a4164",
   "metadata": {},
   "source": [
    "# 1. Introduction"
   ]
  },
  {
   "cell_type": "raw",
   "id": "4abd0a74-1618-4d2f-847d-77433f3d1882",
   "metadata": {},
   "source": [
    "Dataset description:\n",
    "\n",
    "Origin -> \"Departamento de Estadísticas e Información de Salud\" (DEIS), Ministerio de Salud, Chile\n",
    "\n",
    "Size -> 25.758.741 rows and 10 columns\n",
    "\n",
    "Time frame -> From year 2001 to 2024\n",
    "\n",
    "Units of observation -> Discharges\n",
    "\n",
    "Objective: Analyze the evolution of diagnosis through hospital discharges between years 2001 and 2024 in Chile\n",
    "\n",
    "Guiding questions:\n",
    "\n",
    "1. ¿What is the trend in the prevalence of health problems over the years?\n",
    "2. ¿Is there a relationship between individual characteristics (sex, age, health insurance) and specific health problems?\n",
    "3.  What type of health centers (public or private) and specificall which onesy use more or fewer bed-days to solve health problems? 2001-2024 in general and 2001-2020 in specifi\n",
    "3.1.  To what extent is the efficiency of health centers linked to individual characteristics of the population served and/or their financing? Depends on finding ins Q.2 2001-2024 in general and 2001-2020 in specific]"
   ]
  },
  {
   "cell_type": "markdown",
   "id": "1dfe8cd1-76e8-4dc3-ba6e-8006b379761d",
   "metadata": {},
   "source": [
    "# Libraries and Data importation"
   ]
  },
  {
   "cell_type": "code",
   "execution_count": 3,
   "id": "1a79fdc5-55d7-4e54-bfea-de7f3af36a3a",
   "metadata": {},
   "outputs": [],
   "source": [
    "# Import libraries\n",
    "import pandas as pd\n",
    "import numpy as np\n",
    "import matplotlib.pyplot as plt\n",
    "import seaborn as sns"
   ]
  },
  {
   "cell_type": "code",
   "execution_count": 27,
   "id": "2250d9ea-0999-4513-9346-0739a1099717",
   "metadata": {},
   "outputs": [],
   "source": [
    "# Import full dataframe\n",
    "df = pd.read_parquet(r\"C:\\Users\\mirko\\Desktop\\Curso Data Science DL\\EDAHospDischarges_Chile2001-2024\\data\\processed\\Discharges_2001-2024_univariate_final_v2_light.parquet\")"
   ]
  },
  {
   "cell_type": "markdown",
   "id": "52a64b83-4844-4cd9-a093-6325bd4934b7",
   "metadata": {},
   "source": [
    "# 2. Data Overview"
   ]
  },
  {
   "cell_type": "code",
   "execution_count": 30,
   "id": "fd5c14a5-06b8-43ea-9f97-85844ba4dfbd",
   "metadata": {},
   "outputs": [],
   "source": [
    "# Shape of the dataset (rows, columns)."
   ]
  },
  {
   "cell_type": "code",
   "execution_count": 32,
   "id": "089970f8-6999-4226-a833-c184a770014e",
   "metadata": {},
   "outputs": [
    {
     "data": {
      "text/html": [
       "<div>\n",
       "<style scoped>\n",
       "    .dataframe tbody tr th:only-of-type {\n",
       "        vertical-align: middle;\n",
       "    }\n",
       "\n",
       "    .dataframe tbody tr th {\n",
       "        vertical-align: top;\n",
       "    }\n",
       "\n",
       "    .dataframe thead th {\n",
       "        text-align: right;\n",
       "    }\n",
       "</style>\n",
       "<table border=\"1\" class=\"dataframe\">\n",
       "  <thead>\n",
       "    <tr style=\"text-align: right;\">\n",
       "      <th></th>\n",
       "      <th>sex</th>\n",
       "      <th>age</th>\n",
       "      <th>health insurance</th>\n",
       "      <th>healthcare facility type</th>\n",
       "      <th>healthcare facility name</th>\n",
       "      <th>length of stay</th>\n",
       "      <th>discharge condition</th>\n",
       "      <th>primary diagnosis code</th>\n",
       "      <th>primary diagnosis name</th>\n",
       "      <th>year</th>\n",
       "      <th>chapter codes</th>\n",
       "      <th>chapter names</th>\n",
       "      <th>LOS_capped</th>\n",
       "    </tr>\n",
       "  </thead>\n",
       "  <tbody>\n",
       "    <tr>\n",
       "      <th>0</th>\n",
       "      <td>Male</td>\n",
       "      <td>60-69</td>\n",
       "      <td>Fonasa</td>\n",
       "      <td>Private</td>\n",
       "      <td>Clínica Familia</td>\n",
       "      <td>2</td>\n",
       "      <td>Deceased</td>\n",
       "      <td>C780</td>\n",
       "      <td>tumor maligno secundario del pulmon</td>\n",
       "      <td>2001</td>\n",
       "      <td>C00-D48</td>\n",
       "      <td>Tumores [Neoplasias]</td>\n",
       "      <td>2</td>\n",
       "    </tr>\n",
       "    <tr>\n",
       "      <th>1</th>\n",
       "      <td>Male</td>\n",
       "      <td>70-79</td>\n",
       "      <td>Fonasa</td>\n",
       "      <td>Public</td>\n",
       "      <td>Hospital Del Salvador (Santiago, Providencia)</td>\n",
       "      <td>58</td>\n",
       "      <td>Deceased</td>\n",
       "      <td>E145</td>\n",
       "      <td>diabetes mellitus no especificada, con complic...</td>\n",
       "      <td>2001</td>\n",
       "      <td>E00-E90</td>\n",
       "      <td>Enfermedades endocrinas, nutricionales y metab...</td>\n",
       "      <td>58</td>\n",
       "    </tr>\n",
       "    <tr>\n",
       "      <th>2</th>\n",
       "      <td>Male</td>\n",
       "      <td>70-79</td>\n",
       "      <td>Fonasa</td>\n",
       "      <td>Public</td>\n",
       "      <td>Hospital Del Salvador (Santiago, Providencia)</td>\n",
       "      <td>12</td>\n",
       "      <td>Deceased</td>\n",
       "      <td>J189</td>\n",
       "      <td>neumonia, no especificada</td>\n",
       "      <td>2001</td>\n",
       "      <td>J00-J99</td>\n",
       "      <td>Enfermedades del sistema respiratorio</td>\n",
       "      <td>12</td>\n",
       "    </tr>\n",
       "    <tr>\n",
       "      <th>3</th>\n",
       "      <td>Male</td>\n",
       "      <td>1-9</td>\n",
       "      <td>Fonasa</td>\n",
       "      <td>Public</td>\n",
       "      <td>Instituto de Neurocirugía Dr. Alfonso Asenjo</td>\n",
       "      <td>1</td>\n",
       "      <td>Deceased</td>\n",
       "      <td>S065</td>\n",
       "      <td>hemorragia subdural traumatica</td>\n",
       "      <td>2001</td>\n",
       "      <td>S00-T98</td>\n",
       "      <td>Traumatismos, envenenamientos y algunas otras ...</td>\n",
       "      <td>1</td>\n",
       "    </tr>\n",
       "    <tr>\n",
       "      <th>4</th>\n",
       "      <td>Male</td>\n",
       "      <td>80-120</td>\n",
       "      <td>Fonasa</td>\n",
       "      <td>Public</td>\n",
       "      <td>Hospital Dr. Leonardo Guzmán (Antofagasta)</td>\n",
       "      <td>7</td>\n",
       "      <td>Alive</td>\n",
       "      <td>K830</td>\n",
       "      <td>colangitis</td>\n",
       "      <td>2001</td>\n",
       "      <td>K00-K93</td>\n",
       "      <td>Enfermedades del sistema digestivo</td>\n",
       "      <td>7</td>\n",
       "    </tr>\n",
       "  </tbody>\n",
       "</table>\n",
       "</div>"
      ],
      "text/plain": [
       "    sex     age health insurance healthcare facility type  \\\n",
       "0  Male   60-69           Fonasa                  Private   \n",
       "1  Male   70-79           Fonasa                   Public   \n",
       "2  Male   70-79           Fonasa                   Public   \n",
       "3  Male     1-9           Fonasa                   Public   \n",
       "4  Male  80-120           Fonasa                   Public   \n",
       "\n",
       "                        healthcare facility name  length of stay  \\\n",
       "0                               Clínica Familia                2   \n",
       "1  Hospital Del Salvador (Santiago, Providencia)              58   \n",
       "2  Hospital Del Salvador (Santiago, Providencia)              12   \n",
       "3   Instituto de Neurocirugía Dr. Alfonso Asenjo               1   \n",
       "4     Hospital Dr. Leonardo Guzmán (Antofagasta)               7   \n",
       "\n",
       "  discharge condition primary diagnosis code  \\\n",
       "0            Deceased                   C780   \n",
       "1            Deceased                   E145   \n",
       "2            Deceased                   J189   \n",
       "3            Deceased                   S065   \n",
       "4               Alive                   K830   \n",
       "\n",
       "                              primary diagnosis name  year chapter codes  \\\n",
       "0                tumor maligno secundario del pulmon  2001       C00-D48   \n",
       "1  diabetes mellitus no especificada, con complic...  2001       E00-E90   \n",
       "2                          neumonia, no especificada  2001       J00-J99   \n",
       "3                     hemorragia subdural traumatica  2001       S00-T98   \n",
       "4                                         colangitis  2001       K00-K93   \n",
       "\n",
       "                                       chapter names  LOS_capped  \n",
       "0                               Tumores [Neoplasias]           2  \n",
       "1  Enfermedades endocrinas, nutricionales y metab...          58  \n",
       "2              Enfermedades del sistema respiratorio          12  \n",
       "3  Traumatismos, envenenamientos y algunas otras ...           1  \n",
       "4                 Enfermedades del sistema digestivo           7  "
      ]
     },
     "execution_count": 32,
     "metadata": {},
     "output_type": "execute_result"
    }
   ],
   "source": [
    "df.head()"
   ]
  },
  {
   "cell_type": "code",
   "execution_count": 34,
   "id": "0a9d08e9-8d13-4110-beeb-9b83c63a00ac",
   "metadata": {},
   "outputs": [
    {
     "data": {
      "text/plain": [
       "(25758741, 13)"
      ]
     },
     "execution_count": 34,
     "metadata": {},
     "output_type": "execute_result"
    }
   ],
   "source": [
    "df.shape"
   ]
  },
  {
   "cell_type": "markdown",
   "id": "7f137f16-5a76-4d91-a014-87fc9832a5cd",
   "metadata": {},
   "source": [
    "# Data dictionary / main variables (categorical, numerical)."
   ]
  },
  {
   "cell_type": "code",
   "execution_count": 37,
   "id": "e6f9872e-76f0-4cb2-a11e-822823b83004",
   "metadata": {},
   "outputs": [
    {
     "name": "stdout",
     "output_type": "stream",
     "text": [
      "<class 'pandas.core.frame.DataFrame'>\n",
      "RangeIndex: 25758741 entries, 0 to 25758740\n",
      "Data columns (total 13 columns):\n",
      " #   Column                    Dtype   \n",
      "---  ------                    -----   \n",
      " 0   sex                       category\n",
      " 1   age                       category\n",
      " 2   health insurance          category\n",
      " 3   healthcare facility type  category\n",
      " 4   healthcare facility name  category\n",
      " 5   length of stay            int32   \n",
      " 6   discharge condition       category\n",
      " 7   primary diagnosis code    category\n",
      " 8   primary diagnosis name    category\n",
      " 9   year                      int32   \n",
      " 10  chapter codes             category\n",
      " 11  chapter names             category\n",
      " 12  LOS_capped                int32   \n",
      "dtypes: category(10), int32(3)\n",
      "memory usage: 614.8 MB\n"
     ]
    }
   ],
   "source": [
    "# Data type customization really helped to reduce memory usage, increasing speed and capacity to create new columns\n",
    "# This is before changing data types\n",
    "df.info()"
   ]
  },
  {
   "cell_type": "code",
   "execution_count": null,
   "id": "1950385c-3df1-4767-b769-e1d337016740",
   "metadata": {},
   "outputs": [],
   "source": []
  },
  {
   "cell_type": "raw",
   "id": "23d45064-050e-4d03-a169-ac187489feaa",
   "metadata": {},
   "source": [
    "Variables\n",
    "\n",
    "Individual characteristics:\n",
    "Sex (Categorical)\n",
    "Age ranges (Categorical)\n",
    "Health insurance (Categorical)\n",
    "\n",
    "Health center characteristics:\n",
    "Name (Categorical)\n",
    "Public or private (Categorical)\n",
    "\n",
    "Variables associated with the diagnosis:\n",
    "Name of the health problem (health problem code) and chapter (Categorical)\n",
    "\n",
    "Variables associated with the individual, health center, and disease simultaneously:\n",
    "Length of stay capped and raw (Numerical)\n",
    "Discharge condition (alive or dead) (Categorical)\n",
    "\n",
    "Variables associated with time:\n",
    "Year (Timestamp)"
   ]
  },
  {
   "cell_type": "markdown",
   "id": "383bdaeb-6822-4961-a585-889e6197341f",
   "metadata": {},
   "source": [
    "# Missing values / NA treatment summary."
   ]
  },
  {
   "cell_type": "code",
   "execution_count": 12,
   "id": "e2f7c6d8-ee95-4427-bd2d-3a7164252a69",
   "metadata": {},
   "outputs": [
    {
     "data": {
      "text/plain": [
       "sex                         0\n",
       "age                         0\n",
       "health insurance            0\n",
       "healthcare facility type    0\n",
       "healthcare facility name    0\n",
       "length of stay              0\n",
       "discharge condition         0\n",
       "primary diagnosis code      0\n",
       "primary diagnosis name      0\n",
       "year                        0\n",
       "chapter codes               0\n",
       "chapter names               0\n",
       "LOS_capped                  0\n",
       "dtype: int64"
      ]
     },
     "execution_count": 12,
     "metadata": {},
     "output_type": "execute_result"
    }
   ],
   "source": [
    "# Dataframe is cleaned from previous steps\n",
    "df.isna().sum()"
   ]
  },
  {
   "cell_type": "raw",
   "id": "726e54d9-076e-46d9-869f-717152b0d8b3",
   "metadata": {},
   "source": [
    "The dataframe is completely clean without any missing value. For healthcare facility name the data was missing from 2021 to 2024 and healthcare facility type had around 20% of NaNs, mainly on year 2023. All these values were imputed to \"Unknown\" to preserve the rest of the data, considering it was not missing at random, so bias could be introduced in case of deletion. The rest of the variables had NaNs and were deleted becasue it did not affected the representativeness of the sample."
   ]
  },
  {
   "cell_type": "markdown",
   "id": "befba649-f110-4d66-b744-e2a57ab16480",
   "metadata": {},
   "source": [
    "# First impressions after univariate analysis (anything noteworthy?)."
   ]
  },
  {
   "cell_type": "raw",
   "id": "bc715264-5780-40b0-9b6f-6a9a42066640",
   "metadata": {},
   "source": [
    "It was complex to manage 24 dataframes and explore the data, particulary the missing values and take important decisions to ensure data integrity and accuracy at the same time. There are many duplicates and that is the main uncertainty about the realiability of the information, but it was chosen to just delete duplicates when the patient ID was available, making more evident that some rows were real duplicates. There are many health problems that are highly prevalent and common among specific kind of patients, so it would not be surprising that similar rows are different discharges even if they are completely identical and no ID is available."
   ]
  },
  {
   "cell_type": "markdown",
   "id": "f929885c-9edc-431c-9ece-2b8f9b89d55f",
   "metadata": {},
   "source": [
    "# List of pairs of variables to perform bivariate analysis"
   ]
  },
  {
   "cell_type": "raw",
   "id": "be806292-4adf-4b28-ae41-23fea52ede43",
   "metadata": {},
   "source": [
    "Useful for guiding questions\n",
    "1 Diagnosis - Year\n",
    "2.a Sex - Diagnosis\n",
    "2.b Age - Diagnosis\n",
    "2.c Health insurance - Diagnosis\n",
    "3.a healthcare facility type - LOS (raw/capped) 2001-2000 (specific analysis)\n",
    "3.aa healthcare facility name - LOS (raw/capped) 2001-2000 (specific analysis)\n",
    "3.b healthcare facility type - LOS (raw/capped) 2021-2024 (general analysis)\n",
    "\n",
    "Useful to get new insights apart of guiding questions\n",
    "1 Age - Healthcare facility type\n",
    "2 Age - LOS\n",
    "3 Age - Health insurance\n",
    "4 Age - Year\n",
    "5 Sex - Healthcare facility type\n",
    "6 Sex - LOS\n",
    "7 Sex - Health insurance\n",
    "8 Healthcare facility type - Healthcare facility name\n",
    "9 Healthcare facility name - Diagnosis\n",
    "10 Healthcare facility name - Condition (ratio)\n",
    "11 Healthcare facility name - Health insurance\n",
    "12 Healthcare facility name - Year (hosp capacity)\n",
    "13 Healthcare facility type - Diagnosis\n",
    "14 Healthcare facility type - Condition\n",
    "13 Healthcare facility type - Diagnosis\n",
    "14 Healthcare facility type - Health insurance (how related is)\n",
    "15 Healthcare facility type - Year\n",
    "16 Diagnosis - LOS\n",
    "16 Diagnosis - Condition\n",
    "16 Diagnosis - LOS\n",
    "16 LOS - Condition\n",
    "16 LOS - Health insurance\n",
    "16 LOS - Year\n",
    "19 Health insurance - Condition\n",
    "22 Health insurance - Year\n",
    "23 Health insurance - Diagnosis"
   ]
  },
  {
   "cell_type": "markdown",
   "id": "bbe25065-cf5e-4cf8-8854-3b6dfc0ee487",
   "metadata": {},
   "source": [
    "# 3. Bivariate analysis"
   ]
  },
  {
   "cell_type": "markdown",
   "id": "4e00db6a-bea7-4835-902f-d29e6be98b61",
   "metadata": {},
   "source": [
    "# 1. Diagnosis and Year"
   ]
  },
  {
   "cell_type": "code",
   "execution_count": 81,
   "id": "0fa6c76f-ebd6-4254-b88f-ce9c4e080be7",
   "metadata": {},
   "outputs": [
    {
     "data": {
      "text/plain": [
       "chapter codes\n",
       "E00-E90    402587\n",
       "P00-P96      1378\n",
       "N00-N99        82\n",
       "Z00-Z99        55\n",
       "L00-L99         0\n",
       "U00-U99         0\n",
       "S00-T98         0\n",
       "R00-R99         0\n",
       "Q00-Q99         0\n",
       "M00-M99         0\n",
       "A00-B99         0\n",
       "C00-D48         0\n",
       "J00-J99         0\n",
       "I00-I99         0\n",
       "H60-H95         0\n",
       "H00-H59         0\n",
       "G00-G99         0\n",
       "F00-F99         0\n",
       "D50-D89         0\n",
       "K00-K93         0\n",
       "Name: count, dtype: int64"
      ]
     },
     "execution_count": 81,
     "metadata": {},
     "output_type": "execute_result"
    }
   ],
   "source": [
    "# Prevalence measure\n",
    "\n",
    "# Counts per year\n",
    "year_count = df[\"year\"].value_counts()\n",
    "\n",
    "# Counts per year per diagnosis (ex. diabetes)\n",
    "df[df[\"primary diagnosis name\"].str.contains(\"diabetes\")][\"chapter codes\"].value_counts()\n",
    "\n"
   ]
  },
  {
   "cell_type": "code",
   "execution_count": null,
   "id": "ec5a2385-d6d8-48bd-8789-55d389c543cf",
   "metadata": {},
   "outputs": [],
   "source": []
  },
  {
   "cell_type": "code",
   "execution_count": null,
   "id": "c4e1adcc-bc7a-4734-8dc3-70ade18ae49b",
   "metadata": {},
   "outputs": [],
   "source": []
  },
  {
   "cell_type": "markdown",
   "id": "41831aa0-5bf9-43f6-9bb7-dd64964f922c",
   "metadata": {},
   "source": [
    "# Counts / Frequencies"
   ]
  },
  {
   "cell_type": "raw",
   "id": "3bbf565f-5ba0-44f2-8e85-5a3ff9290aa5",
   "metadata": {},
   "source": [
    "Show the size of each group combination.\n",
    "\n",
    "Example: number of discharges per year × diagnosis, or hospital type × insurance.\n",
    "\n",
    "Tools: pd.crosstab(), groupby().size().\n",
    "\n",
    "Plot: stacked bars, heatmaps (for large categories).\n",
    "\n",
    "👉 Interpretation: Which groups dominate? Are there combinations with very few cases?"
   ]
  },
  {
   "cell_type": "markdown",
   "id": "95fb542d-3975-486c-b3e5-03f3f2cac79a",
   "metadata": {},
   "source": [
    "# Proportions"
   ]
  },
  {
   "cell_type": "raw",
   "id": "6fcefb16-c05a-45d5-8cf4-20fbf4f105f7",
   "metadata": {},
   "source": [
    "Normalize to percentages so comparisons are fair.\n",
    "\n",
    "Example: % of diagnoses by sex; % of discharges handled by public vs private hospitals over time.\n",
    "\n",
    "Plot: 100% stacked bar charts, grouped barplots.\n",
    "\n",
    "👉 Interpretation: Do certain groups carry disproportionate weight?"
   ]
  },
  {
   "cell_type": "markdown",
   "id": "ff1fd1b1-0897-45c0-a32a-4cba5f5374d3",
   "metadata": {},
   "source": [
    "# Central Tendency & Spread (Numerical vs Categorical)"
   ]
  },
  {
   "cell_type": "raw",
   "id": "7787dc02-287c-4feb-8683-922fd5a135fd",
   "metadata": {},
   "source": [
    "Compare mean/median/percentiles across categories.\n",
    "\n",
    "Example: average LOS by hospital type, insurance, or age group.\n",
    "\n",
    "Plot: boxplots, violin plots, barplots with error bars.\n",
    "\n",
    "👉 Interpretation: Where are the differences? Are they meaningful (big gap) or small (likely noise)?"
   ]
  },
  {
   "cell_type": "markdown",
   "id": "b3bc6b08-bc6d-4d5a-a875-da92509ba708",
   "metadata": {},
   "source": [
    "# Balance & Concentration"
   ]
  },
  {
   "cell_type": "raw",
   "id": "9280c3bb-6526-4163-8486-17475f23f618",
   "metadata": {},
   "source": [
    "Check whether distribution is balanced or concentrated across groups.\n",
    "\n",
    "Example: Are diagnoses evenly spread across sexes, or does one dominate?\n",
    "\n",
    "Tools: cumulative % plots, Pareto-style bar charts.\n",
    "\n",
    "👉 Interpretation: Who absorbs the demand?"
   ]
  },
  {
   "cell_type": "markdown",
   "id": "1f5ceab7-65e1-4933-8a76-1401f34d8233",
   "metadata": {},
   "source": [
    "# Context / Interpretation"
   ]
  },
  {
   "cell_type": "raw",
   "id": "a6abd0da-0daf-4a08-b2a1-5f16976892d0",
   "metadata": {},
   "source": [
    "Tie results back to guiding questions:\n",
    "\n",
    "Trends (year × diagnosis).\n",
    "\n",
    "Individual characteristics × health problems (sex, age, insurance).\n",
    "\n",
    "Efficiency (hospital type × LOS, hospital × LOS).\n",
    "\n",
    "👉 Always close each section with a sentence: “This suggests X, which matters because Y.”"
   ]
  },
  {
   "cell_type": "code",
   "execution_count": null,
   "id": "70e389a5-14b4-44b1-bc4f-0dbcaced8e2b",
   "metadata": {},
   "outputs": [],
   "source": []
  },
  {
   "cell_type": "code",
   "execution_count": null,
   "id": "c9126615-dfe3-4a33-af9e-188320ce82e7",
   "metadata": {},
   "outputs": [],
   "source": []
  },
  {
   "cell_type": "markdown",
   "id": "c6a09a88-2e82-4c4b-8861-8f9da28ecfb2",
   "metadata": {},
   "source": [
    "# Guiding Questions"
   ]
  },
  {
   "cell_type": "markdown",
   "id": "1f7fb4be-bdae-449a-9377-01b5b5d32efb",
   "metadata": {},
   "source": [
    "# Visualizations"
   ]
  },
  {
   "cell_type": "markdown",
   "id": "1a46cf4b-fe86-40d1-ad23-6ba32010fe44",
   "metadata": {},
   "source": [
    "# Questions"
   ]
  },
  {
   "cell_type": "markdown",
   "id": "5eeaa33f-200c-463b-ae18-92619a43ed89",
   "metadata": {},
   "source": [
    "# Insights"
   ]
  },
  {
   "cell_type": "raw",
   "id": "793e63ea-b778-46c0-9d19-fa733f5c77da",
   "metadata": {},
   "source": []
  },
  {
   "cell_type": "markdown",
   "id": "e1673bdc-9f1d-4b00-b2c2-4e28a0b5a8dc",
   "metadata": {},
   "source": [
    "# Ideas or considerations"
   ]
  },
  {
   "cell_type": "code",
   "execution_count": null,
   "id": "0062a1d0-63ab-4e74-a8ff-c4f7ebe8b539",
   "metadata": {},
   "outputs": [],
   "source": []
  }
 ],
 "metadata": {
  "kernelspec": {
   "display_name": "Python 3 (ipykernel)",
   "language": "python",
   "name": "python3"
  },
  "language_info": {
   "codemirror_mode": {
    "name": "ipython",
    "version": 3
   },
   "file_extension": ".py",
   "mimetype": "text/x-python",
   "name": "python",
   "nbconvert_exporter": "python",
   "pygments_lexer": "ipython3",
   "version": "3.12.4"
  }
 },
 "nbformat": 4,
 "nbformat_minor": 5
}
