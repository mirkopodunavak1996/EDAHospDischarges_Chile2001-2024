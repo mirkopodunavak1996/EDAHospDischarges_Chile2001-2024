{
 "cells": [
  {
   "cell_type": "markdown",
   "id": "45e6fbfb-b53a-4cfd-85f0-fe2abe1071da",
   "metadata": {},
   "source": [
    "Tipo de variables:\n",
    "\n",
    "Caracteristicas individuales:\n",
    "1. Sexo\n",
    "2. Edad\n",
    "3. Previsión o seguro de salud\n",
    "\n",
    "Caracteristicas del centro de salud:\n",
    "1. Nombre\n",
    "2. Público o privado\n",
    "\n",
    "Variables asociadas al disgnostico:\n",
    "1. Nombre del problema de salud (y código problema de salud)\n",
    "\n",
    "Variables asociadas al individuo, centro de salud y enfermedad de forma simultanea:\n",
    "1. Dias de estadia en el centro de salud\n",
    "2. Condicion de egreso (vivo o muerto)\n",
    "\n",
    "Preguntas Guia:\n",
    "1. ¿Cual es la tendencia en la evolución de la prevalencia de los problemas de salud a lo largo de los años? 2001-2024\n",
    "2. ¿Hay alguna relación entre las caractersiticas individuales (sexo, edad, previsión de salud) y problemas de salud especificos? 2001-2024\n",
    "3. ¿Que tipo de centros de salud (publicos o privados) y en especifico utilizan más o menos días-cama en la solución de los problemas de salud? 2001-2024 en general y 2001-2020 en especifico\n",
    "3.1 ¿ En que medida la eficiencia de los centros de salud está ligada a caracteristicas individuales de la población atendida y/o a su financiamiento?\n",
    "Depende de hallazgos P.2 2001-2024 en general y 2001-2020 en especifico\n",
    "* Se entiende que un centro de salud es más eficiente si es que logra reducir los días de estada al mínimo posible\n",
    "y efectivo si es que el paciente egresa vivo. BUSCAR UNA DEFINICION MAS APROPIADA DE EFICIENCIA HOSPITALARIA"
   ]
  },
  {
   "cell_type": "markdown",
   "id": "d91cf0a4-ddc2-442e-bd87-65c4aebeb6f9",
   "metadata": {},
   "source": [
    "# Libraries and Data importation"
   ]
  },
  {
   "cell_type": "code",
   "execution_count": 1,
   "id": "731074ac-dd86-4c11-b449-5ad7863aec7a",
   "metadata": {},
   "outputs": [],
   "source": [
    "import pandas as pd\n",
    "import numpy as np\n",
    "import matplotlib.pyplot as plt\n",
    "import seaborn as sns"
   ]
  },
  {
   "cell_type": "code",
   "execution_count": 2,
   "id": "c1d56582-8afa-47d5-80d7-67d392588e45",
   "metadata": {},
   "outputs": [],
   "source": [
    "from unidecode import unidecode"
   ]
  },
  {
   "cell_type": "code",
   "execution_count": 3,
   "id": "62458c14-55bb-4aa6-ba9a-318299904782",
   "metadata": {},
   "outputs": [],
   "source": [
    "df = pd.read_parquet(r\"C:\\Users\\mirko\\Desktop\\Curso Data Science DL\\ProyectoEDA_Egresos_Hospitalarios_2001-2020\\data\\processed\\Discharges_2001-2024_analysis.parquet\")"
   ]
  },
  {
   "cell_type": "code",
   "execution_count": 4,
   "id": "8bef4c10-6f2b-4167-a79b-c8beee47288b",
   "metadata": {},
   "outputs": [
    {
     "data": {
      "text/html": [
       "<div>\n",
       "<style scoped>\n",
       "    .dataframe tbody tr th:only-of-type {\n",
       "        vertical-align: middle;\n",
       "    }\n",
       "\n",
       "    .dataframe tbody tr th {\n",
       "        vertical-align: top;\n",
       "    }\n",
       "\n",
       "    .dataframe thead th {\n",
       "        text-align: right;\n",
       "    }\n",
       "</style>\n",
       "<table border=\"1\" class=\"dataframe\">\n",
       "  <thead>\n",
       "    <tr style=\"text-align: right;\">\n",
       "      <th></th>\n",
       "      <th>sex</th>\n",
       "      <th>age</th>\n",
       "      <th>health insurance</th>\n",
       "      <th>healthcare facility type</th>\n",
       "      <th>healthcare facility name</th>\n",
       "      <th>length of stay</th>\n",
       "      <th>discharge condition</th>\n",
       "      <th>primary diagnosis code</th>\n",
       "      <th>primary diagnosis name</th>\n",
       "      <th>year</th>\n",
       "    </tr>\n",
       "  </thead>\n",
       "  <tbody>\n",
       "    <tr>\n",
       "      <th>0</th>\n",
       "      <td>True</td>\n",
       "      <td>[60, 69]</td>\n",
       "      <td>True</td>\n",
       "      <td>True</td>\n",
       "      <td>Clínica Familia</td>\n",
       "      <td>2</td>\n",
       "      <td>True</td>\n",
       "      <td>C780</td>\n",
       "      <td>TUMOR MALIGNO SECUNDARIO DEL PULMÓN</td>\n",
       "      <td>1970-01-01 00:00:00.000002001</td>\n",
       "    </tr>\n",
       "    <tr>\n",
       "      <th>1</th>\n",
       "      <td>True</td>\n",
       "      <td>[70, 79]</td>\n",
       "      <td>True</td>\n",
       "      <td>True</td>\n",
       "      <td>Hospital Del Salvador (Santiago, Providencia)</td>\n",
       "      <td>58</td>\n",
       "      <td>True</td>\n",
       "      <td>E145</td>\n",
       "      <td>DIABETES MELLITUS NO ESPECIFICADA, CON COMPLIC...</td>\n",
       "      <td>1970-01-01 00:00:00.000002001</td>\n",
       "    </tr>\n",
       "    <tr>\n",
       "      <th>2</th>\n",
       "      <td>True</td>\n",
       "      <td>[70, 79]</td>\n",
       "      <td>True</td>\n",
       "      <td>True</td>\n",
       "      <td>Hospital Del Salvador (Santiago, Providencia)</td>\n",
       "      <td>12</td>\n",
       "      <td>True</td>\n",
       "      <td>J189</td>\n",
       "      <td>NEUMONIA, NO ESPECIFICADA</td>\n",
       "      <td>1970-01-01 00:00:00.000002001</td>\n",
       "    </tr>\n",
       "    <tr>\n",
       "      <th>3</th>\n",
       "      <td>True</td>\n",
       "      <td>[1, 9]</td>\n",
       "      <td>True</td>\n",
       "      <td>True</td>\n",
       "      <td>Instituto de Neurocirugía Dr. Alfonso Asenjo</td>\n",
       "      <td>1</td>\n",
       "      <td>True</td>\n",
       "      <td>S065</td>\n",
       "      <td>HEMORRAGIA SUBDURAL TRAUMÁTICA</td>\n",
       "      <td>1970-01-01 00:00:00.000002001</td>\n",
       "    </tr>\n",
       "    <tr>\n",
       "      <th>4</th>\n",
       "      <td>True</td>\n",
       "      <td>[80, 120]</td>\n",
       "      <td>True</td>\n",
       "      <td>True</td>\n",
       "      <td>Hospital Dr. Leonardo Guzmán (Antofagasta)</td>\n",
       "      <td>7</td>\n",
       "      <td>True</td>\n",
       "      <td>K830</td>\n",
       "      <td>COLANGITIS</td>\n",
       "      <td>1970-01-01 00:00:00.000002001</td>\n",
       "    </tr>\n",
       "  </tbody>\n",
       "</table>\n",
       "</div>"
      ],
      "text/plain": [
       "    sex        age  health insurance  healthcare facility type  \\\n",
       "0  True   [60, 69]              True                      True   \n",
       "1  True   [70, 79]              True                      True   \n",
       "2  True   [70, 79]              True                      True   \n",
       "3  True     [1, 9]              True                      True   \n",
       "4  True  [80, 120]              True                      True   \n",
       "\n",
       "                        healthcare facility name  length of stay  \\\n",
       "0                               Clínica Familia                2   \n",
       "1  Hospital Del Salvador (Santiago, Providencia)              58   \n",
       "2  Hospital Del Salvador (Santiago, Providencia)              12   \n",
       "3   Instituto de Neurocirugía Dr. Alfonso Asenjo               1   \n",
       "4     Hospital Dr. Leonardo Guzmán (Antofagasta)               7   \n",
       "\n",
       "   discharge condition primary diagnosis code  \\\n",
       "0                 True                   C780   \n",
       "1                 True                   E145   \n",
       "2                 True                   J189   \n",
       "3                 True                   S065   \n",
       "4                 True                   K830   \n",
       "\n",
       "                              primary diagnosis name  \\\n",
       "0                TUMOR MALIGNO SECUNDARIO DEL PULMÓN   \n",
       "1  DIABETES MELLITUS NO ESPECIFICADA, CON COMPLIC...   \n",
       "2                          NEUMONIA, NO ESPECIFICADA   \n",
       "3                     HEMORRAGIA SUBDURAL TRAUMÁTICA   \n",
       "4                                         COLANGITIS   \n",
       "\n",
       "                           year  \n",
       "0 1970-01-01 00:00:00.000002001  \n",
       "1 1970-01-01 00:00:00.000002001  \n",
       "2 1970-01-01 00:00:00.000002001  \n",
       "3 1970-01-01 00:00:00.000002001  \n",
       "4 1970-01-01 00:00:00.000002001  "
      ]
     },
     "execution_count": 4,
     "metadata": {},
     "output_type": "execute_result"
    }
   ],
   "source": [
    "df.head()"
   ]
  },
  {
   "cell_type": "code",
   "execution_count": null,
   "id": "2888a420-0530-4794-89bb-93a32a868071",
   "metadata": {},
   "outputs": [],
   "source": []
  },
  {
   "cell_type": "code",
   "execution_count": 7,
   "id": "242b76c6-9508-4b6f-b337-7753cf5c3978",
   "metadata": {},
   "outputs": [],
   "source": [
    "# Save in an object the 2 columns associated with diagnosis\n",
    "diagnosis = df[[\"primary diagnosis code\", \"primary diagnosis name\"]]"
   ]
  },
  {
   "cell_type": "code",
   "execution_count": 8,
   "id": "f9a4f3ac-29e9-4e4d-ba3e-7c6247627b83",
   "metadata": {},
   "outputs": [
    {
     "data": {
      "text/plain": [
       "primary diagnosis code          0\n",
       "primary diagnosis name    4970764\n",
       "dtype: int64"
      ]
     },
     "execution_count": 8,
     "metadata": {},
     "output_type": "execute_result"
    }
   ],
   "source": [
    "# There are not nan codes, so it is possible to assign a name to the nan values in \"primary diagnosis name\"\n",
    "diagnosis.isna().sum()"
   ]
  },
  {
   "cell_type": "code",
   "execution_count": 13,
   "id": "9689e25f-0f1f-4223-8561-f9c708cf860c",
   "metadata": {},
   "outputs": [],
   "source": [
    "# Step 2: Filter out rows where the name is None or NaN\n",
    "diagnosis = diagnosis[diagnosis[\"primary diagnosis name\"].notna()]"
   ]
  },
  {
   "cell_type": "code",
   "execution_count": 15,
   "id": "551cc405-f920-4a8d-8519-7e6056626848",
   "metadata": {},
   "outputs": [],
   "source": [
    "# Step 3: Normalize -> lowercase + remove accents\n",
    "diagnosis[\"name_clean\"] = diagnosis[\"primary diagnosis name\"].map(\n",
    "    lambda x: unidecode(x).lower()\n",
    ")"
   ]
  },
  {
   "cell_type": "code",
   "execution_count": 16,
   "id": "a7eb1d68-334c-4516-9c05-2479198d9f18",
   "metadata": {},
   "outputs": [],
   "source": [
    "# Step 4: Group by code and take the first normalized name\n",
    "first_valid = (\n",
    "    diagnosis.groupby(\"primary diagnosis code\")[\"name_clean\"]\n",
    "    .first()          # first value after grouping\n",
    "    .reset_index()\n",
    ")\n",
    "\n",
    "# Step 5: Build dictionary\n",
    "clean_dictionary = dict(\n",
    "    zip(first_valid[\"primary diagnosis code\"], first_valid[\"name_clean\"])\n",
    ")"
   ]
  },
  {
   "cell_type": "code",
   "execution_count": 17,
   "id": "9b1615a8-5f81-4c1b-b10c-c79f42df4fac",
   "metadata": {},
   "outputs": [],
   "source": [
    "replacement_series = df[\"primary diagnosis code\"].map(clean_dictionary)"
   ]
  },
  {
   "cell_type": "code",
   "execution_count": 18,
   "id": "53de0135-f1a8-4105-92fc-4dcb71cc6346",
   "metadata": {},
   "outputs": [],
   "source": [
    "df[\"primary diagnosis name\"] = df[\"primary diagnosis name\"].fillna(replacement_series)"
   ]
  },
  {
   "cell_type": "code",
   "execution_count": 23,
   "id": "2bf1fe64-f46d-4a2b-9517-8f47d52656e2",
   "metadata": {},
   "outputs": [
    {
     "data": {
      "text/plain": [
       "primary diagnosis code\n",
       "B04X    407\n",
       "U109    353\n",
       "U099    235\n",
       "A971     41\n",
       "U129     37\n",
       "A979     24\n",
       "A970     19\n",
       "L987     17\n",
       "P917      9\n",
       "e115      5\n",
       "A972      3\n",
       "G233      3\n",
       "z518      3\n",
       "C61x      2\n",
       "G835      2\n",
       "c498      2\n",
       "A309      2\n",
       "E502      2\n",
       "o998      2\n",
       "A803      1\n",
       "M493      1\n",
       "B550      1\n",
       "L652      1\n",
       "A798      1\n",
       "T674      1\n",
       "B600      1\n",
       "B050      1\n",
       "k819      1\n",
       "A288      1\n",
       "i660      1\n",
       "k409      1\n",
       "A304      1\n",
       "R452      1\n",
       "C20x      1\n",
       "j90x      1\n",
       "c795      1\n",
       "Q962      1\n",
       "d62x      1\n",
       "j81X      1\n",
       "k709      1\n",
       "Q987      1\n",
       "u071      1\n",
       "B355      1\n",
       "R894      1\n",
       "Name: count, dtype: int64"
      ]
     },
     "execution_count": 23,
     "metadata": {},
     "output_type": "execute_result"
    }
   ],
   "source": [
    "df[df[\"primary diagnosis name\"].isna()][\"primary diagnosis code\"].value_counts()"
   ]
  },
  {
   "cell_type": "code",
   "execution_count": 25,
   "id": "8aef368d-c78a-45a5-8408-0479cef959ce",
   "metadata": {},
   "outputs": [
    {
     "data": {
      "text/html": [
       "<div>\n",
       "<style scoped>\n",
       "    .dataframe tbody tr th:only-of-type {\n",
       "        vertical-align: middle;\n",
       "    }\n",
       "\n",
       "    .dataframe tbody tr th {\n",
       "        vertical-align: top;\n",
       "    }\n",
       "\n",
       "    .dataframe thead th {\n",
       "        text-align: right;\n",
       "    }\n",
       "</style>\n",
       "<table border=\"1\" class=\"dataframe\">\n",
       "  <thead>\n",
       "    <tr style=\"text-align: right;\">\n",
       "      <th></th>\n",
       "      <th>sex</th>\n",
       "      <th>age</th>\n",
       "      <th>health insurance</th>\n",
       "      <th>healthcare facility type</th>\n",
       "      <th>healthcare facility name</th>\n",
       "      <th>length of stay</th>\n",
       "      <th>discharge condition</th>\n",
       "      <th>primary diagnosis code</th>\n",
       "      <th>primary diagnosis name</th>\n",
       "      <th>year</th>\n",
       "    </tr>\n",
       "  </thead>\n",
       "  <tbody>\n",
       "  </tbody>\n",
       "</table>\n",
       "</div>"
      ],
      "text/plain": [
       "Empty DataFrame\n",
       "Columns: [sex, age, health insurance, healthcare facility type, healthcare facility name, length of stay, discharge condition, primary diagnosis code, primary diagnosis name, year]\n",
       "Index: []"
      ]
     },
     "execution_count": 25,
     "metadata": {},
     "output_type": "execute_result"
    }
   ],
   "source": [
    "df[(df[\"primary diagnosis code\"] == \"B04X\") & (df[\"primary diagnosis name\"].notna())]"
   ]
  },
  {
   "cell_type": "code",
   "execution_count": 27,
   "id": "366fb18b-196b-4711-8c70-e76936c8af5c",
   "metadata": {},
   "outputs": [],
   "source": [
    "condition = (df[\"primary diagnosis code\"] == \"B04X\") & (df[\"primary diagnosis name\"].isna())\n",
    "df.loc[condition, \"primary diagnosis name\"] = \"viruela de los monos\""
   ]
  },
  {
   "cell_type": "code",
   "execution_count": 29,
   "id": "46ce530f-a88c-425a-91eb-460490d2c523",
   "metadata": {},
   "outputs": [],
   "source": [
    "df = df[df[\"primary diagnosis name\"].notna()]"
   ]
  },
  {
   "cell_type": "code",
   "execution_count": 39,
   "id": "fd8a8e49-e08b-4318-8ac1-c420095e4b4c",
   "metadata": {},
   "outputs": [],
   "source": [
    "df[\"primary diagnosis name\"] = df[\"primary diagnosis name\"].apply(lambda x : x.lower())"
   ]
  },
  {
   "cell_type": "code",
   "execution_count": 45,
   "id": "2e0575a8-5b74-4359-bb32-1e503f8c7d39",
   "metadata": {},
   "outputs": [
    {
     "name": "stdout",
     "output_type": "stream",
     "text": [
      "Number of codes with multiple names: 1999\n",
      "     primary diagnosis code                             primary diagnosis name\n",
      "0                      A000  [cólera debido a vibrio cholerae o1, biotipo c...\n",
      "1                      A009  [cólera, no especificado, colera, no especific...\n",
      "11                     A029  [infección debida a salmonella, no especificad...\n",
      "18                     A040  [infeccion debida a escherichia coli enteropat...\n",
      "28                     A050  [intoxicación alimentaria estafilocócica, into...\n",
      "...                     ...                                                ...\n",
      "8405                   Z965  [presencia de implante de raíz de diente y de ...\n",
      "8406                   Z966  [presencia de implante ortopédico articular, p...\n",
      "8415                   Z980  [estado de derivación intestinal o anastomosis...\n",
      "8421                   Z992  [dependencia de diálisis renal, dependencia de...\n",
      "8425                   Z999  [dependencia de máquina y dispositivo capacita...\n",
      "\n",
      "[1999 rows x 2 columns]\n"
     ]
    }
   ],
   "source": [
    "# Group by code and get the unique names per code\n",
    "conflict_check = (\n",
    "    df.groupby(\"primary diagnosis code\")[\"primary diagnosis name\"]\n",
    "    .unique()\n",
    "    .reset_index()\n",
    ")\n",
    "\n",
    "# Keep only codes with more than one unique name\n",
    "conflict_check = conflict_check[\n",
    "    conflict_check[\"primary diagnosis name\"].apply(lambda x: len(x) > 1)\n",
    "]\n",
    "\n",
    "# Show the result\n",
    "print(f\"Number of codes with multiple names: {len(conflict_check)}\")\n",
    "print(conflict_check)\n",
    "\n",
    "conflict_check.to_excel(\"final_conflict_check.xlsx\")"
   ]
  },
  {
   "cell_type": "code",
   "execution_count": null,
   "id": "0e157c57-7712-48ef-a00d-b9c1d8941529",
   "metadata": {},
   "outputs": [],
   "source": []
  },
  {
   "cell_type": "code",
   "execution_count": null,
   "id": "7c537052-110f-4479-a8ba-cec32eb778b2",
   "metadata": {},
   "outputs": [],
   "source": []
  },
  {
   "cell_type": "code",
   "execution_count": 7,
   "id": "6f565885-591d-4fd2-aceb-20e31f98646c",
   "metadata": {},
   "outputs": [
    {
     "data": {
      "text/plain": [
       "Sex\n",
       "Mujer     14975668\n",
       "Hombre    10847713\n",
       "Name: count, dtype: int64"
      ]
     },
     "execution_count": 7,
     "metadata": {},
     "output_type": "execute_result"
    }
   ],
   "source": [
    "df[\"Sex\"].value_counts()"
   ]
  },
  {
   "cell_type": "code",
   "execution_count": 28,
   "id": "687e7e8a-c75c-4a7a-9022-76c7edd21e71",
   "metadata": {},
   "outputs": [
    {
     "data": {
      "text/plain": [
       "(25823381, 10)"
      ]
     },
     "execution_count": 28,
     "metadata": {},
     "output_type": "execute_result"
    }
   ],
   "source": [
    "df.shape"
   ]
  },
  {
   "cell_type": "code",
   "execution_count": 30,
   "id": "8cb099e4-a8a2-4646-958e-77205d73e441",
   "metadata": {},
   "outputs": [
    {
     "name": "stdout",
     "output_type": "stream",
     "text": [
      "<class 'pandas.core.frame.DataFrame'>\n",
      "RangeIndex: 25823381 entries, 0 to 25823380\n",
      "Data columns (total 10 columns):\n",
      " #   Column                    Dtype   \n",
      "---  ------                    -----   \n",
      " 0   Sex                       object  \n",
      " 1   Age                       int32   \n",
      " 2   Health insurance          category\n",
      " 3   Healthcare facility type  category\n",
      " 4   Healthcare facility name  object  \n",
      " 5   Length of stay            int32   \n",
      " 6   Discharge condition       category\n",
      " 7   Primary diagnosis code    object  \n",
      " 8   Primary diagnosis name    object  \n",
      " 9   Year                      int64   \n",
      "dtypes: category(3), int32(2), int64(1), object(4)\n",
      "memory usage: 1.2+ GB\n"
     ]
    }
   ],
   "source": [
    "df.info()"
   ]
  },
  {
   "cell_type": "code",
   "execution_count": 32,
   "id": "2e143a09-451e-4e7f-9a2d-cf6b0694b06f",
   "metadata": {},
   "outputs": [
    {
     "data": {
      "text/html": [
       "<div>\n",
       "<style scoped>\n",
       "    .dataframe tbody tr th:only-of-type {\n",
       "        vertical-align: middle;\n",
       "    }\n",
       "\n",
       "    .dataframe tbody tr th {\n",
       "        vertical-align: top;\n",
       "    }\n",
       "\n",
       "    .dataframe thead th {\n",
       "        text-align: right;\n",
       "    }\n",
       "</style>\n",
       "<table border=\"1\" class=\"dataframe\">\n",
       "  <thead>\n",
       "    <tr style=\"text-align: right;\">\n",
       "      <th></th>\n",
       "      <th>Age</th>\n",
       "      <th>Length of stay</th>\n",
       "      <th>Year</th>\n",
       "    </tr>\n",
       "  </thead>\n",
       "  <tbody>\n",
       "    <tr>\n",
       "      <th>count</th>\n",
       "      <td>2.582338e+07</td>\n",
       "      <td>2.582338e+07</td>\n",
       "      <td>2.582338e+07</td>\n",
       "    </tr>\n",
       "    <tr>\n",
       "      <th>mean</th>\n",
       "      <td>3.929132e+01</td>\n",
       "      <td>6.026175e+00</td>\n",
       "      <td>2.010925e+03</td>\n",
       "    </tr>\n",
       "    <tr>\n",
       "      <th>std</th>\n",
       "      <td>2.494052e+01</td>\n",
       "      <td>5.566398e+01</td>\n",
       "      <td>5.287845e+00</td>\n",
       "    </tr>\n",
       "    <tr>\n",
       "      <th>min</th>\n",
       "      <td>0.000000e+00</td>\n",
       "      <td>1.000000e+00</td>\n",
       "      <td>2.001000e+03</td>\n",
       "    </tr>\n",
       "    <tr>\n",
       "      <th>25%</th>\n",
       "      <td>2.000000e+01</td>\n",
       "      <td>1.000000e+00</td>\n",
       "      <td>2.007000e+03</td>\n",
       "    </tr>\n",
       "    <tr>\n",
       "      <th>50%</th>\n",
       "      <td>3.600000e+01</td>\n",
       "      <td>3.000000e+00</td>\n",
       "      <td>2.011000e+03</td>\n",
       "    </tr>\n",
       "    <tr>\n",
       "      <th>75%</th>\n",
       "      <td>6.000000e+01</td>\n",
       "      <td>6.000000e+00</td>\n",
       "      <td>2.015000e+03</td>\n",
       "    </tr>\n",
       "    <tr>\n",
       "      <th>max</th>\n",
       "      <td>1.210000e+02</td>\n",
       "      <td>3.245200e+04</td>\n",
       "      <td>2.020000e+03</td>\n",
       "    </tr>\n",
       "  </tbody>\n",
       "</table>\n",
       "</div>"
      ],
      "text/plain": [
       "                Age  Length of stay          Year\n",
       "count  2.582338e+07    2.582338e+07  2.582338e+07\n",
       "mean   3.929132e+01    6.026175e+00  2.010925e+03\n",
       "std    2.494052e+01    5.566398e+01  5.287845e+00\n",
       "min    0.000000e+00    1.000000e+00  2.001000e+03\n",
       "25%    2.000000e+01    1.000000e+00  2.007000e+03\n",
       "50%    3.600000e+01    3.000000e+00  2.011000e+03\n",
       "75%    6.000000e+01    6.000000e+00  2.015000e+03\n",
       "max    1.210000e+02    3.245200e+04  2.020000e+03"
      ]
     },
     "execution_count": 32,
     "metadata": {},
     "output_type": "execute_result"
    }
   ],
   "source": [
    "df.describe()"
   ]
  },
  {
   "cell_type": "markdown",
   "id": "29ccb881-d8a0-4051-a907-deb7523aae85",
   "metadata": {},
   "source": [
    "# Univariate analysis"
   ]
  },
  {
   "cell_type": "code",
   "execution_count": null,
   "id": "33c3c617-9e3c-449c-a23f-b69328e9a9e2",
   "metadata": {},
   "outputs": [],
   "source": [
    "Caracteristicas individuales:\n",
    "1. Sexo\n",
    "2. Edad\n",
    "3. Previsión o seguro de salud"
   ]
  },
  {
   "cell_type": "markdown",
   "id": "5a03223b-7609-472e-9e15-872306792041",
   "metadata": {},
   "source": [
    "# Bivariate and Multivariate Analysis"
   ]
  },
  {
   "cell_type": "markdown",
   "id": "c6a09a88-2e82-4c4b-8861-8f9da28ecfb2",
   "metadata": {},
   "source": [
    "# Guiding Questions"
   ]
  },
  {
   "cell_type": "markdown",
   "id": "1f7fb4be-bdae-449a-9377-01b5b5d32efb",
   "metadata": {},
   "source": [
    "# Visualizations"
   ]
  },
  {
   "cell_type": "markdown",
   "id": "bce25083-b001-4927-829f-f50e206ce887",
   "metadata": {},
   "source": [
    "# Insights and questions"
   ]
  },
  {
   "cell_type": "markdown",
   "id": "d8b98362-b6e3-450e-8d20-159d16d6c129",
   "metadata": {},
   "source": [
    "1. How the distribution of the data is affected if healthy newborns are not considered in the analysis?"
   ]
  },
  {
   "cell_type": "code",
   "execution_count": 40,
   "id": "4c7a77e8-f9cb-4db3-9f9d-01f582223086",
   "metadata": {},
   "outputs": [
    {
     "data": {
      "text/plain": [
       "Index(['Sex', 'Age', 'Health insurance', 'Healthcare facility type',\n",
       "       'Healthcare facility name', 'Length of stay', 'Discharge condition',\n",
       "       'Primary diagnosis code', 'Primary diagnosis name', 'Year'],\n",
       "      dtype='object')"
      ]
     },
     "execution_count": 40,
     "metadata": {},
     "output_type": "execute_result"
    }
   ],
   "source": [
    "df.columns"
   ]
  },
  {
   "cell_type": "code",
   "execution_count": null,
   "id": "1c068a70-11ca-4697-9251-9f1b031f2da3",
   "metadata": {},
   "outputs": [],
   "source": []
  }
 ],
 "metadata": {
  "kernelspec": {
   "display_name": "Python 3 (ipykernel)",
   "language": "python",
   "name": "python3"
  },
  "language_info": {
   "codemirror_mode": {
    "name": "ipython",
    "version": 3
   },
   "file_extension": ".py",
   "mimetype": "text/x-python",
   "name": "python",
   "nbconvert_exporter": "python",
   "pygments_lexer": "ipython3",
   "version": "3.12.4"
  }
 },
 "nbformat": 4,
 "nbformat_minor": 5
}
