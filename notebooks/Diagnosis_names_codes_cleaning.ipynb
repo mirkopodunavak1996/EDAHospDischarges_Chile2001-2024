{
 "cells": [
  {
   "cell_type": "markdown",
   "id": "d91cf0a4-ddc2-442e-bd87-65c4aebeb6f9",
   "metadata": {},
   "source": [
    "# Libraries and Data importation"
   ]
  },
  {
   "cell_type": "code",
   "execution_count": 2,
   "id": "731074ac-dd86-4c11-b449-5ad7863aec7a",
   "metadata": {},
   "outputs": [],
   "source": [
    "import pandas as pd\n",
    "import numpy as np\n",
    "import matplotlib.pyplot as plt\n",
    "import seaborn as sns"
   ]
  },
  {
   "cell_type": "code",
   "execution_count": 3,
   "id": "c1d56582-8afa-47d5-80d7-67d392588e45",
   "metadata": {},
   "outputs": [],
   "source": [
    "from unidecode import unidecode"
   ]
  },
  {
   "cell_type": "markdown",
   "id": "d84662c2-00be-4a40-9544-0c7ccc2286c1",
   "metadata": {},
   "source": [
    "# General view of the data"
   ]
  },
  {
   "cell_type": "code",
   "execution_count": 61,
   "id": "62458c14-55bb-4aa6-ba9a-318299904782",
   "metadata": {},
   "outputs": [
    {
     "ename": "ArrowMemoryError",
     "evalue": "malloc of size 103038144 failed",
     "output_type": "error",
     "traceback": [
      "\u001b[1;31m---------------------------------------------------------------------------\u001b[0m",
      "\u001b[1;31mArrowMemoryError\u001b[0m                          Traceback (most recent call last)",
      "Cell \u001b[1;32mIn[61], line 2\u001b[0m\n\u001b[0;32m      1\u001b[0m \u001b[38;5;66;03m# Importing data from 2001 to 2024 but diagnosis names are missing for data from 2021 to 2024\u001b[39;00m\n\u001b[1;32m----> 2\u001b[0m df \u001b[38;5;241m=\u001b[39m pd\u001b[38;5;241m.\u001b[39mread_parquet(\u001b[38;5;124mr\u001b[39m\u001b[38;5;124m\"\u001b[39m\u001b[38;5;124mC:\u001b[39m\u001b[38;5;124m\\\u001b[39m\u001b[38;5;124mUsers\u001b[39m\u001b[38;5;124m\\\u001b[39m\u001b[38;5;124mmirko\u001b[39m\u001b[38;5;124m\\\u001b[39m\u001b[38;5;124mDesktop\u001b[39m\u001b[38;5;124m\\\u001b[39m\u001b[38;5;124mCurso Data Science DL\u001b[39m\u001b[38;5;124m\\\u001b[39m\u001b[38;5;124mEDAHospDischarges_Chile2001-2024\u001b[39m\u001b[38;5;124m\\\u001b[39m\u001b[38;5;124mdata\u001b[39m\u001b[38;5;124m\\\u001b[39m\u001b[38;5;124mprocessed\u001b[39m\u001b[38;5;124m\\\u001b[39m\u001b[38;5;124mDischarges_2001-2024_messy_codes.parquet\u001b[39m\u001b[38;5;124m\"\u001b[39m)\n",
      "File \u001b[1;32m~\\anaconda3\\Lib\\site-packages\\pandas\\io\\parquet.py:667\u001b[0m, in \u001b[0;36mread_parquet\u001b[1;34m(path, engine, columns, storage_options, use_nullable_dtypes, dtype_backend, filesystem, filters, **kwargs)\u001b[0m\n\u001b[0;32m    664\u001b[0m     use_nullable_dtypes \u001b[38;5;241m=\u001b[39m \u001b[38;5;28;01mFalse\u001b[39;00m\n\u001b[0;32m    665\u001b[0m check_dtype_backend(dtype_backend)\n\u001b[1;32m--> 667\u001b[0m \u001b[38;5;28;01mreturn\u001b[39;00m impl\u001b[38;5;241m.\u001b[39mread(\n\u001b[0;32m    668\u001b[0m     path,\n\u001b[0;32m    669\u001b[0m     columns\u001b[38;5;241m=\u001b[39mcolumns,\n\u001b[0;32m    670\u001b[0m     filters\u001b[38;5;241m=\u001b[39mfilters,\n\u001b[0;32m    671\u001b[0m     storage_options\u001b[38;5;241m=\u001b[39mstorage_options,\n\u001b[0;32m    672\u001b[0m     use_nullable_dtypes\u001b[38;5;241m=\u001b[39muse_nullable_dtypes,\n\u001b[0;32m    673\u001b[0m     dtype_backend\u001b[38;5;241m=\u001b[39mdtype_backend,\n\u001b[0;32m    674\u001b[0m     filesystem\u001b[38;5;241m=\u001b[39mfilesystem,\n\u001b[0;32m    675\u001b[0m     \u001b[38;5;241m*\u001b[39m\u001b[38;5;241m*\u001b[39mkwargs,\n\u001b[0;32m    676\u001b[0m )\n",
      "File \u001b[1;32m~\\anaconda3\\Lib\\site-packages\\pandas\\io\\parquet.py:281\u001b[0m, in \u001b[0;36mPyArrowImpl.read\u001b[1;34m(self, path, columns, filters, use_nullable_dtypes, dtype_backend, storage_options, filesystem, **kwargs)\u001b[0m\n\u001b[0;32m    273\u001b[0m \u001b[38;5;28;01mtry\u001b[39;00m:\n\u001b[0;32m    274\u001b[0m     pa_table \u001b[38;5;241m=\u001b[39m \u001b[38;5;28mself\u001b[39m\u001b[38;5;241m.\u001b[39mapi\u001b[38;5;241m.\u001b[39mparquet\u001b[38;5;241m.\u001b[39mread_table(\n\u001b[0;32m    275\u001b[0m         path_or_handle,\n\u001b[0;32m    276\u001b[0m         columns\u001b[38;5;241m=\u001b[39mcolumns,\n\u001b[1;32m   (...)\u001b[0m\n\u001b[0;32m    279\u001b[0m         \u001b[38;5;241m*\u001b[39m\u001b[38;5;241m*\u001b[39mkwargs,\n\u001b[0;32m    280\u001b[0m     )\n\u001b[1;32m--> 281\u001b[0m     result \u001b[38;5;241m=\u001b[39m pa_table\u001b[38;5;241m.\u001b[39mto_pandas(\u001b[38;5;241m*\u001b[39m\u001b[38;5;241m*\u001b[39mto_pandas_kwargs)\n\u001b[0;32m    283\u001b[0m     \u001b[38;5;28;01mif\u001b[39;00m manager \u001b[38;5;241m==\u001b[39m \u001b[38;5;124m\"\u001b[39m\u001b[38;5;124marray\u001b[39m\u001b[38;5;124m\"\u001b[39m:\n\u001b[0;32m    284\u001b[0m         result \u001b[38;5;241m=\u001b[39m result\u001b[38;5;241m.\u001b[39m_as_manager(\u001b[38;5;124m\"\u001b[39m\u001b[38;5;124marray\u001b[39m\u001b[38;5;124m\"\u001b[39m, copy\u001b[38;5;241m=\u001b[39m\u001b[38;5;28;01mFalse\u001b[39;00m)\n",
      "File \u001b[1;32m~\\anaconda3\\Lib\\site-packages\\pyarrow\\array.pxi:884\u001b[0m, in \u001b[0;36mpyarrow.lib._PandasConvertible.to_pandas\u001b[1;34m()\u001b[0m\n",
      "File \u001b[1;32m~\\anaconda3\\Lib\\site-packages\\pyarrow\\table.pxi:4192\u001b[0m, in \u001b[0;36mpyarrow.lib.Table._to_pandas\u001b[1;34m()\u001b[0m\n",
      "File \u001b[1;32m~\\anaconda3\\Lib\\site-packages\\pyarrow\\pandas_compat.py:776\u001b[0m, in \u001b[0;36mtable_to_dataframe\u001b[1;34m(options, table, categories, ignore_metadata, types_mapper)\u001b[0m\n\u001b[0;32m    774\u001b[0m _check_data_column_metadata_consistency(all_columns)\n\u001b[0;32m    775\u001b[0m columns \u001b[38;5;241m=\u001b[39m _deserialize_column_index(table, all_columns, column_indexes)\n\u001b[1;32m--> 776\u001b[0m blocks \u001b[38;5;241m=\u001b[39m _table_to_blocks(options, table, categories, ext_columns_dtypes)\n\u001b[0;32m    778\u001b[0m axes \u001b[38;5;241m=\u001b[39m [columns, index]\n\u001b[0;32m    779\u001b[0m mgr \u001b[38;5;241m=\u001b[39m BlockManager(blocks, axes)\n",
      "File \u001b[1;32m~\\anaconda3\\Lib\\site-packages\\pyarrow\\pandas_compat.py:1129\u001b[0m, in \u001b[0;36m_table_to_blocks\u001b[1;34m(options, block_table, categories, extension_columns)\u001b[0m\n\u001b[0;32m   1124\u001b[0m \u001b[38;5;28;01mdef\u001b[39;00m \u001b[38;5;21m_table_to_blocks\u001b[39m(options, block_table, categories, extension_columns):\n\u001b[0;32m   1125\u001b[0m     \u001b[38;5;66;03m# Part of table_to_blockmanager\u001b[39;00m\n\u001b[0;32m   1126\u001b[0m \n\u001b[0;32m   1127\u001b[0m     \u001b[38;5;66;03m# Convert an arrow table to Block from the internal pandas API\u001b[39;00m\n\u001b[0;32m   1128\u001b[0m     columns \u001b[38;5;241m=\u001b[39m block_table\u001b[38;5;241m.\u001b[39mcolumn_names\n\u001b[1;32m-> 1129\u001b[0m     result \u001b[38;5;241m=\u001b[39m pa\u001b[38;5;241m.\u001b[39mlib\u001b[38;5;241m.\u001b[39mtable_to_blocks(options, block_table, categories,\n\u001b[0;32m   1130\u001b[0m                                     \u001b[38;5;28mlist\u001b[39m(extension_columns\u001b[38;5;241m.\u001b[39mkeys()))\n\u001b[0;32m   1131\u001b[0m     \u001b[38;5;28;01mreturn\u001b[39;00m [_reconstruct_block(item, columns, extension_columns)\n\u001b[0;32m   1132\u001b[0m             \u001b[38;5;28;01mfor\u001b[39;00m item \u001b[38;5;129;01min\u001b[39;00m result]\n",
      "File \u001b[1;32m~\\anaconda3\\Lib\\site-packages\\pyarrow\\table.pxi:3115\u001b[0m, in \u001b[0;36mpyarrow.lib.table_to_blocks\u001b[1;34m()\u001b[0m\n",
      "File \u001b[1;32m~\\anaconda3\\Lib\\site-packages\\pyarrow\\error.pxi:91\u001b[0m, in \u001b[0;36mpyarrow.lib.check_status\u001b[1;34m()\u001b[0m\n",
      "\u001b[1;31mArrowMemoryError\u001b[0m: malloc of size 103038144 failed"
     ]
    }
   ],
   "source": [
    "# Importing data from 2001 to 2024 but diagnosis names are missing for data from 2021 to 2024\n",
    "df = pd.read_parquet(r\"C:\\Users\\mirko\\Desktop\\Curso Data Science DL\\EDAHospDischarges_Chile2001-2024\\data\\processed\\Discharges_2001-2024_messy_codes.parquet\")"
   ]
  },
  {
   "cell_type": "code",
   "execution_count": 65,
   "id": "8bef4c10-6f2b-4167-a79b-c8beee47288b",
   "metadata": {},
   "outputs": [
    {
     "data": {
      "text/html": [
       "<div>\n",
       "<style scoped>\n",
       "    .dataframe tbody tr th:only-of-type {\n",
       "        vertical-align: middle;\n",
       "    }\n",
       "\n",
       "    .dataframe tbody tr th {\n",
       "        vertical-align: top;\n",
       "    }\n",
       "\n",
       "    .dataframe thead th {\n",
       "        text-align: right;\n",
       "    }\n",
       "</style>\n",
       "<table border=\"1\" class=\"dataframe\">\n",
       "  <thead>\n",
       "    <tr style=\"text-align: right;\">\n",
       "      <th></th>\n",
       "      <th>sex</th>\n",
       "      <th>age</th>\n",
       "      <th>health insurance</th>\n",
       "      <th>healthcare facility type</th>\n",
       "      <th>healthcare facility name</th>\n",
       "      <th>length of stay</th>\n",
       "      <th>discharge condition</th>\n",
       "      <th>primary diagnosis code</th>\n",
       "      <th>primary diagnosis name</th>\n",
       "      <th>year</th>\n",
       "    </tr>\n",
       "  </thead>\n",
       "  <tbody>\n",
       "    <tr>\n",
       "      <th>0</th>\n",
       "      <td>Hombre</td>\n",
       "      <td>[60, 69]</td>\n",
       "      <td>Fonasa</td>\n",
       "      <td>Privado</td>\n",
       "      <td>Clínica Familia</td>\n",
       "      <td>2</td>\n",
       "      <td>Muerto</td>\n",
       "      <td>C780</td>\n",
       "      <td>tumor maligno secundario del pulmon</td>\n",
       "      <td>2001</td>\n",
       "    </tr>\n",
       "    <tr>\n",
       "      <th>1</th>\n",
       "      <td>Hombre</td>\n",
       "      <td>[70, 79]</td>\n",
       "      <td>Fonasa</td>\n",
       "      <td>Publico</td>\n",
       "      <td>Hospital Del Salvador (Santiago, Providencia)</td>\n",
       "      <td>58</td>\n",
       "      <td>Muerto</td>\n",
       "      <td>E145</td>\n",
       "      <td>diabetes mellitus no especificada, con complic...</td>\n",
       "      <td>2001</td>\n",
       "    </tr>\n",
       "    <tr>\n",
       "      <th>2</th>\n",
       "      <td>Hombre</td>\n",
       "      <td>[70, 79]</td>\n",
       "      <td>Fonasa</td>\n",
       "      <td>Publico</td>\n",
       "      <td>Hospital Del Salvador (Santiago, Providencia)</td>\n",
       "      <td>12</td>\n",
       "      <td>Muerto</td>\n",
       "      <td>J189</td>\n",
       "      <td>neumonia, no especificada</td>\n",
       "      <td>2001</td>\n",
       "    </tr>\n",
       "    <tr>\n",
       "      <th>3</th>\n",
       "      <td>Hombre</td>\n",
       "      <td>[1, 9]</td>\n",
       "      <td>Fonasa</td>\n",
       "      <td>Publico</td>\n",
       "      <td>Instituto de Neurocirugía Dr. Alfonso Asenjo</td>\n",
       "      <td>1</td>\n",
       "      <td>Muerto</td>\n",
       "      <td>S065</td>\n",
       "      <td>hemorragia subdural traumatica</td>\n",
       "      <td>2001</td>\n",
       "    </tr>\n",
       "    <tr>\n",
       "      <th>4</th>\n",
       "      <td>Hombre</td>\n",
       "      <td>[80, 120]</td>\n",
       "      <td>Fonasa</td>\n",
       "      <td>Publico</td>\n",
       "      <td>Hospital Dr. Leonardo Guzmán (Antofagasta)</td>\n",
       "      <td>7</td>\n",
       "      <td>Vivo</td>\n",
       "      <td>K830</td>\n",
       "      <td>colangitis</td>\n",
       "      <td>2001</td>\n",
       "    </tr>\n",
       "  </tbody>\n",
       "</table>\n",
       "</div>"
      ],
      "text/plain": [
       "      sex        age health insurance healthcare facility type  \\\n",
       "0  Hombre   [60, 69]           Fonasa                  Privado   \n",
       "1  Hombre   [70, 79]           Fonasa                  Publico   \n",
       "2  Hombre   [70, 79]           Fonasa                  Publico   \n",
       "3  Hombre     [1, 9]           Fonasa                  Publico   \n",
       "4  Hombre  [80, 120]           Fonasa                  Publico   \n",
       "\n",
       "                        healthcare facility name  length of stay  \\\n",
       "0                               Clínica Familia                2   \n",
       "1  Hospital Del Salvador (Santiago, Providencia)              58   \n",
       "2  Hospital Del Salvador (Santiago, Providencia)              12   \n",
       "3   Instituto de Neurocirugía Dr. Alfonso Asenjo               1   \n",
       "4     Hospital Dr. Leonardo Guzmán (Antofagasta)               7   \n",
       "\n",
       "  discharge condition primary diagnosis code  \\\n",
       "0              Muerto                   C780   \n",
       "1              Muerto                   E145   \n",
       "2              Muerto                   J189   \n",
       "3              Muerto                   S065   \n",
       "4                Vivo                   K830   \n",
       "\n",
       "                              primary diagnosis name  year  \n",
       "0                tumor maligno secundario del pulmon  2001  \n",
       "1  diabetes mellitus no especificada, con complic...  2001  \n",
       "2                          neumonia, no especificada  2001  \n",
       "3                     hemorragia subdural traumatica  2001  \n",
       "4                                         colangitis  2001  "
      ]
     },
     "execution_count": 65,
     "metadata": {},
     "output_type": "execute_result"
    }
   ],
   "source": [
    "df.head()"
   ]
  },
  {
   "cell_type": "code",
   "execution_count": 67,
   "id": "673e2c5d-1986-4b53-837b-9a215e54d643",
   "metadata": {},
   "outputs": [
    {
     "name": "stdout",
     "output_type": "stream",
     "text": [
      "<class 'pandas.core.frame.DataFrame'>\n",
      "Index: 25758741 entries, 0 to 25759528\n",
      "Data columns (total 10 columns):\n",
      " #   Column                    Dtype   \n",
      "---  ------                    -----   \n",
      " 0   sex                       category\n",
      " 1   age                       object  \n",
      " 2   health insurance          category\n",
      " 3   healthcare facility type  category\n",
      " 4   healthcare facility name  object  \n",
      " 5   length of stay            int32   \n",
      " 6   discharge condition       category\n",
      " 7   primary diagnosis code    object  \n",
      " 8   primary diagnosis name    object  \n",
      " 9   year                      int32   \n",
      "dtypes: category(4), int32(2), object(4)\n",
      "memory usage: 1.2+ GB\n"
     ]
    }
   ],
   "source": [
    "df.info()"
   ]
  },
  {
   "cell_type": "code",
   "execution_count": 69,
   "id": "94c5cd37-e9a3-449a-a731-84528d5576ce",
   "metadata": {},
   "outputs": [
    {
     "data": {
      "text/plain": [
       "sex                         0\n",
       "age                         0\n",
       "health insurance            0\n",
       "healthcare facility type    0\n",
       "healthcare facility name    0\n",
       "length of stay              0\n",
       "discharge condition         0\n",
       "primary diagnosis code      0\n",
       "primary diagnosis name      0\n",
       "year                        0\n",
       "dtype: int64"
      ]
     },
     "execution_count": 69,
     "metadata": {},
     "output_type": "execute_result"
    }
   ],
   "source": [
    "# Diagnosis names are missing for data from 2021 to 2024\n",
    "# Healthcare facility name is missing in data from 2021 to 2024, so it will be replaced for \"Unknown\"\n",
    "df.isna().sum()"
   ]
  },
  {
   "cell_type": "markdown",
   "id": "bd739feb-2283-49fa-ad07-059215c9e309",
   "metadata": {},
   "source": [
    "# Primary diagnosis names and codes cleaning"
   ]
  },
  {
   "cell_type": "code",
   "execution_count": 10,
   "id": "2888a420-0530-4794-89bb-93a32a868071",
   "metadata": {},
   "outputs": [],
   "source": [
    "# To normalize strings they are turned to lower case and accents and unexpected whitespaces are deleted\n",
    "df[\"primary diagnosis name\"] = df[\"primary diagnosis name\"].map(\n",
    "    lambda x: unidecode(x).lower().strip() if isinstance(x, str) else x\n",
    ")\n"
   ]
  },
  {
   "cell_type": "code",
   "execution_count": 11,
   "id": "242b76c6-9508-4b6f-b337-7753cf5c3978",
   "metadata": {},
   "outputs": [],
   "source": [
    "# Step 1: Save in an object the 2 columns associated with diagnosis\n",
    "diagnosis = df[[\"primary diagnosis code\", \"primary diagnosis name\"]].copy()"
   ]
  },
  {
   "cell_type": "code",
   "execution_count": 12,
   "id": "f9a4f3ac-29e9-4e4d-ba3e-7c6247627b83",
   "metadata": {},
   "outputs": [
    {
     "data": {
      "text/plain": [
       "primary diagnosis code          0\n",
       "primary diagnosis name    4970764\n",
       "dtype: int64"
      ]
     },
     "execution_count": 12,
     "metadata": {},
     "output_type": "execute_result"
    }
   ],
   "source": [
    "# There are not nan codes, so it is possible to assign a name to the nan values in \"primary diagnosis name\"\n",
    "diagnosis.isna().sum()"
   ]
  },
  {
   "cell_type": "code",
   "execution_count": 13,
   "id": "9689e25f-0f1f-4223-8561-f9c708cf860c",
   "metadata": {},
   "outputs": [],
   "source": [
    "# Step 2: Filter out rows where the name is None or NaN\n",
    "diagnosis = diagnosis[diagnosis[\"primary diagnosis name\"].notna()]"
   ]
  },
  {
   "cell_type": "code",
   "execution_count": 14,
   "id": "310d03aa-6ab7-4e73-93b2-ad4e114a2bc6",
   "metadata": {},
   "outputs": [],
   "source": [
    "# A new column is created with only valid diangosis names\n",
    "diagnosis[\"name_clean\"] = diagnosis[\"primary diagnosis name\"]"
   ]
  },
  {
   "cell_type": "code",
   "execution_count": 15,
   "id": "a7eb1d68-334c-4516-9c05-2479198d9f18",
   "metadata": {},
   "outputs": [],
   "source": [
    "# Step 3: Group by code and take the first normalized name\n",
    "first_valid = (\n",
    "    diagnosis.groupby(\"primary diagnosis code\")[\"name_clean\"]\n",
    "    .first()          # first value after grouping\n",
    "    .reset_index()\n",
    ")\n",
    "\n",
    "# Step 4: Build dictionary\n",
    "clean_dictionary = dict(\n",
    "    zip(first_valid[\"primary diagnosis code\"], first_valid[\"name_clean\"])\n",
    ")"
   ]
  },
  {
   "cell_type": "code",
   "execution_count": 16,
   "id": "9b1615a8-5f81-4c1b-b10c-c79f42df4fac",
   "metadata": {},
   "outputs": [],
   "source": [
    "# Step 5: vectorization to map names with the corresponding code in the dictionary and create a series with them to replace NaN names\n",
    "replacement_series = df[\"primary diagnosis code\"].map(clean_dictionary)"
   ]
  },
  {
   "cell_type": "code",
   "execution_count": 17,
   "id": "53de0135-f1a8-4105-92fc-4dcb71cc6346",
   "metadata": {},
   "outputs": [],
   "source": [
    "# Fill NaN names with the corresponding one depending on its diagnosis code for each row\n",
    "df[\"primary diagnosis name\"] = df[\"primary diagnosis name\"].fillna(replacement_series)"
   ]
  },
  {
   "cell_type": "code",
   "execution_count": 18,
   "id": "2bf1fe64-f46d-4a2b-9517-8f47d52656e2",
   "metadata": {},
   "outputs": [
    {
     "data": {
      "text/plain": [
       "primary diagnosis code\n",
       "B04X    407\n",
       "U109    353\n",
       "U099    235\n",
       "A971     41\n",
       "U129     37\n",
       "A979     24\n",
       "A970     19\n",
       "L987     17\n",
       "P917      9\n",
       "e115      5\n",
       "A972      3\n",
       "G233      3\n",
       "z518      3\n",
       "C61x      2\n",
       "G835      2\n",
       "c498      2\n",
       "A309      2\n",
       "E502      2\n",
       "o998      2\n",
       "A803      1\n",
       "M493      1\n",
       "B550      1\n",
       "L652      1\n",
       "A798      1\n",
       "T674      1\n",
       "B600      1\n",
       "B050      1\n",
       "k819      1\n",
       "A288      1\n",
       "i660      1\n",
       "k409      1\n",
       "A304      1\n",
       "R452      1\n",
       "C20x      1\n",
       "j90x      1\n",
       "c795      1\n",
       "Q962      1\n",
       "d62x      1\n",
       "j81X      1\n",
       "k709      1\n",
       "Q987      1\n",
       "u071      1\n",
       "B355      1\n",
       "R894      1\n",
       "Name: count, dtype: int64"
      ]
     },
     "execution_count": 18,
     "metadata": {},
     "output_type": "execute_result"
    }
   ],
   "source": [
    "# Still there are codes without a name in the dictionary. That possibly means that the diagnosis was not present until 2021\n",
    "# Other option is the glossary (which is considering until year 2020) was not considering new diangosis codes yet (which is the case for U109 and U099)\n",
    "# Only B04X will be replaced manually due to its high frequency adnt he rest deleted from the dataframe\n",
    "df[df[\"primary diagnosis name\"].isna()][\"primary diagnosis code\"].value_counts()"
   ]
  },
  {
   "cell_type": "code",
   "execution_count": 19,
   "id": "8aef368d-c78a-45a5-8408-0479cef959ce",
   "metadata": {},
   "outputs": [
    {
     "data": {
      "text/html": [
       "<div>\n",
       "<style scoped>\n",
       "    .dataframe tbody tr th:only-of-type {\n",
       "        vertical-align: middle;\n",
       "    }\n",
       "\n",
       "    .dataframe tbody tr th {\n",
       "        vertical-align: top;\n",
       "    }\n",
       "\n",
       "    .dataframe thead th {\n",
       "        text-align: right;\n",
       "    }\n",
       "</style>\n",
       "<table border=\"1\" class=\"dataframe\">\n",
       "  <thead>\n",
       "    <tr style=\"text-align: right;\">\n",
       "      <th></th>\n",
       "      <th>sex</th>\n",
       "      <th>age</th>\n",
       "      <th>health insurance</th>\n",
       "      <th>healthcare facility type</th>\n",
       "      <th>healthcare facility name</th>\n",
       "      <th>length of stay</th>\n",
       "      <th>discharge condition</th>\n",
       "      <th>primary diagnosis code</th>\n",
       "      <th>primary diagnosis name</th>\n",
       "      <th>year</th>\n",
       "    </tr>\n",
       "  </thead>\n",
       "  <tbody>\n",
       "  </tbody>\n",
       "</table>\n",
       "</div>"
      ],
      "text/plain": [
       "Empty DataFrame\n",
       "Columns: [sex, age, health insurance, healthcare facility type, healthcare facility name, length of stay, discharge condition, primary diagnosis code, primary diagnosis name, year]\n",
       "Index: []"
      ]
     },
     "execution_count": 19,
     "metadata": {},
     "output_type": "execute_result"
    }
   ],
   "source": [
    "# Proof that this diagnosis is not present with a name in the entire dataframe\n",
    "df[(df[\"primary diagnosis code\"] == \"B04X\") & (df[\"primary diagnosis name\"].notna())]"
   ]
  },
  {
   "cell_type": "code",
   "execution_count": 20,
   "id": "366fb18b-196b-4711-8c70-e76936c8af5c",
   "metadata": {},
   "outputs": [],
   "source": [
    "# Replacing NaN name with \"viruela de los monos\", according to the glossary\n",
    "condition = (df[\"primary diagnosis code\"] == \"B04X\") & (df[\"primary diagnosis name\"].isna())\n",
    "df.loc[condition, \"primary diagnosis name\"] = \"viruela de los monos\""
   ]
  },
  {
   "cell_type": "code",
   "execution_count": 21,
   "id": "46ce530f-a88c-425a-91eb-460490d2c523",
   "metadata": {},
   "outputs": [],
   "source": [
    "# Dropping NaNs from the dataframe\n",
    "df = df[df[\"primary diagnosis name\"].notna()]"
   ]
  },
  {
   "cell_type": "code",
   "execution_count": 22,
   "id": "2e0575a8-5b74-4359-bb32-1e503f8c7d39",
   "metadata": {},
   "outputs": [
    {
     "name": "stdout",
     "output_type": "stream",
     "text": [
      "Number of codes with multiple names: 9\n",
      "     primary diagnosis code                             primary diagnosis name\n",
      "158                    A402  [septicemia debida a estreptococo, grupo d, se...\n",
      "191                    A491  [infeccion estreptococica, sin otra especifica...\n",
      "366                    B170  [infeccion (superinfeccion) aguda por agente d...\n",
      "1395                   D460  [anemia refractaria sin anillos de sideroblast...\n",
      "3390                   J09X  [influenza aviar (gripe aviar), influenza a (h...\n",
      "3391                   J100  [influenza con neumonia, debida a virus de la ...\n",
      "3392                   J101  [influenza con otras manifestaciones respirato...\n",
      "3393                   J108  [influenza, con otras manifestaciones, debida ...\n",
      "3411                   J156  [neumonia debida a otras bacterias aerobicas g...\n"
     ]
    }
   ],
   "source": [
    "# Group by code and get the unique names per code\n",
    "conflict_check = (\n",
    "    df.groupby(\"primary diagnosis code\")[\"primary diagnosis name\"]\n",
    "    .unique()\n",
    "    .reset_index()\n",
    ")\n",
    "\n",
    "# Keep only codes with more than one unique name\n",
    "conflict_check = conflict_check[\n",
    "    conflict_check[\"primary diagnosis name\"].apply(lambda x: len(x) > 1)\n",
    "]\n",
    "\n",
    "# Show the result\n",
    "print(f\"Number of codes with multiple names: {len(conflict_check)}\")\n",
    "print(conflict_check)\n",
    "\n"
   ]
  },
  {
   "cell_type": "code",
   "execution_count": 23,
   "id": "0e157c57-7712-48ef-a00d-b9c1d8941529",
   "metadata": {},
   "outputs": [],
   "source": [
    "# Still after the normalization there are some codes with multiple diagnosis names, to simplify, the first to appear in the data will be kept\n",
    "first_name_per_code = df.groupby(\"primary diagnosis code\")[\"primary diagnosis name\"].first()"
   ]
  },
  {
   "cell_type": "code",
   "execution_count": 24,
   "id": "7c537052-110f-4479-a8ba-cec32eb778b2",
   "metadata": {},
   "outputs": [],
   "source": [
    "# map and keep just the first diangosis name associated with the codes\n",
    "df[\"primary diagnosis name\"] = df[\"primary diagnosis code\"].map(first_name_per_code)"
   ]
  },
  {
   "cell_type": "code",
   "execution_count": 25,
   "id": "b9706504-eec1-4763-b877-c9b0c7171a66",
   "metadata": {},
   "outputs": [
    {
     "name": "stdout",
     "output_type": "stream",
     "text": [
      "Number of codes with multiple names: 0\n",
      "Empty DataFrame\n",
      "Columns: [primary diagnosis code, unique_count]\n",
      "Index: []\n"
     ]
    }
   ],
   "source": [
    "# Group by code and collect unique names\n",
    "check = (\n",
    "    df.groupby(\"primary diagnosis code\")[\"primary diagnosis name\"]\n",
    "    .nunique()  # count how many unique names per code\n",
    "    .reset_index(name=\"unique_count\")\n",
    ")\n",
    "\n",
    "# Look for any codes with more than one name\n",
    "multiple_names = check[check[\"unique_count\"] > 1]\n",
    "\n",
    "# Show results\n",
    "print(f\"Number of codes with multiple names: {len(multiple_names)}\")\n",
    "print(multiple_names)\n"
   ]
  },
  {
   "cell_type": "markdown",
   "id": "c3e82d48-4f84-410e-ba27-870d6f155f13",
   "metadata": {},
   "source": [
    "# Healthcare facility name cleaning"
   ]
  },
  {
   "cell_type": "code",
   "execution_count": 27,
   "id": "f86991b8-eba3-4d67-bba7-f3bddebc4ecc",
   "metadata": {},
   "outputs": [],
   "source": [
    "# NaN healthcare facility names are filled by the string \"Unknown\" to avoid losing valuable data in the other columns\n",
    "df[\"healthcare facility name\"] = df[\"healthcare facility name\"].fillna(\"Unknown\")"
   ]
  },
  {
   "cell_type": "code",
   "execution_count": 28,
   "id": "76ace64b-4f6d-4f38-9451-fe2e283e9baa",
   "metadata": {},
   "outputs": [
    {
     "data": {
      "text/plain": [
       "sex                         0\n",
       "age                         2\n",
       "health insurance            0\n",
       "healthcare facility type    0\n",
       "healthcare facility name    0\n",
       "length of stay              0\n",
       "discharge condition         0\n",
       "primary diagnosis code      0\n",
       "primary diagnosis name      0\n",
       "year                        0\n",
       "dtype: int64"
      ]
     },
     "execution_count": 28,
     "metadata": {},
     "output_type": "execute_result"
    }
   ],
   "source": [
    "df.isna().sum()"
   ]
  },
  {
   "cell_type": "code",
   "execution_count": 29,
   "id": "dbd16518-e3b0-4138-80d9-307f0009bf7b",
   "metadata": {},
   "outputs": [],
   "source": [
    "# Deleting remaining NaNs\n",
    "df = df.dropna()"
   ]
  },
  {
   "cell_type": "code",
   "execution_count": 30,
   "id": "35980861-88f8-4715-a349-6fe0eafcd534",
   "metadata": {},
   "outputs": [
    {
     "name": "stdout",
     "output_type": "stream",
     "text": [
      "<class 'pandas.core.frame.DataFrame'>\n",
      "Index: 25758741 entries, 0 to 25759528\n",
      "Data columns (total 10 columns):\n",
      " #   Column                    Dtype   \n",
      "---  ------                    -----   \n",
      " 0   sex                       category\n",
      " 1   age                       object  \n",
      " 2   health insurance          category\n",
      " 3   healthcare facility type  category\n",
      " 4   healthcare facility name  object  \n",
      " 5   length of stay            int32   \n",
      " 6   discharge condition       category\n",
      " 7   primary diagnosis code    object  \n",
      " 8   primary diagnosis name    object  \n",
      " 9   year                      int32   \n",
      "dtypes: category(4), int32(2), object(4)\n",
      "memory usage: 1.2+ GB\n"
     ]
    }
   ],
   "source": [
    "# Checking memory usage and column dtypes before exporting\n",
    "df.info()"
   ]
  },
  {
   "cell_type": "markdown",
   "id": "fa58e934-b417-4d8f-9231-97a491f591ff",
   "metadata": {},
   "source": [
    "# Export data"
   ]
  },
  {
   "cell_type": "code",
   "execution_count": 32,
   "id": "73ee342f-a3ed-4d0c-a991-32ff5f09bc06",
   "metadata": {},
   "outputs": [],
   "source": [
    "# This dataframe is the one that will be used to perform the general analysis from 2001 to 2024\n",
    "df.to_parquet('Discharges_2001-2024_analysis_finalversion.parquet', index=False, compression=\"snappy\")"
   ]
  },
  {
   "cell_type": "code",
   "execution_count": null,
   "id": "f0222c51-4997-497d-83db-363793e48051",
   "metadata": {},
   "outputs": [],
   "source": []
  }
 ],
 "metadata": {
  "kernelspec": {
   "display_name": "Python 3 (ipykernel)",
   "language": "python",
   "name": "python3"
  },
  "language_info": {
   "codemirror_mode": {
    "name": "ipython",
    "version": 3
   },
   "file_extension": ".py",
   "mimetype": "text/x-python",
   "name": "python",
   "nbconvert_exporter": "python",
   "pygments_lexer": "ipython3",
   "version": "3.12.4"
  }
 },
 "nbformat": 4,
 "nbformat_minor": 5
}
