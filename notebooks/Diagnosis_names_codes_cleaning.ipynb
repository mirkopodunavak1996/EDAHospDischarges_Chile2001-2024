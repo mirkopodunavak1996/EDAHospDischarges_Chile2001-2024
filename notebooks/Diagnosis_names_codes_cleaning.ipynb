{
 "cells": [
  {
   "cell_type": "markdown",
   "id": "d91cf0a4-ddc2-442e-bd87-65c4aebeb6f9",
   "metadata": {},
   "source": [
    "# Libraries and Data importation"
   ]
  },
  {
   "cell_type": "code",
   "execution_count": 2,
   "id": "731074ac-dd86-4c11-b449-5ad7863aec7a",
   "metadata": {},
   "outputs": [],
   "source": [
    "import pandas as pd\n",
    "import numpy as np\n",
    "import matplotlib.pyplot as plt\n",
    "import seaborn as sns"
   ]
  },
  {
   "cell_type": "code",
   "execution_count": 3,
   "id": "c1d56582-8afa-47d5-80d7-67d392588e45",
   "metadata": {},
   "outputs": [],
   "source": [
    "from unidecode import unidecode"
   ]
  },
  {
   "cell_type": "markdown",
   "id": "d84662c2-00be-4a40-9544-0c7ccc2286c1",
   "metadata": {},
   "source": [
    "# General view of the data"
   ]
  },
  {
   "cell_type": "code",
   "execution_count": 4,
   "id": "62458c14-55bb-4aa6-ba9a-318299904782",
   "metadata": {},
   "outputs": [],
   "source": [
    "# Importing data from 2001 to 2024 but diagnosis names are missing for data from 2021 to 2024\n",
    "df = pd.read_parquet(r\"C:\\Users\\mirko\\Desktop\\Curso Data Science DL\\ProyectoEDA_Egresos_Hospitalarios_2001-2020\\data\\processed\\Discharges_2001-2024_analysis.parquet\")"
   ]
  },
  {
   "cell_type": "code",
   "execution_count": 5,
   "id": "8bef4c10-6f2b-4167-a79b-c8beee47288b",
   "metadata": {},
   "outputs": [
    {
     "data": {
      "text/html": [
       "<div>\n",
       "<style scoped>\n",
       "    .dataframe tbody tr th:only-of-type {\n",
       "        vertical-align: middle;\n",
       "    }\n",
       "\n",
       "    .dataframe tbody tr th {\n",
       "        vertical-align: top;\n",
       "    }\n",
       "\n",
       "    .dataframe thead th {\n",
       "        text-align: right;\n",
       "    }\n",
       "</style>\n",
       "<table border=\"1\" class=\"dataframe\">\n",
       "  <thead>\n",
       "    <tr style=\"text-align: right;\">\n",
       "      <th></th>\n",
       "      <th>sex</th>\n",
       "      <th>age</th>\n",
       "      <th>health insurance</th>\n",
       "      <th>healthcare facility type</th>\n",
       "      <th>healthcare facility name</th>\n",
       "      <th>length of stay</th>\n",
       "      <th>discharge condition</th>\n",
       "      <th>primary diagnosis code</th>\n",
       "      <th>primary diagnosis name</th>\n",
       "      <th>year</th>\n",
       "    </tr>\n",
       "  </thead>\n",
       "  <tbody>\n",
       "    <tr>\n",
       "      <th>0</th>\n",
       "      <td>True</td>\n",
       "      <td>[60, 69]</td>\n",
       "      <td>True</td>\n",
       "      <td>True</td>\n",
       "      <td>Clínica Familia</td>\n",
       "      <td>2</td>\n",
       "      <td>True</td>\n",
       "      <td>C780</td>\n",
       "      <td>TUMOR MALIGNO SECUNDARIO DEL PULMÓN</td>\n",
       "      <td>1970-01-01 00:00:00.000002001</td>\n",
       "    </tr>\n",
       "    <tr>\n",
       "      <th>1</th>\n",
       "      <td>True</td>\n",
       "      <td>[70, 79]</td>\n",
       "      <td>True</td>\n",
       "      <td>True</td>\n",
       "      <td>Hospital Del Salvador (Santiago, Providencia)</td>\n",
       "      <td>58</td>\n",
       "      <td>True</td>\n",
       "      <td>E145</td>\n",
       "      <td>DIABETES MELLITUS NO ESPECIFICADA, CON COMPLIC...</td>\n",
       "      <td>1970-01-01 00:00:00.000002001</td>\n",
       "    </tr>\n",
       "    <tr>\n",
       "      <th>2</th>\n",
       "      <td>True</td>\n",
       "      <td>[70, 79]</td>\n",
       "      <td>True</td>\n",
       "      <td>True</td>\n",
       "      <td>Hospital Del Salvador (Santiago, Providencia)</td>\n",
       "      <td>12</td>\n",
       "      <td>True</td>\n",
       "      <td>J189</td>\n",
       "      <td>NEUMONIA, NO ESPECIFICADA</td>\n",
       "      <td>1970-01-01 00:00:00.000002001</td>\n",
       "    </tr>\n",
       "    <tr>\n",
       "      <th>3</th>\n",
       "      <td>True</td>\n",
       "      <td>[1, 9]</td>\n",
       "      <td>True</td>\n",
       "      <td>True</td>\n",
       "      <td>Instituto de Neurocirugía Dr. Alfonso Asenjo</td>\n",
       "      <td>1</td>\n",
       "      <td>True</td>\n",
       "      <td>S065</td>\n",
       "      <td>HEMORRAGIA SUBDURAL TRAUMÁTICA</td>\n",
       "      <td>1970-01-01 00:00:00.000002001</td>\n",
       "    </tr>\n",
       "    <tr>\n",
       "      <th>4</th>\n",
       "      <td>True</td>\n",
       "      <td>[80, 120]</td>\n",
       "      <td>True</td>\n",
       "      <td>True</td>\n",
       "      <td>Hospital Dr. Leonardo Guzmán (Antofagasta)</td>\n",
       "      <td>7</td>\n",
       "      <td>True</td>\n",
       "      <td>K830</td>\n",
       "      <td>COLANGITIS</td>\n",
       "      <td>1970-01-01 00:00:00.000002001</td>\n",
       "    </tr>\n",
       "  </tbody>\n",
       "</table>\n",
       "</div>"
      ],
      "text/plain": [
       "    sex        age  health insurance  healthcare facility type  \\\n",
       "0  True   [60, 69]              True                      True   \n",
       "1  True   [70, 79]              True                      True   \n",
       "2  True   [70, 79]              True                      True   \n",
       "3  True     [1, 9]              True                      True   \n",
       "4  True  [80, 120]              True                      True   \n",
       "\n",
       "                        healthcare facility name  length of stay  \\\n",
       "0                               Clínica Familia                2   \n",
       "1  Hospital Del Salvador (Santiago, Providencia)              58   \n",
       "2  Hospital Del Salvador (Santiago, Providencia)              12   \n",
       "3   Instituto de Neurocirugía Dr. Alfonso Asenjo               1   \n",
       "4     Hospital Dr. Leonardo Guzmán (Antofagasta)               7   \n",
       "\n",
       "   discharge condition primary diagnosis code  \\\n",
       "0                 True                   C780   \n",
       "1                 True                   E145   \n",
       "2                 True                   J189   \n",
       "3                 True                   S065   \n",
       "4                 True                   K830   \n",
       "\n",
       "                              primary diagnosis name  \\\n",
       "0                TUMOR MALIGNO SECUNDARIO DEL PULMÓN   \n",
       "1  DIABETES MELLITUS NO ESPECIFICADA, CON COMPLIC...   \n",
       "2                          NEUMONIA, NO ESPECIFICADA   \n",
       "3                     HEMORRAGIA SUBDURAL TRAUMÁTICA   \n",
       "4                                         COLANGITIS   \n",
       "\n",
       "                           year  \n",
       "0 1970-01-01 00:00:00.000002001  \n",
       "1 1970-01-01 00:00:00.000002001  \n",
       "2 1970-01-01 00:00:00.000002001  \n",
       "3 1970-01-01 00:00:00.000002001  \n",
       "4 1970-01-01 00:00:00.000002001  "
      ]
     },
     "execution_count": 5,
     "metadata": {},
     "output_type": "execute_result"
    }
   ],
   "source": [
    "df.head()"
   ]
  },
  {
   "cell_type": "code",
   "execution_count": 6,
   "id": "94c5cd37-e9a3-449a-a731-84528d5576ce",
   "metadata": {},
   "outputs": [
    {
     "data": {
      "text/plain": [
       "sex                               0\n",
       "age                               2\n",
       "health insurance                  0\n",
       "healthcare facility type          0\n",
       "healthcare facility name    4970764\n",
       "length of stay                    0\n",
       "discharge condition               0\n",
       "primary diagnosis code            0\n",
       "primary diagnosis name      4970764\n",
       "year                              0\n",
       "dtype: int64"
      ]
     },
     "execution_count": 6,
     "metadata": {},
     "output_type": "execute_result"
    }
   ],
   "source": [
    "# Diagnosis names are missing for data from 2021 to 2024\n",
    "# Healthcare facility name is missing in data from 2021 to 2024, so it will be replaced for \"Unknown\"\n",
    "df.isna().sum()"
   ]
  },
  {
   "cell_type": "markdown",
   "id": "bd739feb-2283-49fa-ad07-059215c9e309",
   "metadata": {},
   "source": [
    "# Primary diagnosis names and codes cleaning"
   ]
  },
  {
   "cell_type": "code",
   "execution_count": 7,
   "id": "2888a420-0530-4794-89bb-93a32a868071",
   "metadata": {},
   "outputs": [],
   "source": [
    "# To normalize strings they are turned to lower case and accents and unexpected whitespaces are deleted\n",
    "df[\"primary diagnosis name\"] = df[\"primary diagnosis name\"].map(\n",
    "    lambda x: unidecode(x).lower().strip() if isinstance(x, str) else x\n",
    ")\n"
   ]
  },
  {
   "cell_type": "code",
   "execution_count": 8,
   "id": "242b76c6-9508-4b6f-b337-7753cf5c3978",
   "metadata": {},
   "outputs": [],
   "source": [
    "# Step 1: Save in an object the 2 columns associated with diagnosis\n",
    "diagnosis = df[[\"primary diagnosis code\", \"primary diagnosis name\"]].copy()"
   ]
  },
  {
   "cell_type": "code",
   "execution_count": 9,
   "id": "f9a4f3ac-29e9-4e4d-ba3e-7c6247627b83",
   "metadata": {},
   "outputs": [
    {
     "data": {
      "text/plain": [
       "primary diagnosis code          0\n",
       "primary diagnosis name    4970764\n",
       "dtype: int64"
      ]
     },
     "execution_count": 9,
     "metadata": {},
     "output_type": "execute_result"
    }
   ],
   "source": [
    "# There are not nan codes, so it is possible to assign a name to the nan values in \"primary diagnosis name\"\n",
    "diagnosis.isna().sum()"
   ]
  },
  {
   "cell_type": "code",
   "execution_count": 10,
   "id": "9689e25f-0f1f-4223-8561-f9c708cf860c",
   "metadata": {},
   "outputs": [],
   "source": [
    "# Step 2: Filter out rows where the name is None or NaN\n",
    "diagnosis = diagnosis[diagnosis[\"primary diagnosis name\"].notna()]"
   ]
  },
  {
   "cell_type": "code",
   "execution_count": 11,
   "id": "310d03aa-6ab7-4e73-93b2-ad4e114a2bc6",
   "metadata": {},
   "outputs": [],
   "source": [
    "# A new column is created with only valid diangosis names\n",
    "diagnosis[\"name_clean\"] = diagnosis[\"primary diagnosis name\"]"
   ]
  },
  {
   "cell_type": "code",
   "execution_count": 12,
   "id": "a7eb1d68-334c-4516-9c05-2479198d9f18",
   "metadata": {},
   "outputs": [],
   "source": [
    "# Step 3: Group by code and take the first normalized name\n",
    "first_valid = (\n",
    "    diagnosis.groupby(\"primary diagnosis code\")[\"name_clean\"]\n",
    "    .first()          # first value after grouping\n",
    "    .reset_index()\n",
    ")\n",
    "\n",
    "# Step 4: Build dictionary\n",
    "clean_dictionary = dict(\n",
    "    zip(first_valid[\"primary diagnosis code\"], first_valid[\"name_clean\"])\n",
    ")"
   ]
  },
  {
   "cell_type": "code",
   "execution_count": 13,
   "id": "9b1615a8-5f81-4c1b-b10c-c79f42df4fac",
   "metadata": {},
   "outputs": [],
   "source": [
    "# Step 5: vectorization to map names with the corresponding code in the dictionary and create a series with them to replace NaN names\n",
    "replacement_series = df[\"primary diagnosis code\"].map(clean_dictionary)"
   ]
  },
  {
   "cell_type": "code",
   "execution_count": 14,
   "id": "53de0135-f1a8-4105-92fc-4dcb71cc6346",
   "metadata": {},
   "outputs": [],
   "source": [
    "# Fill NaN names with the corresponding one depending on its diagnosis code for each row\n",
    "df[\"primary diagnosis name\"] = df[\"primary diagnosis name\"].fillna(replacement_series)"
   ]
  },
  {
   "cell_type": "code",
   "execution_count": 16,
   "id": "2bf1fe64-f46d-4a2b-9517-8f47d52656e2",
   "metadata": {},
   "outputs": [
    {
     "data": {
      "text/plain": [
       "primary diagnosis code\n",
       "B04X    407\n",
       "U109    353\n",
       "U099    235\n",
       "A971     41\n",
       "U129     37\n",
       "A979     24\n",
       "A970     19\n",
       "L987     17\n",
       "P917      9\n",
       "e115      5\n",
       "A972      3\n",
       "G233      3\n",
       "z518      3\n",
       "C61x      2\n",
       "G835      2\n",
       "c498      2\n",
       "A309      2\n",
       "E502      2\n",
       "o998      2\n",
       "A803      1\n",
       "M493      1\n",
       "B550      1\n",
       "L652      1\n",
       "A798      1\n",
       "T674      1\n",
       "B600      1\n",
       "B050      1\n",
       "k819      1\n",
       "A288      1\n",
       "i660      1\n",
       "k409      1\n",
       "A304      1\n",
       "R452      1\n",
       "C20x      1\n",
       "j90x      1\n",
       "c795      1\n",
       "Q962      1\n",
       "d62x      1\n",
       "j81X      1\n",
       "k709      1\n",
       "Q987      1\n",
       "u071      1\n",
       "B355      1\n",
       "R894      1\n",
       "Name: count, dtype: int64"
      ]
     },
     "execution_count": 16,
     "metadata": {},
     "output_type": "execute_result"
    }
   ],
   "source": [
    "# Still there are codes without a name in the dictionary. That possibly means that the diagnosis was not present until 2021\n",
    "# Other option is the glossary (which is considering until year 2020) was not considering new diangosis codes yet (which is the case for U109 and U099)\n",
    "# Only B04X will be replaced manually due to its high frequency adnt he rest deleted from the dataframe\n",
    "df[df[\"primary diagnosis name\"].isna()][\"primary diagnosis code\"].value_counts()"
   ]
  },
  {
   "cell_type": "code",
   "execution_count": 17,
   "id": "8aef368d-c78a-45a5-8408-0479cef959ce",
   "metadata": {},
   "outputs": [
    {
     "data": {
      "text/html": [
       "<div>\n",
       "<style scoped>\n",
       "    .dataframe tbody tr th:only-of-type {\n",
       "        vertical-align: middle;\n",
       "    }\n",
       "\n",
       "    .dataframe tbody tr th {\n",
       "        vertical-align: top;\n",
       "    }\n",
       "\n",
       "    .dataframe thead th {\n",
       "        text-align: right;\n",
       "    }\n",
       "</style>\n",
       "<table border=\"1\" class=\"dataframe\">\n",
       "  <thead>\n",
       "    <tr style=\"text-align: right;\">\n",
       "      <th></th>\n",
       "      <th>sex</th>\n",
       "      <th>age</th>\n",
       "      <th>health insurance</th>\n",
       "      <th>healthcare facility type</th>\n",
       "      <th>healthcare facility name</th>\n",
       "      <th>length of stay</th>\n",
       "      <th>discharge condition</th>\n",
       "      <th>primary diagnosis code</th>\n",
       "      <th>primary diagnosis name</th>\n",
       "      <th>year</th>\n",
       "    </tr>\n",
       "  </thead>\n",
       "  <tbody>\n",
       "  </tbody>\n",
       "</table>\n",
       "</div>"
      ],
      "text/plain": [
       "Empty DataFrame\n",
       "Columns: [sex, age, health insurance, healthcare facility type, healthcare facility name, length of stay, discharge condition, primary diagnosis code, primary diagnosis name, year]\n",
       "Index: []"
      ]
     },
     "execution_count": 17,
     "metadata": {},
     "output_type": "execute_result"
    }
   ],
   "source": [
    "# Proof that this diagnosis is not present with a name in the entire dataframe\n",
    "df[(df[\"primary diagnosis code\"] == \"B04X\") & (df[\"primary diagnosis name\"].notna())]"
   ]
  },
  {
   "cell_type": "code",
   "execution_count": 18,
   "id": "366fb18b-196b-4711-8c70-e76936c8af5c",
   "metadata": {},
   "outputs": [],
   "source": [
    "# Replacing NaN name with \"viruela de los monos\", according to the glossary\n",
    "condition = (df[\"primary diagnosis code\"] == \"B04X\") & (df[\"primary diagnosis name\"].isna())\n",
    "df.loc[condition, \"primary diagnosis name\"] = \"viruela de los monos\""
   ]
  },
  {
   "cell_type": "code",
   "execution_count": 19,
   "id": "46ce530f-a88c-425a-91eb-460490d2c523",
   "metadata": {},
   "outputs": [],
   "source": [
    "# Dropping NaNs from the dataframe\n",
    "df = df[df[\"primary diagnosis name\"].notna()]"
   ]
  },
  {
   "cell_type": "code",
   "execution_count": 29,
   "id": "2e0575a8-5b74-4359-bb32-1e503f8c7d39",
   "metadata": {},
   "outputs": [
    {
     "name": "stdout",
     "output_type": "stream",
     "text": [
      "Number of codes with multiple names: 9\n",
      "     primary diagnosis code                             primary diagnosis name\n",
      "158                    A402  [septicemia debida a estreptococo, grupo d, se...\n",
      "191                    A491  [infeccion estreptococica, sin otra especifica...\n",
      "366                    B170  [infeccion (superinfeccion) aguda por agente d...\n",
      "1395                   D460  [anemia refractaria sin anillos de sideroblast...\n",
      "3390                   J09X  [influenza aviar (gripe aviar), influenza a (h...\n",
      "3391                   J100  [influenza con neumonia, debida a virus de la ...\n",
      "3392                   J101  [influenza con otras manifestaciones respirato...\n",
      "3393                   J108  [influenza, con otras manifestaciones, debida ...\n",
      "3411                   J156  [neumonia debida a otras bacterias aerobicas g...\n"
     ]
    }
   ],
   "source": [
    "# Group by code and get the unique names per code\n",
    "conflict_check = (\n",
    "    df.groupby(\"primary diagnosis code\")[\"primary diagnosis name\"]\n",
    "    .unique()\n",
    "    .reset_index()\n",
    ")\n",
    "\n",
    "# Keep only codes with more than one unique name\n",
    "conflict_check = conflict_check[\n",
    "    conflict_check[\"primary diagnosis name\"].apply(lambda x: len(x) > 1)\n",
    "]\n",
    "\n",
    "# Show the result\n",
    "print(f\"Number of codes with multiple names: {len(conflict_check)}\")\n",
    "print(conflict_check)\n",
    "\n"
   ]
  },
  {
   "cell_type": "code",
   "execution_count": 30,
   "id": "0e157c57-7712-48ef-a00d-b9c1d8941529",
   "metadata": {},
   "outputs": [],
   "source": [
    "# Still after the normalization there are some codes with multiple diagnosis names, to simplify, the first to appear in the data will be kept\n",
    "first_name_per_code = df.groupby(\"primary diagnosis code\")[\"primary diagnosis name\"].first()"
   ]
  },
  {
   "cell_type": "code",
   "execution_count": 31,
   "id": "7c537052-110f-4479-a8ba-cec32eb778b2",
   "metadata": {},
   "outputs": [],
   "source": [
    "# map and keep just the first diangosis name associated with the codes\n",
    "df[\"primary diagnosis name\"] = df[\"primary diagnosis code\"].map(first_name_per_code)"
   ]
  },
  {
   "cell_type": "code",
   "execution_count": 32,
   "id": "b9706504-eec1-4763-b877-c9b0c7171a66",
   "metadata": {},
   "outputs": [
    {
     "name": "stdout",
     "output_type": "stream",
     "text": [
      "Number of codes with multiple names: 0\n",
      "Empty DataFrame\n",
      "Columns: [primary diagnosis code, unique_count]\n",
      "Index: []\n"
     ]
    }
   ],
   "source": [
    "# Group by code and collect unique names\n",
    "check = (\n",
    "    df.groupby(\"primary diagnosis code\")[\"primary diagnosis name\"]\n",
    "    .nunique()  # count how many unique names per code\n",
    "    .reset_index(name=\"unique_count\")\n",
    ")\n",
    "\n",
    "# Look for any codes with more than one name\n",
    "multiple_names = check[check[\"unique_count\"] > 1]\n",
    "\n",
    "# Show results\n",
    "print(f\"Number of codes with multiple names: {len(multiple_names)}\")\n",
    "print(multiple_names)\n"
   ]
  },
  {
   "cell_type": "markdown",
   "id": "c3e82d48-4f84-410e-ba27-870d6f155f13",
   "metadata": {},
   "source": [
    "# Healthcare facility name cleaning"
   ]
  },
  {
   "cell_type": "code",
   "execution_count": 33,
   "id": "f86991b8-eba3-4d67-bba7-f3bddebc4ecc",
   "metadata": {},
   "outputs": [],
   "source": [
    "# NaN healthcare facility names are filled by the string \"Unknown\" to avoid losing valuable data in the other columns\n",
    "df[\"healthcare facility name\"] = df[\"healthcare facility name\"].fillna(\"Unknown\")"
   ]
  },
  {
   "cell_type": "code",
   "execution_count": 34,
   "id": "76ace64b-4f6d-4f38-9451-fe2e283e9baa",
   "metadata": {},
   "outputs": [
    {
     "data": {
      "text/plain": [
       "sex                         0\n",
       "age                         2\n",
       "health insurance            0\n",
       "healthcare facility type    0\n",
       "healthcare facility name    0\n",
       "length of stay              0\n",
       "discharge condition         0\n",
       "primary diagnosis code      0\n",
       "primary diagnosis name      0\n",
       "year                        0\n",
       "dtype: int64"
      ]
     },
     "execution_count": 34,
     "metadata": {},
     "output_type": "execute_result"
    }
   ],
   "source": [
    "df.isna().sum()"
   ]
  },
  {
   "cell_type": "code",
   "execution_count": 35,
   "id": "dbd16518-e3b0-4138-80d9-307f0009bf7b",
   "metadata": {},
   "outputs": [],
   "source": [
    "# Deleting remaining NaNs\n",
    "df = df.dropna()"
   ]
  },
  {
   "cell_type": "code",
   "execution_count": 40,
   "id": "35980861-88f8-4715-a349-6fe0eafcd534",
   "metadata": {},
   "outputs": [
    {
     "name": "stdout",
     "output_type": "stream",
     "text": [
      "<class 'pandas.core.frame.DataFrame'>\n",
      "Index: 25758741 entries, 0 to 25759528\n",
      "Data columns (total 10 columns):\n",
      " #   Column                    Dtype         \n",
      "---  ------                    -----         \n",
      " 0   sex                       bool          \n",
      " 1   age                       object        \n",
      " 2   health insurance          bool          \n",
      " 3   healthcare facility type  bool          \n",
      " 4   healthcare facility name  object        \n",
      " 5   length of stay            int32         \n",
      " 6   discharge condition       bool          \n",
      " 7   primary diagnosis code    object        \n",
      " 8   primary diagnosis name    object        \n",
      " 9   year                      datetime64[ns]\n",
      "dtypes: bool(4), datetime64[ns](1), int32(1), object(4)\n",
      "memory usage: 1.3+ GB\n"
     ]
    }
   ],
   "source": [
    "# Checking memory usage and column dtypes before exporting\n",
    "df.info()"
   ]
  },
  {
   "cell_type": "markdown",
   "id": "fa58e934-b417-4d8f-9231-97a491f591ff",
   "metadata": {},
   "source": [
    "# Export data"
   ]
  },
  {
   "cell_type": "code",
   "execution_count": 45,
   "id": "73ee342f-a3ed-4d0c-a991-32ff5f09bc06",
   "metadata": {},
   "outputs": [],
   "source": [
    "# This dataframe is the one that will be used to perform the general analysis from 2001 to 2024\n",
    "df.to_parquet('Discharges_2001-2024_analysis_finalversion.parquet', index=False, compression=\"snappy\")"
   ]
  },
  {
   "cell_type": "code",
   "execution_count": null,
   "id": "f0222c51-4997-497d-83db-363793e48051",
   "metadata": {},
   "outputs": [],
   "source": []
  }
 ],
 "metadata": {
  "kernelspec": {
   "display_name": "Python 3 (ipykernel)",
   "language": "python",
   "name": "python3"
  },
  "language_info": {
   "codemirror_mode": {
    "name": "ipython",
    "version": 3
   },
   "file_extension": ".py",
   "mimetype": "text/x-python",
   "name": "python",
   "nbconvert_exporter": "python",
   "pygments_lexer": "ipython3",
   "version": "3.12.4"
  }
 },
 "nbformat": 4,
 "nbformat_minor": 5
}
