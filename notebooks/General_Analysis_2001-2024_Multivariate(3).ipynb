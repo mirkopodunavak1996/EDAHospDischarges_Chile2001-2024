{
 "cells": [
  {
   "cell_type": "markdown",
   "id": "79ebdbac-195e-4c05-a6ee-042b5e1a4164",
   "metadata": {},
   "source": [
    "# 1. Introduction"
   ]
  },
  {
   "cell_type": "raw",
   "id": "4abd0a74-1618-4d2f-847d-77433f3d1882",
   "metadata": {},
   "source": [
    "Dataset description:\n",
    "\n",
    "Origin -> \"Departamento de Estadísticas e Información de Salud\" (DEIS), Ministerio de Salud, Chile\n",
    "\n",
    "Size -> 25.758.741 rows and 15 columns\n",
    "\n",
    "Time frame -> From year 2001 to 2024\n",
    "\n",
    "Units of observation -> Discharges\n",
    "\n",
    "Objective: Analyze the evolution of diagnosis through hospital discharges between years 2001 and 2024 in Chile\n",
    "\n",
    "Guiding questions:\n",
    "\n",
    "1. ¿What is the trend in the prevalence of health problems over the years?\n",
    "2. ¿Is there a relationship between individual characteristics (sex, age, health insurance) and specific health problems?\n",
    "3.  What type of health centers (public or private) and specifically which ones use more or fewer bed-days to solve health problems? 2001-2024 in general and 2001-2020 in specific\n",
    "3.1.  To what extent is the efficiency of health centers linked to individual characteristics of the population served and/or their financing? Depends on finding in Q.3 (2001-2024 in general and 2001-2020 in specific)"
   ]
  },
  {
   "cell_type": "markdown",
   "id": "1dfe8cd1-76e8-4dc3-ba6e-8006b379761d",
   "metadata": {},
   "source": [
    "# Libraries and Data importation"
   ]
  },
  {
   "cell_type": "code",
   "execution_count": 5,
   "id": "1a79fdc5-55d7-4e54-bfea-de7f3af36a3a",
   "metadata": {},
   "outputs": [],
   "source": [
    "# Import libraries\n",
    "import pandas as pd\n",
    "import numpy as np\n",
    "import matplotlib.pyplot as plt\n",
    "import seaborn as sns"
   ]
  },
  {
   "cell_type": "code",
   "execution_count": 49,
   "id": "2250d9ea-0999-4513-9346-0739a1099717",
   "metadata": {},
   "outputs": [],
   "source": [
    "# Import full dataframe\n",
    "df = pd.read_parquet(r\"C:\\Users\\mirko\\Desktop\\Curso Data Science DL\\EDAHospDischarges_Chile2001-2024\\data\\processed\\Discharges_2001-2024_bivariate_final.parquet\")"
   ]
  },
  {
   "cell_type": "markdown",
   "id": "52a64b83-4844-4cd9-a093-6325bd4934b7",
   "metadata": {},
   "source": [
    "# 2. Data Overview"
   ]
  },
  {
   "cell_type": "code",
   "execution_count": 51,
   "id": "fd5c14a5-06b8-43ea-9f97-85844ba4dfbd",
   "metadata": {},
   "outputs": [],
   "source": [
    "# Shape of the dataset (rows, columns)."
   ]
  },
  {
   "cell_type": "code",
   "execution_count": 52,
   "id": "089970f8-6999-4226-a833-c184a770014e",
   "metadata": {},
   "outputs": [
    {
     "data": {
      "text/html": [
       "<div>\n",
       "<style scoped>\n",
       "    .dataframe tbody tr th:only-of-type {\n",
       "        vertical-align: middle;\n",
       "    }\n",
       "\n",
       "    .dataframe tbody tr th {\n",
       "        vertical-align: top;\n",
       "    }\n",
       "\n",
       "    .dataframe thead th {\n",
       "        text-align: right;\n",
       "    }\n",
       "</style>\n",
       "<table border=\"1\" class=\"dataframe\">\n",
       "  <thead>\n",
       "    <tr style=\"text-align: right;\">\n",
       "      <th></th>\n",
       "      <th>sex</th>\n",
       "      <th>age</th>\n",
       "      <th>health insurance</th>\n",
       "      <th>healthcare facility type</th>\n",
       "      <th>healthcare facility name</th>\n",
       "      <th>length of stay</th>\n",
       "      <th>discharge condition</th>\n",
       "      <th>primary diagnosis code</th>\n",
       "      <th>primary diagnosis name</th>\n",
       "      <th>year</th>\n",
       "      <th>chapter codes</th>\n",
       "      <th>chapter names</th>\n",
       "      <th>LOS_capped</th>\n",
       "      <th>group codes</th>\n",
       "      <th>group names</th>\n",
       "    </tr>\n",
       "  </thead>\n",
       "  <tbody>\n",
       "    <tr>\n",
       "      <th>0</th>\n",
       "      <td>Male</td>\n",
       "      <td>60-69</td>\n",
       "      <td>Fonasa</td>\n",
       "      <td>Private</td>\n",
       "      <td>Clínica Familia</td>\n",
       "      <td>2</td>\n",
       "      <td>Deceased</td>\n",
       "      <td>C780</td>\n",
       "      <td>tumor maligno secundario del pulmon</td>\n",
       "      <td>2001</td>\n",
       "      <td>C00-D48</td>\n",
       "      <td>tumores [neoplasias]</td>\n",
       "      <td>2</td>\n",
       "      <td>C76-C80</td>\n",
       "      <td>tumores [neoplasias] malignos de sitios mal de...</td>\n",
       "    </tr>\n",
       "    <tr>\n",
       "      <th>1</th>\n",
       "      <td>Male</td>\n",
       "      <td>70-79</td>\n",
       "      <td>Fonasa</td>\n",
       "      <td>Public</td>\n",
       "      <td>Hospital Del Salvador (Santiago, Providencia)</td>\n",
       "      <td>58</td>\n",
       "      <td>Deceased</td>\n",
       "      <td>E145</td>\n",
       "      <td>diabetes mellitus no especificada, con complic...</td>\n",
       "      <td>2001</td>\n",
       "      <td>E00-E90</td>\n",
       "      <td>enfermedades endocrinas, nutricionales y metab...</td>\n",
       "      <td>58</td>\n",
       "      <td>E10-E14</td>\n",
       "      <td>diabetes mellitus</td>\n",
       "    </tr>\n",
       "    <tr>\n",
       "      <th>2</th>\n",
       "      <td>Male</td>\n",
       "      <td>70-79</td>\n",
       "      <td>Fonasa</td>\n",
       "      <td>Public</td>\n",
       "      <td>Hospital Del Salvador (Santiago, Providencia)</td>\n",
       "      <td>12</td>\n",
       "      <td>Deceased</td>\n",
       "      <td>J189</td>\n",
       "      <td>neumonia, no especificada</td>\n",
       "      <td>2001</td>\n",
       "      <td>J00-J99</td>\n",
       "      <td>enfermedades del sistema respiratorio</td>\n",
       "      <td>12</td>\n",
       "      <td>J09-J18</td>\n",
       "      <td>influenza [gripe] y neumonía</td>\n",
       "    </tr>\n",
       "    <tr>\n",
       "      <th>3</th>\n",
       "      <td>Male</td>\n",
       "      <td>1-9</td>\n",
       "      <td>Fonasa</td>\n",
       "      <td>Public</td>\n",
       "      <td>Instituto de Neurocirugía Dr. Alfonso Asenjo</td>\n",
       "      <td>1</td>\n",
       "      <td>Deceased</td>\n",
       "      <td>S065</td>\n",
       "      <td>hemorragia subdural traumatica</td>\n",
       "      <td>2001</td>\n",
       "      <td>S00-T98</td>\n",
       "      <td>traumatismos, envenenamientos y algunas otras ...</td>\n",
       "      <td>1</td>\n",
       "      <td>S00-S09</td>\n",
       "      <td>traumatismos de la cabeza</td>\n",
       "    </tr>\n",
       "    <tr>\n",
       "      <th>4</th>\n",
       "      <td>Male</td>\n",
       "      <td>80-120</td>\n",
       "      <td>Fonasa</td>\n",
       "      <td>Public</td>\n",
       "      <td>Hospital Dr. Leonardo Guzmán (Antofagasta)</td>\n",
       "      <td>7</td>\n",
       "      <td>Alive</td>\n",
       "      <td>K830</td>\n",
       "      <td>colangitis</td>\n",
       "      <td>2001</td>\n",
       "      <td>K00-K93</td>\n",
       "      <td>enfermedades del sistema digestivo</td>\n",
       "      <td>7</td>\n",
       "      <td>K80-K87</td>\n",
       "      <td>trastornos de la vesícula biliar, de las vías ...</td>\n",
       "    </tr>\n",
       "  </tbody>\n",
       "</table>\n",
       "</div>"
      ],
      "text/plain": [
       "    sex     age health insurance healthcare facility type  \\\n",
       "0  Male   60-69           Fonasa                  Private   \n",
       "1  Male   70-79           Fonasa                   Public   \n",
       "2  Male   70-79           Fonasa                   Public   \n",
       "3  Male     1-9           Fonasa                   Public   \n",
       "4  Male  80-120           Fonasa                   Public   \n",
       "\n",
       "                        healthcare facility name  length of stay  \\\n",
       "0                                Clínica Familia               2   \n",
       "1  Hospital Del Salvador (Santiago, Providencia)              58   \n",
       "2  Hospital Del Salvador (Santiago, Providencia)              12   \n",
       "3   Instituto de Neurocirugía Dr. Alfonso Asenjo               1   \n",
       "4     Hospital Dr. Leonardo Guzmán (Antofagasta)               7   \n",
       "\n",
       "  discharge condition primary diagnosis code  \\\n",
       "0            Deceased                   C780   \n",
       "1            Deceased                   E145   \n",
       "2            Deceased                   J189   \n",
       "3            Deceased                   S065   \n",
       "4               Alive                   K830   \n",
       "\n",
       "                              primary diagnosis name  year chapter codes  \\\n",
       "0                tumor maligno secundario del pulmon  2001       C00-D48   \n",
       "1  diabetes mellitus no especificada, con complic...  2001       E00-E90   \n",
       "2                          neumonia, no especificada  2001       J00-J99   \n",
       "3                     hemorragia subdural traumatica  2001       S00-T98   \n",
       "4                                         colangitis  2001       K00-K93   \n",
       "\n",
       "                                       chapter names  LOS_capped group codes  \\\n",
       "0                               tumores [neoplasias]           2     C76-C80   \n",
       "1  enfermedades endocrinas, nutricionales y metab...          58     E10-E14   \n",
       "2              enfermedades del sistema respiratorio          12     J09-J18   \n",
       "3  traumatismos, envenenamientos y algunas otras ...           1     S00-S09   \n",
       "4                 enfermedades del sistema digestivo           7     K80-K87   \n",
       "\n",
       "                                         group names  \n",
       "0  tumores [neoplasias] malignos de sitios mal de...  \n",
       "1                                  diabetes mellitus  \n",
       "2                       influenza [gripe] y neumonía  \n",
       "3                          traumatismos de la cabeza  \n",
       "4  trastornos de la vesícula biliar, de las vías ...  "
      ]
     },
     "execution_count": 52,
     "metadata": {},
     "output_type": "execute_result"
    }
   ],
   "source": [
    "df.head()"
   ]
  },
  {
   "cell_type": "code",
   "execution_count": 53,
   "id": "0a9d08e9-8d13-4110-beeb-9b83c63a00ac",
   "metadata": {},
   "outputs": [
    {
     "data": {
      "text/plain": [
       "(25758741, 15)"
      ]
     },
     "execution_count": 53,
     "metadata": {},
     "output_type": "execute_result"
    }
   ],
   "source": [
    "df.shape"
   ]
  },
  {
   "cell_type": "markdown",
   "id": "7f137f16-5a76-4d91-a014-87fc9832a5cd",
   "metadata": {},
   "source": [
    "# Data dictionary / main variables (categorical, numerical)."
   ]
  },
  {
   "cell_type": "code",
   "execution_count": 55,
   "id": "e6f9872e-76f0-4cb2-a11e-822823b83004",
   "metadata": {},
   "outputs": [
    {
     "name": "stdout",
     "output_type": "stream",
     "text": [
      "<class 'pandas.core.frame.DataFrame'>\n",
      "RangeIndex: 25758741 entries, 0 to 25758740\n",
      "Data columns (total 15 columns):\n",
      " #   Column                    Dtype   \n",
      "---  ------                    -----   \n",
      " 0   sex                       category\n",
      " 1   age                       category\n",
      " 2   health insurance          category\n",
      " 3   healthcare facility type  category\n",
      " 4   healthcare facility name  object  \n",
      " 5   length of stay            int32   \n",
      " 6   discharge condition       category\n",
      " 7   primary diagnosis code    category\n",
      " 8   primary diagnosis name    category\n",
      " 9   year                      int32   \n",
      " 10  chapter codes             category\n",
      " 11  chapter names             object  \n",
      " 12  LOS_capped                int32   \n",
      " 13  group codes               category\n",
      " 14  group names               category\n",
      "dtypes: category(10), int32(3), object(2)\n",
      "memory usage: 1.0+ GB\n"
     ]
    }
   ],
   "source": [
    "# Data type customization really helped to reduce memory usage, increasing speed and capacity to create new columns\n",
    "df.info()"
   ]
  },
  {
   "cell_type": "markdown",
   "id": "13b01961-7739-4adc-9a2c-8bc07593746b",
   "metadata": {},
   "source": [
    "# ACTUALIZAR VARIABLES"
   ]
  },
  {
   "cell_type": "raw",
   "id": "23d45064-050e-4d03-a169-ac187489feaa",
   "metadata": {},
   "source": [
    "Variables\n",
    "\n",
    "Individual characteristics:\n",
    "Sex (Categorical)\n",
    "Age ranges (Categorical)\n",
    "Health insurance (Categorical)\n",
    "\n",
    "Health center characteristics:\n",
    "Name (Categorical)\n",
    "Healthcare facility type (Public or private) (Categorical)\n",
    "\n",
    "Variables associated with the diagnosis:\n",
    "Name and ICD-10 code of the health problem (health problem code), chapter (Categorical), and group (categorical)\n",
    "\n",
    "Variables associated with the individual, health center, and disease simultaneously:\n",
    "Length of stay capped and raw (Numerical)\n",
    "Discharge condition (alive or dead) (Categorical)\n",
    "\n",
    "Variables associated with time:\n",
    "Year (Timestamp)"
   ]
  },
  {
   "cell_type": "markdown",
   "id": "383bdaeb-6822-4961-a585-889e6197341f",
   "metadata": {},
   "source": [
    "# Missing values / NA treatment summary."
   ]
  },
  {
   "cell_type": "code",
   "execution_count": 58,
   "id": "e2f7c6d8-ee95-4427-bd2d-3a7164252a69",
   "metadata": {},
   "outputs": [
    {
     "data": {
      "text/plain": [
       "sex                         0\n",
       "age                         0\n",
       "health insurance            0\n",
       "healthcare facility type    0\n",
       "healthcare facility name    0\n",
       "length of stay              0\n",
       "discharge condition         0\n",
       "primary diagnosis code      0\n",
       "primary diagnosis name      0\n",
       "year                        0\n",
       "chapter codes               0\n",
       "chapter names               0\n",
       "LOS_capped                  0\n",
       "group codes                 0\n",
       "group names                 0\n",
       "dtype: int64"
      ]
     },
     "execution_count": 58,
     "metadata": {},
     "output_type": "execute_result"
    }
   ],
   "source": [
    "# Dataframe is cleaned from previous steps\n",
    "df.isna().sum()"
   ]
  },
  {
   "cell_type": "raw",
   "id": "726e54d9-076e-46d9-869f-717152b0d8b3",
   "metadata": {},
   "source": [
    "The dataframe is completely clean without any missing value. For healthcare facility name the data was missing from 2021 to 2024 and healthcare facility type had around 20% of NaNs, mainly on year 2023. All these values were imputed to \"Unknown\" to preserve the rest of the data, considering it was not missing at random, so bias could be introduced in case of deletion. The rest of the variables had NaNs and were deleted becasue it did not affect the representativeness of the sample."
   ]
  },
  {
   "cell_type": "markdown",
   "id": "befba649-f110-4d66-b744-e2a57ab16480",
   "metadata": {},
   "source": [
    "# First impressions after bivariate analysis (anything noteworthy?). HACERLO"
   ]
  },
  {
   "cell_type": "raw",
   "id": "774ad3a1-ca0a-4b7e-9a96-148a5b38be86",
   "metadata": {},
   "source": [
    "The univariate analysis helped to customize 2 variables mainly: firstly, Length of stay had many outliers and some of them really high, affecting the mean LOS and difficulting the understamding of the bulk of the data, key to have insights from the \"typical patient exprience\". Raw values are valuable to show the real data and capped ones to preserve the comon narrative of them, helping to understand trends and patterns of this variable itself and in the bivariate and multivariate analysis. Secondly, it was possible to include diangosis groups in the data, taking the ICD-10 codes of the individual diagnoses. This is important as a way to gtoup diagnoses in broader categories similar health problems, helping to measure their relationship with other variables. At the same time, diangoses chapters can group too many, losing specificity in the analysis.\n",
    "\n",
    "In general, the unviariate analysis helped to understand each variable itself, specifically is important to characterize the patients, the hospital offer and the disease burden in the system as a whole. This part of the analysis is critical to have a context in which to find patterns and insights that contribute to a greater understanding of the 3 guiding questions of this project, thanks to the bivariate and multivariate analysis."
   ]
  },
  {
   "cell_type": "markdown",
   "id": "f929885c-9edc-431c-9ece-2b8f9b89d55f",
   "metadata": {},
   "source": [
    "# List of pairs of variables to perform bivariate analysis (CHECK CHAT GPT CONVERSATION TO HAVE MORE GUIDANCE). POR HACER"
   ]
  },
  {
   "cell_type": "raw",
   "id": "be806292-4adf-4b28-ae41-23fea52ede43",
   "metadata": {},
   "source": []
  },
  {
   "cell_type": "markdown",
   "id": "bbe25065-cf5e-4cf8-8854-3b6dfc0ee487",
   "metadata": {},
   "source": [
    "# 3. Multivariate analysis (RECUERDA SIEMPRE RELACIONAR CON PREGUNTAS GUIA)"
   ]
  },
  {
   "cell_type": "raw",
   "id": "c1bf7e30-8cb1-44c9-b5ce-2ce77e83c92c",
   "metadata": {},
   "source": [
    "Goal: Understand structure, detect confounders, and explore interactions without models"
   ]
  },
  {
   "cell_type": "raw",
   "id": "9db14826-f9ce-4d01-b0c4-0008fb43468b",
   "metadata": {},
   "source": [
    "Techniques:\n",
    "\n",
    "- Faceting / grouping plots by third variable (confounding check).\n",
    "- Color or size encoding to detect interaction effects.\n",
    "- Aggregated line plots or heatmaps for multiple variables (e.g., LoS by age and diagnosis).\n",
    "- Pairplots for numeric variables (with subsampling) to detect relationships visually."
   ]
  },
  {
   "cell_type": "raw",
   "id": "1428fd35-64e6-4671-b919-5051ab159b35",
   "metadata": {},
   "source": [
    "Descriptive Quantification\n",
    "\n",
    "Even without models or tests, your EDA should provide rigorous quantification:\n",
    "\n",
    "Effect sizes:\n",
    "Median or mean differences, ratios, percentage changes.\n",
    "Coefficient of variation (for prevalence over time).\n",
    "Correlations: Spearman or Kendall if ranks matter.\n",
    "Cross-tab proportions: normalized per row/column for categorical comparisons.\n",
    "\n",
    "Goal: Give your EDA analytical depth beyond visuals, but without formal modeling."
   ]
  },
  {
   "cell_type": "raw",
   "id": "340cd14d-54f4-4c41-99be-85cc6461bf87",
   "metadata": {},
   "source": [
    "interpretation & Narrative\n",
    "\n",
    "Always contextualize: Explain patterns in terms of real-world meaning.\n",
    "Highlight confounding and interactions: Use visuals to tell the story (facets, color coding, line plots).\n",
    "Limit overstatement: Don’t claim causality — just report observed patterns.\n",
    "\n",
    "Optional: For highly visible or subtle patterns, mention potential model-based follow-up for confirmation.\n",
    "\n",
    "\n",
    "Example:\n",
    "“Older patients have longer hospital stays. When faceted by diagnosis, this trend is strongest in cardiovascular conditions, suggesting diagnosis severity drives part of the effect.”"
   ]
  },
  {
   "cell_type": "code",
   "execution_count": null,
   "id": "22543f2d-6201-414f-8c9e-38247023741e",
   "metadata": {},
   "outputs": [],
   "source": [
    "7️⃣ Presentation\n",
    "\n",
    "Visual-first narrative: Every key insight supported by a clean plot.\n",
    "Aggregated data summaries: Tables of medians, IQRs, proportions.\n",
    "Optional “analytic rigor”: Call out effect sizes (differences, CVs) to satisfy technical reviewers.\n",
    "Avoid unnecessary p-values: With 250k+ sampled rows, p-values are trivial — visuals + effect sizes tell the story."
   ]
  },
  {
   "cell_type": "markdown",
   "id": "4735ac5d-7611-4484-9d15-90c33d8a5377",
   "metadata": {},
   "source": [
    "# 2. Purpose / Guiding Question\n"
   ]
  },
  {
   "cell_type": "markdown",
   "id": "cdd5b1f2-a42a-4108-9250-8e9ba815359a",
   "metadata": {},
   "source": [
    "# 3. Exploratory Multivariate Visualization (Descriptive Level)"
   ]
  },
  {
   "cell_type": "raw",
   "id": "e952ac62-ad52-4ab8-9a30-f32ae6c84e97",
   "metadata": {},
   "source": [
    "Goal: Observe combined patterns among 3+ variables visually.\n",
    "\n",
    "To Do:\n",
    "✅ Use plots that show interactions:\n",
    "\n",
    "Stacked barplots → e.g., diagnosis by sex and age group.\n",
    "Grouped barplots or heatmaps → e.g., average length of stay by diagnosis × sex.\n",
    "Facet grids (seaborn catplot, facetgrid) → visualize trends across one more variable.\n",
    "Boxplots by multiple categories → e.g., LOS distribution by diagnosis and sex.\n",
    "Pairplots if you include numerical variables.\n",
    "\n",
    "✅ For large datasets, sample or use aggregated data to keep visuals readable.\n",
    "\n",
    "✅ Annotate key patterns (“diagnoses A and B show sex differences consistent across age groups…”)."
   ]
  },
  {
   "cell_type": "markdown",
   "id": "a218df81-5304-461c-b244-f9160d6453e8",
   "metadata": {},
   "source": [
    "# 5. Insights and Synthesis"
   ]
  },
  {
   "cell_type": "raw",
   "id": "80641e88-57f9-4423-a6f1-a97f5e9503ef",
   "metadata": {},
   "source": [
    "To Do:\n",
    "\n",
    "✅ Summarize the key multivariate insights:\n",
    "\n",
    "Are effects observed in bivariate analyses still present when controlling for other factors?\n",
    "\n",
    "Are there interaction effects (e.g., age moderates the effect of sex on diagnosis pattern)?\n",
    "\n",
    "✅ Highlight which combinations of variables explain most variability."
   ]
  },
  {
   "cell_type": "markdown",
   "id": "e4b0d928-4c43-4cf4-a7e3-89768b8c64b4",
   "metadata": {},
   "source": [
    "# Structure"
   ]
  },
  {
   "cell_type": "raw",
   "id": "bcabdd53-58f3-4c6e-b089-01cbe224246b",
   "metadata": {},
   "source": [
    "1 Objective: short statement\n",
    "2 Variables: table of roles/types\n",
    "3 Exploratory Visuals: mention figures created + short commentary\n",
    "4 Analytical Method: test/model name\n",
    "5 Results Summary: key patterns or statistical outputs\n",
    "6 Interpretation: what it means in context (hospital or clinical logic)\n",
    "7 Next Steps: e.g., explore regression, cluster by diagnosis, etc."
   ]
  },
  {
   "cell_type": "markdown",
   "id": "110115a2-c79c-4aaf-9ae5-2d67d1763453",
   "metadata": {},
   "source": [
    "# Estructura opción 2:"
   ]
  },
  {
   "cell_type": "markdown",
   "id": "3b0fcdeb-fac8-4ebb-9362-233a80f938fb",
   "metadata": {},
   "source": [
    "# 1. Group 1: [Diagnosis] x [Age] x [Sex] x [Insurance]"
   ]
  },
  {
   "cell_type": "markdown",
   "id": "ee031a2a-6778-4baa-9466-e46d538c089b",
   "metadata": {},
   "source": [
    "# 1. Objective & Variables"
   ]
  },
  {
   "cell_type": "raw",
   "id": "73c2b37e-4a62-4688-93c2-54edaba8dcd1",
   "metadata": {},
   "source": [
    "Goal: Check how individual characteristics like sex, insurance and age affect how frequent are specific diagnoses. This helps to answer Q2, noticing the interaction between indidivual chaarcteristics over the prevalence of different health issues.\n",
    "\n",
    "Variables involved:\n",
    "List categorical and numerical variables included (e.g., Sex, Diagnosis, Hospital Type, LOS).\n",
    "\n",
    "Independent variables:\n",
    "Sex -> Categorical nominal\n",
    "Age -> Categorical ordinal\n",
    "Insurance -> Categorical nominal\n",
    "\n",
    "Dependent variable:\n",
    "Diagnosis code/name -> Categorical nominal (high cardinality)\n",
    "\n",
    "Hypotheses or questions guiding the multivariate analysis:\n",
    "“Do differences in diagnosis prevalence persist after controlling for age, insurance and sex?”"
   ]
  },
  {
   "cell_type": "markdown",
   "id": "d9881db2-a31c-405d-864b-c8d5904914cf",
   "metadata": {},
   "source": [
    "# 2. Descriptive Overview (Base Tables)"
   ]
  },
  {
   "cell_type": "raw",
   "id": "61fc2e74-6148-4e8e-845b-79b242b8b798",
   "metadata": {},
   "source": [
    "Create compact tables to describe how variables interact.\n",
    "\n",
    "Deliverables:\n",
    "Crosstab of key categorical combinations (pd.crosstab() or groupby().size()).\n",
    "Summary stats for numeric variables by categories (mean, median, count, IQR).\n",
    "Add totals or proportions (% of total)."
   ]
  },
  {
   "cell_type": "code",
   "execution_count": 68,
   "id": "2e13fbf4-923a-48bf-92b5-6f9ba35a0174",
   "metadata": {},
   "outputs": [
    {
     "data": {
      "text/plain": [
       "Diagnosis_grouped\n",
       "Other                                                                    15817408\n",
       "trastornos de la vesícula biliar, de las vías biliares y del páncreas     1508792\n",
       "influenza [gripe] y neumonía                                              1302182\n",
       "enfermedades del apéndice                                                  810863\n",
       "otras formas de enfermedad del corazón                                     687480\n",
       "                                                                           ...   \n",
       "malformaciones congénitas del sistema nervioso                                  0\n",
       "malformaciones congénitas del sistema respiratorio                              0\n",
       "malformaciones congénitas del sistema urinario                                  0\n",
       "malformaciones y deformidades congénitas del sistema osteomuscular              0\n",
       "otros trastornos articulares                                                    0\n",
       "Name: count, Length: 218, dtype: int64"
      ]
     },
     "execution_count": 68,
     "metadata": {},
     "output_type": "execute_result"
    }
   ],
   "source": [
    "# Count diagnoses\n",
    "diagnosis_counts = df['group names'].value_counts()\n",
    "\n",
    "# Select top 15\n",
    "top15_diagnoses = diagnosis_counts.head(15).index.tolist()\n",
    "\n",
    "# Create a copy of the column\n",
    "diag_grouped = df['group names'].copy()\n",
    "\n",
    "# Convert to categorical if not already\n",
    "diag_grouped = diag_grouped.astype('category')\n",
    "\n",
    "# Add 'Other' as a category\n",
    "if 'Other' not in diag_grouped.cat.categories:\n",
    "    diag_grouped = diag_grouped.cat.add_categories('Other')\n",
    "\n",
    "# Replace all diagnoses not in top 15 with 'Other'\n",
    "diag_grouped = diag_grouped.where(diag_grouped.isin(top15_diagnoses), 'Other')\n",
    "\n",
    "# Optional: attach it back to the dataframe\n",
    "df['Diagnosis_grouped'] = diag_grouped\n",
    "\n",
    "# Check the result\n",
    "df['Diagnosis_grouped'].value_counts()\n"
   ]
  },
  {
   "cell_type": "raw",
   "id": "a4aaba7b-77fe-4b2d-aad6-1067f4bad404",
   "metadata": {},
   "source": [
    "crosstabs (with proportions and totals)"
   ]
  },
  {
   "cell_type": "raw",
   "id": "a26d6f4f-c556-4ff9-a4b8-63a17f7cc5e2",
   "metadata": {},
   "source": [
    "summary stats (central tendency and spread)"
   ]
  },
  {
   "cell_type": "markdown",
   "id": "2aef43cc-b263-4918-b7dc-b554e0dbb5cf",
   "metadata": {},
   "source": [
    "# 3. Visual Exploration (Core Plots)"
   ]
  },
  {
   "cell_type": "raw",
   "id": "a1a773c7-9fef-44fc-a9bd-6e90aeff54c1",
   "metadata": {},
   "source": [
    "Create visuals to identify relationships and concentrations.\n",
    "\n",
    "🔹 a. Categorical × Categorical\n",
    "\n",
    "Stacked or 100% stacked bar plots\n",
    "Mosaic plots or heatmaps (e.g. sns.heatmap(crosstab, annot=True, fmt=\".1f\"))\n",
    "\n",
    "🔹 b. Categorical × Numerical\n",
    "\n",
    "Boxplots or violin plots (LOS by diagnosis or hospital type)\n",
    "Normalized bar plots showing mean/median LOS per group\n",
    "Stripplots for case-mix comparison\n",
    "\n",
    "🔹 c. Temporal Dimension (Optional)\n",
    "\n",
    "If year is available:\n",
    "Line charts or stacked areas over time for key combinations\n",
    "Small multiples (facets) by period\n",
    "\n",
    "🧭 Purpose: Show dynamics, saturation, and evolution of relationships."
   ]
  },
  {
   "cell_type": "markdown",
   "id": "f292e50a-d3c2-4141-9114-a6e8989ca53d",
   "metadata": {},
   "source": [
    "# 4. Concentration & Distribution Insights"
   ]
  },
  {
   "cell_type": "raw",
   "id": "9bf1db2c-6295-4f23-a87a-20282f14938b",
   "metadata": {},
   "source": [
    "Quantify how unequal or concentrated variables are.\n",
    "\n",
    "Ideas:\n",
    "Pareto or Lorenz-like curves (top hospitals / diagnoses vs % discharges).\n",
    "Cumulative distribution plots (e.g., top 10 diagnoses = 60% of total).\n",
    "Herfindahl index or entropy measure (optional).\n",
    "\n",
    "🧮 Purpose: Detect “few categories dominate” or “balanced distribution”."
   ]
  },
  {
   "cell_type": "markdown",
   "id": "ddcbc4f2-8e35-404b-8029-3c7826c82e20",
   "metadata": {},
   "source": [
    "# 5. Conditional Relationships (3D Exploration)"
   ]
  },
  {
   "cell_type": "raw",
   "id": "084bd856-4e33-466d-9cc3-9f52cc20f1db",
   "metadata": {},
   "source": [
    "Explore nested or conditional effects:\n",
    "\n",
    "Within each diagnosis, how does LOS vary by hospital type and sex?\n",
    "Within each age group, which diagnoses have the longest LOS?"
   ]
  },
  {
   "cell_type": "raw",
   "id": "78d10ec3-94b8-4082-9cef-e0432a67fb0f",
   "metadata": {},
   "source": [
    "Code pattern:\n",
    "\n",
    "df.groupby(['diagnosis', 'hospital_type'])['length_of_stay'].agg(['mean','median','count'])"
   ]
  },
  {
   "cell_type": "raw",
   "id": "a1991358-9209-41f6-b285-858ebda8092c",
   "metadata": {},
   "source": [
    "Visuals:\n",
    "\n",
    "Clustered bar plots\n",
    "Heatmaps by subgroup\n",
    "Faceted boxplots (sns.catplot(col='hospital_type', x='diagnosis', y='length_of_stay'))"
   ]
  },
  {
   "cell_type": "markdown",
   "id": "76fe7d9c-9995-4912-8f9b-114a177639a7",
   "metadata": {},
   "source": [
    "# 6. Normalized Profiles (Share-of-Group vs. Share-of-Total)"
   ]
  },
  {
   "cell_type": "raw",
   "id": "25ac021a-1207-4653-8574-203f7eadad69",
   "metadata": {},
   "source": [
    "Compare how a group’s internal composition differs from the overall dataset.\n",
    "\n",
    "Example:\n",
    "\n",
    "Women represent 60% of total discharges, but 75% in mental health cases (+15pp).\n",
    "\n",
    "Public hospitals deliver 80% of long-stay discharges but only 65% of total.\n",
    "\n",
    "Code pattern:\n",
    "\n",
    "share_total = df['diagnosis'].value_counts(normalize=True)\n",
    "share_women = df[df['sex']=='Female']['diagnosis'].value_counts(normalize=True)\n",
    "comparison = (share_women - share_total).sort_values(ascending=False)\n",
    "\n",
    "\n",
    "🧮 Purpose: Identify over- or underrepresentation — key insight generator."
   ]
  },
  {
   "cell_type": "markdown",
   "id": "2c550361-5a08-4311-b073-27791f5a0076",
   "metadata": {},
   "source": [
    "# 7. Outlier & Exception Analysis"
   ]
  },
  {
   "cell_type": "raw",
   "id": "70b1b258-73b5-4f0c-b021-555fa3a3042d",
   "metadata": {},
   "source": [
    "Identify subgroups or facilities that deviate from expected patterns.\n",
    "Highlight hospitals or diagnoses with unusually high LOS.\n",
    "Compare LOS variability across categories.\n",
    "Use visuals like scatterplots or boxplots sorted by median LOS.\n",
    "\n",
    "🧩 Purpose: Detect structural inefficiencies, not random anomalies."
   ]
  },
  {
   "cell_type": "markdown",
   "id": "f6559e3a-3895-4463-816e-3d0df49b6df9",
   "metadata": {},
   "source": [
    "# 8. Effect Size Indicators (Descriptive)"
   ]
  },
  {
   "cell_type": "raw",
   "id": "0750083e-7b14-4134-b53b-b8b7fb694a6b",
   "metadata": {},
   "source": [
    "Even without formal tests, compute ratios or deltas to express strength of relationships:\n",
    "\n",
    "Ratio of means or medians (e.g., LOS Public/Private = 1.6×)\n",
    "Percentage point differences\n",
    "Index values (group average / overall average × 100)\n",
    "\n",
    "🧮 Purpose: Quantify “how much” one group differs from another."
   ]
  },
  {
   "cell_type": "markdown",
   "id": "97bb8807-4dd6-4d0f-94a9-06a14a6fa4d7",
   "metadata": {},
   "source": [
    "# 9. Interpretation & Contextualization"
   ]
  },
  {
   "cell_type": "raw",
   "id": "7786d3d9-6296-4e57-b6bf-d6b1dca3d1cd",
   "metadata": {},
   "source": [
    "Turn findings into insights with policy or operational relevance.\n",
    "\n",
    "Example:\n",
    "Psychiatric and chronic diseases drive extreme LOS outliers in public hospitals, suggesting structural care demand rather than inefficiency.\n",
    "Female patients show higher discharge rates in reproductive and chronic conditions, consistent with demographic prevalence patterns.\n",
    "\n",
    "🧠 Purpose: Link patterns to real-world meaning and healthcare mechanisms."
   ]
  },
  {
   "cell_type": "markdown",
   "id": "70abcba0-2a91-4626-afa4-01cabf62a0fa",
   "metadata": {},
   "source": [
    "# 10. Insight Blocks (Mini Stories)"
   ]
  },
  {
   "cell_type": "raw",
   "id": "f49f3580-a15a-4bb9-9ba7-73c745daf3f6",
   "metadata": {},
   "source": [
    "At the end of each multivariate topic, summarize your strongest insights in concise blocks.\n",
    "\n",
    "Example format:\n",
    "\n",
    "Insight #1: Long-Stay Concentration in Psychiatric Units\n",
    "70% of stays >90 days occur in public psychiatric centers, which absorb chronic demand. These outliers inflate mean LOS by 45%.\n",
    "\n",
    "Insight #2: Sex-Based Diagnostic Patterns\n",
    "Females are overrepresented (+15pp) in endocrine and neoplasm categories, especially in private hospitals, reflecting gendered access and case mix.\n",
    "\n",
    "Each block = short, sharp, and evidence-backed."
   ]
  },
  {
   "cell_type": "markdown",
   "id": "e4d35fea-05dd-498b-9889-f6cee3bae235",
   "metadata": {},
   "source": [
    "# 11. Optional: Synthesis Dashboard (for the Report) --> One-pager structure. Fill it usign univariate an bivariate stages as well"
   ]
  },
  {
   "cell_type": "raw",
   "id": "04872578-e5ce-477d-865d-13c42aea6fc8",
   "metadata": {},
   "source": [
    "For each main question, prepare a one-page visual summary:\n",
    "\n",
    "3–4 most representative visuals\n",
    "Key tables or metrics\n",
    "3 “insight blocks”\n",
    "\n",
    "This becomes the bridge to your final PDF deliverables."
   ]
  },
  {
   "cell_type": "code",
   "execution_count": null,
   "id": "676d3320-ef24-4029-a49a-b91e50e5cd35",
   "metadata": {},
   "outputs": [],
   "source": []
  },
  {
   "cell_type": "code",
   "execution_count": null,
   "id": "32a482b7-c424-449a-8540-234a8b49ce36",
   "metadata": {},
   "outputs": [],
   "source": []
  }
 ],
 "metadata": {
  "kernelspec": {
   "display_name": "Python 3 (ipykernel)",
   "language": "python",
   "name": "python3"
  },
  "language_info": {
   "codemirror_mode": {
    "name": "ipython",
    "version": 3
   },
   "file_extension": ".py",
   "mimetype": "text/x-python",
   "name": "python",
   "nbconvert_exporter": "python",
   "pygments_lexer": "ipython3",
   "version": "3.12.4"
  }
 },
 "nbformat": 4,
 "nbformat_minor": 5
}
