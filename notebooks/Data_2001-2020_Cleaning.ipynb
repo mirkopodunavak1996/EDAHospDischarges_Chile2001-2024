{
 "cells": [
  {
   "cell_type": "code",
   "execution_count": 1,
   "id": "8793fc92-b265-4725-867f-4adf63d39b36",
   "metadata": {},
   "outputs": [],
   "source": [
    "# Import libraries to perform data cleaning tasks\n",
    "import pandas as pd\n",
    "import numpy as np\n",
    "import matplotlib.pyplot as plt\n",
    "import seaborn as sns"
   ]
  },
  {
   "cell_type": "markdown",
   "id": "7c3b793c-eab2-4027-a0a0-9c8890ae46d3",
   "metadata": {},
   "source": [
    "## Data importation and cleaning"
   ]
  },
  {
   "cell_type": "markdown",
   "id": "f8f6c5b9-7794-4458-8d9f-e7d93f96a2cc",
   "metadata": {},
   "source": [
    "Steps:\n",
    "1. Import dataframe that includes hospital discharges from 2001 to 2020, change column names and datatypes\n",
    "2. Explore basic information about the data: general view, column data types, NaN values and shape\n",
    "3. Explore \"Patient ID\" column itself and in relation with the rest of the columns to clean NaN values and duplicates based on this column"
   ]
  },
  {
   "cell_type": "code",
   "execution_count": 14,
   "id": "2879ae6f-9ee3-43e8-94df-27a2eeec4c33",
   "metadata": {},
   "outputs": [],
   "source": [
    "# Change column names and data types\n",
    "new_column_names = {\"ID_PACIENTE\" : \"Patient ID\", \"SEXO\" : \"Sex\", \"EDAD_A_OS\" : \"Age\", \"PREVISION\" : \"Health insurance\",\n",
    "                    \"PERTENENCIA_ESTABLECIMIENTO_SALUD\" : \"Healthcare facility type\",\n",
    "                    \"GLOSA_ESTABLECIMIENTO_SALUD\" : \"Healthcare facility name\", \"DIAS_ESTADA\" : \"Length of stay\",\n",
    "                    \"CONDICION_EGRESO\" : \"Discharge condition\", \"DIAG1\" : \"Primary diagnosis code\", \"GLOSA_DIAG1\" : \"Primary diagnosis name\",\n",
    "                    \"Año\" : \"Year\"}\n",
    "\n",
    "new_dtypes = {\"Sex\": \"category\", \"Patient ID\": \"category\", \"Health insurance\": \"category\", \"Healthcare facility type\": \"category\",\n",
    "              \"Length of stay\": \"int32\", \"Discharge condition\": \"category\", \"Age\": \"int32\"}\n"
   ]
  },
  {
   "cell_type": "code",
   "execution_count": 16,
   "id": "2ff6ec6c-8c35-471e-80fa-aa52e74125f3",
   "metadata": {},
   "outputs": [],
   "source": [
    "# CSV file is lighter (4gb) than a Parquet (6gb) and helps to make the analysis faster.\n",
    "# But as still the file is too heavy, I will load in chunks and change column names and data types in some columns on each chuk separately\n",
    "# After the dataframe is imported by chunks and the column names and data types are modified, the dataframe is exported as a Parquet, which is ligther\n",
    "csv_file = \"Egresos_2001-2020.csv\"\n",
    "chunk_size = 500_000  \n",
    "chunks = []\n",
    "\n",
    "for chunk in pd.read_csv(csv_file, chunksize=chunk_size, low_memory=False):\n",
    "    # Rename columns\n",
    "    chunk = chunk.rename(columns=new_column_names)\n",
    "    \n",
    "    # Convert data types\n",
    "    chunk = chunk.astype(new_dtypes, errors=\"ignore\")  \n",
    "    \n",
    "    chunks.append(chunk)\n",
    "\n",
    "# Merge all chunks\n",
    "df_final = pd.concat(chunks, ignore_index=True)\n",
    "\n",
    "# Save as optimized Parquet\n",
    "df_final.to_parquet(\"Egresos_cleaned.parquet\", engine=\"pyarrow\", compression=\"snappy\")\n"
   ]
  },
  {
   "cell_type": "markdown",
   "id": "81c84d4a-7f1c-490b-8334-05d773b59831",
   "metadata": {},
   "source": [
    "Basic information about the data"
   ]
  },
  {
   "cell_type": "code",
   "execution_count": 4,
   "id": "870acd74-22ed-43a3-b18d-d314090910d7",
   "metadata": {},
   "outputs": [],
   "source": [
    "# The data with the hospital discharges is imported from the parquet file, which is lighter and allows to do it faster\n",
    "df_final = pd.read_parquet(\"Egresos_cleaned.parquet\")"
   ]
  },
  {
   "cell_type": "code",
   "execution_count": 165,
   "id": "eff19010-8677-43cf-a172-cf5933cacb02",
   "metadata": {},
   "outputs": [
    {
     "data": {
      "text/html": [
       "<div>\n",
       "<style scoped>\n",
       "    .dataframe tbody tr th:only-of-type {\n",
       "        vertical-align: middle;\n",
       "    }\n",
       "\n",
       "    .dataframe tbody tr th {\n",
       "        vertical-align: top;\n",
       "    }\n",
       "\n",
       "    .dataframe thead th {\n",
       "        text-align: right;\n",
       "    }\n",
       "</style>\n",
       "<table border=\"1\" class=\"dataframe\">\n",
       "  <thead>\n",
       "    <tr style=\"text-align: right;\">\n",
       "      <th></th>\n",
       "      <th>Patient ID</th>\n",
       "      <th>Sex</th>\n",
       "      <th>Age</th>\n",
       "      <th>Health insurance</th>\n",
       "      <th>Healthcare facility type</th>\n",
       "      <th>Healthcare facility name</th>\n",
       "      <th>Length of stay</th>\n",
       "      <th>Discharge condition</th>\n",
       "      <th>Primary diagnosis code</th>\n",
       "      <th>Primary diagnosis name</th>\n",
       "      <th>Year</th>\n",
       "    </tr>\n",
       "  </thead>\n",
       "  <tbody>\n",
       "    <tr>\n",
       "      <th>0</th>\n",
       "      <td>None</td>\n",
       "      <td>Hombre</td>\n",
       "      <td>60</td>\n",
       "      <td>Fonasa</td>\n",
       "      <td>Privado</td>\n",
       "      <td>Clínica Familia</td>\n",
       "      <td>2</td>\n",
       "      <td>Muerto</td>\n",
       "      <td>C780</td>\n",
       "      <td>TUMOR MALIGNO SECUNDARIO DEL PULMÓN</td>\n",
       "      <td>2001</td>\n",
       "    </tr>\n",
       "    <tr>\n",
       "      <th>1</th>\n",
       "      <td>None</td>\n",
       "      <td>Hombre</td>\n",
       "      <td>74</td>\n",
       "      <td>Fonasa</td>\n",
       "      <td>Publico</td>\n",
       "      <td>Hospital Del Salvador (Santiago, Providencia)</td>\n",
       "      <td>58</td>\n",
       "      <td>Muerto</td>\n",
       "      <td>E145</td>\n",
       "      <td>DIABETES MELLITUS NO ESPECIFICADA, CON COMPLIC...</td>\n",
       "      <td>2001</td>\n",
       "    </tr>\n",
       "    <tr>\n",
       "      <th>2</th>\n",
       "      <td>None</td>\n",
       "      <td>Hombre</td>\n",
       "      <td>71</td>\n",
       "      <td>Fonasa</td>\n",
       "      <td>Publico</td>\n",
       "      <td>Hospital Del Salvador (Santiago, Providencia)</td>\n",
       "      <td>12</td>\n",
       "      <td>Muerto</td>\n",
       "      <td>J189</td>\n",
       "      <td>NEUMONIA, NO ESPECIFICADA</td>\n",
       "      <td>2001</td>\n",
       "    </tr>\n",
       "    <tr>\n",
       "      <th>3</th>\n",
       "      <td>None</td>\n",
       "      <td>Hombre</td>\n",
       "      <td>2</td>\n",
       "      <td>Fonasa</td>\n",
       "      <td>Publico</td>\n",
       "      <td>Instituto de Neurocirugía Dr. Alfonso Asenjo</td>\n",
       "      <td>1</td>\n",
       "      <td>Muerto</td>\n",
       "      <td>S065</td>\n",
       "      <td>HEMORRAGIA SUBDURAL TRAUMÁTICA</td>\n",
       "      <td>2001</td>\n",
       "    </tr>\n",
       "    <tr>\n",
       "      <th>4</th>\n",
       "      <td>None</td>\n",
       "      <td>Hombre</td>\n",
       "      <td>81</td>\n",
       "      <td>Fonasa</td>\n",
       "      <td>Publico</td>\n",
       "      <td>Hospital Dr. Leonardo Guzmán (Antofagasta)</td>\n",
       "      <td>7</td>\n",
       "      <td>Vivo</td>\n",
       "      <td>K830</td>\n",
       "      <td>COLANGITIS</td>\n",
       "      <td>2001</td>\n",
       "    </tr>\n",
       "  </tbody>\n",
       "</table>\n",
       "</div>"
      ],
      "text/plain": [
       "  Patient ID     Sex  Age Health insurance Healthcare facility type  \\\n",
       "0       None  Hombre   60           Fonasa                  Privado   \n",
       "1       None  Hombre   74           Fonasa                  Publico   \n",
       "2       None  Hombre   71           Fonasa                  Publico   \n",
       "3       None  Hombre    2           Fonasa                  Publico   \n",
       "4       None  Hombre   81           Fonasa                  Publico   \n",
       "\n",
       "                        Healthcare facility name  Length of stay  \\\n",
       "0                               Clínica Familia                2   \n",
       "1  Hospital Del Salvador (Santiago, Providencia)              58   \n",
       "2  Hospital Del Salvador (Santiago, Providencia)              12   \n",
       "3   Instituto de Neurocirugía Dr. Alfonso Asenjo               1   \n",
       "4     Hospital Dr. Leonardo Guzmán (Antofagasta)               7   \n",
       "\n",
       "  Discharge condition Primary diagnosis code  \\\n",
       "0              Muerto                   C780   \n",
       "1              Muerto                   E145   \n",
       "2              Muerto                   J189   \n",
       "3              Muerto                   S065   \n",
       "4                Vivo                   K830   \n",
       "\n",
       "                              Primary diagnosis name  Year  \n",
       "0                TUMOR MALIGNO SECUNDARIO DEL PULMÓN  2001  \n",
       "1  DIABETES MELLITUS NO ESPECIFICADA, CON COMPLIC...  2001  \n",
       "2                          NEUMONIA, NO ESPECIFICADA  2001  \n",
       "3                     HEMORRAGIA SUBDURAL TRAUMÁTICA  2001  \n",
       "4                                         COLANGITIS  2001  "
      ]
     },
     "execution_count": 165,
     "metadata": {},
     "output_type": "execute_result"
    }
   ],
   "source": [
    "# A quick view of the data\n",
    "df_final.head()"
   ]
  },
  {
   "cell_type": "code",
   "execution_count": 167,
   "id": "e9930a99-07b3-4b46-a96f-b44c29852222",
   "metadata": {},
   "outputs": [
    {
     "name": "stdout",
     "output_type": "stream",
     "text": [
      "<class 'pandas.core.frame.DataFrame'>\n",
      "RangeIndex: 26340655 entries, 0 to 26340654\n",
      "Data columns (total 11 columns):\n",
      " #   Column                    Dtype   \n",
      "---  ------                    -----   \n",
      " 0   Patient ID                object  \n",
      " 1   Sex                       object  \n",
      " 2   Age                       int32   \n",
      " 3   Health insurance          category\n",
      " 4   Healthcare facility type  category\n",
      " 5   Healthcare facility name  object  \n",
      " 6   Length of stay            int32   \n",
      " 7   Discharge condition       category\n",
      " 8   Primary diagnosis code    object  \n",
      " 9   Primary diagnosis name    object  \n",
      " 10  Year                      int64   \n",
      "dtypes: category(3), int32(2), int64(1), object(5)\n",
      "memory usage: 1.4+ GB\n"
     ]
    }
   ],
   "source": [
    "# the datatype of each column was established in the notebook \"Data_Importation\" and jus updated to the new column names in previous steps\n",
    "df_final.info()"
   ]
  },
  {
   "cell_type": "code",
   "execution_count": 169,
   "id": "dc40f69f-617e-45b4-8c1d-d173ed0fe24e",
   "metadata": {},
   "outputs": [
    {
     "data": {
      "text/plain": [
       "Patient ID                  1944331\n",
       "Sex                               0\n",
       "Age                               0\n",
       "Health insurance                  0\n",
       "Healthcare facility type          0\n",
       "Healthcare facility name       2753\n",
       "Length of stay                    0\n",
       "Discharge condition               0\n",
       "Primary diagnosis code            0\n",
       "Primary diagnosis name            0\n",
       "Year                              0\n",
       "dtype: int64"
      ]
     },
     "execution_count": 169,
     "metadata": {},
     "output_type": "execute_result"
    }
   ],
   "source": [
    "# All missing data was deleted on the importation process, except on \"Healthcare facility name\" and \"Patient ID \" columns\n",
    "df_final.isnull().sum()"
   ]
  },
  {
   "cell_type": "code",
   "execution_count": 170,
   "id": "61bf1a16-6d12-4bc7-b437-7859128d41a5",
   "metadata": {},
   "outputs": [
    {
     "data": {
      "text/plain": [
       "(26340655, 11)"
      ]
     },
     "execution_count": 170,
     "metadata": {},
     "output_type": "execute_result"
    }
   ],
   "source": [
    "# There are around 26 million rows to analyze and 20 years of hospital discharges!!\n",
    "df_final.shape"
   ]
  },
  {
   "cell_type": "markdown",
   "id": "aab846e5-ad88-4496-a407-4b2f75c28a71",
   "metadata": {},
   "source": [
    "# Exploring \"Patient ID\" column"
   ]
  },
  {
   "cell_type": "markdown",
   "id": "cf21915f-277b-4bb3-810d-8195e38c53ec",
   "metadata": {},
   "source": [
    "Null IDs:\n",
    "If missing IDs correlate with missing key data → Drop those rows.\n",
    "If missing IDs appear in specific hospitals → Check their policies.\n",
    "If missing IDs are mostly from deceased patients → It might be a reporting issue.\n",
    "If missing IDs follow a pattern over time → Investigate policy changes.\n",
    "If missing IDs belong to frequent diagnoses → Maybe these visits don’t require ID."
   ]
  },
  {
   "cell_type": "code",
   "execution_count": 14,
   "id": "5fdf1794-0c25-488a-9540-fffcd8ab8574",
   "metadata": {},
   "outputs": [
    {
     "data": {
      "text/plain": [
       "0.07381483110423792"
      ]
     },
     "execution_count": 14,
     "metadata": {},
     "output_type": "execute_result"
    }
   ],
   "source": [
    "# The percentage of null values is 7% and is too high to delete all those rows, because a large amount of valuable data could be lost\n",
    "df_final['Patient ID'].isna().mean()"
   ]
  },
  {
   "cell_type": "code",
   "execution_count": 5,
   "id": "8ee5af6c-d8f9-47b9-be3f-9702d0c7882b",
   "metadata": {},
   "outputs": [],
   "source": [
    "# Groupby to understand if there is a pattern associated to the missing data in the column\n",
    "\n",
    "# First step before grouping by Patient IDs is to split the data between NaN and valid values for the column\n",
    "df_nanID = df_final.loc[df_final['Patient ID'].isnull()]"
   ]
  },
  {
   "cell_type": "code",
   "execution_count": 177,
   "id": "37166d5a-6dc9-4583-b564-2571064c0e5f",
   "metadata": {},
   "outputs": [
    {
     "data": {
      "text/plain": [
       "<Axes: xlabel='Age'>"
      ]
     },
     "execution_count": 177,
     "metadata": {},
     "output_type": "execute_result"
    },
    {
     "data": {
      "image/png": "[encoded data removed]",
      "text/plain": [
       "<Figure size 640x480 with 1 Axes>"
      ]
     },
     "metadata": {},
     "output_type": "display_data"
    }
   ],
   "source": [
    "# There are not more NaN values in certain age, apart of newborns who are the majority\n",
    "df_nanID.groupby(['Age'], sort = True).size().plot.line()"
   ]
  },
  {
   "cell_type": "markdown",
   "id": "812d5904-a748-4eba-a077-17b292495379",
   "metadata": {},
   "source": [
    "# Healthcare facility name"
   ]
  },
  {
   "cell_type": "code",
   "execution_count": 153,
   "id": "be0d2083-acf9-4e39-b375-9780a7b60c8b",
   "metadata": {},
   "outputs": [
    {
     "data": {
      "text/plain": [
       "Healthcare facility name\n",
       "Centro CONIN Puerto Montt                                                   100.000000\n",
       "Clínica de Rehabilitación Chiguayante                                       100.000000\n",
       "Consultorio Belarmina Paredes                                               100.000000\n",
       "Centro Clínico Militar de Concepción                                         89.454545\n",
       "Clínica Lincoyán Ltda.                                                       86.718750\n",
       "Hospital Mutual de Seguridad CChC Los Ángeles                                77.192982\n",
       "Centro de Atención Integral del Instituto de Seguridad del Trabajo (IST)     75.000000\n",
       "Centro CONIN Chillán                                                         72.141372\n",
       "Centro de Salud Mutual CChC Linares                                          68.571429\n",
       "Hospital Clínico Universidad Católica                                        67.237557\n",
       "Name: Patient ID, dtype: float64"
      ]
     },
     "execution_count": 153,
     "metadata": {},
     "output_type": "execute_result"
    }
   ],
   "source": [
    "# There are some healthcare facilities with only NaN patient IDs. If those values are deleted, full information about some hospitals will be lost\n",
    "# So the decision is to keep the NaN IDs for the general analysis dataframe that will be exported and delete the values only to analyze readmissions.\n",
    "# It is important to keep the NaN IDs, beacause hospital efficiency can be analyzed on an aggregated level, without the need of having the patient IDs\n",
    "df_final.groupby('Healthcare facility name')['Patient ID'].apply(lambda x: x.isna().mean() * 100).sort_values(ascending=False).head(10)"
   ]
  },
  {
   "cell_type": "code",
   "execution_count": 6,
   "id": "08f25ca6-f209-40b2-8373-1c6c3ff47ca2",
   "metadata": {},
   "outputs": [],
   "source": [
    "# Separately, The NaN values in column \"Healthcare facility name\" are imputed to \"Unknown hospital\" to avoid losing valuable data from other columns\n",
    "# that could be useful to analyze hospital efficiency, for example.\n",
    "df_final[\"Healthcare facility name\"] = df_final[\"Healthcare facility name\"].fillna(\"Unknown hospital\")"
   ]
  },
  {
   "cell_type": "markdown",
   "id": "ce344003-3751-4b72-a721-c1d406cf5f8f",
   "metadata": {},
   "source": [
    "# Length of stay"
   ]
  },
  {
   "cell_type": "code",
   "execution_count": 203,
   "id": "6076f30f-50d6-4a23-b452-7a7cc7807fa5",
   "metadata": {},
   "outputs": [
    {
     "data": {
      "text/plain": [
       "array([    2,    58,    12,     1,     7,     3,    14,     5,    45,\n",
       "          19,     6,   105,    83,    55,    13,    24,    15,    74,\n",
       "          65,     4,     9,    82,    27,    10,    26,    30,    37,\n",
       "          16,    35,     8,    20,   102,    25,   796,    11,    17,\n",
       "          18,    64,    34,    39,    78,    22,    21,    66,    29,\n",
       "          36,    40,    46,    61,    69,    97,    33,    42,    43,\n",
       "          41,    72,    70,    28,   129,    44,    49,   137,    75,\n",
       "          84,    89,   119,    23,    52,   197,    50,    63,    85,\n",
       "          54,    31,    59,    32,    53,    51,    48,    60,    76,\n",
       "          90,    86,   109,  3849,    67,    68,   262,    57,   104,\n",
       "         163,   185,    56,   134,    81,    38,   110,    80,   115,\n",
       "          73,   152,    71,    91,   297,   228,    79,    62,   103,\n",
       "         153,   182,   181,    47,   122,   125,    95,    77,   116,\n",
       "         140,   108,   114,   168,   179,   189,   118,    87,   507,\n",
       "         202,   333,   188,   100,   148,   198,   120,   180,   107,\n",
       "         195,   307,   112,   124,    99,   150,   121,   210,   117,\n",
       "          93,   204,   269,   216,   111,    98,    96,   123,   162,\n",
       "         128,   270,    88,   160,   518,   151,   106,    92,    94,\n",
       "         407,   416,   425,   456,   233,   614,   212,   141,   290,\n",
       "         176,   170,   138,   156,   207,   194,   218,   277,   302,\n",
       "         127,   135,   154,   165,   169,   217,   247,   279,   308,\n",
       "         315,   335,   342,   347,   348,   167,   126,   101,   143,\n",
       "         192,   286,   330,   227,   166,   142,   208,   144,   146,\n",
       "         145,   251,   132,   385,   289,   360,   113,   475,   274,\n",
       "         239,   374,   136,   175,   486,   398,   133,   206,   358,\n",
       "         249,   224,   314,   357,   155,   331,   256,   285,    -7,\n",
       "         174,   159,   280,   215,   252,   221,   272,   423,   257,\n",
       "         282,   312,   409,   171,   295,   139,   131,   254,   173,\n",
       "         178,   345,   161,   288,   349,   177,   326,   253,   241,\n",
       "         223,   225,   231,   401,   184,   305,   240,   242,   222,\n",
       "         329,   248,   147,   366,   219,   292,   453,   454,   299,\n",
       "         317,   209,   310,   417,  4067,   157,   186,   283,   199,\n",
       "         230,   532,   318,   294,   203,   729,   187,   259,   281,\n",
       "         211,   183,   149,   309,  5374,   383, 15763,  3853,   191,\n",
       "         238,   428,   220,   402,   245,   320,   591,   130,   229,\n",
       "         323,   244,   352,   196,   205,   190,   234,   278,   393,\n",
       "         287,   520,   201,   158,   214,   164,   246,   603,   261,\n",
       "         420,   370,   232,   243,   258,   368,   763,   479,   351,\n",
       "         237,   172,   364,   506,   380,   365,   731,   346,   741,\n",
       "         736,   296,   546,   669,   578,   560,   899,   449,   686,\n",
       "        2592,  3356,   802,   998,  2643,   200,   376,  7147,   367,\n",
       "         322,   372,  8021,  1456,   264,   250,  3017,   544,  5544,\n",
       "        2556,   536,   303,  1945,   634,  1422,   363,   501,   679,\n",
       "         808,   226,  4344,   344,   691,   511,  1263,   213,   268,\n",
       "         389,   337,   732,   293,   341,   300,   319,   564,   427,\n",
       "         193,   377,   461,   542,   421,   588,   882,   566,   436,\n",
       "         905,   471,   822,  1034,   275,   811,  2646,   563,  1357,\n",
       "        1131,  1133,  1868,  1697,   878,   403,   382,   369,   734,\n",
       "         260,   362,   484,   236,   255,   328,   488,   465,   336,\n",
       "         316,   301,   391,   304,   334,   373,   267,   325,   306,\n",
       "        1878,   284,   551, 17639,  1306,   378,  3983,  2190,   689,\n",
       "         514,   908,   392,  2850,  6553,  9840,   567,  1169,   773,\n",
       "         733,   694,   907,   995,   381,   451,  6604, 10406,   699,\n",
       "        3852,  1003,  1189,   575,   386,   408,   375,  3131,   476,\n",
       "         332,   266,   291,   424,   481,   271,   359,  1111,   371,\n",
       "        1097,  4103,   565,  1098,   263,   397, 23308, 11603,  1247,\n",
       "        2167,   339,  1056,   276,  5432,  1378,  1652,  2025,  2901,\n",
       "        2048,  1800,   298,   984,   842,  1104,   356,   489,   670,\n",
       "         617,   559,   265,   405,  1096,  1099,   435,  1673,  1401,\n",
       "       13365,  1813,   586,   521,   350,  9285,  1308,  2628,   986,\n",
       "        5571,   355,   498,  2702,  3297,  2262,   895,  3465,  3880,\n",
       "         491,  1107, 32452,   570,  1043,   720,  4363,   490,   431,\n",
       "        5412,  3058,  8025,   835,  5708,  2196,  1338,   470,   746,\n",
       "         581,  4968,  1751,  1747,   354,   513,  1923,   540,   438,\n",
       "         458,   457,   415,  1798,  2165,   643,   663,   235,   430,\n",
       "         327,   487,  1836,   394,  1834,   395,   655,   273,  3024,\n",
       "        1123,   508,  5076, 17299,   625,   917,   539,   803,   638,\n",
       "        3391,  3858,  4840,   667,   593,  1115,   313,   662,   974,\n",
       "         627,   665,  1640,   959,   647,   706,   843,   912,  3624,\n",
       "        3401,   480,  2849,  3638,  5459,  2169,   900,   517,   608,\n",
       "         713,   909,   396,   388,   497,   510,   384,   390,   529,\n",
       "         340,   343,   467,   419,   571,   656,   473,   426,   569,\n",
       "         524,   893,   750,   568,   338,   673,   528,   432,  1129,\n",
       "        1002,   747,   496,   674,   989,   527,   455,   690])"
      ]
     },
     "execution_count": 203,
     "metadata": {},
     "output_type": "execute_result"
    }
   ],
   "source": [
    "# There are many unique values and outliers, so it is neccesary to handle them before starting the general analysis readmissions specifically\n",
    "df_nanID['Length of stay'].unique()"
   ]
  },
  {
   "cell_type": "code",
   "execution_count": 7,
   "id": "fa9eb1e7-f6fb-45cd-91a7-be76ab037f75",
   "metadata": {},
   "outputs": [],
   "source": [
    "# First step is to understand some central tendency measures both when the ID is missing and a valid value\n",
    "\n",
    "# Dataframe with only valid Patient IDs\n",
    "df_validID = df_final.loc[df_final['Patient ID'].notnull()]"
   ]
  },
  {
   "cell_type": "code",
   "execution_count": 163,
   "id": "b8121b23-7f50-4321-9864-736a07265397",
   "metadata": {},
   "outputs": [
    {
     "name": "stdout",
     "output_type": "stream",
     "text": [
      "Missing IDs count    1.944331e+06\n",
      "mean     5.847893e+00\n",
      "std      4.783473e+01\n",
      "min     -7.000000e+00\n",
      "25%      1.000000e+00\n",
      "50%      3.000000e+00\n",
      "75%      5.000000e+00\n",
      "max      3.245200e+04\n",
      "Name: Length of stay, dtype: float64\n",
      "Valid IDs count    2.439632e+07\n",
      "mean     5.955871e+00\n",
      "std      5.568608e+01\n",
      "min      1.000000e+00\n",
      "25%      1.000000e+00\n",
      "50%      3.000000e+00\n",
      "75%      5.000000e+00\n",
      "max      2.992400e+04\n",
      "Name: Length of stay, dtype: float64\n"
     ]
    }
   ],
   "source": [
    "# Central tendency measures are similar but max values are high on both\n",
    "print(\"Missing IDs\", df_nanID['Length of stay'].describe())\n",
    "print(\"Valid IDs\", df_validID['Length of stay'].describe())\n",
    "# Measures are similar for both data with missing and valid IDs. It is neccesary to delete length of stays < 0, because that is a record mistake"
   ]
  },
  {
   "cell_type": "code",
   "execution_count": 8,
   "id": "3826aa3a-43c1-45e9-a15b-b89bb5eb2cb9",
   "metadata": {},
   "outputs": [
    {
     "data": {
      "text/html": [
       "<div>\n",
       "<style scoped>\n",
       "    .dataframe tbody tr th:only-of-type {\n",
       "        vertical-align: middle;\n",
       "    }\n",
       "\n",
       "    .dataframe tbody tr th {\n",
       "        vertical-align: top;\n",
       "    }\n",
       "\n",
       "    .dataframe thead th {\n",
       "        text-align: right;\n",
       "    }\n",
       "</style>\n",
       "<table border=\"1\" class=\"dataframe\">\n",
       "  <thead>\n",
       "    <tr style=\"text-align: right;\">\n",
       "      <th></th>\n",
       "      <th>Patient ID</th>\n",
       "      <th>Sex</th>\n",
       "      <th>Age</th>\n",
       "      <th>Health insurance</th>\n",
       "      <th>Healthcare facility type</th>\n",
       "      <th>Healthcare facility name</th>\n",
       "      <th>Length of stay</th>\n",
       "      <th>Discharge condition</th>\n",
       "      <th>Primary diagnosis code</th>\n",
       "      <th>Primary diagnosis name</th>\n",
       "      <th>Year</th>\n",
       "    </tr>\n",
       "  </thead>\n",
       "  <tbody>\n",
       "    <tr>\n",
       "      <th>41382</th>\n",
       "      <td>None</td>\n",
       "      <td>Hombre</td>\n",
       "      <td>1</td>\n",
       "      <td>Fonasa</td>\n",
       "      <td>Privado</td>\n",
       "      <td>CONIN Linares</td>\n",
       "      <td>-7</td>\n",
       "      <td>Vivo</td>\n",
       "      <td>J980</td>\n",
       "      <td>ENFERMEDADES DE LA TRÁQUEA Y DE LOS BRONQUIOS,...</td>\n",
       "      <td>2001</td>\n",
       "    </tr>\n",
       "  </tbody>\n",
       "</table>\n",
       "</div>"
      ],
      "text/plain": [
       "      Patient ID     Sex  Age Health insurance Healthcare facility type  \\\n",
       "41382       None  Hombre    1           Fonasa                  Privado   \n",
       "\n",
       "      Healthcare facility name  Length of stay Discharge condition  \\\n",
       "41382            CONIN Linares              -7                Vivo   \n",
       "\n",
       "      Primary diagnosis code  \\\n",
       "41382                   J980   \n",
       "\n",
       "                                  Primary diagnosis name  Year  \n",
       "41382  ENFERMEDADES DE LA TRÁQUEA Y DE LOS BRONQUIOS,...  2001  "
      ]
     },
     "execution_count": 8,
     "metadata": {},
     "output_type": "execute_result"
    }
   ],
   "source": [
    "# Negative values do not make sense in this context\n",
    "df_final[df_final[\"Length of stay\"] < 0]"
   ]
  },
  {
   "cell_type": "code",
   "execution_count": 9,
   "id": "0d545d1a-0f6a-4f51-83e8-85250dcb99ea",
   "metadata": {},
   "outputs": [],
   "source": [
    "df_final.drop([41382], inplace = True)"
   ]
  },
  {
   "cell_type": "code",
   "execution_count": 212,
   "id": "26aa3321-4f3d-4a9b-a1f0-a51d3e3a257c",
   "metadata": {},
   "outputs": [
    {
     "data": {
      "text/html": [
       "<div>\n",
       "<style scoped>\n",
       "    .dataframe tbody tr th:only-of-type {\n",
       "        vertical-align: middle;\n",
       "    }\n",
       "\n",
       "    .dataframe tbody tr th {\n",
       "        vertical-align: top;\n",
       "    }\n",
       "\n",
       "    .dataframe thead th {\n",
       "        text-align: right;\n",
       "    }\n",
       "</style>\n",
       "<table border=\"1\" class=\"dataframe\">\n",
       "  <thead>\n",
       "    <tr style=\"text-align: right;\">\n",
       "      <th></th>\n",
       "      <th>median</th>\n",
       "      <th>count</th>\n",
       "    </tr>\n",
       "    <tr>\n",
       "      <th>Primary diagnosis name</th>\n",
       "      <th></th>\n",
       "      <th></th>\n",
       "    </tr>\n",
       "  </thead>\n",
       "  <tbody>\n",
       "    <tr>\n",
       "      <th>INSUFICIENCIA PULMONAR CRONICA CONSECUTIVA A CIRUGIA</th>\n",
       "      <td>480.0</td>\n",
       "      <td>1</td>\n",
       "    </tr>\n",
       "    <tr>\n",
       "      <th>DEFICIENCIA DE MÚLTIPLES ELEMENTOS NUTRICIONALES</th>\n",
       "      <td>249.5</td>\n",
       "      <td>16</td>\n",
       "    </tr>\n",
       "    <tr>\n",
       "      <th>KLEBSIELLA PNEUMONIAE (K. PNEUMONIAE) COMO CAUSA DE ENFERMEDADES CLASIFICADAS EN OTROS CAPITULOS</th>\n",
       "      <td>125.0</td>\n",
       "      <td>1</td>\n",
       "    </tr>\n",
       "    <tr>\n",
       "      <th>DEFICIENCIA NUTRICIONAL, NO ESPECIFICADA</th>\n",
       "      <td>115.5</td>\n",
       "      <td>198</td>\n",
       "    </tr>\n",
       "    <tr>\n",
       "      <th>RABIA, SIN OTRA ESPECIFICACIÓN</th>\n",
       "      <td>113.0</td>\n",
       "      <td>1</td>\n",
       "    </tr>\n",
       "    <tr>\n",
       "      <th>RETRASO MENTAL PROFUNDO C/DETERIORO SIGNIFICAT. DEL COMPORTAM., QUE REQUIERE ATENC. O TRATAM.</th>\n",
       "      <td>110.0</td>\n",
       "      <td>275</td>\n",
       "    </tr>\n",
       "    <tr>\n",
       "      <th>TRASTORNOS ESPECIFICOS MIXTOS DEL DESARROLLO</th>\n",
       "      <td>107.0</td>\n",
       "      <td>112</td>\n",
       "    </tr>\n",
       "    <tr>\n",
       "      <th>SUPRESIONES VISIBLES SOLO EN LA PROMETAFASE</th>\n",
       "      <td>95.0</td>\n",
       "      <td>1</td>\n",
       "    </tr>\n",
       "    <tr>\n",
       "      <th>CRIPTOCOCOSIS CUTÁNEA</th>\n",
       "      <td>85.0</td>\n",
       "      <td>2</td>\n",
       "    </tr>\n",
       "    <tr>\n",
       "      <th>MUCORMICOSIS DISEMINADA</th>\n",
       "      <td>75.0</td>\n",
       "      <td>4</td>\n",
       "    </tr>\n",
       "    <tr>\n",
       "      <th>NOCARDIOSIS PULMONAR</th>\n",
       "      <td>71.0</td>\n",
       "      <td>1</td>\n",
       "    </tr>\n",
       "    <tr>\n",
       "      <th>SECUELAS DE LA DESNUTRICION PROTEICOCALORICA</th>\n",
       "      <td>70.5</td>\n",
       "      <td>2</td>\n",
       "    </tr>\n",
       "    <tr>\n",
       "      <th>MENINGITIS DEBIDA A COCCIDIOIDOMICOSIS</th>\n",
       "      <td>66.0</td>\n",
       "      <td>4</td>\n",
       "    </tr>\n",
       "    <tr>\n",
       "      <th>RETRASO MENTAL PROFUNDO, CON OTROS DETERIOROS DEL COMPORTAMIENTO</th>\n",
       "      <td>60.0</td>\n",
       "      <td>13</td>\n",
       "    </tr>\n",
       "    <tr>\n",
       "      <th>ESPONDILITIS POR ENTEROBACTERIAS (A01-A04+)</th>\n",
       "      <td>58.0</td>\n",
       "      <td>1</td>\n",
       "    </tr>\n",
       "    <tr>\n",
       "      <th>DEFICIENCIA DE VITAMINA A CON ULCERACIÓN CORNEAL Y XEROSIS</th>\n",
       "      <td>55.5</td>\n",
       "      <td>2</td>\n",
       "    </tr>\n",
       "    <tr>\n",
       "      <th>REHABILITACION DEL DROGADICTO</th>\n",
       "      <td>54.0</td>\n",
       "      <td>55</td>\n",
       "    </tr>\n",
       "    <tr>\n",
       "      <th>MUCORMICOSIS PULMONAR</th>\n",
       "      <td>51.0</td>\n",
       "      <td>3</td>\n",
       "    </tr>\n",
       "    <tr>\n",
       "      <th>RETRASO MENTAL GRAVE C/DETERIORO SIGNIFICAT. DEL COMPORTAM., QUE REQUIERE ATENC. O TRATAM.</th>\n",
       "      <td>50.5</td>\n",
       "      <td>184</td>\n",
       "    </tr>\n",
       "    <tr>\n",
       "      <th>RETRASO MENTAL PROFUNDO CON DETERIORO DEL COMPORTAMIENTO NULO O MINIMO</th>\n",
       "      <td>50.5</td>\n",
       "      <td>38</td>\n",
       "    </tr>\n",
       "  </tbody>\n",
       "</table>\n",
       "</div>"
      ],
      "text/plain": [
       "                                                    median  count\n",
       "Primary diagnosis name                                           \n",
       "INSUFICIENCIA PULMONAR CRONICA CONSECUTIVA A CI...   480.0      1\n",
       "DEFICIENCIA DE MÚLTIPLES ELEMENTOS NUTRICIONALES     249.5     16\n",
       "KLEBSIELLA PNEUMONIAE (K. PNEUMONIAE) COMO CAUS...   125.0      1\n",
       "DEFICIENCIA NUTRICIONAL, NO ESPECIFICADA             115.5    198\n",
       "RABIA, SIN OTRA ESPECIFICACIÓN                       113.0      1\n",
       "RETRASO MENTAL PROFUNDO C/DETERIORO SIGNIFICAT....   110.0    275\n",
       "TRASTORNOS ESPECIFICOS MIXTOS DEL DESARROLLO         107.0    112\n",
       "SUPRESIONES VISIBLES SOLO EN LA PROMETAFASE           95.0      1\n",
       "CRIPTOCOCOSIS CUTÁNEA                                 85.0      2\n",
       "MUCORMICOSIS DISEMINADA                               75.0      4\n",
       "NOCARDIOSIS PULMONAR                                  71.0      1\n",
       "SECUELAS DE LA DESNUTRICION PROTEICOCALORICA          70.5      2\n",
       "MENINGITIS DEBIDA A COCCIDIOIDOMICOSIS                66.0      4\n",
       "RETRASO MENTAL PROFUNDO, CON OTROS DETERIOROS D...    60.0     13\n",
       "ESPONDILITIS POR ENTEROBACTERIAS (A01-A04+)           58.0      1\n",
       "DEFICIENCIA DE VITAMINA A CON ULCERACIÓN CORNEA...    55.5      2\n",
       "REHABILITACION DEL DROGADICTO                         54.0     55\n",
       "MUCORMICOSIS PULMONAR                                 51.0      3\n",
       "RETRASO MENTAL GRAVE C/DETERIORO SIGNIFICAT. DE...    50.5    184\n",
       "RETRASO MENTAL PROFUNDO CON DETERIORO DEL COMPO...    50.5     38"
      ]
     },
     "execution_count": 212,
     "metadata": {},
     "output_type": "execute_result"
    }
   ],
   "source": [
    "# Lets see if long length of stays are related to some specific diagnosis considering the median\n",
    "# Valid IDs\n",
    "df_validID.groupby('Primary diagnosis name')['Length of stay'].agg(['median', 'count']).sort_values(by='median', ascending=False).head(20)"
   ]
  },
  {
   "cell_type": "code",
   "execution_count": 214,
   "id": "0dadecb7-4dd6-4384-9f22-83645426335a",
   "metadata": {
    "scrolled": true
   },
   "outputs": [
    {
     "data": {
      "text/html": [
       "<div>\n",
       "<style scoped>\n",
       "    .dataframe tbody tr th:only-of-type {\n",
       "        vertical-align: middle;\n",
       "    }\n",
       "\n",
       "    .dataframe tbody tr th {\n",
       "        vertical-align: top;\n",
       "    }\n",
       "\n",
       "    .dataframe thead th {\n",
       "        text-align: right;\n",
       "    }\n",
       "</style>\n",
       "<table border=\"1\" class=\"dataframe\">\n",
       "  <thead>\n",
       "    <tr style=\"text-align: right;\">\n",
       "      <th></th>\n",
       "      <th>median</th>\n",
       "      <th>count</th>\n",
       "    </tr>\n",
       "    <tr>\n",
       "      <th>Primary diagnosis name</th>\n",
       "      <th></th>\n",
       "      <th></th>\n",
       "    </tr>\n",
       "  </thead>\n",
       "  <tbody>\n",
       "    <tr>\n",
       "      <th>HISTORIA PERSONAL DE ENFERMEDADES DEL SISTEMA OSTEOMUSCULAR Y DEL TEJIDO CONJUNTIVO</th>\n",
       "      <td>691.5</td>\n",
       "      <td>2</td>\n",
       "    </tr>\n",
       "    <tr>\n",
       "      <th>AGENESIA, APLASIA E HIPOPLASIA DEL PANCREAS</th>\n",
       "      <td>380.0</td>\n",
       "      <td>1</td>\n",
       "    </tr>\n",
       "    <tr>\n",
       "      <th>TUBERCULOSIS DEL OJO</th>\n",
       "      <td>162.0</td>\n",
       "      <td>1</td>\n",
       "    </tr>\n",
       "    <tr>\n",
       "      <th>INMUNODEFICIENCIA ASOCIADA CON OTROS DEFECTOS MAYORES ESPECIFICADOS</th>\n",
       "      <td>155.0</td>\n",
       "      <td>1</td>\n",
       "    </tr>\n",
       "    <tr>\n",
       "      <th>OTRAS MALFORMACIONES CONGENITAS DEL SISTEMA NERVIOSO, ESPECIFICADAS</th>\n",
       "      <td>149.0</td>\n",
       "      <td>1</td>\n",
       "    </tr>\n",
       "    <tr>\n",
       "      <th>DESNUTRICION PROTEICOCALORICA MODERADA</th>\n",
       "      <td>139.0</td>\n",
       "      <td>3</td>\n",
       "    </tr>\n",
       "    <tr>\n",
       "      <th>TRAST. PSICOT. RESIDUAL Y DE COMIENZO TARDIO DEBIDO A USO DE OTROS ESTIMULANTES, INCL.CAFEINA</th>\n",
       "      <td>131.0</td>\n",
       "      <td>1</td>\n",
       "    </tr>\n",
       "    <tr>\n",
       "      <th>DEFICIENCIA NUTRICIONAL, NO ESPECIFICADA</th>\n",
       "      <td>122.0</td>\n",
       "      <td>100</td>\n",
       "    </tr>\n",
       "    <tr>\n",
       "      <th>DESNUTRICION PROTEICOCALORICA LEVE</th>\n",
       "      <td>120.0</td>\n",
       "      <td>123</td>\n",
       "    </tr>\n",
       "    <tr>\n",
       "      <th>DESNUTRICIÓN PROTEICOCALORICA LEVE</th>\n",
       "      <td>120.0</td>\n",
       "      <td>871</td>\n",
       "    </tr>\n",
       "    <tr>\n",
       "      <th>DESNUTRICIÓN PROTEICOCALORICA MODERADA</th>\n",
       "      <td>120.0</td>\n",
       "      <td>418</td>\n",
       "    </tr>\n",
       "    <tr>\n",
       "      <th>SINDROME DE HIPERMOVILIDAD</th>\n",
       "      <td>119.0</td>\n",
       "      <td>1</td>\n",
       "    </tr>\n",
       "    <tr>\n",
       "      <th>CONSULTA RELACIONADA CON LA ORIENTACIÓN Y CONDUCTA SEXUAL DEL PACIENTE</th>\n",
       "      <td>105.0</td>\n",
       "      <td>1</td>\n",
       "    </tr>\n",
       "    <tr>\n",
       "      <th>REHABILITACION DEL DROGADICTO</th>\n",
       "      <td>104.0</td>\n",
       "      <td>9</td>\n",
       "    </tr>\n",
       "    <tr>\n",
       "      <th>PRESENCIA DE IMPLANTES ÓTICOS Y AUDITIVOS</th>\n",
       "      <td>94.0</td>\n",
       "      <td>1</td>\n",
       "    </tr>\n",
       "    <tr>\n",
       "      <th>RASGO DREPANOCITICO</th>\n",
       "      <td>94.0</td>\n",
       "      <td>2</td>\n",
       "    </tr>\n",
       "    <tr>\n",
       "      <th>LARINGOCELE</th>\n",
       "      <td>91.0</td>\n",
       "      <td>2</td>\n",
       "    </tr>\n",
       "    <tr>\n",
       "      <th>SINDROMES DE MALFORMACIONES CONGENITAS CON EXCESO DE CRECIMIENTO PRECOZ</th>\n",
       "      <td>89.5</td>\n",
       "      <td>2</td>\n",
       "    </tr>\n",
       "    <tr>\n",
       "      <th>INDIVIDUOS CON HETEROCROMATINA MARCADORA</th>\n",
       "      <td>84.0</td>\n",
       "      <td>1</td>\n",
       "    </tr>\n",
       "    <tr>\n",
       "      <th>RIÑON LOBULADO, FUSIONADO Y EN HERRADURA</th>\n",
       "      <td>82.0</td>\n",
       "      <td>1</td>\n",
       "    </tr>\n",
       "  </tbody>\n",
       "</table>\n",
       "</div>"
      ],
      "text/plain": [
       "                                                    median  count\n",
       "Primary diagnosis name                                           \n",
       "HISTORIA PERSONAL DE ENFERMEDADES DEL SISTEMA O...   691.5      2\n",
       "AGENESIA, APLASIA E HIPOPLASIA DEL PANCREAS          380.0      1\n",
       "TUBERCULOSIS DEL OJO                                 162.0      1\n",
       "INMUNODEFICIENCIA ASOCIADA CON OTROS DEFECTOS M...   155.0      1\n",
       "OTRAS MALFORMACIONES CONGENITAS DEL SISTEMA NER...   149.0      1\n",
       "DESNUTRICION PROTEICOCALORICA MODERADA               139.0      3\n",
       "TRAST. PSICOT. RESIDUAL Y DE COMIENZO TARDIO DE...   131.0      1\n",
       "DEFICIENCIA NUTRICIONAL, NO ESPECIFICADA             122.0    100\n",
       "DESNUTRICION PROTEICOCALORICA LEVE                   120.0    123\n",
       "DESNUTRICIÓN PROTEICOCALORICA LEVE                   120.0    871\n",
       "DESNUTRICIÓN PROTEICOCALORICA MODERADA               120.0    418\n",
       "SINDROME DE HIPERMOVILIDAD                           119.0      1\n",
       "CONSULTA RELACIONADA CON LA ORIENTACIÓN Y CONDU...   105.0      1\n",
       "REHABILITACION DEL DROGADICTO                        104.0      9\n",
       "PRESENCIA DE IMPLANTES ÓTICOS Y AUDITIVOS             94.0      1\n",
       "RASGO DREPANOCITICO                                   94.0      2\n",
       "LARINGOCELE                                           91.0      2\n",
       "SINDROMES DE MALFORMACIONES CONGENITAS CON EXCE...    89.5      2\n",
       "INDIVIDUOS CON HETEROCROMATINA MARCADORA              84.0      1\n",
       "RIÑON LOBULADO, FUSIONADO Y EN HERRADURA              82.0      1"
      ]
     },
     "execution_count": 214,
     "metadata": {},
     "output_type": "execute_result"
    }
   ],
   "source": [
    "# NaN IDs and primary diagnosis considering the median\n",
    "df_nanID.groupby('Primary diagnosis name')['Length of stay'].agg(['median', 'count']).sort_values(by='median', ascending=False).head(20)"
   ]
  },
  {
   "cell_type": "code",
   "execution_count": 215,
   "id": "39b6e85e-0593-4e72-b479-4e7d7b76c0c1",
   "metadata": {},
   "outputs": [
    {
     "data": {
      "text/html": [
       "<div>\n",
       "<style scoped>\n",
       "    .dataframe tbody tr th:only-of-type {\n",
       "        vertical-align: middle;\n",
       "    }\n",
       "\n",
       "    .dataframe tbody tr th {\n",
       "        vertical-align: top;\n",
       "    }\n",
       "\n",
       "    .dataframe thead th {\n",
       "        text-align: right;\n",
       "    }\n",
       "</style>\n",
       "<table border=\"1\" class=\"dataframe\">\n",
       "  <thead>\n",
       "    <tr style=\"text-align: right;\">\n",
       "      <th></th>\n",
       "      <th>mean</th>\n",
       "      <th>count</th>\n",
       "    </tr>\n",
       "    <tr>\n",
       "      <th>Primary diagnosis name</th>\n",
       "      <th></th>\n",
       "      <th></th>\n",
       "    </tr>\n",
       "  </thead>\n",
       "  <tbody>\n",
       "    <tr>\n",
       "      <th>OTROS PROBLEMAS RELACIONADOS CON DEPENDENCIA DEL PRESTADOR DE SERVICIOS</th>\n",
       "      <td>1176.857143</td>\n",
       "      <td>14</td>\n",
       "    </tr>\n",
       "    <tr>\n",
       "      <th>RETRASO MENTAL PROFUNDO C/DETERIORO SIGNIFICAT. DEL COMPORTAM., QUE REQUIERE ATENC. O TRATAM.</th>\n",
       "      <td>1020.850909</td>\n",
       "      <td>275</td>\n",
       "    </tr>\n",
       "    <tr>\n",
       "      <th>RETRASO MENTAL PROFUNDO CON DETERIORO DEL COMPORTAMIENTO NULO O MINIMO</th>\n",
       "      <td>567.210526</td>\n",
       "      <td>38</td>\n",
       "    </tr>\n",
       "    <tr>\n",
       "      <th>RETRASO MENTAL PROFUNDO, CON OTROS DETERIOROS DEL COMPORTAMIENTO</th>\n",
       "      <td>548.076923</td>\n",
       "      <td>13</td>\n",
       "    </tr>\n",
       "    <tr>\n",
       "      <th>INSUFICIENCIA PULMONAR CRONICA CONSECUTIVA A CIRUGIA</th>\n",
       "      <td>480.000000</td>\n",
       "      <td>1</td>\n",
       "    </tr>\n",
       "    <tr>\n",
       "      <th>RETRASO MENTAL MODERADO C/DETERIORO SIGNIFICAT. DEL COMPORTAM., QUE REQUIERE ATENC. O TRATAM.</th>\n",
       "      <td>468.884488</td>\n",
       "      <td>1212</td>\n",
       "    </tr>\n",
       "    <tr>\n",
       "      <th>RETRASO MENTAL PROFUNDO CON DETERIORO DEL COMPORTAMIENTO DE GRADO NO ESPECIFICADO</th>\n",
       "      <td>356.097166</td>\n",
       "      <td>247</td>\n",
       "    </tr>\n",
       "    <tr>\n",
       "      <th>RETRASO MENTAL GRAVE CON DETERIORO DEL COMPORTAMIENTO NULO O MINIMO</th>\n",
       "      <td>349.900000</td>\n",
       "      <td>120</td>\n",
       "    </tr>\n",
       "    <tr>\n",
       "      <th>PROBLEMAS NO ESPECIFICADOS RELACIONADOS CON DIFICULTADES CON EL MODO DE VIDA</th>\n",
       "      <td>347.872340</td>\n",
       "      <td>47</td>\n",
       "    </tr>\n",
       "    <tr>\n",
       "      <th>DEFICIENCIA DE MÚLTIPLES ELEMENTOS NUTRICIONALES</th>\n",
       "      <td>329.062500</td>\n",
       "      <td>16</td>\n",
       "    </tr>\n",
       "    <tr>\n",
       "      <th>ESQUIZOFRENIA RESIDUAL</th>\n",
       "      <td>300.644457</td>\n",
       "      <td>1786</td>\n",
       "    </tr>\n",
       "    <tr>\n",
       "      <th>RETRASO MENTAL MODERADO CON DETERIORO DEL COMPORTAMIENTO NULO O MINIMO</th>\n",
       "      <td>241.785425</td>\n",
       "      <td>247</td>\n",
       "    </tr>\n",
       "    <tr>\n",
       "      <th>RETRASO MENTAL MODERADO CON DETERIORO DEL COMPORTAMIENTO DE GRADO NO ESPECIFICADO</th>\n",
       "      <td>240.901899</td>\n",
       "      <td>948</td>\n",
       "    </tr>\n",
       "    <tr>\n",
       "      <th>RETRASO MENTAL LEVE, CON DETERIORO DEL COMPORTAMIENTO NULO O MINIMO</th>\n",
       "      <td>237.774411</td>\n",
       "      <td>297</td>\n",
       "    </tr>\n",
       "    <tr>\n",
       "      <th>ENFERMEDAD DE ALZHEIMER DE COMIENZO TARDIO</th>\n",
       "      <td>208.661818</td>\n",
       "      <td>275</td>\n",
       "    </tr>\n",
       "    <tr>\n",
       "      <th>RETRASO MENTAL GRAVE CON DETERIORO DEL COMPORTAMIENTO DE GRADO NO ESPECIFICADO</th>\n",
       "      <td>198.855932</td>\n",
       "      <td>472</td>\n",
       "    </tr>\n",
       "    <tr>\n",
       "      <th>FETO Y RECIEN NACIDO AFECTADOS POR EMBARAZO ECTOPICO</th>\n",
       "      <td>191.500000</td>\n",
       "      <td>8</td>\n",
       "    </tr>\n",
       "    <tr>\n",
       "      <th>OTRAS ESQUIZOFRENIAS</th>\n",
       "      <td>187.987025</td>\n",
       "      <td>1079</td>\n",
       "    </tr>\n",
       "    <tr>\n",
       "      <th>DEFICIENCIA NUTRICIONAL, NO ESPECIFICADA</th>\n",
       "      <td>184.530303</td>\n",
       "      <td>198</td>\n",
       "    </tr>\n",
       "    <tr>\n",
       "      <th>TRISOMIA DE UN CROMOSOMA COMPLETO, MOSAICO (POR FALTA DE DISYUNCION MITOTICA)</th>\n",
       "      <td>184.375000</td>\n",
       "      <td>8</td>\n",
       "    </tr>\n",
       "  </tbody>\n",
       "</table>\n",
       "</div>"
      ],
      "text/plain": [
       "                                                           mean  count\n",
       "Primary diagnosis name                                                \n",
       "OTROS PROBLEMAS RELACIONADOS CON DEPENDENCIA DE...  1176.857143     14\n",
       "RETRASO MENTAL PROFUNDO C/DETERIORO SIGNIFICAT....  1020.850909    275\n",
       "RETRASO MENTAL PROFUNDO CON DETERIORO DEL COMPO...   567.210526     38\n",
       "RETRASO MENTAL PROFUNDO, CON OTROS DETERIOROS D...   548.076923     13\n",
       "INSUFICIENCIA PULMONAR CRONICA CONSECUTIVA A CI...   480.000000      1\n",
       "RETRASO MENTAL MODERADO C/DETERIORO SIGNIFICAT....   468.884488   1212\n",
       "RETRASO MENTAL PROFUNDO CON DETERIORO DEL COMPO...   356.097166    247\n",
       "RETRASO MENTAL GRAVE CON DETERIORO DEL COMPORTA...   349.900000    120\n",
       "PROBLEMAS NO ESPECIFICADOS RELACIONADOS CON DIF...   347.872340     47\n",
       "DEFICIENCIA DE MÚLTIPLES ELEMENTOS NUTRICIONALES     329.062500     16\n",
       "ESQUIZOFRENIA RESIDUAL                               300.644457   1786\n",
       "RETRASO MENTAL MODERADO CON DETERIORO DEL COMPO...   241.785425    247\n",
       "RETRASO MENTAL MODERADO CON DETERIORO DEL COMPO...   240.901899    948\n",
       "RETRASO MENTAL LEVE, CON DETERIORO DEL COMPORTA...   237.774411    297\n",
       "ENFERMEDAD DE ALZHEIMER DE COMIENZO TARDIO           208.661818    275\n",
       "RETRASO MENTAL GRAVE CON DETERIORO DEL COMPORTA...   198.855932    472\n",
       "FETO Y RECIEN NACIDO AFECTADOS POR EMBARAZO ECT...   191.500000      8\n",
       "OTRAS ESQUIZOFRENIAS                                 187.987025   1079\n",
       "DEFICIENCIA NUTRICIONAL, NO ESPECIFICADA             184.530303    198\n",
       "TRISOMIA DE UN CROMOSOMA COMPLETO, MOSAICO (POR...   184.375000      8"
      ]
     },
     "execution_count": 215,
     "metadata": {},
     "output_type": "execute_result"
    }
   ],
   "source": [
    "# Lets see if long length of stays are related to some specific diagnosis considering the mean\n",
    "# Valid IDs\n",
    "df_validID.groupby('Primary diagnosis name')['Length of stay'].agg(['mean', 'count']).sort_values(by='mean', ascending=False).head(20)"
   ]
  },
  {
   "cell_type": "code",
   "execution_count": 217,
   "id": "790c47c4-01de-4b66-9c72-e2194e1cb7bb",
   "metadata": {},
   "outputs": [
    {
     "data": {
      "text/html": [
       "<div>\n",
       "<style scoped>\n",
       "    .dataframe tbody tr th:only-of-type {\n",
       "        vertical-align: middle;\n",
       "    }\n",
       "\n",
       "    .dataframe tbody tr th {\n",
       "        vertical-align: top;\n",
       "    }\n",
       "\n",
       "    .dataframe thead th {\n",
       "        text-align: right;\n",
       "    }\n",
       "</style>\n",
       "<table border=\"1\" class=\"dataframe\">\n",
       "  <thead>\n",
       "    <tr style=\"text-align: right;\">\n",
       "      <th></th>\n",
       "      <th>mean</th>\n",
       "      <th>count</th>\n",
       "    </tr>\n",
       "    <tr>\n",
       "      <th>Primary diagnosis name</th>\n",
       "      <th></th>\n",
       "      <th></th>\n",
       "    </tr>\n",
       "  </thead>\n",
       "  <tbody>\n",
       "    <tr>\n",
       "      <th>HISTORIA PERSONAL DE ENFERMEDADES DEL SISTEMA OSTEOMUSCULAR Y DEL TEJIDO CONJUNTIVO</th>\n",
       "      <td>691.500000</td>\n",
       "      <td>2</td>\n",
       "    </tr>\n",
       "    <tr>\n",
       "      <th>RETRASO MENTAL LEVE C/DETERIORO SIGNIFICAT.DEL COMPORTAM., QUE REQUIERE ATENC. O TRATAMIENTO</th>\n",
       "      <td>438.444444</td>\n",
       "      <td>9</td>\n",
       "    </tr>\n",
       "    <tr>\n",
       "      <th>AGENESIA, APLASIA E HIPOPLASIA DEL PANCREAS</th>\n",
       "      <td>380.000000</td>\n",
       "      <td>1</td>\n",
       "    </tr>\n",
       "    <tr>\n",
       "      <th>SÍNDROME DE INMOVILIDAD (PARAPLÉJICO)</th>\n",
       "      <td>345.875000</td>\n",
       "      <td>8</td>\n",
       "    </tr>\n",
       "    <tr>\n",
       "      <th>ALUCINOSIS ORGÁNICA</th>\n",
       "      <td>292.843750</td>\n",
       "      <td>32</td>\n",
       "    </tr>\n",
       "    <tr>\n",
       "      <th>ENFERMEDAD DE LOS VASOS PULMÓNARES, NO ESPECIFICADO</th>\n",
       "      <td>269.642857</td>\n",
       "      <td>14</td>\n",
       "    </tr>\n",
       "    <tr>\n",
       "      <th>RETRASO MENTAL, NO ESPECIFICADO, CON DETERIORO DEL COMPORTAMIENTO NULO O MINIMO</th>\n",
       "      <td>225.514706</td>\n",
       "      <td>68</td>\n",
       "    </tr>\n",
       "    <tr>\n",
       "      <th>ESQUIZOFRENIA RESIDUAL</th>\n",
       "      <td>218.747368</td>\n",
       "      <td>380</td>\n",
       "    </tr>\n",
       "    <tr>\n",
       "      <th>RETRASO MENTAL MODERADO CON DETERIORO DEL COMPORTAMIENTO NULO O MINIMO</th>\n",
       "      <td>202.692308</td>\n",
       "      <td>13</td>\n",
       "    </tr>\n",
       "    <tr>\n",
       "      <th>DEFICIENCIA NUTRICIONAL, NO ESPECIFICADA</th>\n",
       "      <td>193.460000</td>\n",
       "      <td>100</td>\n",
       "    </tr>\n",
       "    <tr>\n",
       "      <th>TUBERCULOSIS DEL OJO</th>\n",
       "      <td>162.000000</td>\n",
       "      <td>1</td>\n",
       "    </tr>\n",
       "    <tr>\n",
       "      <th>INMUNODEFICIENCIA ASOCIADA CON OTROS DEFECTOS MAYORES ESPECIFICADOS</th>\n",
       "      <td>155.000000</td>\n",
       "      <td>1</td>\n",
       "    </tr>\n",
       "    <tr>\n",
       "      <th>OTRAS MALFORMACIONES CONGÉNITAS DEL ESOFAGO</th>\n",
       "      <td>153.375000</td>\n",
       "      <td>8</td>\n",
       "    </tr>\n",
       "    <tr>\n",
       "      <th>OTRAS MALFORMACIONES CONGENITAS DEL SISTEMA NERVIOSO, ESPECIFICADAS</th>\n",
       "      <td>149.000000</td>\n",
       "      <td>1</td>\n",
       "    </tr>\n",
       "    <tr>\n",
       "      <th>SECUELAS DE TRAUMATISMO SUPERFICIAL DE LA CABEZA</th>\n",
       "      <td>142.631579</td>\n",
       "      <td>19</td>\n",
       "    </tr>\n",
       "    <tr>\n",
       "      <th>DESNUTRICIÓN PROTEICOCALORICA LEVE</th>\n",
       "      <td>141.308840</td>\n",
       "      <td>871</td>\n",
       "    </tr>\n",
       "    <tr>\n",
       "      <th>LESION NO ESPECIFICADA DEL ENCEFALO, DEBIDA A TRAUMATISMO DEL NACIMIENTO</th>\n",
       "      <td>139.875000</td>\n",
       "      <td>8</td>\n",
       "    </tr>\n",
       "    <tr>\n",
       "      <th>RETRASO MENTAL MODERADO C/DETERIORO SIGNIFICAT. DEL COMPORTAM., QUE REQUIERE ATENC. O TRATAM.</th>\n",
       "      <td>132.500000</td>\n",
       "      <td>58</td>\n",
       "    </tr>\n",
       "    <tr>\n",
       "      <th>TRAST. PSICOT. RESIDUAL Y DE COMIENZO TARDIO DEBIDO A USO DE OTROS ESTIMULANTES, INCL.CAFEINA</th>\n",
       "      <td>131.000000</td>\n",
       "      <td>1</td>\n",
       "    </tr>\n",
       "    <tr>\n",
       "      <th>DESNUTRICIÓN PROTEICOCALORICA MODERADA</th>\n",
       "      <td>127.935407</td>\n",
       "      <td>418</td>\n",
       "    </tr>\n",
       "  </tbody>\n",
       "</table>\n",
       "</div>"
      ],
      "text/plain": [
       "                                                          mean  count\n",
       "Primary diagnosis name                                               \n",
       "HISTORIA PERSONAL DE ENFERMEDADES DEL SISTEMA O...  691.500000      2\n",
       "RETRASO MENTAL LEVE C/DETERIORO SIGNIFICAT.DEL ...  438.444444      9\n",
       "AGENESIA, APLASIA E HIPOPLASIA DEL PANCREAS         380.000000      1\n",
       "SÍNDROME DE INMOVILIDAD (PARAPLÉJICO)               345.875000      8\n",
       "ALUCINOSIS ORGÁNICA                                 292.843750     32\n",
       "ENFERMEDAD DE LOS VASOS PULMÓNARES, NO ESPECIFI...  269.642857     14\n",
       "RETRASO MENTAL, NO ESPECIFICADO, CON DETERIORO ...  225.514706     68\n",
       "ESQUIZOFRENIA RESIDUAL                              218.747368    380\n",
       "RETRASO MENTAL MODERADO CON DETERIORO DEL COMPO...  202.692308     13\n",
       "DEFICIENCIA NUTRICIONAL, NO ESPECIFICADA            193.460000    100\n",
       "TUBERCULOSIS DEL OJO                                162.000000      1\n",
       "INMUNODEFICIENCIA ASOCIADA CON OTROS DEFECTOS M...  155.000000      1\n",
       "OTRAS MALFORMACIONES CONGÉNITAS DEL ESOFAGO         153.375000      8\n",
       "OTRAS MALFORMACIONES CONGENITAS DEL SISTEMA NER...  149.000000      1\n",
       "SECUELAS DE TRAUMATISMO SUPERFICIAL DE LA CABEZA    142.631579     19\n",
       "DESNUTRICIÓN PROTEICOCALORICA LEVE                  141.308840    871\n",
       "LESION NO ESPECIFICADA DEL ENCEFALO, DEBIDA A T...  139.875000      8\n",
       "RETRASO MENTAL MODERADO C/DETERIORO SIGNIFICAT....  132.500000     58\n",
       "TRAST. PSICOT. RESIDUAL Y DE COMIENZO TARDIO DE...  131.000000      1\n",
       "DESNUTRICIÓN PROTEICOCALORICA MODERADA              127.935407    418"
      ]
     },
     "execution_count": 217,
     "metadata": {},
     "output_type": "execute_result"
    }
   ],
   "source": [
    "df_nanID.groupby('Primary diagnosis name')['Length of stay'].agg(['mean', 'count']).sort_values(by='mean', ascending=False).head(20)"
   ]
  },
  {
   "cell_type": "code",
   "execution_count": 16,
   "id": "277ae43c-0f9b-4e7c-ac81-087801b12cc8",
   "metadata": {},
   "outputs": [],
   "source": [
    "# \"OTROS PROBLEMAS RELACIONADOS CON DEPENDENCIA DEL PRESTADOR DE SERVICIOS\" is a diagnosis that is going to be deleted, as it is does not represent a\n",
    "# health issue, but a problem related to the hospital dependencies. Also it affects the distribution of lenght of stays unnecesarily\n",
    "df_final = df_final.drop(df_final[df_final['Length of stay'] == 'OTROS PROBLEMAS RELACIONADOS CON DEPENDENCIA DEL PRESTADOR DE SERVICIOS'].index)"
   ]
  },
  {
   "cell_type": "markdown",
   "id": "8d8c4f67-7b31-4c75-b390-1a83e6609396",
   "metadata": {},
   "source": [
    "As the 4 previous tables show, mainly long length of stays are for people with diagnosis related to mental health or nutrition. When taking the median, both for valid and NaN IDs, mainly long stays are for people with nutrition issues and in second place mental health problems. However, when showing the health issues with the highest mean, mental health issues are notoriously the ones with the longest stays and most frequent ones as well, followed by nutrition related diagnosis, being this even more notorious for valid IDs. The reason for this it is because the mean is affected by extreme values and people with mental health issues could spend a high amount of days admitted in a hospital to receive treatment and care."
   ]
  },
  {
   "cell_type": "markdown",
   "id": "9ea07d19-98da-4ec3-8850-bf78c2e25a7b",
   "metadata": {},
   "source": [
    "Considering the length of stay, central tendency measures are similar for both valid and NaN IDs, so it is useful to define outliers and understand the distribution of the data more in depth."
   ]
  },
  {
   "cell_type": "markdown",
   "id": "997cd2e1-75f6-4553-9153-ab570879bb36",
   "metadata": {},
   "source": [
    "Outliers will be defined with a more strict measue, that means that values have to be lower/higher than usual to be considered outliers"
   ]
  },
  {
   "cell_type": "markdown",
   "id": "022fbfbb-d44b-46b6-a31a-8e4bca40abbb",
   "metadata": {},
   "source": [
    "Calculate:\n",
    "\n",
    "Q1 = 25th percentile\n",
    "\n",
    "Q3 = 75th percentile\n",
    "\n",
    "IQR = Q3 - Q1\n",
    "\n",
    "Define extreme as:\n",
    "Value > Q3 + 3 × IQR → very high outlier\n",
    "Value < Q1 - 3 × IQR → very low outlier"
   ]
  },
  {
   "cell_type": "code",
   "execution_count": 17,
   "id": "7ff1f79e-3e19-4574-a936-b46ba34d5e81",
   "metadata": {},
   "outputs": [],
   "source": [
    "q1 = df_final[\"Length of stay\"].quantile(0.25)\n",
    "q3 = df_final[\"Length of stay\"].quantile(0.75)\n",
    "IQR = q3 - q1\n",
    "\n",
    "low_outlier = 0\n",
    "high_outlier = q3 + 3 * IQR"
   ]
  },
  {
   "cell_type": "code",
   "execution_count": 18,
   "id": "4bf1449c-0045-4efc-a48f-7decb94dbe87",
   "metadata": {},
   "outputs": [
    {
     "name": "stdout",
     "output_type": "stream",
     "text": [
      "0\n",
      "17.0\n"
     ]
    }
   ],
   "source": [
    "# Only makes sense to consider \"high outleirs\" as the minimum possible length of stay is 0 days\n",
    "print(low_outlier)\n",
    "print(high_outlier)"
   ]
  },
  {
   "cell_type": "code",
   "execution_count": 19,
   "id": "fd78cc14-895d-46a0-80b0-fa1021b5d8c7",
   "metadata": {},
   "outputs": [
    {
     "data": {
      "text/plain": [
       "1456629"
      ]
     },
     "execution_count": 19,
     "metadata": {},
     "output_type": "execute_result"
    }
   ],
   "source": [
    "# This is the number of outliers\n",
    "len(df_final[df_final[\"Length of stay\"] > high_outlier])"
   ]
  },
  {
   "cell_type": "code",
   "execution_count": 20,
   "id": "e078d3b2-d88e-451f-8241-8c9d55932505",
   "metadata": {},
   "outputs": [
    {
     "data": {
      "text/plain": [
       "100184"
      ]
     },
     "execution_count": 20,
     "metadata": {},
     "output_type": "execute_result"
    }
   ],
   "source": [
    "# 100.184 outliers have NaN IDs and 1.356.445 with valid IDs\n",
    "df_nanID_outliers = df_nanID[df_nanID[\"Length of stay\"] > high_outlier]\n",
    "len(df_nanID_outliers)"
   ]
  },
  {
   "cell_type": "code",
   "execution_count": 21,
   "id": "dbd1c629-5f29-4400-9762-b078c2997a53",
   "metadata": {},
   "outputs": [
    {
     "data": {
      "text/plain": [
       "1356445"
      ]
     },
     "execution_count": 21,
     "metadata": {},
     "output_type": "execute_result"
    }
   ],
   "source": [
    "df_validID_outliers = df_validID[df_validID[\"Length of stay\"] > high_outlier]\n",
    "len(df_validID_outliers)"
   ]
  },
  {
   "cell_type": "code",
   "execution_count": null,
   "id": "96cd2399-60f8-4442-9860-e54434c511c4",
   "metadata": {},
   "outputs": [],
   "source": [
    "# Both NaN and valid ID outliers are around 5% of the total amount of NaN and valid ID values, respectively.\n",
    "# This mean that outliers are not related to patients with or without ID"
   ]
  },
  {
   "cell_type": "code",
   "execution_count": 184,
   "id": "cadf7672-e063-48ca-910b-75a7cb55230e",
   "metadata": {},
   "outputs": [
    {
     "data": {
      "text/plain": [
       "5.152620618608663"
      ]
     },
     "execution_count": 184,
     "metadata": {},
     "output_type": "execute_result"
    }
   ],
   "source": [
    "len(df_nanID_outliers) * 100 / len(df_nanID)"
   ]
  },
  {
   "cell_type": "code",
   "execution_count": 186,
   "id": "2d039688-13e1-4458-8ebe-540277a36f23",
   "metadata": {},
   "outputs": [
    {
     "data": {
      "text/plain": [
       "5.560038471369703"
      ]
     },
     "execution_count": 186,
     "metadata": {},
     "output_type": "execute_result"
    }
   ],
   "source": [
    "len(df_validID_outliers) * 100 / len(df_validID)"
   ]
  },
  {
   "cell_type": "code",
   "execution_count": 239,
   "id": "03f83e55-b32b-4d9c-9bbe-b19913d311e4",
   "metadata": {},
   "outputs": [
    {
     "data": {
      "image/png": "[encoded data removed]",
      "text/plain": [
       "<Figure size 1200x600 with 2 Axes>"
      ]
     },
     "metadata": {},
     "output_type": "display_data"
    }
   ],
   "source": [
    "\n",
    "# Lets plot the distribution of the outliers in both dataframes (valid and NaN IDs)\n",
    "plt.figure(figsize=(12, 6))\n",
    "\n",
    "plt.subplot(1, 2, 1)\n",
    "# Add a small constant to avoid log(0) if necessary\n",
    "log_los = np.log1p(df_validID_outliers['Length of stay'])\n",
    "\n",
    "# Plot the histogram\n",
    "log_los.plot.hist(bins=50)\n",
    "\n",
    "# Get current axis\n",
    "ax = plt.gca()\n",
    "\n",
    "# Define custom ticks in log-space (you can adjust the number/spacing as needed)\n",
    "tick_positions = np.linspace(ax.get_xlim()[0], ax.get_xlim()[1], 8)\n",
    "\n",
    "# Apply the inverse log transformation (exp(x) - 1) to get original scale (days)\n",
    "tick_labels = np.expm1(tick_positions).round().astype(int)\n",
    "\n",
    "# Set both positions and labels\n",
    "ax.set_xticks(tick_positions)\n",
    "ax.set_xticklabels(tick_labels)\n",
    "\n",
    "plt.title('Log-Transformed Length of Stay Valid IDs Outliers')\n",
    "plt.xlabel('Length of Stay (Days)')  # Show original scale on the x-axis\n",
    "\n",
    "\n",
    "plt.subplot(1, 2, 2)\n",
    "# Add a small constant to avoid log(0) if necessary\n",
    "log_los = np.log1p(df_nanID_outliers['Length of stay'])\n",
    "\n",
    "# Plot the histogram\n",
    "log_los.plot.hist(bins=50)\n",
    "\n",
    "# Get current axis\n",
    "ax = plt.gca()\n",
    "\n",
    "# Define custom ticks in log-space (you can adjust the number/spacing as needed)\n",
    "tick_positions = np.linspace(ax.get_xlim()[0], ax.get_xlim()[1], 8)\n",
    "\n",
    "# Apply the inverse log transformation (exp(x) - 1) to get original scale (days)\n",
    "tick_labels = np.expm1(tick_positions).round().astype(int)\n",
    "\n",
    "# Set both positions and labels\n",
    "ax.set_xticks(tick_positions)\n",
    "ax.set_xticklabels(tick_labels)\n",
    "\n",
    "plt.title('Log-Transformed Length of Stay NaN IDs Outliers')\n",
    "plt.xlabel('Length of Stay (Days)')  # Show original scale on the x-axis\n",
    "\n",
    "\n",
    "\n",
    "plt.show()"
   ]
  },
  {
   "cell_type": "code",
   "execution_count": null,
   "id": "2c49caff-b4c5-463b-abc1-e8975c9bf9ad",
   "metadata": {},
   "outputs": [],
   "source": [
    "# The distributions are similar! So in conclusion NaN IDs are not related to a certain length of stay or outliers of it"
   ]
  },
  {
   "cell_type": "markdown",
   "id": "e4c80be6-0c02-4058-be72-4c09fe6cfe1a",
   "metadata": {},
   "source": [
    "# Patient health insurance"
   ]
  },
  {
   "cell_type": "code",
   "execution_count": 241,
   "id": "e64ee4bc-e38f-45ae-85af-9752942fa405",
   "metadata": {},
   "outputs": [
    {
     "name": "stderr",
     "output_type": "stream",
     "text": [
      "C:\\Users\\mirko\\AppData\\Local\\Temp\\ipykernel_15232\\3554200689.py:2: FutureWarning: The default of observed=False is deprecated and will be changed to True in a future version of pandas. Pass observed=False to retain current behavior or observed=True to adopt the future default and silence this warning.\n",
      "  df_nanID.groupby(['Health insurance']).size()\n"
     ]
    },
    {
     "data": {
      "text/plain": [
       "Health insurance\n",
       "Fonasa    1502248\n",
       "Isapre     442083\n",
       "dtype: int64"
      ]
     },
     "execution_count": 241,
     "metadata": {},
     "output_type": "execute_result"
    }
   ],
   "source": [
    "# Analyze by patient health insurance: make sense the difference because the majority of population has Fonasa\n",
    "df_nanID.groupby(['Health insurance']).size()"
   ]
  },
  {
   "cell_type": "markdown",
   "id": "d53995ca-e7ea-4370-bede-b158aa7d7637",
   "metadata": {},
   "source": [
    "# Discharge condition"
   ]
  },
  {
   "cell_type": "code",
   "execution_count": 243,
   "id": "58fdc456-24a1-4e64-bda6-6944cac422c3",
   "metadata": {},
   "outputs": [
    {
     "name": "stderr",
     "output_type": "stream",
     "text": [
      "C:\\Users\\mirko\\AppData\\Local\\Temp\\ipykernel_15232\\999373616.py:2: FutureWarning: The default of observed=False is deprecated and will be changed to True in a future version of pandas. Pass observed=False to retain current behavior or observed=True to adopt the future default and silence this warning.\n",
      "  df_nanID.groupby(['Discharge condition']).size()\n"
     ]
    },
    {
     "data": {
      "text/plain": [
       "Discharge condition\n",
       "Muerto      37246\n",
       "Vivo      1907085\n",
       "dtype: int64"
      ]
     },
     "execution_count": 243,
     "metadata": {},
     "output_type": "execute_result"
    }
   ],
   "source": [
    "# Analyze by patient discharge condition: majority of people is alive after a discharge, so make sense to have more Nan IDs with alive population\n",
    "df_nanID.groupby(['Discharge condition']).size()"
   ]
  },
  {
   "cell_type": "markdown",
   "id": "28c77af2-1cab-4719-96c3-5a59b6634347",
   "metadata": {},
   "source": [
    "# Trends over the time"
   ]
  },
  {
   "cell_type": "code",
   "execution_count": 245,
   "id": "55b15921-368d-4e93-8d14-3cb03c73f88d",
   "metadata": {},
   "outputs": [
    {
     "data": {
      "image/png": "[encoded data removed]",
      "text/plain": [
       "<Figure size 640x480 with 1 Axes>"
      ]
     },
     "metadata": {},
     "output_type": "display_data"
    }
   ],
   "source": [
    "# Check Trends Over Time: less NaN IDs over the time due to improvements in data collection and policies.\n",
    "# Between 2007 and 2008 there was an important reduction of NaN IDs and after that the trend is steady over the years until 2020\n",
    "plt.figure()\n",
    "df_nanID.groupby(['Year'], sort = True).size().plot.line(style='.-')\n",
    "plt.xticks(list(df_final[\"Year\"].unique()), rotation = 45)\n",
    "plt.show()"
   ]
  },
  {
   "cell_type": "markdown",
   "id": "0ef22103-7e97-4d73-8d31-54cae103f088",
   "metadata": {},
   "source": [
    "# Gender"
   ]
  },
  {
   "cell_type": "code",
   "execution_count": 247,
   "id": "8e53dce0-bb44-4138-b54d-39ee540e35a8",
   "metadata": {},
   "outputs": [
    {
     "data": {
      "text/plain": [
       "Sex\n",
       "Hombre    981351\n",
       "Mujer     962980\n",
       "dtype: int64"
      ]
     },
     "execution_count": 247,
     "metadata": {},
     "output_type": "execute_result"
    }
   ],
   "source": [
    "# Compare with Gender: NaN IDs are even for both genders\n",
    "df_nanID.groupby(['Sex']).size()"
   ]
  },
  {
   "cell_type": "markdown",
   "id": "50e0e98a-bc7d-4f62-9e44-3b9fb0dfc4b0",
   "metadata": {},
   "source": [
    "# Diagnosis"
   ]
  },
  {
   "cell_type": "code",
   "execution_count": 28,
   "id": "16f5d28b-481b-44de-8a36-9c4bbb036941",
   "metadata": {},
   "outputs": [],
   "source": [
    "# Count valid and nan ID values for each diagnosis\n",
    "counts_nan = df_nanID[\"Primary diagnosis name\"].value_counts()\n",
    "counts_values = df_final[\"Primary diagnosis name\"].value_counts()"
   ]
  },
  {
   "cell_type": "code",
   "execution_count": 29,
   "id": "30448d25-a72f-4d48-8783-0f803629f34b",
   "metadata": {},
   "outputs": [],
   "source": [
    "# Convert the value counts output series to a dataframe\n",
    "counts_df = counts_values.rename_axis('Primary diagnosis name').reset_index(name='Frequency of values')\n",
    "counts_nanvals = counts_nan.rename_axis('Primary diagnosis name').reset_index(name='Frequency of nan')"
   ]
  },
  {
   "cell_type": "code",
   "execution_count": 30,
   "id": "981e05b7-1458-444d-b319-b94cf2c37a1d",
   "metadata": {},
   "outputs": [],
   "source": [
    "# Create a dataframe object to save the percent of nan values for each diagnosis out of the total for each of them\n",
    "nanID_disease = pd.DataFrame(counts_nan/counts_values*100).reset_index().sort_values(by='count', ascending=False)"
   ]
  },
  {
   "cell_type": "code",
   "execution_count": 31,
   "id": "b9b73993-df27-4d5f-93ff-b70ce611f2c8",
   "metadata": {},
   "outputs": [],
   "source": [
    "# Merge the 3 dataframes to have the count of people (IDs) for each diangosis, the nan values and the percent of nan values out of the total cases for each diagnosis\n",
    "df_diseases = nanID_disease.merge(counts_df, on='Primary diagnosis name', how='left')\n",
    "df_diseases = df_diseases.merge(counts_nanvals, on='Primary diagnosis name', how='left')\n",
    "df_diseases = df_diseases.rename(columns={\"count\": \"Percent of nan\"})"
   ]
  },
  {
   "cell_type": "code",
   "execution_count": 37,
   "id": "b1404401-0b0c-4782-b5f4-ac624fc5263c",
   "metadata": {},
   "outputs": [
    {
     "data": {
      "text/plain": [
       "Primary diagnosis name       0\n",
       "Percent of nan            1874\n",
       "Frequency of values          0\n",
       "Frequency of nan          1874\n",
       "dtype: int64"
      ]
     },
     "execution_count": 37,
     "metadata": {},
     "output_type": "execute_result"
    }
   ],
   "source": [
    "# This shows that when there are not NaN IDs the percent is NaN and should be 0%. Lets replace that value\n",
    "df_diseases.isnull().sum()"
   ]
  },
  {
   "cell_type": "code",
   "execution_count": 36,
   "id": "43beb8af-65e8-44ec-9502-00a8726c52db",
   "metadata": {},
   "outputs": [],
   "source": [
    "# NaN values in percent mean that is 0%\n",
    "df_diseases['Percent of nan'] = df_diseases['Percent of nan'].fillna(0)"
   ]
  },
  {
   "cell_type": "code",
   "execution_count": 33,
   "id": "868af398-3db1-4ac6-a1c4-c6696c3a75e9",
   "metadata": {},
   "outputs": [
    {
     "data": {
      "text/html": [
       "<div>\n",
       "<style scoped>\n",
       "    .dataframe tbody tr th:only-of-type {\n",
       "        vertical-align: middle;\n",
       "    }\n",
       "\n",
       "    .dataframe tbody tr th {\n",
       "        vertical-align: top;\n",
       "    }\n",
       "\n",
       "    .dataframe thead th {\n",
       "        text-align: right;\n",
       "    }\n",
       "</style>\n",
       "<table border=\"1\" class=\"dataframe\">\n",
       "  <thead>\n",
       "    <tr style=\"text-align: right;\">\n",
       "      <th></th>\n",
       "      <th>Primary diagnosis name</th>\n",
       "      <th>Percent of nan</th>\n",
       "      <th>Frequency of values</th>\n",
       "      <th>Frequency of nan</th>\n",
       "    </tr>\n",
       "  </thead>\n",
       "  <tbody>\n",
       "    <tr>\n",
       "      <th>5</th>\n",
       "      <td>DISFUNCION HIPOTALAMICA, NO CLASIFICADA EN OTR...</td>\n",
       "      <td>100.0</td>\n",
       "      <td>4</td>\n",
       "      <td>4.0</td>\n",
       "    </tr>\n",
       "    <tr>\n",
       "      <th>28</th>\n",
       "      <td>PRESENCIA DE VALVULA CARDIACA PROTESICA</td>\n",
       "      <td>100.0</td>\n",
       "      <td>4</td>\n",
       "      <td>4.0</td>\n",
       "    </tr>\n",
       "    <tr>\n",
       "      <th>15</th>\n",
       "      <td>TUMOR MALIGNO DEL CLITORIS</td>\n",
       "      <td>100.0</td>\n",
       "      <td>3</td>\n",
       "      <td>3.0</td>\n",
       "    </tr>\n",
       "    <tr>\n",
       "      <th>30</th>\n",
       "      <td>PALUDISMO CONGENITO POR PLASMODIUM FALCIPARUM</td>\n",
       "      <td>100.0</td>\n",
       "      <td>3</td>\n",
       "      <td>3.0</td>\n",
       "    </tr>\n",
       "    <tr>\n",
       "      <th>39</th>\n",
       "      <td>CONSULTA PARA ATENCION Y SUPERVISION DE LA SAL...</td>\n",
       "      <td>100.0</td>\n",
       "      <td>2</td>\n",
       "      <td>2.0</td>\n",
       "    </tr>\n",
       "  </tbody>\n",
       "</table>\n",
       "</div>"
      ],
      "text/plain": [
       "                               Primary diagnosis name  Percent of nan  \\\n",
       "5   DISFUNCION HIPOTALAMICA, NO CLASIFICADA EN OTR...           100.0   \n",
       "28            PRESENCIA DE VALVULA CARDIACA PROTESICA           100.0   \n",
       "15                         TUMOR MALIGNO DEL CLITORIS           100.0   \n",
       "30      PALUDISMO CONGENITO POR PLASMODIUM FALCIPARUM           100.0   \n",
       "39  CONSULTA PARA ATENCION Y SUPERVISION DE LA SAL...           100.0   \n",
       "\n",
       "    Frequency of values  Frequency of nan  \n",
       "5                     4               4.0  \n",
       "28                    4               4.0  \n",
       "15                    3               3.0  \n",
       "30                    3               3.0  \n",
       "39                    2               2.0  "
      ]
     },
     "execution_count": 33,
     "metadata": {},
     "output_type": "execute_result"
    }
   ],
   "source": [
    "# Diagnosis with only nan IDs: This shows that very rare diagnosis have 100% of NaN Patient IDs with maximun 4 IDs. \n",
    "df_diseases[df_diseases['Percent of nan'] == 100].sort_values(by='Frequency of values', ascending=False).head(5)"
   ]
  },
  {
   "cell_type": "code",
   "execution_count": 35,
   "id": "db7e0ea1-344c-48b7-9135-0beada43623d",
   "metadata": {},
   "outputs": [
    {
     "data": {
      "text/html": [
       "<div>\n",
       "<style scoped>\n",
       "    .dataframe tbody tr th:only-of-type {\n",
       "        vertical-align: middle;\n",
       "    }\n",
       "\n",
       "    .dataframe tbody tr th {\n",
       "        vertical-align: top;\n",
       "    }\n",
       "\n",
       "    .dataframe thead th {\n",
       "        text-align: right;\n",
       "    }\n",
       "</style>\n",
       "<table border=\"1\" class=\"dataframe\">\n",
       "  <thead>\n",
       "    <tr style=\"text-align: right;\">\n",
       "      <th></th>\n",
       "      <th>Primary diagnosis name</th>\n",
       "      <th>Percent of nan</th>\n",
       "      <th>Frequency of values</th>\n",
       "      <th>Frequency of nan</th>\n",
       "    </tr>\n",
       "  </thead>\n",
       "  <tbody>\n",
       "    <tr>\n",
       "      <th>5695</th>\n",
       "      <td>PARTO UNICO ESPONTANEO, SIN OTRA ESPECIFICACION</td>\n",
       "      <td>5.845318</td>\n",
       "      <td>965713</td>\n",
       "      <td>56449.0</td>\n",
       "    </tr>\n",
       "    <tr>\n",
       "      <th>6038</th>\n",
       "      <td>PARTO UNICO ESPONTANEO, PRESENTACION CEFALICA ...</td>\n",
       "      <td>5.409004</td>\n",
       "      <td>693270</td>\n",
       "      <td>37499.0</td>\n",
       "    </tr>\n",
       "    <tr>\n",
       "      <th>7581</th>\n",
       "      <td>PARTO POR CESAREA, SIN OTRA ESPECIFICACION</td>\n",
       "      <td>3.399915</td>\n",
       "      <td>608280</td>\n",
       "      <td>20681.0</td>\n",
       "    </tr>\n",
       "    <tr>\n",
       "      <th>4958</th>\n",
       "      <td>NEUMONIA, NO ESPECIFICADA</td>\n",
       "      <td>6.761687</td>\n",
       "      <td>578332</td>\n",
       "      <td>39105.0</td>\n",
       "    </tr>\n",
       "    <tr>\n",
       "      <th>6587</th>\n",
       "      <td>CALCULO DE LA VESICULA BILIAR SIN COLECISTITIS</td>\n",
       "      <td>4.715302</td>\n",
       "      <td>440396</td>\n",
       "      <td>20766.0</td>\n",
       "    </tr>\n",
       "    <tr>\n",
       "      <th>7785</th>\n",
       "      <td>PARTO POR CESAREA ELECTIVA</td>\n",
       "      <td>3.039879</td>\n",
       "      <td>366429</td>\n",
       "      <td>11139.0</td>\n",
       "    </tr>\n",
       "    <tr>\n",
       "      <th>8631</th>\n",
       "      <td>OTRAS APENDICITIS AGUDAS Y LAS NO ESPECIFICADAS</td>\n",
       "      <td>1.048422</td>\n",
       "      <td>290341</td>\n",
       "      <td>3044.0</td>\n",
       "    </tr>\n",
       "    <tr>\n",
       "      <th>4944</th>\n",
       "      <td>HERNIA INGUINAL UNILATERAL O NO ESPECIFICADA, ...</td>\n",
       "      <td>6.788624</td>\n",
       "      <td>268891</td>\n",
       "      <td>18254.0</td>\n",
       "    </tr>\n",
       "    <tr>\n",
       "      <th>1905</th>\n",
       "      <td>APENDICITIS AGUDA NO ESPECIFICADA</td>\n",
       "      <td>13.938155</td>\n",
       "      <td>254345</td>\n",
       "      <td>35451.0</td>\n",
       "    </tr>\n",
       "    <tr>\n",
       "      <th>6183</th>\n",
       "      <td>INFECCION DE VÍAS URINARIAS, SITIO NO ESPECIFI...</td>\n",
       "      <td>5.243365</td>\n",
       "      <td>222033</td>\n",
       "      <td>11642.0</td>\n",
       "    </tr>\n",
       "  </tbody>\n",
       "</table>\n",
       "</div>"
      ],
      "text/plain": [
       "                                 Primary diagnosis name  Percent of nan  \\\n",
       "5695    PARTO UNICO ESPONTANEO, SIN OTRA ESPECIFICACION        5.845318   \n",
       "6038  PARTO UNICO ESPONTANEO, PRESENTACION CEFALICA ...        5.409004   \n",
       "7581         PARTO POR CESAREA, SIN OTRA ESPECIFICACION        3.399915   \n",
       "4958                          NEUMONIA, NO ESPECIFICADA        6.761687   \n",
       "6587     CALCULO DE LA VESICULA BILIAR SIN COLECISTITIS        4.715302   \n",
       "7785                         PARTO POR CESAREA ELECTIVA        3.039879   \n",
       "8631    OTRAS APENDICITIS AGUDAS Y LAS NO ESPECIFICADAS        1.048422   \n",
       "4944  HERNIA INGUINAL UNILATERAL O NO ESPECIFICADA, ...        6.788624   \n",
       "1905                  APENDICITIS AGUDA NO ESPECIFICADA       13.938155   \n",
       "6183  INFECCION DE VÍAS URINARIAS, SITIO NO ESPECIFI...        5.243365   \n",
       "\n",
       "      Frequency of values  Frequency of nan  \n",
       "5695               965713           56449.0  \n",
       "6038               693270           37499.0  \n",
       "7581               608280           20681.0  \n",
       "4958               578332           39105.0  \n",
       "6587               440396           20766.0  \n",
       "7785               366429           11139.0  \n",
       "8631               290341            3044.0  \n",
       "4944               268891           18254.0  \n",
       "1905               254345           35451.0  \n",
       "6183               222033           11642.0  "
      ]
     },
     "execution_count": 35,
     "metadata": {},
     "output_type": "execute_result"
    }
   ],
   "source": [
    "# About the frequency of NaN Patient IDs, it is higher for births and other common or prevalent diseases, as expected\n",
    "df_diseases[df_diseases['Percent of nan'] != 100].sort_values(by='Frequency of values', ascending=False).head(10)"
   ]
  },
  {
   "cell_type": "code",
   "execution_count": 265,
   "id": "a0615fd4-1c82-48af-a9d5-28a15403182a",
   "metadata": {},
   "outputs": [],
   "source": [
    "# Lets check the diagnosis with high percent of NaN IDs that also are the most frequent among that group"
   ]
  },
  {
   "cell_type": "code",
   "execution_count": 41,
   "id": "32305233-2298-446f-a0b5-969f9c7b602d",
   "metadata": {},
   "outputs": [
    {
     "name": "stdout",
     "output_type": "stream",
     "text": [
      "         Primary diagnosis name  Percent of nan  Frequency of values     score\n",
      "5695  PARTO UNICO ESPONTANEO, S        5.845318               965713  1.058453\n",
      "41    FETO Y RECIEN NACIDO AFEC       90.909091                   11  0.909101\n",
      "42    FETO Y RECIEN NACIDO AFEC       90.048251                 1658  0.902198\n",
      "44    FETO Y RECIEN NACIDO AFEC       88.714003                14168  0.901810\n",
      "43       OTRAS TERAPIAS FISICAS       89.912281                  228  0.899358\n",
      "45    OTRAS INFECCIONES VIRALES       88.095238                   42  0.880995\n",
      "46    OTROS NACIMIENTOS MULTIPL       83.333333                    6  0.833339\n",
      "47    OTRAS DISFUNCIONES OVARIC       80.000000                    5  0.800004\n",
      "6038  PARTO UNICO ESPONTANEO, P        5.409004               693270  0.771974\n",
      "49    LESION (NEOPLASICA) DE SI       76.190476                   42  0.761947\n"
     ]
    }
   ],
   "source": [
    "# The table shows that only births are diagnosis with a high percent of NaN IDs AND high amount or frequency of IDs, which is normal.\n",
    "# So there are not diseases that concentrate a not notmal amount of NaN IDs\n",
    "\n",
    "# If df_norm is a slice, make a real copy\n",
    "df_norm = df_diseases[df_diseases['Percent of nan'] != 100].copy()\n",
    "\n",
    "# Normalize 'Percent of nan' (assuming it's between 0 and 100)\n",
    "df_norm['percent_norm'] = df_norm['Percent of nan'] / 100\n",
    "\n",
    "# Normalize 'Frequency of values'\n",
    "df_norm['count_norm'] = (\n",
    "    (df_norm['Frequency of values'] - df_norm['Frequency of values'].min()) /\n",
    "    (df_norm['Frequency of values'].max() - df_norm['Frequency of values'].min())\n",
    ")\n",
    "\n",
    "# Create a combined score\n",
    "df_norm['score'] = df_norm['percent_norm'] + df_norm['count_norm']\n",
    "\n",
    "# Sort by score descending\n",
    "df_sorted = df_norm.sort_values(by='score', ascending=False)\n",
    "\n",
    "# Makes diagnosis names shorter to display\n",
    "df_sorted['Primary diagnosis name'] = df_sorted['Primary diagnosis name'].str.slice(0, 25)\n",
    "\n",
    "\n",
    "# Show the top 10 disgnosis with the higher percent of NaN patient IDs AND higher amount of IDs with that diagnosis (the ones with the highest score)\n",
    "print(df_sorted[['Primary diagnosis name', 'Percent of nan', 'Frequency of values', 'score']].head(10))\n"
   ]
  },
  {
   "cell_type": "code",
   "execution_count": null,
   "id": "61f800c2-bdbf-4058-8437-fe458482377d",
   "metadata": {},
   "outputs": [],
   "source": []
  },
  {
   "cell_type": "code",
   "execution_count": null,
   "id": "7194816f-a733-4f35-9ae3-213fc3b6f7f2",
   "metadata": {},
   "outputs": [],
   "source": []
  },
  {
   "cell_type": "markdown",
   "id": "4cfb1093-b429-4cc4-9f6d-87e99db40421",
   "metadata": {},
   "source": [
    "# Duplicates values"
   ]
  },
  {
   "cell_type": "markdown",
   "id": "721a0bd5-0031-4fb0-a25a-f1d7c379ecee",
   "metadata": {},
   "source": [
    "Duplicates IDs and re-hospitalizations:\n",
    "If duplicates are exact copies → Drop them.\n",
    "If a patient was hospitalized multiple times in a year for the same issue → Decide whether to count all visits or keep only the first one.\n",
    "If duplicates exist across multiple years → It could indicate chronic conditions.\n",
    "If duplicate entries have different conditions → Keep them, as they indicate separate illnesses."
   ]
  },
  {
   "cell_type": "markdown",
   "id": "18e5a78a-96c2-4370-a490-7e8844af4104",
   "metadata": {},
   "source": [
    "Data entry issues => =ID + =Year + =Hospital + =diagnosis + =length of stay\n",
    "Repeated events => !=ID + =diagnosis + = =year + =hospital etc\n",
    "revisits => =ID + !=any column"
   ]
  },
  {
   "cell_type": "markdown",
   "id": "b6bc6fb4-a314-4103-b77b-9f1fc091d3e1",
   "metadata": {},
   "source": [
    "Only data entry issues (full duplicates) will be deleted"
   ]
  },
  {
   "cell_type": "markdown",
   "id": "107c42e9-b836-4e97-9013-7ee786f0b149",
   "metadata": {},
   "source": [
    "# Data entry issues (real duplicates)"
   ]
  },
  {
   "cell_type": "code",
   "execution_count": 44,
   "id": "58899d53-3d84-47fc-b7ed-8a48f35fc2ef",
   "metadata": {},
   "outputs": [
    {
     "data": {
      "text/html": [
       "<div>\n",
       "<style scoped>\n",
       "    .dataframe tbody tr th:only-of-type {\n",
       "        vertical-align: middle;\n",
       "    }\n",
       "\n",
       "    .dataframe tbody tr th {\n",
       "        vertical-align: top;\n",
       "    }\n",
       "\n",
       "    .dataframe thead th {\n",
       "        text-align: right;\n",
       "    }\n",
       "</style>\n",
       "<table border=\"1\" class=\"dataframe\">\n",
       "  <thead>\n",
       "    <tr style=\"text-align: right;\">\n",
       "      <th></th>\n",
       "      <th>Patient ID</th>\n",
       "      <th>Sex</th>\n",
       "      <th>Age</th>\n",
       "      <th>Health insurance</th>\n",
       "      <th>Healthcare facility type</th>\n",
       "      <th>Healthcare facility name</th>\n",
       "      <th>Length of stay</th>\n",
       "      <th>Discharge condition</th>\n",
       "      <th>Primary diagnosis code</th>\n",
       "      <th>Primary diagnosis name</th>\n",
       "      <th>Year</th>\n",
       "    </tr>\n",
       "  </thead>\n",
       "  <tbody>\n",
       "    <tr>\n",
       "      <th>9</th>\n",
       "      <td>None</td>\n",
       "      <td>Hombre</td>\n",
       "      <td>0</td>\n",
       "      <td>Fonasa</td>\n",
       "      <td>Publico</td>\n",
       "      <td>Hospital Dr. Ernesto Torres Galdames (Iquique)</td>\n",
       "      <td>1</td>\n",
       "      <td>Muerto</td>\n",
       "      <td>P050</td>\n",
       "      <td>BAJO PESO PARA LA EDAD GESTACIONAL</td>\n",
       "      <td>2001</td>\n",
       "    </tr>\n",
       "    <tr>\n",
       "      <th>40</th>\n",
       "      <td>None</td>\n",
       "      <td>Hombre</td>\n",
       "      <td>66</td>\n",
       "      <td>Fonasa</td>\n",
       "      <td>Publico</td>\n",
       "      <td>Hospital Dr. Juan Noé Crevanni (Arica)</td>\n",
       "      <td>7</td>\n",
       "      <td>Vivo</td>\n",
       "      <td>N40X</td>\n",
       "      <td>HIPERPLASIA DE LA PROSTATA</td>\n",
       "      <td>2001</td>\n",
       "    </tr>\n",
       "    <tr>\n",
       "      <th>41</th>\n",
       "      <td>None</td>\n",
       "      <td>Hombre</td>\n",
       "      <td>69</td>\n",
       "      <td>Fonasa</td>\n",
       "      <td>Publico</td>\n",
       "      <td>Hospital Dr. Juan Noé Crevanni (Arica)</td>\n",
       "      <td>7</td>\n",
       "      <td>Vivo</td>\n",
       "      <td>N40X</td>\n",
       "      <td>HIPERPLASIA DE LA PROSTATA</td>\n",
       "      <td>2001</td>\n",
       "    </tr>\n",
       "    <tr>\n",
       "      <th>43</th>\n",
       "      <td>None</td>\n",
       "      <td>Hombre</td>\n",
       "      <td>66</td>\n",
       "      <td>Fonasa</td>\n",
       "      <td>Publico</td>\n",
       "      <td>Hospital Dr. Juan Noé Crevanni (Arica)</td>\n",
       "      <td>7</td>\n",
       "      <td>Vivo</td>\n",
       "      <td>N40X</td>\n",
       "      <td>HIPERPLASIA DE LA PROSTATA</td>\n",
       "      <td>2001</td>\n",
       "    </tr>\n",
       "    <tr>\n",
       "      <th>44</th>\n",
       "      <td>None</td>\n",
       "      <td>Hombre</td>\n",
       "      <td>69</td>\n",
       "      <td>Fonasa</td>\n",
       "      <td>Publico</td>\n",
       "      <td>Hospital Dr. Juan Noé Crevanni (Arica)</td>\n",
       "      <td>7</td>\n",
       "      <td>Vivo</td>\n",
       "      <td>N40X</td>\n",
       "      <td>HIPERPLASIA DE LA PROSTATA</td>\n",
       "      <td>2001</td>\n",
       "    </tr>\n",
       "  </tbody>\n",
       "</table>\n",
       "</div>"
      ],
      "text/plain": [
       "   Patient ID     Sex  Age Health insurance Healthcare facility type  \\\n",
       "9        None  Hombre    0           Fonasa                  Publico   \n",
       "40       None  Hombre   66           Fonasa                  Publico   \n",
       "41       None  Hombre   69           Fonasa                  Publico   \n",
       "43       None  Hombre   66           Fonasa                  Publico   \n",
       "44       None  Hombre   69           Fonasa                  Publico   \n",
       "\n",
       "                          Healthcare facility name  Length of stay  \\\n",
       "9   Hospital Dr. Ernesto Torres Galdames (Iquique)               1   \n",
       "40          Hospital Dr. Juan Noé Crevanni (Arica)               7   \n",
       "41          Hospital Dr. Juan Noé Crevanni (Arica)               7   \n",
       "43          Hospital Dr. Juan Noé Crevanni (Arica)               7   \n",
       "44          Hospital Dr. Juan Noé Crevanni (Arica)               7   \n",
       "\n",
       "   Discharge condition Primary diagnosis code  \\\n",
       "9               Muerto                   P050   \n",
       "40                Vivo                   N40X   \n",
       "41                Vivo                   N40X   \n",
       "43                Vivo                   N40X   \n",
       "44                Vivo                   N40X   \n",
       "\n",
       "                Primary diagnosis name  Year  \n",
       "9   BAJO PESO PARA LA EDAD GESTACIONAL  2001  \n",
       "40          HIPERPLASIA DE LA PROSTATA  2001  \n",
       "41          HIPERPLASIA DE LA PROSTATA  2001  \n",
       "43          HIPERPLASIA DE LA PROSTATA  2001  \n",
       "44          HIPERPLASIA DE LA PROSTATA  2001  "
      ]
     },
     "execution_count": 44,
     "metadata": {},
     "output_type": "execute_result"
    }
   ],
   "source": [
    "# See exact duplicates, that means rows with same values in every column: NaN IDs could mean multiple patients, so those rows will be kept.\n",
    "df_final[df_final.duplicated(keep=False)].head()"
   ]
  },
  {
   "cell_type": "code",
   "execution_count": 38,
   "id": "01265657-c1bf-4409-90b6-22b04bdca106",
   "metadata": {},
   "outputs": [],
   "source": [
    "# Unique values in df_final: these will be kept\n",
    "df_unique = df_final[~df_final.duplicated(keep=False)]"
   ]
  },
  {
   "cell_type": "code",
   "execution_count": 40,
   "id": "7fe9da7e-191e-4344-9325-16eabbebd345",
   "metadata": {},
   "outputs": [],
   "source": [
    "# All duplicates in df_final\n",
    "df_duplicates = df_final[df_final.duplicated(keep=False)]"
   ]
  },
  {
   "cell_type": "code",
   "execution_count": 42,
   "id": "7844928c-d610-4096-a3d8-b0eabcaf3f3c",
   "metadata": {},
   "outputs": [],
   "source": [
    "# Duplicates when the ID is NaN will be kept. Patient ID is the only column with possible NaN values\n",
    "df_duplicates_nan = df_duplicates[df_duplicates.isna().any(axis=1)]"
   ]
  },
  {
   "cell_type": "code",
   "execution_count": 44,
   "id": "9bbed98c-ffb4-4c82-9024-52217c88b3bf",
   "metadata": {},
   "outputs": [],
   "source": [
    "# Duplicated valid rows will be deleted, except of the first occurrence as the rest do not add extra value to the analysis\n",
    "df_duplicates_valid = df_duplicates[df_duplicates.notna().all(axis=1)]"
   ]
  },
  {
   "cell_type": "code",
   "execution_count": 46,
   "id": "bc910c20-4b6d-4785-a96d-147b9a1ba186",
   "metadata": {},
   "outputs": [],
   "source": [
    "# Keep the first occurrence of rows that are full duplicates, that means with the same value columns\n",
    "df_duplicates_first = df_duplicates_valid.drop_duplicates(keep='first')"
   ]
  },
  {
   "cell_type": "code",
   "execution_count": 48,
   "id": "15ff987d-aeff-49af-8325-b5ab98366a6f",
   "metadata": {},
   "outputs": [],
   "source": [
    "# Final dataframe includes unique values, all the ocurrences with NaN IDs\n",
    "# (as it is impossible to know if they are duplicated or repeated events for different people) and the first occurrence of duplicates with valid IDs\n",
    "df_combined = pd.concat([df_unique, df_duplicates_nan, df_duplicates_first], ignore_index=True)"
   ]
  },
  {
   "cell_type": "markdown",
   "id": "8f216670-3cca-4e30-bd57-fe8cdefa7d81",
   "metadata": {},
   "source": [
    "# Export data"
   ]
  },
  {
   "cell_type": "code",
   "execution_count": null,
   "id": "bd43198d-c011-44c3-b841-8e89a2758688",
   "metadata": {},
   "outputs": [],
   "source": [
    "# Delete id column in df_final AND Export as df_cleaned"
   ]
  },
  {
   "cell_type": "code",
   "execution_count": 52,
   "id": "e668e91e-a631-429c-b853-77d631469ea0",
   "metadata": {},
   "outputs": [],
   "source": [
    "df_cleaned = df_combined.drop(columns = \"Patient ID\")"
   ]
  },
  {
   "cell_type": "code",
   "execution_count": 56,
   "id": "f3f8caf5-b5ea-42c0-92a5-8ea685755728",
   "metadata": {},
   "outputs": [],
   "source": [
    "df_cleaned.to_parquet(\"General_analysis_data.parquet\", engine=\"pyarrow\", compression=\"snappy\")"
   ]
  },
  {
   "cell_type": "markdown",
   "id": "fcddcfbd-d832-41ab-a8a0-e2e4aa86311e",
   "metadata": {},
   "source": [
    "# Filter and keep from year 2008 onwards, delete NaN IDs AND export data to analyze readmissions"
   ]
  },
  {
   "cell_type": "code",
   "execution_count": 57,
   "id": "aff4a780-5af8-4cca-8533-8e434ec118b8",
   "metadata": {},
   "outputs": [],
   "source": [
    "mask = df_combined['Patient ID'].notna() & (df_combined['Year'] >= 2008)\n",
    "df_revisit = df_combined[mask]"
   ]
  },
  {
   "cell_type": "code",
   "execution_count": 60,
   "id": "6bbc140b-912e-49e7-b632-6d1f280b948f",
   "metadata": {},
   "outputs": [],
   "source": [
    "df_revisit.to_parquet(\"Readmissions.parquet\", engine=\"pyarrow\", compression=\"snappy\")"
   ]
  },
  {
   "cell_type": "code",
   "execution_count": null,
   "id": "2c76eb87-4c32-4630-9c6b-aeaea9c5c94d",
   "metadata": {},
   "outputs": [],
   "source": []
  },
  {
   "cell_type": "code",
   "execution_count": null,
   "id": "124f4109-cd4b-4f71-92ea-c9f78cdfad2c",
   "metadata": {},
   "outputs": [],
   "source": []
  },
  {
   "cell_type": "code",
   "execution_count": null,
   "id": "9b5a108e-5a26-4e39-88bd-adb4cbfdb868",
   "metadata": {},
   "outputs": [],
   "source": []
  },
  {
   "cell_type": "code",
   "execution_count": null,
   "id": "faf16c1d-2993-44fa-82bf-56dcb97274d5",
   "metadata": {},
   "outputs": [],
   "source": []
  }
 ],
 "metadata": {
  "kernelspec": {
   "display_name": "Python 3 (ipykernel)",
   "language": "python",
   "name": "python3"
  },
  "language_info": {
   "codemirror_mode": {
    "name": "ipython",
    "version": 3
   },
   "file_extension": ".py",
   "mimetype": "text/x-python",
   "name": "python",
   "nbconvert_exporter": "python",
   "pygments_lexer": "ipython3",
   "version": "3.12.4"
  }
 },
 "nbformat": 4,
 "nbformat_minor": 5
}
